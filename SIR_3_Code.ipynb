{
 "cells": [
  {
   "cell_type": "code",
   "execution_count": 2,
   "metadata": {},
   "outputs": [
    {
     "name": "stdout",
     "output_type": "stream",
     "text": [
      "8990\n"
     ]
    }
   ],
   "source": [
    "f=open(\"C:\\\\Users\\\\Sharika\\\\Downloads\\\\GenBankSequence.fasta\")\n",
    "headers=[]\n",
    "seqs=[]\n",
    "for line in f:\n",
    "    line=line.strip()\n",
    "    if line[0]=='>':\n",
    "        headers.append(line[1:])\n",
    "        seqs.append('')\n",
    "    else:\n",
    "        seqs[-1]+=line\n",
    "f.close()\n",
    "print(len(headers))"
   ]
  },
  {
   "cell_type": "code",
   "execution_count": 3,
   "metadata": {},
   "outputs": [
    {
     "name": "stdout",
     "output_type": "stream",
     "text": [
      "17282\n"
     ]
    }
   ],
   "source": [
    "f=open(\"C:\\\\Users\\\\Sharika\\\\Downloads\\\\ENASequence.fasta\")\n",
    "for line in f:\n",
    "    line=line.strip()\n",
    "    if line[0]=='>':\n",
    "        headers.append(line[1:])\n",
    "        seqs.append('')\n",
    "    else:\n",
    "        seqs[-1]+=line\n",
    "f.close()\n",
    "print(len(headers))  "
   ]
  },
  {
   "cell_type": "code",
   "execution_count": 4,
   "metadata": {},
   "outputs": [
    {
     "name": "stdout",
     "output_type": "stream",
     "text": [
      "79146\n"
     ]
    }
   ],
   "source": [
    "f=open(\"C:\\\\Users\\\\Sharika\\\\Downloads\\\\GisaidSequence.fasta\")\n",
    "for line in f:\n",
    "    line=line.strip()\n",
    "    if line[0]=='>':\n",
    "        headers.append(line[1:])\n",
    "        seqs.append('')\n",
    "    else:\n",
    "        seqs[-1]+=line\n",
    "\n",
    "f.close()\n",
    "print(len(headers))"
   ]
  },
  {
   "cell_type": "code",
   "execution_count": 5,
   "metadata": {
    "scrolled": true
   },
   "outputs": [
    {
     "name": "stdout",
     "output_type": "stream",
     "text": [
      "79146\n",
      "79146\n"
     ]
    }
   ],
   "source": [
    "import numpy as np\n",
    "a= np.unique(headers)\n",
    "print(len(a)) \n",
    "print(len(headers))"
   ]
  },
  {
   "cell_type": "code",
   "execution_count": 6,
   "metadata": {
    "scrolled": false
   },
   "outputs": [
    {
     "data": {
      "text/plain": [
       "(array([8.8400e+02, 1.2100e+02, 2.8200e+02, 0.0000e+00, 1.0000e+00,\n",
       "        0.0000e+00, 0.0000e+00, 1.0000e+00, 0.0000e+00, 1.0000e+00,\n",
       "        1.0000e+00, 0.0000e+00, 0.0000e+00, 0.0000e+00, 2.0000e+00,\n",
       "        1.6000e+01, 1.2900e+03, 7.6524e+04, 1.9000e+01, 4.0000e+00]),\n",
       " array([9.00000e+00, 1.74810e+03, 3.48720e+03, 5.22630e+03, 6.96540e+03,\n",
       "        8.70450e+03, 1.04436e+04, 1.21827e+04, 1.39218e+04, 1.56609e+04,\n",
       "        1.74000e+04, 1.91391e+04, 2.08782e+04, 2.26173e+04, 2.43564e+04,\n",
       "        2.60955e+04, 2.78346e+04, 2.95737e+04, 3.13128e+04, 3.30519e+04,\n",
       "        3.47910e+04]),\n",
       " <a list of 20 Patch objects>)"
      ]
     },
     "execution_count": 6,
     "metadata": {},
     "output_type": "execute_result"
    },
    {
     "data": {
      "image/png": "[encoded data removed]",
      "text/plain": [
       "<Figure size 432x288 with 1 Axes>"
      ]
     },
     "metadata": {
      "needs_background": "light"
     },
     "output_type": "display_data"
    }
   ],
   "source": [
    "import matplotlib.pyplot as plt\n",
    "from matplotlib import colors\n",
    "from matplotlib.ticker import PercentFormatter\n",
    "num=[]\n",
    "for j in seqs:\n",
    "    num.append(len(j))\n",
    "    \n",
    "plt.hist(num, bins=20, log=True)"
   ]
  },
  {
   "cell_type": "markdown",
   "metadata": {},
   "source": [
    "# fixing spaces in headers"
   ]
  },
  {
   "cell_type": "code",
   "execution_count": 7,
   "metadata": {},
   "outputs": [],
   "source": [
    "headers = [i.replace(' ', '_') for i in headers]"
   ]
  },
  {
   "cell_type": "code",
   "execution_count": 57,
   "metadata": {},
   "outputs": [],
   "source": [
    "#creating new file with \"_\" as spaces\n",
    "f=open(\"C:\\\\blast\\db\\Sequences.fasta\", \"w\")\n",
    "dict_seqs=dict(zip(headers,seqs))\n",
    "for i in headers:\n",
    "    f.write(\">\" + i + \"\\n\")\n",
    "    f.write(dict_seqs[i] + \"\\n\")\n",
    "f.close()"
   ]
  },
  {
   "cell_type": "code",
   "execution_count": 8,
   "metadata": {},
   "outputs": [],
   "source": [
    "import pandas as pd\n",
    "import numpy as np\n",
    "blastResults = pd.read_csv('C://blast/db/Sequences.txt', index_col=False, header=None, sep='\\t', engine='python')"
   ]
  },
  {
   "cell_type": "code",
   "execution_count": 9,
   "metadata": {
    "scrolled": true
   },
   "outputs": [
    {
     "name": "stdout",
     "output_type": "stream",
     "text": [
      "dict_values(['GCTATGTGAGATTAAGTTAT', 'TTTTTTTTTTATAACTTAATCTCACATAGC', 'NTGGGCCCA', 'ttccactgccttccaccaaactctgcaggatcccagagtcaggggtctgtatcttcctgctggtggctccagttcaggaacagtaaaccctgctccgaatattgcctctcacatctcgtcaatctccgcgaggactggggaccctgtgacgaacatggagaacatcacatcaggattcctaggacccctgctcgtgttacaggcggggtttttcttgttgacaagaatcctcacaataccgcagagtctagactcgtggtggacttctctcaattttctagggggatctcccgtgtgtcttggccaaaattcgcagtccccaacctccaatcactcaccaacctcctgtcctccaatttgtcctggttatcgctggatgtgtctgcggcgttttatcatattcctcttcatcctgctgctatgcctcatcttcttattggttcttctggattatcaaggtatgttgcccgtttgtcctctaattccaggatcaacaacaaccagtacgggaccatgcaaaacctgcacgactcctgctcaaggcaactctatgtttccctcatgttgctgtacaaaacctacggatggaaattgcacctgtattcccatcccatcgtcctgggctttcgcaaaatacctatgggagtgggcctcagtccgtttctcttggctcagtttactagtgccatttgttcagtggttcgtagggctttcccccactgtttggctttcagctatatggatgatgtggtattgggggccaagtctgtacagcatcgtgagtccctttataccgctgttaccaattttcttttgtctctgggtatacatttaaaccctaacaaaacaaaaagatggggttattccctaaacttcatgggctacataattggaagttggggaactttgccacaggatcatattgtacaaaagatcaaacactgttttagaaaacttcctgttaacaggcctattgattggaaagtatgtcaaagaattgtgggtcttttgggctttgctgctccatttacacaatgtggatatcctgccttaatgcctttgtatgcatgtatacaagctaaacaggctttcactttctcgccaacttacaaggcctttctaagtaaacagtacatgaacctttaccccgttgctcggcaacggcctggtctgtgccaagtgtttgctgacgcaacccccactggctggggcttggccataggccatcagcgcatgcgtggaacctttgtggctcctctgccgatccatactgcggaactcctagccgcttgttttgctcgcagccggtctggagcaaagctcatcggaactgacaattctgtcgtcctctcgcggaaatatacatcgtttccatggctgctaggctgtactgccaactggatccttcgcgggacgtcctttgtttacgtcccgtcggcgctgaatcccgcggacgacccctctcggggccgcttgggactctctcgtccccttctccgtctgccgttccagccgaccacggggcgcacctctctttacgcggtctccccgtctgtgccttctcatctgccggtccgtgtgcacttcgcttcacctctgcacgttgcatggagaccaccgtgaacgcccatcagatcctgcccaaggtcttacataagaggactcttggactcccagcaatgtcaacgaccgaccttgaggcctacttcaaagactgtgtgtttaaggactgggaggagctgggggaggagattaggttaaaggtctttgtattaggaggctgtaggcacaaattggtctgcgcaccagcaccatgcaactttttcacctctgcctaatcatctcttgtacatgtcccactgttcaagcctccaagctgtgccttgggtggctttggggcatggacattgacccttataaagaatttggagctactgtggagttactctcgtttttgccttctgacttctttccttccgtcagagatctcctagacaccgcctcagctctgtatcgagaagccttagagtctcctgagcattgctcacctcaccatactgcactcaggcaagccattctctgctggggggaattgatgactctagctacctgggtgggtaataatttggaagatccagcatctagggatcttgtagtaaattatgttaatactaacgtgggtttaaagatcaggcaactattgtggtttcatatatcttgccttacttttggaagagagactgtacttgaatatttggtctctttcggagtgtggattcgcactcctccagcctatagaccaccaaatgcccctatcttatcaacacttccggaaactactgttgttagacgacgggaccgaggcaggtcccctagaagaagaactccctcgcctcgcagacgcagatctccatcgccgcgtcgcagaagatctcaatctcgggaatctcaatgttagtattccttggactcataaggtgggaaactttacggggctttattcctctacagtacctatctttaatcctgaatggcaaactccttcctttcctaagattcatttacaagaggacattattaataggtgtcaacaatttgtgggccctctcactgtaaatgaaaagagaagattgaaattaattatgcctgctagattctatcctacccacactaaatatttgcccttagacaaaggaattaaaccttattatccagatcaggtagttaatcattacttccaaaccagacattatttacatactctttggaaggctggtattctatataagcgggaaaccacacgtagcgcatcattttgcgggtcaccatattcttgggaacaagagctacagcatgggaggttggtcatcaaaacctcgcaaaggcatggggacgaatctttctgttcccaatcctctgggattctttcccgatcatcagttggaccctgcattcggagccaactcaaacaatccagattgggacttcaaccccgtcaaggacgactggccagcagccaaccaagtaggagtgggagcattcgggccaaggctcacccctccacacggcggtattttggggtggagccctcaggctcagggcatattgaccacagtgtcaacaattcctcctcctgcctccaccaatcggcagtcaggaaggcagcctactcccatctctccacctctaagagacagtcatcctcaggccatgcagtggaa', 'NTGGGCCCA'])\n"
     ]
    }
   ],
   "source": [
    "#finding unique headers (multiple alignments of one sequence)\n",
    "blastResults.columns = ['qseqid', 'sseqid', 'pident', 'length', 'mismatch', 'gapopen', \n",
    "                                   'qstart', 'qend', 'sstart', 'send', 'evalue', 'bitscore', 'ppos', 'qseq', 'sseq']\n",
    "uniden = set(headers)-set(blastResults['qseqid'].values)\n",
    "unident=list(uniden)\n",
    "dict_se=dict(zip(headers,seqs))\n",
    "print({key:dict_se[key] for key in unident[:50]}.values())\n",
    "newseq={key:dict_se[key] for key in unident}"
   ]
  },
  {
   "cell_type": "markdown",
   "metadata": {},
   "source": [
    "# Finding Duplicate headers after aligning"
   ]
  },
  {
   "cell_type": "raw",
   "metadata": {},
   "source": [
    "from collections import Counter\n",
    "qseqid = blastResults.loc[:,'qseqid']\n",
    "unique=dict(Counter(qseqid))\n",
    "repeat=[]\n",
    "for key in unique:\n",
    "    if unique[key]>1:\n",
    "        repeat.append[key]\n",
    "print(repeat)\n",
    "print(len(unique))\n",
    "print(len(repeat))\n",
    "print(len(qseqid))\n",
    "#results mean that all of them are unique :)\n",
    "#head = qseqid.iloc[0]"
   ]
  },
  {
   "cell_type": "markdown",
   "metadata": {},
   "source": [
    "# Removing headers with duplicate accession numbers"
   ]
  },
  {
   "cell_type": "code",
   "execution_count": 11,
   "metadata": {},
   "outputs": [],
   "source": [
    "from collections import Counter"
   ]
  },
  {
   "cell_type": "code",
   "execution_count": 12,
   "metadata": {
    "scrolled": true
   },
   "outputs": [
    {
     "name": "stdout",
     "output_type": "stream",
     "text": [
      "17278\n",
      "8988\n"
     ]
    }
   ],
   "source": [
    "#create a dict dict[full header, accession]\n",
    "#heads=blastResults['qseqid'].values while blastResullts['qseqid'].values !=\"hCoV-19\"\n",
    "accession=[]\n",
    "heads = [i for i in blastResults['qseqid'].values if not i.strip('>').startswith(\"h\")]\n",
    "for i in heads:\n",
    "    if \"ENA\" in i:\n",
    "        accession.append(i.split('|')[-1].split('_')[0])\n",
    "    else:\n",
    "        accession.append(i.split('_')[0])\n",
    "print(len(heads))\n",
    "\n",
    "access_series=pd.Series(index=heads, data=accession)\n",
    "unique_access=Counter(accession)\n",
    "unique_access = pd.Series(unique_access)\n",
    "nonunique_access = unique_access[unique_access>1]\n",
    "'''\n",
    "store_header=[]\n",
    "\n",
    "for i in unique_access:\n",
    "    if (unique_access[i]>1) && (\"ENA\" not in unique_access[i]):\n",
    "        for j in heads:\n",
    "            if j==i:\n",
    "                heads.remove(i)\n",
    "'''\n",
    "for i in nonunique_access.index:\n",
    "    h = access_series[access_series==i]\n",
    "    for j in h.index:\n",
    "        if j.startswith(\"ENA\"):\n",
    "            heads.remove(j)\n",
    "            \n",
    "print(len(heads))"
   ]
  },
  {
   "cell_type": "markdown",
   "metadata": {},
   "source": [
    "# Removing headers with species that are not human"
   ]
  },
  {
   "cell_type": "code",
   "execution_count": 13,
   "metadata": {},
   "outputs": [
    {
     "name": "stdout",
     "output_type": "stream",
     "text": [
      "8749\n"
     ]
    }
   ],
   "source": [
    "species=[]\n",
    "# for ENA and GenBank after 1st slash, for gisaid none\n",
    "#heads = [i for i in blastResults['qseqid'].values if not i.startswith(\"hCoV-19\")]\n",
    "ref = heads[0]\n",
    "for i in heads:\n",
    "    try:\n",
    "        species.append(i.split('/')[1])\n",
    "    except:\n",
    "        species.append(\"NA\")\n",
    "\n",
    "species_series = pd.Series(index=heads, data=species)\n",
    "species_series = species_series[(species_series=='human')]#||(species_series=='homo_sapiens')]\n",
    "heads1 = list(species_series.index)\n",
    "\n",
    "species_series = pd.Series(index=heads, data=species)\n",
    "species_series = species_series[(species_series=='homo_sapien')]#||(species_series=='homo_sapiens')]\n",
    "heads2 = list(species_series.index)\n",
    "\n",
    "heads = heads1+heads2\n",
    "\n",
    "'''\n",
    "for i in species:\n",
    "    if i!=\"human\":\n",
    "        for j in heads:\n",
    "            if i in j:\n",
    "                heads.remove(j)\n",
    "'''\n",
    "'''       \n",
    "        store_head.append(species_series at species_series == i)\n",
    "        \n",
    "for i in store_head:\n",
    "    for j in heads:\n",
    "        if j==i:\n",
    "            heads.remove(i)\n",
    "'''\n",
    "heads = list(heads)\n",
    "heads.append(ref)\n",
    "print(len(heads))\n",
    "#heads=the headers from genbank and ENA"
   ]
  },
  {
   "cell_type": "markdown",
   "metadata": {},
   "source": [
    "# reindex blastResults "
   ]
  },
  {
   "cell_type": "code",
   "execution_count": 14,
   "metadata": {},
   "outputs": [
    {
     "data": {
      "text/html": [
       "<div>\n",
       "<style scoped>\n",
       "    .dataframe tbody tr th:only-of-type {\n",
       "        vertical-align: middle;\n",
       "    }\n",
       "\n",
       "    .dataframe tbody tr th {\n",
       "        vertical-align: top;\n",
       "    }\n",
       "\n",
       "    .dataframe thead th {\n",
       "        text-align: right;\n",
       "    }\n",
       "</style>\n",
       "<table border=\"1\" class=\"dataframe\">\n",
       "  <thead>\n",
       "    <tr style=\"text-align: right;\">\n",
       "      <th></th>\n",
       "      <th>qseqid</th>\n",
       "      <th>sseqid</th>\n",
       "      <th>pident</th>\n",
       "      <th>length</th>\n",
       "      <th>mismatch</th>\n",
       "      <th>gapopen</th>\n",
       "      <th>qstart</th>\n",
       "      <th>qend</th>\n",
       "      <th>sstart</th>\n",
       "      <th>send</th>\n",
       "      <th>evalue</th>\n",
       "      <th>bitscore</th>\n",
       "      <th>ppos</th>\n",
       "      <th>qseq</th>\n",
       "      <th>sseq</th>\n",
       "    </tr>\n",
       "  </thead>\n",
       "  <tbody>\n",
       "    <tr>\n",
       "      <th>0</th>\n",
       "      <td>NC_045512.2_|Severe_acute_respiratory_syndrome...</td>\n",
       "      <td>gi|1798174254|ref|NC_045512.2|</td>\n",
       "      <td>100.000</td>\n",
       "      <td>29870</td>\n",
       "      <td>0</td>\n",
       "      <td>0</td>\n",
       "      <td>1</td>\n",
       "      <td>29870</td>\n",
       "      <td>1</td>\n",
       "      <td>29870</td>\n",
       "      <td>0.0</td>\n",
       "      <td>55130</td>\n",
       "      <td>100.00</td>\n",
       "      <td>ATTAAAGGTTTATACCTTCCCAGGTAACAAACCAACCAACTTTCGA...</td>\n",
       "      <td>ATTAAAGGTTTATACCTTCCCAGGTAACAAACCAACCAACTTTCGA...</td>\n",
       "    </tr>\n",
       "    <tr>\n",
       "      <th>1</th>\n",
       "      <td>MT712208.1_|Severe_acute_respiratory_syndrome_...</td>\n",
       "      <td>gi|1798174254|ref|NC_045512.2|</td>\n",
       "      <td>99.477</td>\n",
       "      <td>765</td>\n",
       "      <td>4</td>\n",
       "      <td>0</td>\n",
       "      <td>1</td>\n",
       "      <td>765</td>\n",
       "      <td>12719</td>\n",
       "      <td>13483</td>\n",
       "      <td>0.0</td>\n",
       "      <td>1391</td>\n",
       "      <td>99.48</td>\n",
       "      <td>ATGTCTTGTGCTGCCGGTACTACACAAACTGCTTGCACTGATGACA...</td>\n",
       "      <td>ATGTCTTGTGCTGCCGGTACTACACAAACTGCTTGCACTGATGACA...</td>\n",
       "    </tr>\n",
       "    <tr>\n",
       "      <th>2</th>\n",
       "      <td>MT706050.1_|Severe_acute_respiratory_syndrome_...</td>\n",
       "      <td>gi|1798174254|ref|NC_045512.2|</td>\n",
       "      <td>99.983</td>\n",
       "      <td>29806</td>\n",
       "      <td>5</td>\n",
       "      <td>0</td>\n",
       "      <td>1</td>\n",
       "      <td>29806</td>\n",
       "      <td>21</td>\n",
       "      <td>29826</td>\n",
       "      <td>0.0</td>\n",
       "      <td>54985</td>\n",
       "      <td>99.98</td>\n",
       "      <td>CAGGTAACAAACCAACCAACTTTCGATCTCTTGTAGATCTGTTCTC...</td>\n",
       "      <td>CAGGTAACAAACCAACCAACTTTCGATCTCTTGTAGATCTGTTCTC...</td>\n",
       "    </tr>\n",
       "    <tr>\n",
       "      <th>3</th>\n",
       "      <td>MT706132.1_|Severe_acute_respiratory_syndrome_...</td>\n",
       "      <td>gi|1798174254|ref|NC_045512.2|</td>\n",
       "      <td>99.977</td>\n",
       "      <td>29843</td>\n",
       "      <td>7</td>\n",
       "      <td>0</td>\n",
       "      <td>1</td>\n",
       "      <td>29843</td>\n",
       "      <td>25</td>\n",
       "      <td>29867</td>\n",
       "      <td>0.0</td>\n",
       "      <td>55042</td>\n",
       "      <td>99.98</td>\n",
       "      <td>TAACAAACCAACCAACTTTCGATCTCTTGTAGATCTGTTCTCTAAA...</td>\n",
       "      <td>TAACAAACCAACCAACTTTCGATCTCTTGTAGATCTGTTCTCTAAA...</td>\n",
       "    </tr>\n",
       "    <tr>\n",
       "      <th>4</th>\n",
       "      <td>MT706133.1_|Severe_acute_respiratory_syndrome_...</td>\n",
       "      <td>gi|1798174254|ref|NC_045512.2|</td>\n",
       "      <td>99.976</td>\n",
       "      <td>29782</td>\n",
       "      <td>7</td>\n",
       "      <td>0</td>\n",
       "      <td>1</td>\n",
       "      <td>29782</td>\n",
       "      <td>55</td>\n",
       "      <td>29836</td>\n",
       "      <td>0.0</td>\n",
       "      <td>54931</td>\n",
       "      <td>99.98</td>\n",
       "      <td>AGATCTGTTCTCTAAACGAACTTTAAAATCTGTGTGGCTGTCACTC...</td>\n",
       "      <td>AGATCTGTTCTCTAAACGAACTTTAAAATCTGTGTGGCTGTCACTC...</td>\n",
       "    </tr>\n",
       "  </tbody>\n",
       "</table>\n",
       "</div>"
      ],
      "text/plain": [
       "                                              qseqid  \\\n",
       "0  NC_045512.2_|Severe_acute_respiratory_syndrome...   \n",
       "1  MT712208.1_|Severe_acute_respiratory_syndrome_...   \n",
       "2  MT706050.1_|Severe_acute_respiratory_syndrome_...   \n",
       "3  MT706132.1_|Severe_acute_respiratory_syndrome_...   \n",
       "4  MT706133.1_|Severe_acute_respiratory_syndrome_...   \n",
       "\n",
       "                           sseqid   pident  length  mismatch  gapopen  qstart  \\\n",
       "0  gi|1798174254|ref|NC_045512.2|  100.000   29870         0        0       1   \n",
       "1  gi|1798174254|ref|NC_045512.2|   99.477     765         4        0       1   \n",
       "2  gi|1798174254|ref|NC_045512.2|   99.983   29806         5        0       1   \n",
       "3  gi|1798174254|ref|NC_045512.2|   99.977   29843         7        0       1   \n",
       "4  gi|1798174254|ref|NC_045512.2|   99.976   29782         7        0       1   \n",
       "\n",
       "    qend  sstart   send  evalue  bitscore    ppos  \\\n",
       "0  29870       1  29870     0.0     55130  100.00   \n",
       "1    765   12719  13483     0.0      1391   99.48   \n",
       "2  29806      21  29826     0.0     54985   99.98   \n",
       "3  29843      25  29867     0.0     55042   99.98   \n",
       "4  29782      55  29836     0.0     54931   99.98   \n",
       "\n",
       "                                                qseq  \\\n",
       "0  ATTAAAGGTTTATACCTTCCCAGGTAACAAACCAACCAACTTTCGA...   \n",
       "1  ATGTCTTGTGCTGCCGGTACTACACAAACTGCTTGCACTGATGACA...   \n",
       "2  CAGGTAACAAACCAACCAACTTTCGATCTCTTGTAGATCTGTTCTC...   \n",
       "3  TAACAAACCAACCAACTTTCGATCTCTTGTAGATCTGTTCTCTAAA...   \n",
       "4  AGATCTGTTCTCTAAACGAACTTTAAAATCTGTGTGGCTGTCACTC...   \n",
       "\n",
       "                                                sseq  \n",
       "0  ATTAAAGGTTTATACCTTCCCAGGTAACAAACCAACCAACTTTCGA...  \n",
       "1  ATGTCTTGTGCTGCCGGTACTACACAAACTGCTTGCACTGATGACA...  \n",
       "2  CAGGTAACAAACCAACCAACTTTCGATCTCTTGTAGATCTGTTCTC...  \n",
       "3  TAACAAACCAACCAACTTTCGATCTCTTGTAGATCTGTTCTCTAAA...  \n",
       "4  AGATCTGTTCTCTAAACGAACTTTAAAATCTGTGTGGCTGTCACTC...  "
      ]
     },
     "execution_count": 14,
     "metadata": {},
     "output_type": "execute_result"
    }
   ],
   "source": [
    "blastResults.head()"
   ]
  },
  {
   "cell_type": "code",
   "execution_count": 15,
   "metadata": {},
   "outputs": [
    {
     "data": {
      "text/plain": [
       "(79141, 15)"
      ]
     },
     "execution_count": 15,
     "metadata": {},
     "output_type": "execute_result"
    }
   ],
   "source": [
    "blastResults.shape"
   ]
  },
  {
   "cell_type": "code",
   "execution_count": 16,
   "metadata": {},
   "outputs": [
    {
     "data": {
      "text/html": [
       "<div>\n",
       "<style scoped>\n",
       "    .dataframe tbody tr th:only-of-type {\n",
       "        vertical-align: middle;\n",
       "    }\n",
       "\n",
       "    .dataframe tbody tr th {\n",
       "        vertical-align: top;\n",
       "    }\n",
       "\n",
       "    .dataframe thead th {\n",
       "        text-align: right;\n",
       "    }\n",
       "</style>\n",
       "<table border=\"1\" class=\"dataframe\">\n",
       "  <thead>\n",
       "    <tr style=\"text-align: right;\">\n",
       "      <th></th>\n",
       "      <th>sseqid</th>\n",
       "      <th>pident</th>\n",
       "      <th>length</th>\n",
       "      <th>mismatch</th>\n",
       "      <th>gapopen</th>\n",
       "      <th>qstart</th>\n",
       "      <th>qend</th>\n",
       "      <th>sstart</th>\n",
       "      <th>send</th>\n",
       "      <th>evalue</th>\n",
       "      <th>bitscore</th>\n",
       "      <th>ppos</th>\n",
       "      <th>qseq</th>\n",
       "      <th>sseq</th>\n",
       "    </tr>\n",
       "    <tr>\n",
       "      <th>qseqid</th>\n",
       "      <th></th>\n",
       "      <th></th>\n",
       "      <th></th>\n",
       "      <th></th>\n",
       "      <th></th>\n",
       "      <th></th>\n",
       "      <th></th>\n",
       "      <th></th>\n",
       "      <th></th>\n",
       "      <th></th>\n",
       "      <th></th>\n",
       "      <th></th>\n",
       "      <th></th>\n",
       "      <th></th>\n",
       "    </tr>\n",
       "  </thead>\n",
       "  <tbody>\n",
       "    <tr>\n",
       "      <th>NC_045512.2_|Severe_acute_respiratory_syndrome_coronavirus_2_isolate_Wuhan-Hu-1,_complete_genome</th>\n",
       "      <td>gi|1798174254|ref|NC_045512.2|</td>\n",
       "      <td>100.000</td>\n",
       "      <td>29870</td>\n",
       "      <td>0</td>\n",
       "      <td>0</td>\n",
       "      <td>1</td>\n",
       "      <td>29870</td>\n",
       "      <td>1</td>\n",
       "      <td>29870</td>\n",
       "      <td>0.0</td>\n",
       "      <td>55130</td>\n",
       "      <td>100.00</td>\n",
       "      <td>ATTAAAGGTTTATACCTTCCCAGGTAACAAACCAACCAACTTTCGA...</td>\n",
       "      <td>ATTAAAGGTTTATACCTTCCCAGGTAACAAACCAACCAACTTTCGA...</td>\n",
       "    </tr>\n",
       "    <tr>\n",
       "      <th>MT712208.1_|Severe_acute_respiratory_syndrome_coronavirus_2_isolate_SARS-CoV-2/human/VNM/NIHE/2020_ORF1a_polyprotein_(ORF1ab)_and_ORF1ab_polyprotein_(ORF1ab)_genes,_partial_cds</th>\n",
       "      <td>gi|1798174254|ref|NC_045512.2|</td>\n",
       "      <td>99.477</td>\n",
       "      <td>765</td>\n",
       "      <td>4</td>\n",
       "      <td>0</td>\n",
       "      <td>1</td>\n",
       "      <td>765</td>\n",
       "      <td>12719</td>\n",
       "      <td>13483</td>\n",
       "      <td>0.0</td>\n",
       "      <td>1391</td>\n",
       "      <td>99.48</td>\n",
       "      <td>ATGTCTTGTGCTGCCGGTACTACACAAACTGCTTGCACTGATGACA...</td>\n",
       "      <td>ATGTCTTGTGCTGCCGGTACTACACAAACTGCTTGCACTGATGACA...</td>\n",
       "    </tr>\n",
       "    <tr>\n",
       "      <th>MT706050.1_|Severe_acute_respiratory_syndrome_coronavirus_2_isolate_SARS-CoV-2/human/NZL/20CHL869065O/2020,_complete_genome</th>\n",
       "      <td>gi|1798174254|ref|NC_045512.2|</td>\n",
       "      <td>99.983</td>\n",
       "      <td>29806</td>\n",
       "      <td>5</td>\n",
       "      <td>0</td>\n",
       "      <td>1</td>\n",
       "      <td>29806</td>\n",
       "      <td>21</td>\n",
       "      <td>29826</td>\n",
       "      <td>0.0</td>\n",
       "      <td>54985</td>\n",
       "      <td>99.98</td>\n",
       "      <td>CAGGTAACAAACCAACCAACTTTCGATCTCTTGTAGATCTGTTCTC...</td>\n",
       "      <td>CAGGTAACAAACCAACCAACTTTCGATCTCTTGTAGATCTGTTCTC...</td>\n",
       "    </tr>\n",
       "    <tr>\n",
       "      <th>MT706132.1_|Severe_acute_respiratory_syndrome_coronavirus_2_isolate_SARS-CoV-2/human/USA/WI-UW-04/2020,_complete_genome</th>\n",
       "      <td>gi|1798174254|ref|NC_045512.2|</td>\n",
       "      <td>99.977</td>\n",
       "      <td>29843</td>\n",
       "      <td>7</td>\n",
       "      <td>0</td>\n",
       "      <td>1</td>\n",
       "      <td>29843</td>\n",
       "      <td>25</td>\n",
       "      <td>29867</td>\n",
       "      <td>0.0</td>\n",
       "      <td>55042</td>\n",
       "      <td>99.98</td>\n",
       "      <td>TAACAAACCAACCAACTTTCGATCTCTTGTAGATCTGTTCTCTAAA...</td>\n",
       "      <td>TAACAAACCAACCAACTTTCGATCTCTTGTAGATCTGTTCTCTAAA...</td>\n",
       "    </tr>\n",
       "    <tr>\n",
       "      <th>MT706133.1_|Severe_acute_respiratory_syndrome_coronavirus_2_isolate_SARS-CoV-2/human/USA/WI-UW-11/2020,_complete_genome</th>\n",
       "      <td>gi|1798174254|ref|NC_045512.2|</td>\n",
       "      <td>99.976</td>\n",
       "      <td>29782</td>\n",
       "      <td>7</td>\n",
       "      <td>0</td>\n",
       "      <td>1</td>\n",
       "      <td>29782</td>\n",
       "      <td>55</td>\n",
       "      <td>29836</td>\n",
       "      <td>0.0</td>\n",
       "      <td>54931</td>\n",
       "      <td>99.98</td>\n",
       "      <td>AGATCTGTTCTCTAAACGAACTTTAAAATCTGTGTGGCTGTCACTC...</td>\n",
       "      <td>AGATCTGTTCTCTAAACGAACTTTAAAATCTGTGTGGCTGTCACTC...</td>\n",
       "    </tr>\n",
       "  </tbody>\n",
       "</table>\n",
       "</div>"
      ],
      "text/plain": [
       "                                                                            sseqid  \\\n",
       "qseqid                                                                               \n",
       "NC_045512.2_|Severe_acute_respiratory_syndrome_...  gi|1798174254|ref|NC_045512.2|   \n",
       "MT712208.1_|Severe_acute_respiratory_syndrome_c...  gi|1798174254|ref|NC_045512.2|   \n",
       "MT706050.1_|Severe_acute_respiratory_syndrome_c...  gi|1798174254|ref|NC_045512.2|   \n",
       "MT706132.1_|Severe_acute_respiratory_syndrome_c...  gi|1798174254|ref|NC_045512.2|   \n",
       "MT706133.1_|Severe_acute_respiratory_syndrome_c...  gi|1798174254|ref|NC_045512.2|   \n",
       "\n",
       "                                                     pident  length  mismatch  \\\n",
       "qseqid                                                                          \n",
       "NC_045512.2_|Severe_acute_respiratory_syndrome_...  100.000   29870         0   \n",
       "MT712208.1_|Severe_acute_respiratory_syndrome_c...   99.477     765         4   \n",
       "MT706050.1_|Severe_acute_respiratory_syndrome_c...   99.983   29806         5   \n",
       "MT706132.1_|Severe_acute_respiratory_syndrome_c...   99.977   29843         7   \n",
       "MT706133.1_|Severe_acute_respiratory_syndrome_c...   99.976   29782         7   \n",
       "\n",
       "                                                    gapopen  qstart   qend  \\\n",
       "qseqid                                                                       \n",
       "NC_045512.2_|Severe_acute_respiratory_syndrome_...        0       1  29870   \n",
       "MT712208.1_|Severe_acute_respiratory_syndrome_c...        0       1    765   \n",
       "MT706050.1_|Severe_acute_respiratory_syndrome_c...        0       1  29806   \n",
       "MT706132.1_|Severe_acute_respiratory_syndrome_c...        0       1  29843   \n",
       "MT706133.1_|Severe_acute_respiratory_syndrome_c...        0       1  29782   \n",
       "\n",
       "                                                    sstart   send  evalue  \\\n",
       "qseqid                                                                      \n",
       "NC_045512.2_|Severe_acute_respiratory_syndrome_...       1  29870     0.0   \n",
       "MT712208.1_|Severe_acute_respiratory_syndrome_c...   12719  13483     0.0   \n",
       "MT706050.1_|Severe_acute_respiratory_syndrome_c...      21  29826     0.0   \n",
       "MT706132.1_|Severe_acute_respiratory_syndrome_c...      25  29867     0.0   \n",
       "MT706133.1_|Severe_acute_respiratory_syndrome_c...      55  29836     0.0   \n",
       "\n",
       "                                                    bitscore    ppos  \\\n",
       "qseqid                                                                 \n",
       "NC_045512.2_|Severe_acute_respiratory_syndrome_...     55130  100.00   \n",
       "MT712208.1_|Severe_acute_respiratory_syndrome_c...      1391   99.48   \n",
       "MT706050.1_|Severe_acute_respiratory_syndrome_c...     54985   99.98   \n",
       "MT706132.1_|Severe_acute_respiratory_syndrome_c...     55042   99.98   \n",
       "MT706133.1_|Severe_acute_respiratory_syndrome_c...     54931   99.98   \n",
       "\n",
       "                                                                                                 qseq  \\\n",
       "qseqid                                                                                                  \n",
       "NC_045512.2_|Severe_acute_respiratory_syndrome_...  ATTAAAGGTTTATACCTTCCCAGGTAACAAACCAACCAACTTTCGA...   \n",
       "MT712208.1_|Severe_acute_respiratory_syndrome_c...  ATGTCTTGTGCTGCCGGTACTACACAAACTGCTTGCACTGATGACA...   \n",
       "MT706050.1_|Severe_acute_respiratory_syndrome_c...  CAGGTAACAAACCAACCAACTTTCGATCTCTTGTAGATCTGTTCTC...   \n",
       "MT706132.1_|Severe_acute_respiratory_syndrome_c...  TAACAAACCAACCAACTTTCGATCTCTTGTAGATCTGTTCTCTAAA...   \n",
       "MT706133.1_|Severe_acute_respiratory_syndrome_c...  AGATCTGTTCTCTAAACGAACTTTAAAATCTGTGTGGCTGTCACTC...   \n",
       "\n",
       "                                                                                                 sseq  \n",
       "qseqid                                                                                                 \n",
       "NC_045512.2_|Severe_acute_respiratory_syndrome_...  ATTAAAGGTTTATACCTTCCCAGGTAACAAACCAACCAACTTTCGA...  \n",
       "MT712208.1_|Severe_acute_respiratory_syndrome_c...  ATGTCTTGTGCTGCCGGTACTACACAAACTGCTTGCACTGATGACA...  \n",
       "MT706050.1_|Severe_acute_respiratory_syndrome_c...  CAGGTAACAAACCAACCAACTTTCGATCTCTTGTAGATCTGTTCTC...  \n",
       "MT706132.1_|Severe_acute_respiratory_syndrome_c...  TAACAAACCAACCAACTTTCGATCTCTTGTAGATCTGTTCTCTAAA...  \n",
       "MT706133.1_|Severe_acute_respiratory_syndrome_c...  AGATCTGTTCTCTAAACGAACTTTAAAATCTGTGTGGCTGTCACTC...  "
      ]
     },
     "execution_count": 16,
     "metadata": {},
     "output_type": "execute_result"
    }
   ],
   "source": [
    "new_blastResults = blastResults.set_index(\"qseqid\")\n",
    "new_blastResults.head()"
   ]
  },
  {
   "cell_type": "code",
   "execution_count": 17,
   "metadata": {},
   "outputs": [],
   "source": [
    "# add all the headers in hcov-19 to heads\n",
    "heads += [i for i in blastResults['qseqid'].values if i.strip('>').startswith(\"h\")]"
   ]
  },
  {
   "cell_type": "code",
   "execution_count": 18,
   "metadata": {},
   "outputs": [
    {
     "data": {
      "text/html": [
       "<div>\n",
       "<style scoped>\n",
       "    .dataframe tbody tr th:only-of-type {\n",
       "        vertical-align: middle;\n",
       "    }\n",
       "\n",
       "    .dataframe tbody tr th {\n",
       "        vertical-align: top;\n",
       "    }\n",
       "\n",
       "    .dataframe thead th {\n",
       "        text-align: right;\n",
       "    }\n",
       "</style>\n",
       "<table border=\"1\" class=\"dataframe\">\n",
       "  <thead>\n",
       "    <tr style=\"text-align: right;\">\n",
       "      <th></th>\n",
       "      <th>sseqid</th>\n",
       "      <th>pident</th>\n",
       "      <th>length</th>\n",
       "      <th>mismatch</th>\n",
       "      <th>gapopen</th>\n",
       "      <th>qstart</th>\n",
       "      <th>qend</th>\n",
       "      <th>sstart</th>\n",
       "      <th>send</th>\n",
       "      <th>evalue</th>\n",
       "      <th>bitscore</th>\n",
       "      <th>ppos</th>\n",
       "      <th>qseq</th>\n",
       "      <th>sseq</th>\n",
       "    </tr>\n",
       "    <tr>\n",
       "      <th>qseqid</th>\n",
       "      <th></th>\n",
       "      <th></th>\n",
       "      <th></th>\n",
       "      <th></th>\n",
       "      <th></th>\n",
       "      <th></th>\n",
       "      <th></th>\n",
       "      <th></th>\n",
       "      <th></th>\n",
       "      <th></th>\n",
       "      <th></th>\n",
       "      <th></th>\n",
       "      <th></th>\n",
       "      <th></th>\n",
       "    </tr>\n",
       "  </thead>\n",
       "  <tbody>\n",
       "    <tr>\n",
       "      <th>NC_045512.2_|Severe_acute_respiratory_syndrome_coronavirus_2_isolate_Wuhan-Hu-1,_complete_genome</th>\n",
       "      <td>gi|1798174254|ref|NC_045512.2|</td>\n",
       "      <td>100.000</td>\n",
       "      <td>29870</td>\n",
       "      <td>0</td>\n",
       "      <td>0</td>\n",
       "      <td>1</td>\n",
       "      <td>29870</td>\n",
       "      <td>1</td>\n",
       "      <td>29870</td>\n",
       "      <td>0.0</td>\n",
       "      <td>55130</td>\n",
       "      <td>100.00</td>\n",
       "      <td>ATTAAAGGTTTATACCTTCCCAGGTAACAAACCAACCAACTTTCGA...</td>\n",
       "      <td>ATTAAAGGTTTATACCTTCCCAGGTAACAAACCAACCAACTTTCGA...</td>\n",
       "    </tr>\n",
       "    <tr>\n",
       "      <th>MT712208.1_|Severe_acute_respiratory_syndrome_coronavirus_2_isolate_SARS-CoV-2/human/VNM/NIHE/2020_ORF1a_polyprotein_(ORF1ab)_and_ORF1ab_polyprotein_(ORF1ab)_genes,_partial_cds</th>\n",
       "      <td>gi|1798174254|ref|NC_045512.2|</td>\n",
       "      <td>99.477</td>\n",
       "      <td>765</td>\n",
       "      <td>4</td>\n",
       "      <td>0</td>\n",
       "      <td>1</td>\n",
       "      <td>765</td>\n",
       "      <td>12719</td>\n",
       "      <td>13483</td>\n",
       "      <td>0.0</td>\n",
       "      <td>1391</td>\n",
       "      <td>99.48</td>\n",
       "      <td>ATGTCTTGTGCTGCCGGTACTACACAAACTGCTTGCACTGATGACA...</td>\n",
       "      <td>ATGTCTTGTGCTGCCGGTACTACACAAACTGCTTGCACTGATGACA...</td>\n",
       "    </tr>\n",
       "    <tr>\n",
       "      <th>MT706050.1_|Severe_acute_respiratory_syndrome_coronavirus_2_isolate_SARS-CoV-2/human/NZL/20CHL869065O/2020,_complete_genome</th>\n",
       "      <td>gi|1798174254|ref|NC_045512.2|</td>\n",
       "      <td>99.983</td>\n",
       "      <td>29806</td>\n",
       "      <td>5</td>\n",
       "      <td>0</td>\n",
       "      <td>1</td>\n",
       "      <td>29806</td>\n",
       "      <td>21</td>\n",
       "      <td>29826</td>\n",
       "      <td>0.0</td>\n",
       "      <td>54985</td>\n",
       "      <td>99.98</td>\n",
       "      <td>CAGGTAACAAACCAACCAACTTTCGATCTCTTGTAGATCTGTTCTC...</td>\n",
       "      <td>CAGGTAACAAACCAACCAACTTTCGATCTCTTGTAGATCTGTTCTC...</td>\n",
       "    </tr>\n",
       "    <tr>\n",
       "      <th>MT706132.1_|Severe_acute_respiratory_syndrome_coronavirus_2_isolate_SARS-CoV-2/human/USA/WI-UW-04/2020,_complete_genome</th>\n",
       "      <td>gi|1798174254|ref|NC_045512.2|</td>\n",
       "      <td>99.977</td>\n",
       "      <td>29843</td>\n",
       "      <td>7</td>\n",
       "      <td>0</td>\n",
       "      <td>1</td>\n",
       "      <td>29843</td>\n",
       "      <td>25</td>\n",
       "      <td>29867</td>\n",
       "      <td>0.0</td>\n",
       "      <td>55042</td>\n",
       "      <td>99.98</td>\n",
       "      <td>TAACAAACCAACCAACTTTCGATCTCTTGTAGATCTGTTCTCTAAA...</td>\n",
       "      <td>TAACAAACCAACCAACTTTCGATCTCTTGTAGATCTGTTCTCTAAA...</td>\n",
       "    </tr>\n",
       "    <tr>\n",
       "      <th>MT706133.1_|Severe_acute_respiratory_syndrome_coronavirus_2_isolate_SARS-CoV-2/human/USA/WI-UW-11/2020,_complete_genome</th>\n",
       "      <td>gi|1798174254|ref|NC_045512.2|</td>\n",
       "      <td>99.976</td>\n",
       "      <td>29782</td>\n",
       "      <td>7</td>\n",
       "      <td>0</td>\n",
       "      <td>1</td>\n",
       "      <td>29782</td>\n",
       "      <td>55</td>\n",
       "      <td>29836</td>\n",
       "      <td>0.0</td>\n",
       "      <td>54931</td>\n",
       "      <td>99.98</td>\n",
       "      <td>AGATCTGTTCTCTAAACGAACTTTAAAATCTGTGTGGCTGTCACTC...</td>\n",
       "      <td>AGATCTGTTCTCTAAACGAACTTTAAAATCTGTGTGGCTGTCACTC...</td>\n",
       "    </tr>\n",
       "  </tbody>\n",
       "</table>\n",
       "</div>"
      ],
      "text/plain": [
       "                                                                            sseqid  \\\n",
       "qseqid                                                                               \n",
       "NC_045512.2_|Severe_acute_respiratory_syndrome_...  gi|1798174254|ref|NC_045512.2|   \n",
       "MT712208.1_|Severe_acute_respiratory_syndrome_c...  gi|1798174254|ref|NC_045512.2|   \n",
       "MT706050.1_|Severe_acute_respiratory_syndrome_c...  gi|1798174254|ref|NC_045512.2|   \n",
       "MT706132.1_|Severe_acute_respiratory_syndrome_c...  gi|1798174254|ref|NC_045512.2|   \n",
       "MT706133.1_|Severe_acute_respiratory_syndrome_c...  gi|1798174254|ref|NC_045512.2|   \n",
       "\n",
       "                                                     pident  length  mismatch  \\\n",
       "qseqid                                                                          \n",
       "NC_045512.2_|Severe_acute_respiratory_syndrome_...  100.000   29870         0   \n",
       "MT712208.1_|Severe_acute_respiratory_syndrome_c...   99.477     765         4   \n",
       "MT706050.1_|Severe_acute_respiratory_syndrome_c...   99.983   29806         5   \n",
       "MT706132.1_|Severe_acute_respiratory_syndrome_c...   99.977   29843         7   \n",
       "MT706133.1_|Severe_acute_respiratory_syndrome_c...   99.976   29782         7   \n",
       "\n",
       "                                                    gapopen  qstart   qend  \\\n",
       "qseqid                                                                       \n",
       "NC_045512.2_|Severe_acute_respiratory_syndrome_...        0       1  29870   \n",
       "MT712208.1_|Severe_acute_respiratory_syndrome_c...        0       1    765   \n",
       "MT706050.1_|Severe_acute_respiratory_syndrome_c...        0       1  29806   \n",
       "MT706132.1_|Severe_acute_respiratory_syndrome_c...        0       1  29843   \n",
       "MT706133.1_|Severe_acute_respiratory_syndrome_c...        0       1  29782   \n",
       "\n",
       "                                                    sstart   send  evalue  \\\n",
       "qseqid                                                                      \n",
       "NC_045512.2_|Severe_acute_respiratory_syndrome_...       1  29870     0.0   \n",
       "MT712208.1_|Severe_acute_respiratory_syndrome_c...   12719  13483     0.0   \n",
       "MT706050.1_|Severe_acute_respiratory_syndrome_c...      21  29826     0.0   \n",
       "MT706132.1_|Severe_acute_respiratory_syndrome_c...      25  29867     0.0   \n",
       "MT706133.1_|Severe_acute_respiratory_syndrome_c...      55  29836     0.0   \n",
       "\n",
       "                                                    bitscore    ppos  \\\n",
       "qseqid                                                                 \n",
       "NC_045512.2_|Severe_acute_respiratory_syndrome_...     55130  100.00   \n",
       "MT712208.1_|Severe_acute_respiratory_syndrome_c...      1391   99.48   \n",
       "MT706050.1_|Severe_acute_respiratory_syndrome_c...     54985   99.98   \n",
       "MT706132.1_|Severe_acute_respiratory_syndrome_c...     55042   99.98   \n",
       "MT706133.1_|Severe_acute_respiratory_syndrome_c...     54931   99.98   \n",
       "\n",
       "                                                                                                 qseq  \\\n",
       "qseqid                                                                                                  \n",
       "NC_045512.2_|Severe_acute_respiratory_syndrome_...  ATTAAAGGTTTATACCTTCCCAGGTAACAAACCAACCAACTTTCGA...   \n",
       "MT712208.1_|Severe_acute_respiratory_syndrome_c...  ATGTCTTGTGCTGCCGGTACTACACAAACTGCTTGCACTGATGACA...   \n",
       "MT706050.1_|Severe_acute_respiratory_syndrome_c...  CAGGTAACAAACCAACCAACTTTCGATCTCTTGTAGATCTGTTCTC...   \n",
       "MT706132.1_|Severe_acute_respiratory_syndrome_c...  TAACAAACCAACCAACTTTCGATCTCTTGTAGATCTGTTCTCTAAA...   \n",
       "MT706133.1_|Severe_acute_respiratory_syndrome_c...  AGATCTGTTCTCTAAACGAACTTTAAAATCTGTGTGGCTGTCACTC...   \n",
       "\n",
       "                                                                                                 sseq  \n",
       "qseqid                                                                                                 \n",
       "NC_045512.2_|Severe_acute_respiratory_syndrome_...  ATTAAAGGTTTATACCTTCCCAGGTAACAAACCAACCAACTTTCGA...  \n",
       "MT712208.1_|Severe_acute_respiratory_syndrome_c...  ATGTCTTGTGCTGCCGGTACTACACAAACTGCTTGCACTGATGACA...  \n",
       "MT706050.1_|Severe_acute_respiratory_syndrome_c...  CAGGTAACAAACCAACCAACTTTCGATCTCTTGTAGATCTGTTCTC...  \n",
       "MT706132.1_|Severe_acute_respiratory_syndrome_c...  TAACAAACCAACCAACTTTCGATCTCTTGTAGATCTGTTCTCTAAA...  \n",
       "MT706133.1_|Severe_acute_respiratory_syndrome_c...  AGATCTGTTCTCTAAACGAACTTTAAAATCTGTGTGGCTGTCACTC...  "
      ]
     },
     "execution_count": 18,
     "metadata": {},
     "output_type": "execute_result"
    }
   ],
   "source": [
    "new_blastResults.head()"
   ]
  },
  {
   "cell_type": "code",
   "execution_count": 19,
   "metadata": {},
   "outputs": [],
   "source": [
    "heads.remove('NC_045512.2_|Severe_acute_respiratory_syndrome_coronavirus_2_isolate_Wuhan-Hu-1,_complete_genome')"
   ]
  },
  {
   "cell_type": "code",
   "execution_count": 20,
   "metadata": {},
   "outputs": [],
   "source": [
    "#update blast_results !!!!!!!!!!!!!!\n",
    "updated_blast_results = new_blastResults.loc[heads,:]\n",
    "\n"
   ]
  },
  {
   "cell_type": "raw",
   "metadata": {},
   "source": [
    "updated_blast_results.to_csv(\"updatedBlastResults.csv\", header=True)"
   ]
  },
  {
   "cell_type": "markdown",
   "metadata": {},
   "source": [
    "# tests"
   ]
  },
  {
   "cell_type": "code",
   "execution_count": 21,
   "metadata": {
    "scrolled": true
   },
   "outputs": [
    {
     "data": {
      "text/plain": [
       "0    NC_045512.2_|Severe_acute_respiratory_syndrome...\n",
       "1    MT712208.1_|Severe_acute_respiratory_syndrome_...\n",
       "2    MT706050.1_|Severe_acute_respiratory_syndrome_...\n",
       "3    MT706132.1_|Severe_acute_respiratory_syndrome_...\n",
       "4    MT706133.1_|Severe_acute_respiratory_syndrome_...\n",
       "Name: qseqid, dtype: object"
      ]
     },
     "execution_count": 21,
     "metadata": {},
     "output_type": "execute_result"
    }
   ],
   "source": [
    "blastResults['qseqid'].head()"
   ]
  },
  {
   "cell_type": "code",
   "execution_count": 22,
   "metadata": {},
   "outputs": [
    {
     "name": "stdout",
     "output_type": "stream",
     "text": [
      "human\n"
     ]
    }
   ],
   "source": [
    "species_test_GenBank=\"MT706136.1_|Severe_acute_respiratory_syndrome_coronavirus_2_isolate_SARS-CoV-2/human/USA/WI-UW-14/2020,_complete_genome\"\n",
    "inner_GenBank=species_test_GenBank.split('/')[1]\n",
    "print(inner_GenBank)"
   ]
  },
  {
   "cell_type": "code",
   "execution_count": 23,
   "metadata": {},
   "outputs": [
    {
     "name": "stdout",
     "output_type": "stream",
     "text": [
      "human\n"
     ]
    }
   ],
   "source": [
    "species_test_ENA=\"ENA|MT451557|MT451557.1_Severe_acute_respiratory_syndrome_coronavirus_2_isolate_SARS-CoV-2/human/AUS/VIC793/2020_ORF1ab_polyprotein_(ORF1ab),_ORF1a_polyprotein_(ORF1ab),_surface_glycoprotein_(S),_ORF3a_protein_(ORF3a),_envelope_protein_(E),_membrane_glycoprotein_(M),_ORF6_protein_(ORF6),_ORF7a_protein_(ORF7a),_ORF7b_(ORF7b),_ORF8_protein_(ORF8),_nucleocapsid_phosphoprotein_(N),_and_ORF10_protein_(ORF10)_genes,_complete_cds.\"\n",
    "inner_ENA=species_test_ENA.split('/')[1]\n",
    "print(inner_ENA)"
   ]
  },
  {
   "cell_type": "code",
   "execution_count": 24,
   "metadata": {},
   "outputs": [
    {
     "name": "stdout",
     "output_type": "stream",
     "text": [
      "MT706136.1\n"
     ]
    }
   ],
   "source": [
    "accession_test_GenBank=\"MT706136.1_|Severe_acute_respiratory_syndrome_coronavirus_2_isolate_SARS-CoV-2/human/USA/WI-UW-14/2020,_complete_genome\"\n",
    "inner_access_GB=accession_test_GenBank.split('_')[0]\n",
    "print(inner_access_GB)"
   ]
  },
  {
   "cell_type": "code",
   "execution_count": 25,
   "metadata": {},
   "outputs": [
    {
     "ename": "NameError",
     "evalue": "name 'tim' is not defined",
     "output_type": "error",
     "traceback": [
      "\u001b[1;31m---------------------------------------------------------------------------\u001b[0m",
      "\u001b[1;31mNameError\u001b[0m                                 Traceback (most recent call last)",
      "\u001b[1;32m<ipython-input-25-125dde1e620b>\u001b[0m in \u001b[0;36m<module>\u001b[1;34m\u001b[0m\n\u001b[0;32m      1\u001b[0m \u001b[0maccession_test_ENA\u001b[0m\u001b[1;33m=\u001b[0m\u001b[1;34m\"ENA|MT451557|MT451557.1_Severe_acute_respiratory_syndrome_coronavirus_2_isolate_SARS-CoV-2/human/AUS/VIC793/2020_ORF1ab_polyprotein_(ORF1ab),_ORF1a_polyprotein_(ORF1ab),_surface_glycoprotein_(S),_ORF3a_protein_(ORF3a),_envelope_protein_(E),_membrane_glycoprotein_(M),_ORF6_protein_(ORF6),_ORF7a_protein_(ORF7a),_ORF7b_(ORF7b),_ORF8_protein_(ORF8),_nucleocapsid_phosphoprotein_(N),_and_ORF10_protein_(ORF10)_genes,_complete_cds.\"\u001b[0m\u001b[1;33m\u001b[0m\u001b[1;33m\u001b[0m\u001b[0m\n\u001b[1;32m----> 2\u001b[1;33m \u001b[0minner_access_ENA\u001b[0m\u001b[1;33m=\u001b[0m\u001b[0maccession_test_ENA\u001b[0m\u001b[1;33m.\u001b[0m\u001b[0msplit\u001b[0m\u001b[1;33m(\u001b[0m\u001b[1;34m'|'\u001b[0m\u001b[1;33m)\u001b[0m\u001b[1;33m[\u001b[0m\u001b[0mlen\u001b[0m\u001b[1;33m(\u001b[0m\u001b[0mtim\u001b[0m\u001b[1;33m.\u001b[0m\u001b[0msplit\u001b[0m\u001b[1;33m(\u001b[0m\u001b[1;34m'|'\u001b[0m\u001b[1;33m)\u001b[0m\u001b[1;33m)\u001b[0m \u001b[1;33m-\u001b[0m\u001b[1;36m1\u001b[0m \u001b[1;33m]\u001b[0m\u001b[1;33m.\u001b[0m\u001b[0msplit\u001b[0m\u001b[1;33m(\u001b[0m\u001b[1;34m'_'\u001b[0m\u001b[1;33m)\u001b[0m\u001b[1;33m[\u001b[0m\u001b[1;36m0\u001b[0m\u001b[1;33m]\u001b[0m\u001b[1;33m\u001b[0m\u001b[1;33m\u001b[0m\u001b[0m\n\u001b[0m\u001b[0;32m      3\u001b[0m \u001b[0mprint\u001b[0m\u001b[1;33m(\u001b[0m\u001b[0minner_access_ENA\u001b[0m\u001b[1;33m)\u001b[0m\u001b[1;33m\u001b[0m\u001b[1;33m\u001b[0m\u001b[0m\n",
      "\u001b[1;31mNameError\u001b[0m: name 'tim' is not defined"
     ]
    }
   ],
   "source": [
    "accession_test_ENA=\"ENA|MT451557|MT451557.1_Severe_acute_respiratory_syndrome_coronavirus_2_isolate_SARS-CoV-2/human/AUS/VIC793/2020_ORF1ab_polyprotein_(ORF1ab),_ORF1a_polyprotein_(ORF1ab),_surface_glycoprotein_(S),_ORF3a_protein_(ORF3a),_envelope_protein_(E),_membrane_glycoprotein_(M),_ORF6_protein_(ORF6),_ORF7a_protein_(ORF7a),_ORF7b_(ORF7b),_ORF8_protein_(ORF8),_nucleocapsid_phosphoprotein_(N),_and_ORF10_protein_(ORF10)_genes,_complete_cds.\"\n",
    "inner_access_ENA=accession_test_ENA.split('|')[len(tim.split('|')) -1 ].split('_')[0]\n",
    "print(inner_access_ENA)\n"
   ]
  },
  {
   "cell_type": "markdown",
   "metadata": {},
   "source": [
    "# Making metadata Dataframe"
   ]
  },
  {
   "cell_type": "code",
   "execution_count": 26,
   "metadata": {},
   "outputs": [
    {
     "data": {
      "text/plain": [
       "'Bahrein'"
      ]
     },
     "execution_count": 26,
     "metadata": {},
     "output_type": "execute_result"
    }
   ],
   "source": [
    "'hCov-19/Bahrein/BAH-27/2020|EPI_ISL_483565|2020-04-07'.strip('>').startswith(\"h\")\n",
    "'hCov-19/Bahrein/BAH-27/2020|EPI_ISL_483565|2020-04-07'.split('/')[1]"
   ]
  },
  {
   "cell_type": "code",
   "execution_count": 27,
   "metadata": {},
   "outputs": [],
   "source": [
    "df_metadata=pd.DataFrame(index=heads, columns=['location', 'time'])\n",
    "#index=list of all the unique headers (blast results)\n",
    "hcov_locations = []\n",
    "for i in heads:\n",
    "    if i.strip('>').startswith(\"h\"):\n",
    "        df_metadata.loc[i, 'location'] = i.split('/')[1]\n",
    "        hcov_locations.append(i.split('/')[1])\n",
    "        df_metadata.loc[i, 'time'] = i.split('|')[2]\n",
    "    else:#if \"ENA\" in i:\n",
    "        df_metadata.loc[i, 'location'] = i.split('/')[2]\n",
    "        #df.loc[i, column= 'time'] = i.split('/')[len(tim.split('/')) -1 ].split('_')[0]\n",
    "    #else:\n",
    "        #df_metadata.loc[i, 'location'] = i.split('/')[2]\n",
    "        #df.loc[i, column= 'time'] = i.split('/')[len(tim.split('/')) -1 ].split('_')[0]"
   ]
  },
  {
   "cell_type": "code",
   "execution_count": 28,
   "metadata": {
    "scrolled": true
   },
   "outputs": [
    {
     "data": {
      "text/plain": [
       "{'AUS',\n",
       " 'BEL',\n",
       " 'BGD',\n",
       " 'BRA',\n",
       " 'CHL',\n",
       " 'CHN',\n",
       " 'COL',\n",
       " 'CZE',\n",
       " 'DEU',\n",
       " 'EGY',\n",
       " 'ESP',\n",
       " 'FRA',\n",
       " 'GEO',\n",
       " 'GRC',\n",
       " 'GUM',\n",
       " 'HKG',\n",
       " 'HKG.85_VM20002868',\n",
       " 'IND',\n",
       " 'IRN',\n",
       " 'IRQ',\n",
       " 'ISR',\n",
       " 'ITA',\n",
       " 'JAM',\n",
       " 'KAZ',\n",
       " 'KEN',\n",
       " 'KOR',\n",
       " 'LKA',\n",
       " 'MAR',\n",
       " 'MYS',\n",
       " 'NGA',\n",
       " 'NLD',\n",
       " 'NPL',\n",
       " 'NZL',\n",
       " 'PAK',\n",
       " 'PER',\n",
       " 'POL',\n",
       " 'RUS',\n",
       " 'SAU',\n",
       " 'SRB',\n",
       " 'SWE',\n",
       " 'THA',\n",
       " 'TLS',\n",
       " 'TUN',\n",
       " 'TUR',\n",
       " 'TWN',\n",
       " 'URY',\n",
       " 'USACT-UW420',\n",
       " 'USACT-UW423',\n",
       " 'USACT-UW427',\n",
       " 'USACT-UW428',\n",
       " 'USACT-UW430',\n",
       " 'USAOR-UW409',\n",
       " 'USAUNKNOWN-UW398',\n",
       " 'USAWA-UW391',\n",
       " 'USAWA-UW392',\n",
       " 'USAWA-UW408',\n",
       " 'USAWA-UW410',\n",
       " 'USAWA-UW413',\n",
       " 'UZB',\n",
       " 'VIE',\n",
       " 'VNM',\n",
       " 'ZAF'}"
      ]
     },
     "execution_count": 28,
     "metadata": {},
     "output_type": "execute_result"
    }
   ],
   "source": [
    "set(df_metadata['location'].values)-set(hcov_locations)"
   ]
  },
  {
   "cell_type": "code",
   "execution_count": 29,
   "metadata": {
    "scrolled": true
   },
   "outputs": [
    {
     "data": {
      "text/plain": [
       "array(['Algeria', 'Andalusia', 'Anhui', 'Argentina', 'Australia',\n",
       "       'Austria', 'Bahrein', 'Bangladesh', 'Beijing', 'Belarus',\n",
       "       'Belgium', 'Benin', 'Bosnia_and_Herzegovina', 'Brazil', 'Brunei',\n",
       "       'Bucuresti', 'Bulgaria', 'Cambodia', 'Canada', 'Changzhou',\n",
       "       'Chile', 'China', 'Chongqing', 'Colombia', 'Costa_Rica', 'Croatia',\n",
       "       'Cyprus', 'Czech_Republic', 'DRC', 'Denmark', 'Ecuador', 'Egypt',\n",
       "       'England', 'Estonia', 'Felis_catus', 'Finland', 'Foshan', 'France',\n",
       "       'Fujian', 'Fuyang', 'Fuzhou', 'Gambia', 'Ganzhou', 'Georgia',\n",
       "       'Germany', 'Ghana', 'Greece', 'Guam', 'Guangdong', 'Guangzhou',\n",
       "       'Hangzhou', 'Harbin', 'Hefei', 'Henan', 'Hong_Kong', 'Hungary',\n",
       "       'ITALY', 'Iceland', 'India', 'Indonesia', 'Iran', 'Iraq',\n",
       "       'Ireland', 'Israel', 'Italy', 'Jamaica', 'Japan', 'Jian',\n",
       "       'Jiangsu', 'Jiangxi', 'Jingzhou', 'Jiujiang', 'Jordan', 'Kanagawa',\n",
       "       'Kazakhstan', 'Kenya', 'Korea', 'Kuwait', 'Latvia', 'Lebanon',\n",
       "       'Lishui', 'Lithuania', 'Luxembourg', 'Malaysia', 'Mexico',\n",
       "       'Mongolia', 'Morocco', 'Myanmar', 'NanChang', 'Nanchang', 'Nepal',\n",
       "       'Netherlands', 'New_Zealand', 'Nigeria', 'Northern_Ireland',\n",
       "       'Norway', 'Oman', 'Pakistan', 'Panama', 'Peru', 'Philippines',\n",
       "       'Pingxiang', 'Poland', 'Portugal', 'Puerto_Rico', 'Qatar',\n",
       "       'Romania', 'Romania_', 'Russia', 'Saudi_Arabia', 'Scotland',\n",
       "       'Senegal', 'Serbia', 'Shandong', 'Shanghai', 'Shangrao',\n",
       "       'Shaoxing', 'Shenzhen', 'Sichuan', 'Singapore', 'Slovakia',\n",
       "       'Slovenia', 'SouthAfrica', 'South_Africa', 'South_Korea', 'Spain',\n",
       "       'Sri_Lanka', 'Sweden', 'Switzerland', 'Taiwan', 'Thailand',\n",
       "       'Tianmen', 'Timor-Leste', 'Tunisia', 'Turkey', 'USA', 'Uganda',\n",
       "       'United_Arab_Emirates', 'Uruguay', 'Uzbekistan', 'Venezuela',\n",
       "       'Vietnam', 'Wales', 'Wuhan', 'Xinyu', 'Yichun', 'Yingtan',\n",
       "       'Yunnan', 'Zhejiang', 'bat', 'canine', 'cat', 'env', 'india',\n",
       "       'mink', 'mouse', 'pangolin', 'tiger'], dtype='<U22')"
      ]
     },
     "execution_count": 29,
     "metadata": {},
     "output_type": "execute_result"
    }
   ],
   "source": [
    "np.unique(hcov_locations)"
   ]
  },
  {
   "cell_type": "code",
   "execution_count": 30,
   "metadata": {},
   "outputs": [],
   "source": [
    "hcov_location_map = {'Algeria':'Algeria', 'Anhui':'China', 'Argentina':'Argentina', 'Australia':'Australia', 'Austria':'Austria',\n",
    "               'Andalusia':'Spain','Bahrein':'BHR','Bangladesh':'Bangladesh', 'Beijing':'China', 'Belarus':'Belarus', 'Belgium':'Belgium', 'Benin': 'Benin',\n",
    "               'Bosnia_and_Herzegovina':'Bosnia_and_Herzegovina', 'Brazil':'Brazil', 'Brunei': 'Brunei', 'Bucuresti':'Romania',\n",
    "               'Bulgaria':'Bulgaria', 'Cambodia':'Cambodia', 'Canada':'Canada', 'Changzhou':'China', 'Chile':'Chile', \n",
    "                'China':'China', 'Chongqing':'China', 'Colombia':'Colombia', 'Costa_Rica':'Costa_Rica', 'Croatia':'Croatia', \n",
    "                'Cyprus':'Cyprus','Czech_Republic':'Czech_Republic', 'DRC':'DRC', 'Denmark':'Denmark', 'Ecuador':'Ecuador', \n",
    "                'Egypt':'Egypt', 'England':'GBR','Estonia':'Estonia', 'Finland':'Finland', 'Foshan':'China', 'France':'France',\n",
    "                     'Fujian':'China','Fuyang':'China', 'Fuzhou':'China', 'Gambia':'Gambia', 'Ganzhou':'China', 'Georgia':'Georgia', 'Germany':'Germany',\n",
    "                'Ghana':'Ghana', 'Greece':'Greece', 'Guam':'USA', 'Guangdong':'China', 'Guangzhou':'China', 'Hangzhou':'China',\n",
    "                'Harbin':'China', 'Hefei':'China', 'Henan':'China', 'Hong_Kong':'China', 'Hungary':'Hungary', 'ITALY':'Italy',\n",
    "                'Iceland':'Iceland', 'India':'India', 'Indonesia':'Indonesia', 'Iran':'Iran', 'Iraq':'Iraq', 'Ireland':'Ireland',\n",
    "                     'Israel':'Israel', 'Italy':'Italy', 'Jamaica':'Jamaica', 'Japan':'Japan', 'Jian':'China', 'Jiangsu': 'China',\n",
    "                     'Jiangxi':'China', 'Jingzhou':'China', 'Jiujiang':'China', 'Jordan':'Jordan', 'Kanagawa':'Japan',\n",
    "       'Kazakhstan':'Kazakhstan', 'Kenya':'Kenya', 'Korea':'KOR', 'Kuwait':'Kuwait', 'Latvia':'Latvia', 'Lebanon':'Lebanon',\n",
    "       'Lishui':'China', 'Lithuania':'Lithuania', 'Luxembourg':'Luxembourg', 'Malaysia':'Malaysia', 'Mexico':'Mexico',\n",
    "       'Mongolia':'Mongolia', 'Morocco':'Morocco', 'Myanmar':'Myanmar', 'NanChang':'China', 'Nanchang':'China', 'Nepal':'Nepal',\n",
    "       'Netherlands': 'Netherlands', 'New_Zealand':'New_Zealand', 'Nigeria':'Nigeria', 'Northern_Ireland':'GBR',\n",
    "       'Norway':'Norway', 'Oman':'Oman', 'Pakistan':'Pakistan', 'Panama':'Panama', 'Peru':'Peru', 'Philippines':'Philippines',\n",
    "       'Pingxiang':'China', 'Poland':'Poland', 'Portugal':'Portugal', 'Puerto_Rico':'USA', 'Qatar':'Qatar',\n",
    "       'Romania':'Romania', 'Romania_':'Romania', 'Russia':'Russia', 'Saudi_Arabia':'Saudi_Arabia', 'Scotland':'GBR',\n",
    "       'Senegal':'Senegal', 'Serbia':'Serbia', 'Shandong':'China', 'Shanghai':'China', 'Shangrao':'China',\n",
    "       'Shaoxing':'China', 'Shenzhen':'China', 'Sichuan':'China', 'Singapore':'Singapore', 'Slovakia':'Slovakia',\n",
    "       'Slovenia':'Slovenia', 'SouthAfrica':'South_Africa', 'South_Africa':'South_Africa', 'South_Korea':'KOR', 'Spain':'Spain',\n",
    "       'Sri_Lanka':'Sri_Lanka', 'Sweden':'Sweden', 'Switzerland':'Switzerland', 'Taiwan':'Taiwan', 'Thailand':'Thailand',\n",
    "       'Tianmen':'China', 'Timor-Leste':'Timor-Leste', 'Tunisia':'Tunisia', 'Turkey':'Turkey', 'USA':'USA', 'Uganda':'Uganda',\n",
    "       'United_Arab_Emirates':'United_Arab_Emirates', 'Uruguay':'Uruguay', 'Uzbekistan':'Uzbekistan', 'Venezuela':'Venezuela',\n",
    "       'Vietnam':'Vietnam', 'Wales':'GBR', 'Wuhan':'China', 'Xinyu':'China', 'Yichun':'China', 'Yingtan':'China',\n",
    "       'Yunnan':'China', 'Zhejiang':'China', 'india':'India'}"
   ]
  },
  {
   "cell_type": "code",
   "execution_count": 31,
   "metadata": {},
   "outputs": [
    {
     "data": {
      "text/plain": [
       "['Felis_catus',\n",
       " 'bat',\n",
       " 'canine',\n",
       " 'cat',\n",
       " 'env',\n",
       " 'mink',\n",
       " 'mouse',\n",
       " 'pangolin',\n",
       " 'tiger']"
      ]
     },
     "execution_count": 31,
     "metadata": {},
     "output_type": "execute_result"
    }
   ],
   "source": [
    "[i for i in np.unique(hcov_locations) if i not in hcov_location_map.keys()]"
   ]
  },
  {
   "cell_type": "code",
   "execution_count": 32,
   "metadata": {},
   "outputs": [],
   "source": [
    "rest_map = {'AUS':'AUS',\n",
    " 'BEL':'BEL',\n",
    " 'BGD':'BGD',\n",
    " 'BRA':'BRA',\n",
    " 'CHL':'CHL',\n",
    " 'CHN':'CHN',\n",
    " 'COL':'COL',\n",
    " 'CZE':'CZE',\n",
    " 'DEU':'DEU',\n",
    " 'EGY':'EGY',\n",
    " 'ESP':'ESP' ,\n",
    " 'FRA':'FRA',\n",
    " 'GEO': 'GEO',\n",
    " 'GRC': 'GRC',\n",
    " 'GUM': 'GUM',\n",
    " 'HKG':'HKG',\n",
    " 'HKG.85_VM20002868': 'HKG',\n",
    " 'IND': 'IND',\n",
    " 'IRN':'IRN',\n",
    " 'IRQ':'IRQ',\n",
    " 'ISR':'ISR',\n",
    " 'ITA':'ITA',\n",
    " 'JAM':'JAM',\n",
    " 'KAZ':'KAZ',\n",
    " 'KEN':'KEN',\n",
    " 'KOR':'KOR',\n",
    " 'LKA':'LKA',\n",
    " 'MAR':'MAR',\n",
    " 'MYS':'MYS',\n",
    " 'NGA':'NGA',\n",
    " 'NLD':'NLD',\n",
    " 'NPL':'NPL',\n",
    " 'NZL':'NZL',\n",
    " 'PAK':'PAK',\n",
    " 'PER':'PER',\n",
    " 'POL':'POL',\n",
    " 'RUS':'RUS',\n",
    " 'SAU':'SAU',\n",
    " 'SRB':'SRB',\n",
    " 'SWE':'SWE',\n",
    " 'THA':'THA',\n",
    " 'TLS':'TLS',\n",
    " 'TUN':'TUN',\n",
    " 'TUR':'TUR',\n",
    " 'TWN':'TWN',\n",
    " 'URY':'URY',\n",
    " 'USACT-UW420':'USA',\n",
    " 'USACT-UW423':'USA',\n",
    " 'USACT-UW427':'USA',\n",
    " 'USACT-UW428':'USA',\n",
    " 'USACT-UW430':'USA',\n",
    " 'USAOR-UW409':'USA',\n",
    " 'USAUNKNOWN-UW398':'USA',\n",
    " 'USAWA-UW391':'USA',\n",
    " 'USAWA-UW392':'USA',\n",
    " 'USAWA-UW408':'USA',\n",
    " 'USAWA-UW410':'USA',\n",
    " 'USAWA-UW413':'USA',\n",
    " 'UZB':'UZB',\n",
    " 'VIE':'VIE',\n",
    " 'VNM':'VNM',\n",
    " 'ZAF':'ZAF'}"
   ]
  },
  {
   "cell_type": "code",
   "execution_count": 33,
   "metadata": {},
   "outputs": [
    {
     "data": {
      "text/plain": [
       "[]"
      ]
     },
     "execution_count": 33,
     "metadata": {},
     "output_type": "execute_result"
    }
   ],
   "source": [
    "[i for i in list(set(df_metadata['location'].values)-set(hcov_locations)) if i not in rest_map.keys()]"
   ]
  },
  {
   "cell_type": "code",
   "execution_count": 34,
   "metadata": {},
   "outputs": [],
   "source": [
    "location_map = {**hcov_location_map, **rest_map}"
   ]
  },
  {
   "cell_type": "code",
   "execution_count": 35,
   "metadata": {},
   "outputs": [
    {
     "data": {
      "text/plain": [
       "(70611, 2)"
      ]
     },
     "execution_count": 35,
     "metadata": {},
     "output_type": "execute_result"
    }
   ],
   "source": [
    "df_metadata.shape"
   ]
  },
  {
   "cell_type": "code",
   "execution_count": 36,
   "metadata": {
    "scrolled": true
   },
   "outputs": [
    {
     "data": {
      "text/plain": [
       "220"
      ]
     },
     "execution_count": 36,
     "metadata": {},
     "output_type": "execute_result"
    }
   ],
   "source": [
    "len(set(df_metadata['location'].values))"
   ]
  },
  {
   "cell_type": "code",
   "execution_count": 37,
   "metadata": {},
   "outputs": [],
   "source": [
    "df_metadata['location'] = df_metadata['location'].map(location_map)"
   ]
  },
  {
   "cell_type": "code",
   "execution_count": 38,
   "metadata": {},
   "outputs": [
    {
     "data": {
      "text/plain": [
       "147"
      ]
     },
     "execution_count": 38,
     "metadata": {},
     "output_type": "execute_result"
    }
   ],
   "source": [
    "len(set(df_metadata['location'].values))"
   ]
  },
  {
   "cell_type": "code",
   "execution_count": 39,
   "metadata": {
    "scrolled": true
   },
   "outputs": [
    {
     "data": {
      "text/plain": [
       "{'AUS',\n",
       " 'Algeria',\n",
       " 'Argentina',\n",
       " 'Australia',\n",
       " 'Austria',\n",
       " 'BEL',\n",
       " 'BGD',\n",
       " 'BHR',\n",
       " 'BRA',\n",
       " 'Bangladesh',\n",
       " 'Belarus',\n",
       " 'Belgium',\n",
       " 'Benin',\n",
       " 'Bosnia_and_Herzegovina',\n",
       " 'Brazil',\n",
       " 'Brunei',\n",
       " 'Bulgaria',\n",
       " 'CHL',\n",
       " 'CHN',\n",
       " 'COL',\n",
       " 'CZE',\n",
       " 'Cambodia',\n",
       " 'Canada',\n",
       " 'Chile',\n",
       " 'China',\n",
       " 'Colombia',\n",
       " 'Costa_Rica',\n",
       " 'Croatia',\n",
       " 'Cyprus',\n",
       " 'Czech_Republic',\n",
       " 'DEU',\n",
       " 'DRC',\n",
       " 'Denmark',\n",
       " 'EGY',\n",
       " 'ESP',\n",
       " 'Ecuador',\n",
       " 'Egypt',\n",
       " 'Estonia',\n",
       " 'FRA',\n",
       " 'Finland',\n",
       " 'France',\n",
       " 'GBR',\n",
       " 'GEO',\n",
       " 'GRC',\n",
       " 'GUM',\n",
       " 'Gambia',\n",
       " 'Georgia',\n",
       " 'Germany',\n",
       " 'Ghana',\n",
       " 'Greece',\n",
       " 'HKG',\n",
       " 'Hungary',\n",
       " 'IND',\n",
       " 'IRN',\n",
       " 'IRQ',\n",
       " 'ISR',\n",
       " 'ITA',\n",
       " 'Iceland',\n",
       " 'India',\n",
       " 'Indonesia',\n",
       " 'Iran',\n",
       " 'Iraq',\n",
       " 'Ireland',\n",
       " 'Israel',\n",
       " 'Italy',\n",
       " 'JAM',\n",
       " 'Jamaica',\n",
       " 'Japan',\n",
       " 'Jordan',\n",
       " 'KAZ',\n",
       " 'KEN',\n",
       " 'KOR',\n",
       " 'Kazakhstan',\n",
       " 'Kenya',\n",
       " 'Kuwait',\n",
       " 'LKA',\n",
       " 'Latvia',\n",
       " 'Lebanon',\n",
       " 'Lithuania',\n",
       " 'Luxembourg',\n",
       " 'MAR',\n",
       " 'MYS',\n",
       " 'Malaysia',\n",
       " 'Mexico',\n",
       " 'Mongolia',\n",
       " 'Morocco',\n",
       " 'Myanmar',\n",
       " 'NGA',\n",
       " 'NLD',\n",
       " 'NPL',\n",
       " 'NZL',\n",
       " 'Nepal',\n",
       " 'Netherlands',\n",
       " 'New_Zealand',\n",
       " 'Nigeria',\n",
       " 'Norway',\n",
       " 'Oman',\n",
       " 'PAK',\n",
       " 'PER',\n",
       " 'POL',\n",
       " 'Pakistan',\n",
       " 'Panama',\n",
       " 'Peru',\n",
       " 'Philippines',\n",
       " 'Poland',\n",
       " 'Portugal',\n",
       " 'Qatar',\n",
       " 'RUS',\n",
       " 'Romania',\n",
       " 'Russia',\n",
       " 'SAU',\n",
       " 'SRB',\n",
       " 'SWE',\n",
       " 'Saudi_Arabia',\n",
       " 'Senegal',\n",
       " 'Serbia',\n",
       " 'Singapore',\n",
       " 'Slovakia',\n",
       " 'Slovenia',\n",
       " 'South_Africa',\n",
       " 'Spain',\n",
       " 'Sri_Lanka',\n",
       " 'Sweden',\n",
       " 'Switzerland',\n",
       " 'THA',\n",
       " 'TLS',\n",
       " 'TUN',\n",
       " 'TUR',\n",
       " 'TWN',\n",
       " 'Taiwan',\n",
       " 'Thailand',\n",
       " 'Timor-Leste',\n",
       " 'Tunisia',\n",
       " 'Turkey',\n",
       " 'URY',\n",
       " 'USA',\n",
       " 'UZB',\n",
       " 'Uganda',\n",
       " 'United_Arab_Emirates',\n",
       " 'Uruguay',\n",
       " 'Uzbekistan',\n",
       " 'VIE',\n",
       " 'VNM',\n",
       " 'Venezuela',\n",
       " 'Vietnam',\n",
       " 'ZAF',\n",
       " nan}"
      ]
     },
     "execution_count": 39,
     "metadata": {},
     "output_type": "execute_result"
    }
   ],
   "source": [
    "set(df_metadata['location'].values)"
   ]
  },
  {
   "cell_type": "code",
   "execution_count": 40,
   "metadata": {},
   "outputs": [],
   "source": [
    "final_map = {'AUS':'AUS',\n",
    " 'Algeria':'DZA',\n",
    " 'Argentina':'ARG',\n",
    " 'Australia':'AUS',\n",
    " 'Austria':'AUT',\n",
    " 'BEL':'BEL',\n",
    " 'BGD':'BGD',\n",
    " 'BRA':'BRA',\n",
    " 'BHR': 'BHR',\n",
    " 'Bangladesh':'BGD',\n",
    " 'Belarus':'BLR',\n",
    " 'Belgium':'BEL',\n",
    " 'Benin':'BEN',\n",
    " 'Bosnia_and_Herzegovina':'BIH',\n",
    " 'Brazil':'BRA',\n",
    " 'Brunei':'BRN',\n",
    " 'Bulgaria':'BGR',\n",
    " 'CHL':'CHL',\n",
    " 'CHN':'CHN',\n",
    " 'COL':'COL',\n",
    " 'CZE':'CZE',\n",
    " 'Cambodia':'KHM',\n",
    " 'Canada':'CAN',\n",
    " 'Chile':'CHL',\n",
    " 'China':'CHN',\n",
    " 'Colombia':'COL',\n",
    " 'Costa_Rica':'CRI',\n",
    " 'Croatia':'HRV',\n",
    " 'Cyprus':'CYP',\n",
    " 'Czech_Republic':'CZE',\n",
    " 'DEU':'DEU',\n",
    " 'DRC':'COD',\n",
    " 'Denmark':'DNK' ,\n",
    " 'EGY':'EGY',\n",
    " 'ESP':'ESP',\n",
    " 'Ecuador':'ECU',\n",
    " 'Egypt':'EGY',\n",
    " 'Estonia':'EST',\n",
    " 'FRA':'FRA',\n",
    " 'Finland':'FIN',\n",
    " 'France':'FRA',\n",
    " 'GBR':'GBR',\n",
    " 'GEO':'GEO',\n",
    " 'GRC':'GRC',\n",
    " 'GUM':'GUM',\n",
    " 'Gambia':'GMB',\n",
    " 'Georgia':'GEO',\n",
    " 'Germany':'DEU',\n",
    " 'Ghana':'GHA',\n",
    " 'Greece':'GRC',\n",
    " 'HKG':'HKG',\n",
    " 'Hungary':'HUN',\n",
    " 'IND':'IND',\n",
    " 'IRN':'IRN',\n",
    " 'IRQ':'IRQ',\n",
    " 'ISR':'ISR',\n",
    " 'ITA':'ITA',\n",
    " 'Iceland':'ISL',\n",
    " 'India':'IND',\n",
    " 'Indonesia':'IDN',\n",
    " 'Iran':'IRN',\n",
    " 'Iraq':'IRQ',\n",
    " 'Ireland':'IRL',\n",
    " 'Israel':'ISR',\n",
    " 'Italy':'ITA',\n",
    " 'JAM':'JAM',\n",
    " 'Jamaica':'JAM',\n",
    " 'Japan':'JPN',\n",
    " 'Jordan':'JOR',\n",
    " 'KAZ':'KAZ',\n",
    " 'KEN':'KEN',\n",
    " 'KOR':'KOR',\n",
    " 'Kazakhstan':'KAZ',\n",
    " 'Kenya':'KEN',\n",
    " 'Kuwait':'KWT',\n",
    " 'LKA':'LKA',\n",
    " 'Latvia':'LVA',\n",
    " 'Lebanon':'LBN',\n",
    " 'Lithuania':'LTU',\n",
    " 'Luxembourg':'LUX',\n",
    " 'MAR':'MAR',\n",
    " 'MYS':'MYS',\n",
    " 'Malaysia':'MYS',\n",
    " 'Mexico':'MEX',\n",
    " 'Mongolia':'MNG',\n",
    " 'Morocco':'MAR',\n",
    " 'Myanmar':'MMR',\n",
    " 'NGA':'NGA',\n",
    " 'NLD':'NLD',\n",
    " 'NPL':'NPL',\n",
    " 'NZL':'NZL',\n",
    " 'Nepal':'NPL',\n",
    " 'Netherlands':'NLD',\n",
    " 'New_Zealand':'NZL',\n",
    " 'Nigeria':'NGA',\n",
    " 'Norway':'NOR',\n",
    " 'Oman':'OMN',\n",
    " 'PAK':'PAK',\n",
    " 'PER':'PER',\n",
    " 'POL':'POL',\n",
    " 'Pakistan':'PAK',\n",
    " 'Panama':'PAN',\n",
    " 'Peru':'PER',\n",
    " 'Philippines':'PHL',\n",
    " 'Poland':'POL',\n",
    " 'Portugal':'PRT',\n",
    " 'Qatar':'QAT',\n",
    " 'RUS':'RUS',\n",
    " 'Romania':'ROU',\n",
    " 'Russia':'RUS',\n",
    " 'SAU':'SAU',\n",
    " 'SRB':'SRB',\n",
    " 'SWE':'SWE',\n",
    " 'Saudi_Arabia':'SAU',\n",
    " 'Senegal':'SEN',\n",
    " 'Serbia':'SRB',\n",
    " 'Singapore':'SGP',\n",
    " 'Slovakia':'SVK',\n",
    " 'Slovenia':'SVN',\n",
    " 'South_Africa':'ZAF',\n",
    " 'Spain':'ESP',\n",
    " 'Sri_Lanka':'LKA',\n",
    " 'Sweden':'SWE',\n",
    " 'Switzerland':'CHE',\n",
    " 'THA':'THA',\n",
    " 'TLS':'TLS',\n",
    " 'TUN':'TUN',\n",
    " 'TUR':'TUR',\n",
    " 'TWN':'TWN',\n",
    " 'Taiwan':'TWN',\n",
    " 'Thailand':'THA',\n",
    " 'Timor-Leste':'TLS',\n",
    " 'Tunisia':'TUN',\n",
    " 'Turkey':'TUR',\n",
    " 'URY':'URY',\n",
    " 'USA':'USA',\n",
    " 'UZB':'UZB',\n",
    " 'Uganda':'UGA',\n",
    " 'United_Arab_Emirates':'ARE',\n",
    " 'Uruguay':'URY',\n",
    " 'Uzbekistan':'UZB',\n",
    " 'VNM':'VNM',\n",
    " 'Venezuela':'VEN',\n",
    " 'Vietnam':'VNM',\n",
    " 'ZAF':'ZAF'}"
   ]
  },
  {
   "cell_type": "code",
   "execution_count": 41,
   "metadata": {},
   "outputs": [],
   "source": [
    "df_metadata['location'] = df_metadata['location'].map(final_map)"
   ]
  },
  {
   "cell_type": "code",
   "execution_count": 42,
   "metadata": {},
   "outputs": [
    {
     "data": {
      "text/plain": [
       "101"
      ]
     },
     "execution_count": 42,
     "metadata": {},
     "output_type": "execute_result"
    }
   ],
   "source": [
    "len(set(df_metadata['location'].values))"
   ]
  },
  {
   "cell_type": "code",
   "execution_count": 43,
   "metadata": {},
   "outputs": [
    {
     "data": {
      "text/plain": [
       "(70611, 2)"
      ]
     },
     "execution_count": 43,
     "metadata": {},
     "output_type": "execute_result"
    }
   ],
   "source": [
    "df_metadata.shape"
   ]
  },
  {
   "cell_type": "code",
   "execution_count": 44,
   "metadata": {},
   "outputs": [],
   "source": [
    "df_metadata = df_metadata.dropna(subset=['location'])"
   ]
  },
  {
   "cell_type": "code",
   "execution_count": 45,
   "metadata": {},
   "outputs": [
    {
     "data": {
      "text/html": [
       "<div>\n",
       "<style scoped>\n",
       "    .dataframe tbody tr th:only-of-type {\n",
       "        vertical-align: middle;\n",
       "    }\n",
       "\n",
       "    .dataframe tbody tr th {\n",
       "        vertical-align: top;\n",
       "    }\n",
       "\n",
       "    .dataframe thead th {\n",
       "        text-align: right;\n",
       "    }\n",
       "</style>\n",
       "<table border=\"1\" class=\"dataframe\">\n",
       "  <thead>\n",
       "    <tr style=\"text-align: right;\">\n",
       "      <th></th>\n",
       "      <th>location</th>\n",
       "      <th>time</th>\n",
       "    </tr>\n",
       "  </thead>\n",
       "  <tbody>\n",
       "    <tr>\n",
       "      <th>MT712208.1_|Severe_acute_respiratory_syndrome_coronavirus_2_isolate_SARS-CoV-2/human/VNM/NIHE/2020_ORF1a_polyprotein_(ORF1ab)_and_ORF1ab_polyprotein_(ORF1ab)_genes,_partial_cds</th>\n",
       "      <td>VNM</td>\n",
       "      <td>NaN</td>\n",
       "    </tr>\n",
       "    <tr>\n",
       "      <th>MT706050.1_|Severe_acute_respiratory_syndrome_coronavirus_2_isolate_SARS-CoV-2/human/NZL/20CHL869065O/2020,_complete_genome</th>\n",
       "      <td>NZL</td>\n",
       "      <td>NaN</td>\n",
       "    </tr>\n",
       "    <tr>\n",
       "      <th>MT706132.1_|Severe_acute_respiratory_syndrome_coronavirus_2_isolate_SARS-CoV-2/human/USA/WI-UW-04/2020,_complete_genome</th>\n",
       "      <td>USA</td>\n",
       "      <td>NaN</td>\n",
       "    </tr>\n",
       "    <tr>\n",
       "      <th>MT706133.1_|Severe_acute_respiratory_syndrome_coronavirus_2_isolate_SARS-CoV-2/human/USA/WI-UW-11/2020,_complete_genome</th>\n",
       "      <td>USA</td>\n",
       "      <td>NaN</td>\n",
       "    </tr>\n",
       "    <tr>\n",
       "      <th>MT706134.1_|Severe_acute_respiratory_syndrome_coronavirus_2_isolate_SARS-CoV-2/human/USA/WI-UW-12/2020,_complete_genome</th>\n",
       "      <td>USA</td>\n",
       "      <td>NaN</td>\n",
       "    </tr>\n",
       "  </tbody>\n",
       "</table>\n",
       "</div>"
      ],
      "text/plain": [
       "                                                   location time\n",
       "MT712208.1_|Severe_acute_respiratory_syndrome_c...      VNM  NaN\n",
       "MT706050.1_|Severe_acute_respiratory_syndrome_c...      NZL  NaN\n",
       "MT706132.1_|Severe_acute_respiratory_syndrome_c...      USA  NaN\n",
       "MT706133.1_|Severe_acute_respiratory_syndrome_c...      USA  NaN\n",
       "MT706134.1_|Severe_acute_respiratory_syndrome_c...      USA  NaN"
      ]
     },
     "execution_count": 45,
     "metadata": {},
     "output_type": "execute_result"
    }
   ],
   "source": [
    "df_metadata.head()\n"
   ]
  },
  {
   "cell_type": "code",
   "execution_count": 46,
   "metadata": {},
   "outputs": [
    {
     "data": {
      "text/plain": [
       "(70534, 2)"
      ]
     },
     "execution_count": 46,
     "metadata": {},
     "output_type": "execute_result"
    }
   ],
   "source": [
    "df_metadata.shape"
   ]
  },
  {
   "cell_type": "code",
   "execution_count": 66,
   "metadata": {},
   "outputs": [],
   "source": [
    "time_df = pd.read_csv('C://Users/Sharika/Downloads/sequences.csv', index_col=0)"
   ]
  },
  {
   "cell_type": "code",
   "execution_count": 48,
   "metadata": {
    "scrolled": true
   },
   "outputs": [
    {
     "data": {
      "text/plain": [
       "['MT712208.1_|Severe_acute_respiratory_syndrome_coronavirus_2_isolate_SARS-CoV-2/human/VNM/NIHE/2020_ORF1a_polyprotein_(ORF1ab)_and_ORF1ab_polyprotein_(ORF1ab)_genes,_partial_cds',\n",
       " 'MT706050.1_|Severe_acute_respiratory_syndrome_coronavirus_2_isolate_SARS-CoV-2/human/NZL/20CHL869065O/2020,_complete_genome',\n",
       " 'MT706132.1_|Severe_acute_respiratory_syndrome_coronavirus_2_isolate_SARS-CoV-2/human/USA/WI-UW-04/2020,_complete_genome',\n",
       " 'MT706133.1_|Severe_acute_respiratory_syndrome_coronavirus_2_isolate_SARS-CoV-2/human/USA/WI-UW-11/2020,_complete_genome',\n",
       " 'MT706134.1_|Severe_acute_respiratory_syndrome_coronavirus_2_isolate_SARS-CoV-2/human/USA/WI-UW-12/2020,_complete_genome',\n",
       " 'MT706135.1_|Severe_acute_respiratory_syndrome_coronavirus_2_isolate_SARS-CoV-2/human/USA/WI-UW-13/2020,_complete_genome',\n",
       " 'MT706136.1_|Severe_acute_respiratory_syndrome_coronavirus_2_isolate_SARS-CoV-2/human/USA/WI-UW-14/2020,_complete_genome',\n",
       " 'MT706137.1_|Severe_acute_respiratory_syndrome_coronavirus_2_isolate_SARS-CoV-2/human/USA/WI-UW-15/2020,_complete_genome',\n",
       " 'MT706138.1_|Severe_acute_respiratory_syndrome_coronavirus_2_isolate_SARS-CoV-2/human/USA/WI-UW-16/2020,_complete_genome',\n",
       " 'MT706139.1_|Severe_acute_respiratory_syndrome_coronavirus_2_isolate_SARS-CoV-2/human/USA/WI-UW-17/2020_ORF1ab_polyprotein_(ORF1ab),_ORF1a_polyprotein_(ORF1ab),_surface_glycoprotein_(S),_ORF3a_protein_(ORF3a),_envelope_protein_(E),_membrane_glycoprotein_(M),_ORF6_protein_(ORF6),_ORF7a_protein_(ORF7a),_ORF7b_(ORF7b),_ORF8_protein_(ORF8),_and_nucleocapsid_phosphoprotein_(N)_genes,_complete_cds;_and_ORF10_protein_(ORF10)_gene,_partial_cds',\n",
       " 'MT706140.1_|Severe_acute_respiratory_syndrome_coronavirus_2_isolate_SARS-CoV-2/human/USA/WI-UW-18/2020,_complete_genome',\n",
       " 'MT706141.1_|Severe_acute_respiratory_syndrome_coronavirus_2_isolate_SARS-CoV-2/human/USA/WI-UW-19/2020,_complete_genome',\n",
       " 'MT706142.1_|Severe_acute_respiratory_syndrome_coronavirus_2_isolate_SARS-CoV-2/human/USA/WI-UW-21/2020,_complete_genome',\n",
       " 'MT706143.1_|Severe_acute_respiratory_syndrome_coronavirus_2_isolate_SARS-CoV-2/human/USA/WI-UW-22/2020,_complete_genome',\n",
       " 'MT706144.1_|Severe_acute_respiratory_syndrome_coronavirus_2_isolate_SARS-CoV-2/human/USA/WI-UW-23/2020,_complete_genome',\n",
       " 'MT706145.1_|Severe_acute_respiratory_syndrome_coronavirus_2_isolate_SARS-CoV-2/human/USA/WI-UW-24/2020,_complete_genome',\n",
       " 'MT706146.1_|Severe_acute_respiratory_syndrome_coronavirus_2_isolate_SARS-CoV-2/human/USA/WI-UW-25/2020,_complete_genome',\n",
       " 'MT706147.1_|Severe_acute_respiratory_syndrome_coronavirus_2_isolate_SARS-CoV-2/human/USA/WI-UW-26/2020_ORF1ab_polyprotein_(ORF1ab),_ORF1a_polyprotein_(ORF1ab),_surface_glycoprotein_(S),_ORF3a_protein_(ORF3a),_envelope_protein_(E),_membrane_glycoprotein_(M),_ORF6_protein_(ORF6),_ORF7a_protein_(ORF7a),_ORF7b_(ORF7b),_ORF8_protein_(ORF8),_and_nucleocapsid_phosphoprotein_(N)_genes,_complete_cds;_and_ORF10_protein_(ORF10)_gene,_partial_cds',\n",
       " 'MT706148.1_|Severe_acute_respiratory_syndrome_coronavirus_2_isolate_SARS-CoV-2/human/USA/WI-UW-27/2020,_complete_genome',\n",
       " 'MT706149.1_|Severe_acute_respiratory_syndrome_coronavirus_2_isolate_SARS-CoV-2/human/USA/WI-UW-28/2020,_complete_genome',\n",
       " 'MT706150.1_|Severe_acute_respiratory_syndrome_coronavirus_2_isolate_SARS-CoV-2/human/USA/WI-UW-29/2020,_complete_genome',\n",
       " 'MT706151.1_|Severe_acute_respiratory_syndrome_coronavirus_2_isolate_SARS-CoV-2/human/USA/WI-UW-30/2020,_complete_genome',\n",
       " 'MT706152.1_|Severe_acute_respiratory_syndrome_coronavirus_2_isolate_SARS-CoV-2/human/USA/WI-UW-31/2020,_complete_genome',\n",
       " 'MT706153.1_|Severe_acute_respiratory_syndrome_coronavirus_2_isolate_SARS-CoV-2/human/USA/WI-UW-32/2020,_complete_genome',\n",
       " 'MT706154.1_|Severe_acute_respiratory_syndrome_coronavirus_2_isolate_SARS-CoV-2/human/USA/WI-UW-33/2020,_complete_genome',\n",
       " 'MT706155.1_|Severe_acute_respiratory_syndrome_coronavirus_2_isolate_SARS-CoV-2/human/USA/WI-UW-34/2020,_complete_genome',\n",
       " 'MT706156.1_|Severe_acute_respiratory_syndrome_coronavirus_2_isolate_SARS-CoV-2/human/USA/WI-UW-35/2020,_complete_genome',\n",
       " 'MT706157.1_|Severe_acute_respiratory_syndrome_coronavirus_2_isolate_SARS-CoV-2/human/USA/WI-UW-36/2020,_complete_genome',\n",
       " 'MT706158.1_|Severe_acute_respiratory_syndrome_coronavirus_2_isolate_SARS-CoV-2/human/USA/WI-UW-37/2020,_complete_genome',\n",
       " 'MT706159.1_|Severe_acute_respiratory_syndrome_coronavirus_2_isolate_SARS-CoV-2/human/USA/WI-UW-38/2020,_complete_genome',\n",
       " 'MT706160.1_|Severe_acute_respiratory_syndrome_coronavirus_2_isolate_SARS-CoV-2/human/USA/WI-UW-39/2020,_complete_genome',\n",
       " 'MT706161.1_|Severe_acute_respiratory_syndrome_coronavirus_2_isolate_SARS-CoV-2/human/USA/WI-UW-40/2020,_complete_genome',\n",
       " 'MT706162.1_|Severe_acute_respiratory_syndrome_coronavirus_2_isolate_SARS-CoV-2/human/USA/WI-UW-41/2020,_complete_genome',\n",
       " 'MT706163.1_|Severe_acute_respiratory_syndrome_coronavirus_2_isolate_SARS-CoV-2/human/USA/WI-UW-42/2020,_complete_genome',\n",
       " 'MT706164.1_|Severe_acute_respiratory_syndrome_coronavirus_2_isolate_SARS-CoV-2/human/USA/WI-UW-43/2020,_complete_genome',\n",
       " 'MT706165.1_|Severe_acute_respiratory_syndrome_coronavirus_2_isolate_SARS-CoV-2/human/USA/WI-UW-44/2020,_complete_genome',\n",
       " 'MT706166.1_|Severe_acute_respiratory_syndrome_coronavirus_2_isolate_SARS-CoV-2/human/USA/WI-UW-45/2020,_complete_genome',\n",
       " 'MT706167.1_|Severe_acute_respiratory_syndrome_coronavirus_2_isolate_SARS-CoV-2/human/USA/WI-UW-46/2020,_complete_genome',\n",
       " 'MT706168.1_|Severe_acute_respiratory_syndrome_coronavirus_2_isolate_SARS-CoV-2/human/USA/WI-UW-47/2020,_complete_genome',\n",
       " 'MT706169.1_|Severe_acute_respiratory_syndrome_coronavirus_2_isolate_SARS-CoV-2/human/USA/WI-UW-48/2020,_complete_genome',\n",
       " 'MT706170.1_|Severe_acute_respiratory_syndrome_coronavirus_2_isolate_SARS-CoV-2/human/USA/WI-UW-49/2020,_complete_genome',\n",
       " 'MT706171.1_|Severe_acute_respiratory_syndrome_coronavirus_2_isolate_SARS-CoV-2/human/USA/WI-UW-50/2020,_complete_genome',\n",
       " 'MT706172.1_|Severe_acute_respiratory_syndrome_coronavirus_2_isolate_SARS-CoV-2/human/USA/WI-UW-51/2020,_complete_genome',\n",
       " 'MT706173.1_|Severe_acute_respiratory_syndrome_coronavirus_2_isolate_SARS-CoV-2/human/USA/WI-UW-52/2020,_complete_genome',\n",
       " 'MT706174.1_|Severe_acute_respiratory_syndrome_coronavirus_2_isolate_SARS-CoV-2/human/USA/WI-UW-53/2020,_complete_genome',\n",
       " 'MT706175.1_|Severe_acute_respiratory_syndrome_coronavirus_2_isolate_SARS-CoV-2/human/USA/WI-UW-54/2020,_complete_genome',\n",
       " 'MT706176.1_|Severe_acute_respiratory_syndrome_coronavirus_2_isolate_SARS-CoV-2/human/USA/WI-UW-55/2020,_complete_genome',\n",
       " 'MT706177.1_|Severe_acute_respiratory_syndrome_coronavirus_2_isolate_SARS-CoV-2/human/USA/WI-UW-56/2020,_complete_genome',\n",
       " 'MT706178.1_|Severe_acute_respiratory_syndrome_coronavirus_2_isolate_SARS-CoV-2/human/USA/WI-UW-57/2020,_complete_genome',\n",
       " 'MT706179.1_|Severe_acute_respiratory_syndrome_coronavirus_2_isolate_SARS-CoV-2/human/USA/WI-UW-58/2020,_complete_genome',\n",
       " 'MT706180.1_|Severe_acute_respiratory_syndrome_coronavirus_2_isolate_SARS-CoV-2/human/USA/WI-UW-59/2020,_complete_genome',\n",
       " 'MT706181.1_|Severe_acute_respiratory_syndrome_coronavirus_2_isolate_SARS-CoV-2/human/USA/WI-UW-60/2020,_complete_genome',\n",
       " 'MT706182.1_|Severe_acute_respiratory_syndrome_coronavirus_2_isolate_SARS-CoV-2/human/USA/WI-UW-61/2020,_complete_genome',\n",
       " 'MT706183.1_|Severe_acute_respiratory_syndrome_coronavirus_2_isolate_SARS-CoV-2/human/USA/WI-UW-62/2020,_complete_genome',\n",
       " 'MT706184.1_|Severe_acute_respiratory_syndrome_coronavirus_2_isolate_SARS-CoV-2/human/USA/WI-UW-63/2020,_complete_genome',\n",
       " 'MT706185.1_|Severe_acute_respiratory_syndrome_coronavirus_2_isolate_SARS-CoV-2/human/USA/WI-UW-64/2020,_complete_genome',\n",
       " 'MT706186.1_|Severe_acute_respiratory_syndrome_coronavirus_2_isolate_SARS-CoV-2/human/USA/WI-UW-65/2020,_complete_genome',\n",
       " 'MT706187.1_|Severe_acute_respiratory_syndrome_coronavirus_2_isolate_SARS-CoV-2/human/USA/WI-UW-66/2020,_complete_genome',\n",
       " 'MT706188.1_|Severe_acute_respiratory_syndrome_coronavirus_2_isolate_SARS-CoV-2/human/USA/WI-UW-67/2020,_complete_genome',\n",
       " 'MT706189.1_|Severe_acute_respiratory_syndrome_coronavirus_2_isolate_SARS-CoV-2/human/USA/WI-UW-68/2020,_complete_genome',\n",
       " 'MT706190.1_|Severe_acute_respiratory_syndrome_coronavirus_2_isolate_SARS-CoV-2/human/USA/WI-UW-69/2020,_complete_genome',\n",
       " 'MT706191.1_|Severe_acute_respiratory_syndrome_coronavirus_2_isolate_SARS-CoV-2/human/USA/WI-UW-70/2020,_complete_genome',\n",
       " 'MT706192.1_|Severe_acute_respiratory_syndrome_coronavirus_2_isolate_SARS-CoV-2/human/USA/WI-UW-71/2020,_complete_genome',\n",
       " 'MT706193.1_|Severe_acute_respiratory_syndrome_coronavirus_2_isolate_SARS-CoV-2/human/USA/WI-UW-72/2020,_complete_genome',\n",
       " 'MT706194.1_|Severe_acute_respiratory_syndrome_coronavirus_2_isolate_SARS-CoV-2/human/USA/WI-UW-73/2020,_complete_genome',\n",
       " 'MT706195.1_|Severe_acute_respiratory_syndrome_coronavirus_2_isolate_SARS-CoV-2/human/USA/WI-UW-74/2020,_complete_genome',\n",
       " 'MT706196.1_|Severe_acute_respiratory_syndrome_coronavirus_2_isolate_SARS-CoV-2/human/USA/WI-UW-75/2020,_complete_genome',\n",
       " 'MT706197.1_|Severe_acute_respiratory_syndrome_coronavirus_2_isolate_SARS-CoV-2/human/USA/WI-UW-76/2020,_complete_genome',\n",
       " 'MT706198.1_|Severe_acute_respiratory_syndrome_coronavirus_2_isolate_SARS-CoV-2/human/USA/WI-UW-77/2020,_complete_genome',\n",
       " 'MT706199.1_|Severe_acute_respiratory_syndrome_coronavirus_2_isolate_SARS-CoV-2/human/USA/WI-UW-78/2020,_complete_genome',\n",
       " 'MT706200.1_|Severe_acute_respiratory_syndrome_coronavirus_2_isolate_SARS-CoV-2/human/USA/WI-UW-79/2020,_complete_genome',\n",
       " 'MT706201.1_|Severe_acute_respiratory_syndrome_coronavirus_2_isolate_SARS-CoV-2/human/USA/WI-UW-80/2020,_complete_genome',\n",
       " 'MT706202.1_|Severe_acute_respiratory_syndrome_coronavirus_2_isolate_SARS-CoV-2/human/USA/WI-UW-81/2020,_complete_genome',\n",
       " 'MT706203.1_|Severe_acute_respiratory_syndrome_coronavirus_2_isolate_SARS-CoV-2/human/USA/WI-UW-82/2020,_complete_genome',\n",
       " 'MT706204.1_|Severe_acute_respiratory_syndrome_coronavirus_2_isolate_SARS-CoV-2/human/USA/WI-UW-83/2020,_complete_genome',\n",
       " 'MT706205.1_|Severe_acute_respiratory_syndrome_coronavirus_2_isolate_SARS-CoV-2/human/USA/WI-UW-84/2020,_complete_genome',\n",
       " 'MT706206.1_|Severe_acute_respiratory_syndrome_coronavirus_2_isolate_SARS-CoV-2/human/USA/WI-UW-85/2020,_complete_genome',\n",
       " 'MT706207.1_|Severe_acute_respiratory_syndrome_coronavirus_2_isolate_SARS-CoV-2/human/USA/WI-UW-86/2020,_complete_genome',\n",
       " 'MT706208.1_|Severe_acute_respiratory_syndrome_coronavirus_2_isolate_SARS-CoV-2/human/USA/WI-UW-87/2020,_complete_genome',\n",
       " 'MT706209.1_|Severe_acute_respiratory_syndrome_coronavirus_2_isolate_SARS-CoV-2/human/USA/WI-UW-88/2020_ORF1ab_polyprotein_(ORF1ab),_ORF1a_polyprotein_(ORF1ab),_surface_glycoprotein_(S),_ORF3a_protein_(ORF3a),_envelope_protein_(E),_membrane_glycoprotein_(M),_ORF6_protein_(ORF6),_ORF7a_protein_(ORF7a),_ORF7b_(ORF7b),_ORF8_protein_(ORF8),_nucleocapsid_phosphoprotein_(N),_and_ORF10_protein_(ORF10)_genes,_complete_cds',\n",
       " 'MT706210.1_|Severe_acute_respiratory_syndrome_coronavirus_2_isolate_SARS-CoV-2/human/USA/WI-UW-89/2020,_complete_genome',\n",
       " 'MT706211.1_|Severe_acute_respiratory_syndrome_coronavirus_2_isolate_SARS-CoV-2/human/USA/WI-UW-91/2020_ORF1ab_polyprotein_(ORF1ab),_ORF1a_polyprotein_(ORF1ab),_surface_glycoprotein_(S),_ORF3a_protein_(ORF3a),_envelope_protein_(E),_membrane_glycoprotein_(M),_ORF6_protein_(ORF6),_ORF7a_protein_(ORF7a),_ORF7b_(ORF7b),_ORF8_protein_(ORF8),_and_nucleocapsid_phosphoprotein_(N)_genes,_complete_cds;_and_ORF10_protein_(ORF10)_gene,_partial_cds',\n",
       " 'MT706212.1_|Severe_acute_respiratory_syndrome_coronavirus_2_isolate_SARS-CoV-2/human/USA/WI-UW-92/2020,_complete_genome',\n",
       " 'MT706213.1_|Severe_acute_respiratory_syndrome_coronavirus_2_isolate_SARS-CoV-2/human/USA/WI-UW-93/2020,_complete_genome',\n",
       " 'MT706214.1_|Severe_acute_respiratory_syndrome_coronavirus_2_isolate_SARS-CoV-2/human/USA/WI-UW-94/2020,_complete_genome',\n",
       " 'MT706215.1_|Severe_acute_respiratory_syndrome_coronavirus_2_isolate_SARS-CoV-2/human/USA/WI-UW-95/2020,_complete_genome',\n",
       " 'MT706216.1_|Severe_acute_respiratory_syndrome_coronavirus_2_isolate_SARS-CoV-2/human/USA/WI-UW-96/2020,_complete_genome',\n",
       " 'MT706217.1_|Severe_acute_respiratory_syndrome_coronavirus_2_isolate_SARS-CoV-2/human/USA/WI-UW-97/2020_ORF1ab_polyprotein_(ORF1ab),_ORF1a_polyprotein_(ORF1ab),_surface_glycoprotein_(S),_ORF3a_protein_(ORF3a),_envelope_protein_(E),_membrane_glycoprotein_(M),_ORF6_protein_(ORF6),_ORF7a_protein_(ORF7a),_ORF7b_(ORF7b),_ORF8_protein_(ORF8),_and_nucleocapsid_phosphoprotein_(N)_genes,_complete_cds;_and_ORF10_protein_(ORF10)_gene,_partial_cds',\n",
       " 'MT706218.1_|Severe_acute_respiratory_syndrome_coronavirus_2_isolate_SARS-CoV-2/human/USA/WI-UW-98/2020,_complete_genome',\n",
       " 'MT706219.1_|Severe_acute_respiratory_syndrome_coronavirus_2_isolate_SARS-CoV-2/human/USA/WI-UW-99/2020,_complete_genome',\n",
       " 'MT706220.1_|Severe_acute_respiratory_syndrome_coronavirus_2_isolate_SARS-CoV-2/human/USA/WI-UW-100/2020,_complete_genome',\n",
       " 'MT706221.1_|Severe_acute_respiratory_syndrome_coronavirus_2_isolate_SARS-CoV-2/human/USA/WI-UW-101/2020,_complete_genome',\n",
       " 'MT706222.1_|Severe_acute_respiratory_syndrome_coronavirus_2_isolate_SARS-CoV-2/human/USA/WI-UW-102/2020,_complete_genome',\n",
       " 'MT706223.1_|Severe_acute_respiratory_syndrome_coronavirus_2_isolate_SARS-CoV-2/human/USA/WI-UW-103/2020,_complete_genome',\n",
       " 'MT706224.1_|Severe_acute_respiratory_syndrome_coronavirus_2_isolate_SARS-CoV-2/human/USA/WI-UW-104/2020,_complete_genome',\n",
       " 'MT706225.1_|Severe_acute_respiratory_syndrome_coronavirus_2_isolate_SARS-CoV-2/human/USA/WI-UW-105/2020,_complete_genome',\n",
       " 'MT706226.1_|Severe_acute_respiratory_syndrome_coronavirus_2_isolate_SARS-CoV-2/human/USA/WI-UW-106/2020,_complete_genome',\n",
       " 'MT706227.1_|Severe_acute_respiratory_syndrome_coronavirus_2_isolate_SARS-CoV-2/human/USA/WI-UW-107/2020,_complete_genome',\n",
       " 'MT706228.1_|Severe_acute_respiratory_syndrome_coronavirus_2_isolate_SARS-CoV-2/human/USA/WI-UW-108/2020,_complete_genome',\n",
       " 'MT706229.1_|Severe_acute_respiratory_syndrome_coronavirus_2_isolate_SARS-CoV-2/human/USA/WI-UW-109/2020,_complete_genome',\n",
       " 'MT706230.1_|Severe_acute_respiratory_syndrome_coronavirus_2_isolate_SARS-CoV-2/human/USA/WI-UW-110/2020,_complete_genome',\n",
       " 'MT706231.1_|Severe_acute_respiratory_syndrome_coronavirus_2_isolate_SARS-CoV-2/human/USA/WI-UW-111/2020,_complete_genome',\n",
       " 'MT706232.1_|Severe_acute_respiratory_syndrome_coronavirus_2_isolate_SARS-CoV-2/human/USA/WI-UW-112/2020,_complete_genome',\n",
       " 'MT706233.1_|Severe_acute_respiratory_syndrome_coronavirus_2_isolate_SARS-CoV-2/human/USA/CO-UW-113/2020,_complete_genome',\n",
       " 'MT706234.1_|Severe_acute_respiratory_syndrome_coronavirus_2_isolate_SARS-CoV-2/human/USA/WI-UW-114/2020,_complete_genome',\n",
       " 'MT706235.1_|Severe_acute_respiratory_syndrome_coronavirus_2_isolate_SARS-CoV-2/human/USA/WI-UW-115/2020,_complete_genome',\n",
       " 'MT706236.1_|Severe_acute_respiratory_syndrome_coronavirus_2_isolate_SARS-CoV-2/human/USA/WI-UW-116/2020,_complete_genome',\n",
       " 'MT706237.1_|Severe_acute_respiratory_syndrome_coronavirus_2_isolate_SARS-CoV-2/human/USA/WI-UW-117/2020,_complete_genome',\n",
       " 'MT706238.1_|Severe_acute_respiratory_syndrome_coronavirus_2_isolate_SARS-CoV-2/human/USA/WI-UW-118/2020,_complete_genome',\n",
       " 'MT706239.1_|Severe_acute_respiratory_syndrome_coronavirus_2_isolate_SARS-CoV-2/human/USA/WI-UW-119/2020,_complete_genome',\n",
       " 'MT706240.1_|Severe_acute_respiratory_syndrome_coronavirus_2_isolate_SARS-CoV-2/human/USA/WI-UW-120/2020,_complete_genome',\n",
       " 'MT706241.1_|Severe_acute_respiratory_syndrome_coronavirus_2_isolate_SARS-CoV-2/human/USA/IA-UW-121/2020,_complete_genome',\n",
       " 'MT706242.1_|Severe_acute_respiratory_syndrome_coronavirus_2_isolate_SARS-CoV-2/human/USA/WI-UW-122/2020_ORF1ab_polyprotein_(ORF1ab),_ORF1a_polyprotein_(ORF1ab),_surface_glycoprotein_(S),_ORF3a_protein_(ORF3a),_envelope_protein_(E),_membrane_glycoprotein_(M),_ORF6_protein_(ORF6),_ORF7a_protein_(ORF7a),_ORF7b_(ORF7b),_ORF8_protein_(ORF8),_and_nucleocapsid_phosphoprotein_(N)_genes,_complete_cds;_and_ORF10_protein_(ORF10)_gene,_partial_cds',\n",
       " 'MT706243.1_|Severe_acute_respiratory_syndrome_coronavirus_2_isolate_SARS-CoV-2/human/USA/WI-UW-250/2020,_complete_genome',\n",
       " 'MT706244.1_|Severe_acute_respiratory_syndrome_coronavirus_2_isolate_SARS-CoV-2/human/USA/WI-UW-251/2020,_complete_genome',\n",
       " 'MT706245.1_|Severe_acute_respiratory_syndrome_coronavirus_2_isolate_SARS-CoV-2/human/USA/WI-UW-252/2020,_complete_genome',\n",
       " 'MT706246.1_|Severe_acute_respiratory_syndrome_coronavirus_2_isolate_SARS-CoV-2/human/USA/WI-UW-253/2020,_complete_genome',\n",
       " 'MT706247.1_|Severe_acute_respiratory_syndrome_coronavirus_2_isolate_SARS-CoV-2/human/USA/WI-UW-254/2020,_complete_genome',\n",
       " 'MT706248.1_|Severe_acute_respiratory_syndrome_coronavirus_2_isolate_SARS-CoV-2/human/USA/WI-UW-255/2020,_complete_genome',\n",
       " 'MT706249.1_|Severe_acute_respiratory_syndrome_coronavirus_2_isolate_SARS-CoV-2/human/USA/WI-UW-257/2020,_complete_genome',\n",
       " 'MT706250.1_|Severe_acute_respiratory_syndrome_coronavirus_2_isolate_SARS-CoV-2/human/USA/WI-UW-258/2020,_complete_genome',\n",
       " 'MT706251.1_|Severe_acute_respiratory_syndrome_coronavirus_2_isolate_SARS-CoV-2/human/USA/IL-UW-123/2020,_complete_genome',\n",
       " 'MT706252.1_|Severe_acute_respiratory_syndrome_coronavirus_2_isolate_SARS-CoV-2/human/USA/WI-UW-124/2020,_complete_genome',\n",
       " 'MT706253.1_|Severe_acute_respiratory_syndrome_coronavirus_2_isolate_SARS-CoV-2/human/USA/IL-UW-125/2020,_complete_genome',\n",
       " 'MT706254.1_|Severe_acute_respiratory_syndrome_coronavirus_2_isolate_SARS-CoV-2/human/USA/IL-UW-126/2020,_complete_genome',\n",
       " 'MT706255.1_|Severe_acute_respiratory_syndrome_coronavirus_2_isolate_SARS-CoV-2/human/USA/WI-UW-127/2020,_complete_genome',\n",
       " 'MT706256.1_|Severe_acute_respiratory_syndrome_coronavirus_2_isolate_SARS-CoV-2/human/USA/WI-UW-128/2020,_complete_genome',\n",
       " 'MT706257.1_|Severe_acute_respiratory_syndrome_coronavirus_2_isolate_SARS-CoV-2/human/USA/WI-UW-129/2020_ORF1ab_polyprotein_(ORF1ab),_ORF1a_polyprotein_(ORF1ab),_surface_glycoprotein_(S),_ORF3a_protein_(ORF3a),_envelope_protein_(E),_membrane_glycoprotein_(M),_ORF6_protein_(ORF6),_ORF7a_protein_(ORF7a),_ORF7b_(ORF7b),_ORF8_protein_(ORF8),_nucleocapsid_phosphoprotein_(N),_and_ORF10_protein_(ORF10)_genes,_complete_cds',\n",
       " 'MT706258.1_|Severe_acute_respiratory_syndrome_coronavirus_2_isolate_SARS-CoV-2/human/USA/IL-UW-130/2020,_complete_genome',\n",
       " 'MT706259.1_|Severe_acute_respiratory_syndrome_coronavirus_2_isolate_SARS-CoV-2/human/USA/WI-UW-131/2020,_complete_genome',\n",
       " 'MT706260.1_|Severe_acute_respiratory_syndrome_coronavirus_2_isolate_SARS-CoV-2/human/USA/WI-UW-132/2020,_complete_genome',\n",
       " 'MT706261.1_|Severe_acute_respiratory_syndrome_coronavirus_2_isolate_SARS-CoV-2/human/USA/IL-UW-133/2020_ORF1ab_polyprotein_(ORF1ab),_ORF1a_polyprotein_(ORF1ab),_surface_glycoprotein_(S),_ORF3a_protein_(ORF3a),_envelope_protein_(E),_membrane_glycoprotein_(M),_ORF6_protein_(ORF6),_ORF7a_protein_(ORF7a),_ORF7b_(ORF7b),_ORF8_protein_(ORF8),_nucleocapsid_phosphoprotein_(N),_and_ORF10_protein_(ORF10)_genes,_complete_cds',\n",
       " 'MT706262.1_|Severe_acute_respiratory_syndrome_coronavirus_2_isolate_SARS-CoV-2/human/USA/WI-UW-134/2020,_complete_genome',\n",
       " 'MT706263.1_|Severe_acute_respiratory_syndrome_coronavirus_2_isolate_SARS-CoV-2/human/USA/WI-UW-135/2020,_complete_genome',\n",
       " 'MT706264.1_|Severe_acute_respiratory_syndrome_coronavirus_2_isolate_SARS-CoV-2/human/USA/WI-UW-136/2020,_complete_genome',\n",
       " 'MT706265.1_|Severe_acute_respiratory_syndrome_coronavirus_2_isolate_SARS-CoV-2/human/USA/IL-UW-137/2020,_complete_genome',\n",
       " 'MT706266.1_|Severe_acute_respiratory_syndrome_coronavirus_2_isolate_SARS-CoV-2/human/USA/IL-UW-138/2020,_complete_genome',\n",
       " 'MT706267.1_|Severe_acute_respiratory_syndrome_coronavirus_2_isolate_SARS-CoV-2/human/USA/IL-UW-139/2020_ORF1ab_polyprotein_(ORF1ab),_ORF1a_polyprotein_(ORF1ab),_surface_glycoprotein_(S),_ORF3a_protein_(ORF3a),_envelope_protein_(E),_membrane_glycoprotein_(M),_ORF6_protein_(ORF6),_ORF7a_protein_(ORF7a),_ORF7b_(ORF7b),_ORF8_protein_(ORF8),_nucleocapsid_phosphoprotein_(N),_and_ORF10_protein_(ORF10)_genes,_complete_cds',\n",
       " 'MT706268.1_|Severe_acute_respiratory_syndrome_coronavirus_2_isolate_SARS-CoV-2/human/USA/WI-UW-140/2020,_complete_genome',\n",
       " 'MT706269.1_|Severe_acute_respiratory_syndrome_coronavirus_2_isolate_SARS-CoV-2/human/USA/IL-UW-141/2020,_complete_genome',\n",
       " 'MT706270.1_|Severe_acute_respiratory_syndrome_coronavirus_2_isolate_SARS-CoV-2/human/USA/IL-UW-142/2020,_complete_genome',\n",
       " 'MT706271.1_|Severe_acute_respiratory_syndrome_coronavirus_2_isolate_SARS-CoV-2/human/USA/IL-UW-143/2020,_complete_genome',\n",
       " 'MT706272.1_|Severe_acute_respiratory_syndrome_coronavirus_2_isolate_SARS-CoV-2/human/USA/WI-UW-144/2020,_complete_genome',\n",
       " 'MT706273.1_|Severe_acute_respiratory_syndrome_coronavirus_2_isolate_SARS-CoV-2/human/USA/WI-UW-145/2020,_complete_genome',\n",
       " 'MT706274.1_|Severe_acute_respiratory_syndrome_coronavirus_2_isolate_SARS-CoV-2/human/USA/WI-UW-146/2020_ORF1ab_polyprotein_(ORF1ab),_ORF1a_polyprotein_(ORF1ab),_surface_glycoprotein_(S),_ORF3a_protein_(ORF3a),_envelope_protein_(E),_membrane_glycoprotein_(M),_ORF6_protein_(ORF6),_ORF7a_protein_(ORF7a),_ORF7b_(ORF7b),_ORF8_protein_(ORF8),_nucleocapsid_phosphoprotein_(N),_and_ORF10_protein_(ORF10)_genes,_complete_cds',\n",
       " 'MT706275.1_|Severe_acute_respiratory_syndrome_coronavirus_2_isolate_SARS-CoV-2/human/USA/WI-UW-147/2020,_complete_genome',\n",
       " 'MT706276.1_|Severe_acute_respiratory_syndrome_coronavirus_2_isolate_SARS-CoV-2/human/USA/WI-UW-148/2020,_complete_genome',\n",
       " 'MT706277.1_|Severe_acute_respiratory_syndrome_coronavirus_2_isolate_SARS-CoV-2/human/USA/IL-UW-149/2020,_complete_genome',\n",
       " 'MT706278.1_|Severe_acute_respiratory_syndrome_coronavirus_2_isolate_SARS-CoV-2/human/USA/WI-UW-150/2020_ORF1ab_polyprotein_(ORF1ab),_ORF1a_polyprotein_(ORF1ab),_surface_glycoprotein_(S),_ORF3a_protein_(ORF3a),_envelope_protein_(E),_membrane_glycoprotein_(M),_ORF6_protein_(ORF6),_ORF7a_protein_(ORF7a),_ORF7b_(ORF7b),_ORF8_protein_(ORF8),_nucleocapsid_phosphoprotein_(N),_and_ORF10_protein_(ORF10)_genes,_complete_cds',\n",
       " 'MT706279.1_|Severe_acute_respiratory_syndrome_coronavirus_2_isolate_SARS-CoV-2/human/USA/WI-UW-151/2020,_complete_genome',\n",
       " 'MT706280.1_|Severe_acute_respiratory_syndrome_coronavirus_2_isolate_SARS-CoV-2/human/USA/WI-UW-152/2020,_complete_genome',\n",
       " 'MT706281.1_|Severe_acute_respiratory_syndrome_coronavirus_2_isolate_SARS-CoV-2/human/USA/WI-UW-153/2020,_complete_genome',\n",
       " 'MT706282.1_|Severe_acute_respiratory_syndrome_coronavirus_2_isolate_SARS-CoV-2/human/USA/WI-UW-154/2020,_complete_genome',\n",
       " 'MT706283.1_|Severe_acute_respiratory_syndrome_coronavirus_2_isolate_SARS-CoV-2/human/USA/WI-UW-155/2020_ORF1ab_polyprotein_(ORF1ab),_ORF1a_polyprotein_(ORF1ab),_surface_glycoprotein_(S),_ORF3a_protein_(ORF3a),_envelope_protein_(E),_membrane_glycoprotein_(M),_ORF6_protein_(ORF6),_ORF7a_protein_(ORF7a),_ORF7b_(ORF7b),_ORF8_protein_(ORF8),_nucleocapsid_phosphoprotein_(N),_and_ORF10_protein_(ORF10)_genes,_complete_cds',\n",
       " 'MT706284.1_|Severe_acute_respiratory_syndrome_coronavirus_2_isolate_SARS-CoV-2/human/USA/WI-UW-156/2020,_complete_genome',\n",
       " 'MT706285.1_|Severe_acute_respiratory_syndrome_coronavirus_2_isolate_SARS-CoV-2/human/USA/WI-UW-157/2020,_complete_genome',\n",
       " 'MT706286.1_|Severe_acute_respiratory_syndrome_coronavirus_2_isolate_SARS-CoV-2/human/USA/WI-UW-158/2020,_complete_genome',\n",
       " 'MT706287.1_|Severe_acute_respiratory_syndrome_coronavirus_2_isolate_SARS-CoV-2/human/USA/WI-UW-159/2020,_complete_genome',\n",
       " 'MT706288.1_|Severe_acute_respiratory_syndrome_coronavirus_2_isolate_SARS-CoV-2/human/USA/WI-UW-160/2020,_complete_genome',\n",
       " 'MT706289.1_|Severe_acute_respiratory_syndrome_coronavirus_2_isolate_SARS-CoV-2/human/USA/WI-UW-161/2020,_complete_genome',\n",
       " 'MT706290.1_|Severe_acute_respiratory_syndrome_coronavirus_2_isolate_SARS-CoV-2/human/USA/WI-UW-162/2020,_complete_genome',\n",
       " 'MT706291.1_|Severe_acute_respiratory_syndrome_coronavirus_2_isolate_SARS-CoV-2/human/USA/WI-UW-163/2020,_complete_genome',\n",
       " 'MT706292.1_|Severe_acute_respiratory_syndrome_coronavirus_2_isolate_SARS-CoV-2/human/USA/WI-UW-164/2020,_complete_genome',\n",
       " 'MT706293.1_|Severe_acute_respiratory_syndrome_coronavirus_2_isolate_SARS-CoV-2/human/USA/WI-UW-165/2020,_complete_genome',\n",
       " 'MT706294.1_|Severe_acute_respiratory_syndrome_coronavirus_2_isolate_SARS-CoV-2/human/USA/WI-UW-166/2020,_complete_genome',\n",
       " 'MT706295.1_|Severe_acute_respiratory_syndrome_coronavirus_2_isolate_SARS-CoV-2/human/USA/WI-UW-167/2020,_complete_genome',\n",
       " 'MT706296.1_|Severe_acute_respiratory_syndrome_coronavirus_2_isolate_SARS-CoV-2/human/USA/WI-UW-168/2020,_complete_genome',\n",
       " 'MT706297.1_|Severe_acute_respiratory_syndrome_coronavirus_2_isolate_SARS-CoV-2/human/USA/WI-UW-169/2020,_complete_genome',\n",
       " 'MT706298.1_|Severe_acute_respiratory_syndrome_coronavirus_2_isolate_SARS-CoV-2/human/USA/WI-UW-170/2020,_complete_genome',\n",
       " 'MT706299.1_|Severe_acute_respiratory_syndrome_coronavirus_2_isolate_SARS-CoV-2/human/USA/WI-UW-171/2020,_complete_genome',\n",
       " 'MT706300.1_|Severe_acute_respiratory_syndrome_coronavirus_2_isolate_SARS-CoV-2/human/USA/WI-UW-172/2020,_complete_genome',\n",
       " 'MT706301.1_|Severe_acute_respiratory_syndrome_coronavirus_2_isolate_SARS-CoV-2/human/USA/WI-UW-173/2020,_complete_genome',\n",
       " 'MT706302.1_|Severe_acute_respiratory_syndrome_coronavirus_2_isolate_SARS-CoV-2/human/USA/WI-UW-174/2020,_complete_genome',\n",
       " 'MT706303.1_|Severe_acute_respiratory_syndrome_coronavirus_2_isolate_SARS-CoV-2/human/USA/WI-UW-175/2020,_complete_genome',\n",
       " 'MT706304.1_|Severe_acute_respiratory_syndrome_coronavirus_2_isolate_SARS-CoV-2/human/USA/WI-UW-176/2020,_complete_genome',\n",
       " 'MT706305.1_|Severe_acute_respiratory_syndrome_coronavirus_2_isolate_SARS-CoV-2/human/USA/WI-UW-177/2020,_complete_genome',\n",
       " 'MT706306.1_|Severe_acute_respiratory_syndrome_coronavirus_2_isolate_SARS-CoV-2/human/USA/WI-UW-178/2020,_complete_genome',\n",
       " 'MT706307.1_|Severe_acute_respiratory_syndrome_coronavirus_2_isolate_SARS-CoV-2/human/USA/WI-UW-179/2020,_complete_genome',\n",
       " 'MT706308.1_|Severe_acute_respiratory_syndrome_coronavirus_2_isolate_SARS-CoV-2/human/USA/WI-UW-180/2020,_complete_genome',\n",
       " 'MT706309.1_|Severe_acute_respiratory_syndrome_coronavirus_2_isolate_SARS-CoV-2/human/USA/WI-UW-181/2020,_complete_genome',\n",
       " 'MT706310.1_|Severe_acute_respiratory_syndrome_coronavirus_2_isolate_SARS-CoV-2/human/USA/WI-UW-182/2020,_complete_genome',\n",
       " 'MT706311.1_|Severe_acute_respiratory_syndrome_coronavirus_2_isolate_SARS-CoV-2/human/USA/WI-UW-183/2020,_complete_genome',\n",
       " 'MT706312.1_|Severe_acute_respiratory_syndrome_coronavirus_2_isolate_SARS-CoV-2/human/USA/WI-UW-184/2020,_complete_genome',\n",
       " 'MT706313.1_|Severe_acute_respiratory_syndrome_coronavirus_2_isolate_SARS-CoV-2/human/USA/WI-UW-185/2020,_complete_genome',\n",
       " 'MT706314.1_|Severe_acute_respiratory_syndrome_coronavirus_2_isolate_SARS-CoV-2/human/USA/WI-UW-186/2020,_complete_genome',\n",
       " 'MT706315.1_|Severe_acute_respiratory_syndrome_coronavirus_2_isolate_SARS-CoV-2/human/USA/WI-UW-187/2020,_complete_genome',\n",
       " 'MT706316.1_|Severe_acute_respiratory_syndrome_coronavirus_2_isolate_SARS-CoV-2/human/USA/WI-UW-188/2020_ORF1ab_polyprotein_(ORF1ab),_ORF1a_polyprotein_(ORF1ab),_surface_glycoprotein_(S),_ORF3a_protein_(ORF3a),_envelope_protein_(E),_membrane_glycoprotein_(M),_ORF6_protein_(ORF6),_ORF7a_protein_(ORF7a),_ORF7b_(ORF7b),_ORF8_protein_(ORF8),_nucleocapsid_phosphoprotein_(N),_and_ORF10_protein_(ORF10)_genes,_complete_cds',\n",
       " 'MT706317.1_|Severe_acute_respiratory_syndrome_coronavirus_2_isolate_SARS-CoV-2/human/USA/WI-UW-189/2020,_complete_genome',\n",
       " 'MT706318.1_|Severe_acute_respiratory_syndrome_coronavirus_2_isolate_SARS-CoV-2/human/USA/WI-UW-190/2020,_complete_genome',\n",
       " 'MT706319.1_|Severe_acute_respiratory_syndrome_coronavirus_2_isolate_SARS-CoV-2/human/USA/WI-UW-191/2020,_complete_genome',\n",
       " 'MT706320.1_|Severe_acute_respiratory_syndrome_coronavirus_2_isolate_SARS-CoV-2/human/USA/WI-UW-192/2020,_complete_genome',\n",
       " 'MT706321.1_|Severe_acute_respiratory_syndrome_coronavirus_2_isolate_SARS-CoV-2/human/USA/WI-UW-193/2020,_complete_genome',\n",
       " 'MT706322.1_|Severe_acute_respiratory_syndrome_coronavirus_2_isolate_SARS-CoV-2/human/USA/WI-UW-194/2020,_complete_genome',\n",
       " 'MT706323.1_|Severe_acute_respiratory_syndrome_coronavirus_2_isolate_SARS-CoV-2/human/USA/WI-UW-195/2020,_complete_genome',\n",
       " 'MT706324.1_|Severe_acute_respiratory_syndrome_coronavirus_2_isolate_SARS-CoV-2/human/USA/WI-UW-196/2020,_complete_genome',\n",
       " 'MT706325.1_|Severe_acute_respiratory_syndrome_coronavirus_2_isolate_SARS-CoV-2/human/USA/WI-UW-197/2020,_complete_genome',\n",
       " 'MT706326.1_|Severe_acute_respiratory_syndrome_coronavirus_2_isolate_SARS-CoV-2/human/USA/WI-UW-198/2020,_complete_genome',\n",
       " 'MT706327.1_|Severe_acute_respiratory_syndrome_coronavirus_2_isolate_SARS-CoV-2/human/USA/WI-UW-199/2020,_complete_genome',\n",
       " 'MT706328.1_|Severe_acute_respiratory_syndrome_coronavirus_2_isolate_SARS-CoV-2/human/USA/WI-UW-200/2020,_complete_genome',\n",
       " 'MT706329.1_|Severe_acute_respiratory_syndrome_coronavirus_2_isolate_SARS-CoV-2/human/USA/WI-UW-201/2020,_complete_genome',\n",
       " 'MT706330.1_|Severe_acute_respiratory_syndrome_coronavirus_2_isolate_SARS-CoV-2/human/USA/WI-UW-202/2020,_complete_genome',\n",
       " 'MT706331.1_|Severe_acute_respiratory_syndrome_coronavirus_2_isolate_SARS-CoV-2/human/USA/WI-UW-203/2020,_complete_genome',\n",
       " 'MT706332.1_|Severe_acute_respiratory_syndrome_coronavirus_2_isolate_SARS-CoV-2/human/USA/WI-UW-204/2020,_complete_genome',\n",
       " 'MT706333.1_|Severe_acute_respiratory_syndrome_coronavirus_2_isolate_SARS-CoV-2/human/USA/WI-UW-205/2020,_complete_genome',\n",
       " 'MT706334.1_|Severe_acute_respiratory_syndrome_coronavirus_2_isolate_SARS-CoV-2/human/USA/WI-UW-206/2020,_complete_genome',\n",
       " 'MT706335.1_|Severe_acute_respiratory_syndrome_coronavirus_2_isolate_SARS-CoV-2/human/USA/WI-UW-207/2020,_complete_genome',\n",
       " 'MT706336.1_|Severe_acute_respiratory_syndrome_coronavirus_2_isolate_SARS-CoV-2/human/USA/WI-UW-208/2020,_complete_genome',\n",
       " 'MT706337.1_|Severe_acute_respiratory_syndrome_coronavirus_2_isolate_SARS-CoV-2/human/USA/WI-UW-209/2020,_complete_genome',\n",
       " 'MT706338.1_|Severe_acute_respiratory_syndrome_coronavirus_2_isolate_SARS-CoV-2/human/USA/WI-UW-210/2020,_complete_genome',\n",
       " 'MT706339.1_|Severe_acute_respiratory_syndrome_coronavirus_2_isolate_SARS-CoV-2/human/USA/WI-UW-211/2020,_complete_genome',\n",
       " 'MT706340.1_|Severe_acute_respiratory_syndrome_coronavirus_2_isolate_SARS-CoV-2/human/USA/WI-UW-212/2020,_complete_genome',\n",
       " 'MT706341.1_|Severe_acute_respiratory_syndrome_coronavirus_2_isolate_SARS-CoV-2/human/USA/WI-UW-213/2020,_complete_genome',\n",
       " 'MT706342.1_|Severe_acute_respiratory_syndrome_coronavirus_2_isolate_SARS-CoV-2/human/USA/WI-UW-214/2020,_complete_genome',\n",
       " 'MT706343.1_|Severe_acute_respiratory_syndrome_coronavirus_2_isolate_SARS-CoV-2/human/USA/WI-UW-215/2020,_complete_genome',\n",
       " 'MT706344.1_|Severe_acute_respiratory_syndrome_coronavirus_2_isolate_SARS-CoV-2/human/USA/WI-UW-216/2020,_complete_genome',\n",
       " 'MT706345.1_|Severe_acute_respiratory_syndrome_coronavirus_2_isolate_SARS-CoV-2/human/USA/WI-UW-217/2020,_complete_genome',\n",
       " 'MT706346.1_|Severe_acute_respiratory_syndrome_coronavirus_2_isolate_SARS-CoV-2/human/USA/WI-UW-218/2020,_complete_genome',\n",
       " 'MT706347.1_|Severe_acute_respiratory_syndrome_coronavirus_2_isolate_SARS-CoV-2/human/USA/WI-UW-219/2020,_complete_genome',\n",
       " 'MT706348.1_|Severe_acute_respiratory_syndrome_coronavirus_2_isolate_SARS-CoV-2/human/USA/WI-UW-220/2020,_complete_genome',\n",
       " 'MT706349.1_|Severe_acute_respiratory_syndrome_coronavirus_2_isolate_SARS-CoV-2/human/USA/WI-UW-221/2020,_complete_genome',\n",
       " 'MT706350.1_|Severe_acute_respiratory_syndrome_coronavirus_2_isolate_SARS-CoV-2/human/USA/WI-UW-222/2020,_complete_genome',\n",
       " 'MT706351.1_|Severe_acute_respiratory_syndrome_coronavirus_2_isolate_SARS-CoV-2/human/USA/WI-UW-223/2020,_complete_genome',\n",
       " 'MT706352.1_|Severe_acute_respiratory_syndrome_coronavirus_2_isolate_SARS-CoV-2/human/USA/WI-UW-224/2020,_complete_genome',\n",
       " 'MT706353.1_|Severe_acute_respiratory_syndrome_coronavirus_2_isolate_SARS-CoV-2/human/USA/WI-UW-225/2020,_complete_genome',\n",
       " 'MT706354.1_|Severe_acute_respiratory_syndrome_coronavirus_2_isolate_SARS-CoV-2/human/USA/WI-UW-226/2020,_complete_genome',\n",
       " 'MT706355.1_|Severe_acute_respiratory_syndrome_coronavirus_2_isolate_SARS-CoV-2/human/USA/WI-UW-227/2020,_complete_genome',\n",
       " 'MT706356.1_|Severe_acute_respiratory_syndrome_coronavirus_2_isolate_SARS-CoV-2/human/USA/WI-UW-228/2020,_complete_genome',\n",
       " 'MT706357.1_|Severe_acute_respiratory_syndrome_coronavirus_2_isolate_SARS-CoV-2/human/USA/WI-UW-229/2020,_complete_genome',\n",
       " 'MT706358.1_|Severe_acute_respiratory_syndrome_coronavirus_2_isolate_SARS-CoV-2/human/USA/WI-UW-230/2020,_complete_genome',\n",
       " 'MT706359.1_|Severe_acute_respiratory_syndrome_coronavirus_2_isolate_SARS-CoV-2/human/USA/WI-UW-231/2020,_complete_genome',\n",
       " 'MT706360.1_|Severe_acute_respiratory_syndrome_coronavirus_2_isolate_SARS-CoV-2/human/USA/WI-UW-232/2020,_complete_genome',\n",
       " 'MT706361.1_|Severe_acute_respiratory_syndrome_coronavirus_2_isolate_SARS-CoV-2/human/USA/WI-UW-233/2020,_complete_genome',\n",
       " 'MT706362.1_|Severe_acute_respiratory_syndrome_coronavirus_2_isolate_SARS-CoV-2/human/USA/WI-UW-234/2020,_complete_genome',\n",
       " 'MT706363.1_|Severe_acute_respiratory_syndrome_coronavirus_2_isolate_SARS-CoV-2/human/USA/WI-UW-235/2020,_complete_genome',\n",
       " 'MT706364.1_|Severe_acute_respiratory_syndrome_coronavirus_2_isolate_SARS-CoV-2/human/USA/WI-UW-236/2020,_complete_genome',\n",
       " 'MT706365.1_|Severe_acute_respiratory_syndrome_coronavirus_2_isolate_SARS-CoV-2/human/USA/WI-UW-237/2020,_complete_genome',\n",
       " 'MT706366.1_|Severe_acute_respiratory_syndrome_coronavirus_2_isolate_SARS-CoV-2/human/USA/WI-UW-238/2020,_complete_genome',\n",
       " 'MT706367.1_|Severe_acute_respiratory_syndrome_coronavirus_2_isolate_SARS-CoV-2/human/USA/WI-UW-239/2020,_complete_genome',\n",
       " 'MT706368.1_|Severe_acute_respiratory_syndrome_coronavirus_2_isolate_SARS-CoV-2/human/USA/WI-UW-240/2020,_complete_genome',\n",
       " 'MT706369.1_|Severe_acute_respiratory_syndrome_coronavirus_2_isolate_SARS-CoV-2/human/USA/WI-UW-241/2020,_complete_genome',\n",
       " 'MT706370.1_|Severe_acute_respiratory_syndrome_coronavirus_2_isolate_SARS-CoV-2/human/USA/WI-UW-242/2020,_complete_genome',\n",
       " 'MT706371.1_|Severe_acute_respiratory_syndrome_coronavirus_2_isolate_SARS-CoV-2/human/USA/WI-UW-243/2020,_complete_genome',\n",
       " 'MT706372.1_|Severe_acute_respiratory_syndrome_coronavirus_2_isolate_SARS-CoV-2/human/USA/WI-UW-244/2020,_complete_genome',\n",
       " 'MT706373.1_|Severe_acute_respiratory_syndrome_coronavirus_2_isolate_SARS-CoV-2/human/USA/WI-UW-245/2020,_complete_genome',\n",
       " 'MT706374.1_|Severe_acute_respiratory_syndrome_coronavirus_2_isolate_SARS-CoV-2/human/USA/WI-UW-247/2020,_complete_genome',\n",
       " 'MT706375.1_|Severe_acute_respiratory_syndrome_coronavirus_2_isolate_SARS-CoV-2/human/USA/WI-UW-248/2020,_complete_genome',\n",
       " 'MT706376.1_|Severe_acute_respiratory_syndrome_coronavirus_2_isolate_SARS-CoV-2/human/USA/WI-UW-249/2020,_complete_genome',\n",
       " 'MT706377.1_|Severe_acute_respiratory_syndrome_coronavirus_2_isolate_SARS-CoV-2/human/USA/WI-UW-259/2020_ORF1ab_polyprotein_(ORF1ab),_ORF1a_polyprotein_(ORF1ab),_surface_glycoprotein_(S),_ORF3a_protein_(ORF3a),_envelope_protein_(E),_membrane_glycoprotein_(M),_ORF6_protein_(ORF6),_ORF7a_protein_(ORF7a),_ORF7b_(ORF7b),_ORF8_protein_(ORF8),_and_nucleocapsid_phosphoprotein_(N)_genes,_complete_cds;_and_ORF10_protein_(ORF10)_gene,_partial_cds',\n",
       " 'MT706378.1_|Severe_acute_respiratory_syndrome_coronavirus_2_isolate_SARS-CoV-2/human/USA/WI-UW-270/2020_ORF1ab_polyprotein_(ORF1ab),_ORF1a_polyprotein_(ORF1ab),_surface_glycoprotein_(S),_ORF3a_protein_(ORF3a),_envelope_protein_(E),_membrane_glycoprotein_(M),_ORF6_protein_(ORF6),_ORF7a_protein_(ORF7a),_ORF7b_(ORF7b),_ORF8_protein_(ORF8),_and_nucleocapsid_phosphoprotein_(N)_genes,_complete_cds;_and_ORF10_protein_(ORF10)_gene,_partial_cds',\n",
       " 'MT706379.1_|Severe_acute_respiratory_syndrome_coronavirus_2_isolate_SARS-CoV-2/human/USA/WI-UW-271/2020,_complete_genome',\n",
       " 'MT706380.1_|Severe_acute_respiratory_syndrome_coronavirus_2_isolate_SARS-CoV-2/human/USA/WI-UW-272/2020,_complete_genome',\n",
       " 'MT706381.1_|Severe_acute_respiratory_syndrome_coronavirus_2_isolate_SARS-CoV-2/human/USA/WI-UW-273/2020,_complete_genome',\n",
       " 'MT706382.1_|Severe_acute_respiratory_syndrome_coronavirus_2_isolate_SARS-CoV-2/human/USA/WI-UW-274/2020,_complete_genome',\n",
       " 'MT706383.1_|Severe_acute_respiratory_syndrome_coronavirus_2_isolate_SARS-CoV-2/human/USA/WI-UW-275/2020,_complete_genome',\n",
       " 'MT706384.1_|Severe_acute_respiratory_syndrome_coronavirus_2_isolate_SARS-CoV-2/human/USA/WI-UW-276/2020,_complete_genome',\n",
       " 'MT706385.1_|Severe_acute_respiratory_syndrome_coronavirus_2_isolate_SARS-CoV-2/human/USA/WI-UW-277/2020,_complete_genome',\n",
       " 'MT706386.1_|Severe_acute_respiratory_syndrome_coronavirus_2_isolate_SARS-CoV-2/human/USA/WI-UW-278/2020,_complete_genome',\n",
       " 'MT706387.1_|Severe_acute_respiratory_syndrome_coronavirus_2_isolate_SARS-CoV-2/human/USA/WI-UW-279/2020,_complete_genome',\n",
       " 'MT706388.1_|Severe_acute_respiratory_syndrome_coronavirus_2_isolate_SARS-CoV-2/human/USA/WI-UW-280/2020_ORF1ab_polyprotein_(ORF1ab),_ORF1a_polyprotein_(ORF1ab),_surface_glycoprotein_(S),_ORF3a_protein_(ORF3a),_envelope_protein_(E),_membrane_glycoprotein_(M),_ORF6_protein_(ORF6),_ORF7a_protein_(ORF7a),_ORF7b_(ORF7b),_ORF8_protein_(ORF8),_nucleocapsid_phosphoprotein_(N),_and_ORF10_protein_(ORF10)_genes,_complete_cds',\n",
       " 'MT706389.1_|Severe_acute_respiratory_syndrome_coronavirus_2_isolate_SARS-CoV-2/human/USA/WI-UW-281/2020,_complete_genome',\n",
       " 'MT706390.1_|Severe_acute_respiratory_syndrome_coronavirus_2_isolate_SARS-CoV-2/human/USA/WI-UW-282/2020,_complete_genome',\n",
       " 'MT706391.1_|Severe_acute_respiratory_syndrome_coronavirus_2_isolate_SARS-CoV-2/human/USA/WI-UW-283/2020,_complete_genome',\n",
       " 'MT706392.1_|Severe_acute_respiratory_syndrome_coronavirus_2_isolate_SARS-CoV-2/human/USA/WI-UW-284/2020,_complete_genome',\n",
       " 'MT706393.1_|Severe_acute_respiratory_syndrome_coronavirus_2_isolate_SARS-CoV-2/human/USA/WI-UW-285/2020,_complete_genome',\n",
       " 'MT706394.1_|Severe_acute_respiratory_syndrome_coronavirus_2_isolate_SARS-CoV-2/human/USA/WI-UW-286/2020,_complete_genome',\n",
       " 'MT706395.1_|Severe_acute_respiratory_syndrome_coronavirus_2_isolate_SARS-CoV-2/human/USA/WI-UW-287/2020,_complete_genome',\n",
       " 'MT706396.1_|Severe_acute_respiratory_syndrome_coronavirus_2_isolate_SARS-CoV-2/human/USA/WI-UW-288/2020,_complete_genome',\n",
       " 'MT706397.1_|Severe_acute_respiratory_syndrome_coronavirus_2_isolate_SARS-CoV-2/human/USA/WI-UW-289/2020,_complete_genome',\n",
       " 'MT706398.1_|Severe_acute_respiratory_syndrome_coronavirus_2_isolate_SARS-CoV-2/human/USA/WI-UW-290/2020,_complete_genome',\n",
       " 'MT706399.1_|Severe_acute_respiratory_syndrome_coronavirus_2_isolate_SARS-CoV-2/human/USA/WI-UW-291/2020,_complete_genome',\n",
       " 'MT706400.1_|Severe_acute_respiratory_syndrome_coronavirus_2_isolate_SARS-CoV-2/human/USA/WI-UW-292/2020,_complete_genome',\n",
       " 'MT706401.1_|Severe_acute_respiratory_syndrome_coronavirus_2_isolate_SARS-CoV-2/human/USA/WI-UW-293/2020,_complete_genome',\n",
       " 'MT706402.1_|Severe_acute_respiratory_syndrome_coronavirus_2_isolate_SARS-CoV-2/human/USA/WI-UW-294/2020,_complete_genome',\n",
       " 'MT706403.1_|Severe_acute_respiratory_syndrome_coronavirus_2_isolate_SARS-CoV-2/human/USA/WI-UW-295/2020,_complete_genome',\n",
       " 'MT706404.1_|Severe_acute_respiratory_syndrome_coronavirus_2_isolate_SARS-CoV-2/human/USA/WI-UW-296/2020,_complete_genome',\n",
       " 'MT706405.1_|Severe_acute_respiratory_syndrome_coronavirus_2_isolate_SARS-CoV-2/human/USA/WI-UW-297/2020,_complete_genome',\n",
       " 'MT706406.1_|Severe_acute_respiratory_syndrome_coronavirus_2_isolate_SARS-CoV-2/human/USA/WI-UW-298/2020,_complete_genome',\n",
       " 'MT706407.1_|Severe_acute_respiratory_syndrome_coronavirus_2_isolate_SARS-CoV-2/human/USA/WI-UW-299/2020,_complete_genome',\n",
       " 'MT706408.1_|Severe_acute_respiratory_syndrome_coronavirus_2_isolate_SARS-CoV-2/human/USA/WI-UW-300/2020,_complete_genome',\n",
       " 'MT706409.1_|Severe_acute_respiratory_syndrome_coronavirus_2_isolate_SARS-CoV-2/human/USA/WI-UW-301/2020,_complete_genome',\n",
       " 'MT706410.1_|Severe_acute_respiratory_syndrome_coronavirus_2_isolate_SARS-CoV-2/human/USA/WI-UW-302/2020,_complete_genome',\n",
       " 'MT706411.1_|Severe_acute_respiratory_syndrome_coronavirus_2_isolate_SARS-CoV-2/human/USA/WI-UW-303/2020,_complete_genome',\n",
       " 'MT706412.1_|Severe_acute_respiratory_syndrome_coronavirus_2_isolate_SARS-CoV-2/human/USA/WI-UW-304/2020,_complete_genome',\n",
       " 'MT706413.1_|Severe_acute_respiratory_syndrome_coronavirus_2_isolate_SARS-CoV-2/human/USA/WI-UW-305/2020,_complete_genome',\n",
       " 'MT706414.1_|Severe_acute_respiratory_syndrome_coronavirus_2_isolate_SARS-CoV-2/human/USA/WI-UW-306/2020,_complete_genome',\n",
       " 'MT706415.1_|Severe_acute_respiratory_syndrome_coronavirus_2_isolate_SARS-CoV-2/human/USA/WI-UW-307/2020,_complete_genome',\n",
       " 'MT706416.1_|Severe_acute_respiratory_syndrome_coronavirus_2_isolate_SARS-CoV-2/human/USA/WI-UW-308/2020,_complete_genome',\n",
       " 'MT706417.1_|Severe_acute_respiratory_syndrome_coronavirus_2_isolate_SARS-CoV-2/human/USA/WI-UW-309/2020,_complete_genome',\n",
       " 'MT706418.1_|Severe_acute_respiratory_syndrome_coronavirus_2_isolate_SARS-CoV-2/human/USA/WI-UW-310/2020,_complete_genome',\n",
       " 'MT706419.1_|Severe_acute_respiratory_syndrome_coronavirus_2_isolate_SARS-CoV-2/human/USA/WI-UW-311/2020,_complete_genome',\n",
       " 'MT706420.1_|Severe_acute_respiratory_syndrome_coronavirus_2_isolate_SARS-CoV-2/human/USA/WI-UW-312/2020,_complete_genome',\n",
       " 'MT706421.1_|Severe_acute_respiratory_syndrome_coronavirus_2_isolate_SARS-CoV-2/human/USA/WI-UW-313/2020,_complete_genome',\n",
       " 'MT706422.1_|Severe_acute_respiratory_syndrome_coronavirus_2_isolate_SARS-CoV-2/human/USA/WI-UW-314/2020,_complete_genome',\n",
       " 'MT706423.1_|Severe_acute_respiratory_syndrome_coronavirus_2_isolate_SARS-CoV-2/human/USA/WI-UW-315/2020,_complete_genome',\n",
       " 'MT706424.1_|Severe_acute_respiratory_syndrome_coronavirus_2_isolate_SARS-CoV-2/human/USA/WI-UW-316/2020,_complete_genome',\n",
       " 'MT706425.1_|Severe_acute_respiratory_syndrome_coronavirus_2_isolate_SARS-CoV-2/human/USA/WI-UW-318/2020,_complete_genome',\n",
       " 'MT706426.1_|Severe_acute_respiratory_syndrome_coronavirus_2_isolate_SARS-CoV-2/human/USA/WI-UW-319/2020,_complete_genome',\n",
       " 'MT706427.1_|Severe_acute_respiratory_syndrome_coronavirus_2_isolate_SARS-CoV-2/human/USA/WI-UW-320/2020,_complete_genome',\n",
       " 'MT706428.1_|Severe_acute_respiratory_syndrome_coronavirus_2_isolate_SARS-CoV-2/human/USA/WI-UW-321/2020,_complete_genome',\n",
       " 'MT706429.1_|Severe_acute_respiratory_syndrome_coronavirus_2_isolate_SARS-CoV-2/human/USA/WI-UW-322/2020,_complete_genome',\n",
       " 'MT706430.1_|Severe_acute_respiratory_syndrome_coronavirus_2_isolate_SARS-CoV-2/human/USA/WI-UW-323/2020,_complete_genome',\n",
       " 'MT706431.1_|Severe_acute_respiratory_syndrome_coronavirus_2_isolate_SARS-CoV-2/human/USA/WI-UW-324/2020,_complete_genome',\n",
       " 'MT706432.1_|Severe_acute_respiratory_syndrome_coronavirus_2_isolate_SARS-CoV-2/human/USA/WI-UW-325/2020,_complete_genome',\n",
       " 'MT706433.1_|Severe_acute_respiratory_syndrome_coronavirus_2_isolate_SARS-CoV-2/human/USA/WI-UW-326/2020,_complete_genome',\n",
       " 'MT706434.1_|Severe_acute_respiratory_syndrome_coronavirus_2_isolate_SARS-CoV-2/human/USA/WI-UW-327/2020,_complete_genome',\n",
       " 'MT706435.1_|Severe_acute_respiratory_syndrome_coronavirus_2_isolate_SARS-CoV-2/human/USA/WI-UW-328/2020,_complete_genome',\n",
       " 'MT706436.1_|Severe_acute_respiratory_syndrome_coronavirus_2_isolate_SARS-CoV-2/human/USA/WI-UW-329/2020,_complete_genome',\n",
       " 'MT706437.1_|Severe_acute_respiratory_syndrome_coronavirus_2_isolate_SARS-CoV-2/human/USA/WI-UW-331/2020,_complete_genome',\n",
       " 'MT706438.1_|Severe_acute_respiratory_syndrome_coronavirus_2_isolate_SARS-CoV-2/human/USA/WI-UW-332/2020,_complete_genome',\n",
       " 'MT706439.1_|Severe_acute_respiratory_syndrome_coronavirus_2_isolate_SARS-CoV-2/human/USA/WI-UW-333/2020,_complete_genome',\n",
       " 'MT706440.1_|Severe_acute_respiratory_syndrome_coronavirus_2_isolate_SARS-CoV-2/human/USA/WI-UW-334/2020,_complete_genome',\n",
       " 'MT706441.1_|Severe_acute_respiratory_syndrome_coronavirus_2_isolate_SARS-CoV-2/human/USA/WI-UW-335/2020,_complete_genome',\n",
       " 'MT706442.1_|Severe_acute_respiratory_syndrome_coronavirus_2_isolate_SARS-CoV-2/human/USA/WI-UW-336/2020,_complete_genome',\n",
       " 'MT706443.1_|Severe_acute_respiratory_syndrome_coronavirus_2_isolate_SARS-CoV-2/human/USA/WI-UW-337/2020,_complete_genome',\n",
       " 'MT706444.1_|Severe_acute_respiratory_syndrome_coronavirus_2_isolate_SARS-CoV-2/human/USA/WI-UW-338/2020,_complete_genome',\n",
       " 'MT706445.1_|Severe_acute_respiratory_syndrome_coronavirus_2_isolate_SARS-CoV-2/human/USA/WI-UW-339/2020_ORF1ab_polyprotein_(ORF1ab),_ORF1a_polyprotein_(ORF1ab),_surface_glycoprotein_(S),_ORF3a_protein_(ORF3a),_envelope_protein_(E),_membrane_glycoprotein_(M),_ORF6_protein_(ORF6),_ORF7a_protein_(ORF7a),_ORF7b_(ORF7b),_ORF8_protein_(ORF8),_and_nucleocapsid_phosphoprotein_(N)_genes,_complete_cds;_and_ORF10_protein_(ORF10)_gene,_partial_cds',\n",
       " 'MT706446.1_|Severe_acute_respiratory_syndrome_coronavirus_2_isolate_SARS-CoV-2/human/USA/WI-UW-340/2020,_complete_genome',\n",
       " 'MT706447.1_|Severe_acute_respiratory_syndrome_coronavirus_2_isolate_SARS-CoV-2/human/USA/WI-UW-341/2020,_complete_genome',\n",
       " 'MT706448.1_|Severe_acute_respiratory_syndrome_coronavirus_2_isolate_SARS-CoV-2/human/USA/WI-UW-342/2020,_complete_genome',\n",
       " 'MT706449.1_|Severe_acute_respiratory_syndrome_coronavirus_2_isolate_SARS-CoV-2/human/USA/WI-UW-343/2020,_complete_genome',\n",
       " 'MT706450.1_|Severe_acute_respiratory_syndrome_coronavirus_2_isolate_SARS-CoV-2/human/USA/WI-UW-344/2020,_complete_genome',\n",
       " 'MT706451.1_|Severe_acute_respiratory_syndrome_coronavirus_2_isolate_SARS-CoV-2/human/USA/WI-UW-346/2020,_complete_genome',\n",
       " 'MT706453.1_|Severe_acute_respiratory_syndrome_coronavirus_2_isolate_SARS-CoV-2/human/GEO/Tb-6598/2020,_complete_genome',\n",
       " 'MT708232.1_|Severe_acute_respiratory_syndrome_coronavirus_2_isolate_SARS-CoV-2/human/FRA/413618/2020_ORF1ab_polyprotein,_RNA-dependent_RNA_polymerase_region,_(ORF1ab)_gene,_partial_cds',\n",
       " 'MT708233.1_|Severe_acute_respiratory_syndrome_coronavirus_2_isolate_SARS-CoV-2/human/FRA/413675/2020_ORF1ab_polyprotein,_RNA-dependent_RNA_polymerase_region,_(ORF1ab)_gene,_partial_cds',\n",
       " 'MT710714.1_|Severe_acute_respiratory_syndrome_coronavirus_2_isolate_SARS-CoV-2/human/BRA/RJ01/2020,_complete_genome',\n",
       " 'MT711868.1_|Severe_acute_respiratory_syndrome_coronavirus_2_isolate_SARS-CoV-2/human/USA/UT-01923/2020_ORF1ab_polyprotein_(ORF1ab),_ORF1a_polyprotein_(ORF1ab),_surface_glycoprotein_(S),_ORF3a_protein_(ORF3a),_envelope_protein_(E),_membrane_glycoprotein_(M),_ORF6_protein_(ORF6),_ORF7a_protein_(ORF7a),_ORF7b_(ORF7b),_ORF8_protein_(ORF8),_nucleocapsid_phosphoprotein_(N),_and_ORF10_protein_(ORF10)_genes,_complete_cds',\n",
       " 'MT711869.1_|Severe_acute_respiratory_syndrome_coronavirus_2_isolate_SARS-CoV-2/human/USA/UT-02419/2020_ORF1ab_polyprotein_(ORF1ab),_ORF1a_polyprotein_(ORF1ab),_surface_glycoprotein_(S),_ORF3a_protein_(ORF3a),_envelope_protein_(E),_membrane_glycoprotein_(M),_ORF6_protein_(ORF6),_ORF7a_protein_(ORF7a),_ORF7b_(ORF7b),_ORF8_protein_(ORF8),_nucleocapsid_phosphoprotein_(N),_and_ORF10_protein_(ORF10)_genes,_complete_cds',\n",
       " 'MT711870.1_|Severe_acute_respiratory_syndrome_coronavirus_2_isolate_SARS-CoV-2/human/USA/UT-02432/2020_ORF1ab_polyprotein_(ORF1ab),_ORF1a_polyprotein_(ORF1ab),_surface_glycoprotein_(S),_ORF3a_protein_(ORF3a),_envelope_protein_(E),_membrane_glycoprotein_(M),_ORF6_protein_(ORF6),_ORF7a_protein_(ORF7a),_ORF7b_(ORF7b),_ORF8_protein_(ORF8),_nucleocapsid_phosphoprotein_(N),_and_ORF10_protein_(ORF10)_genes,_complete_cds',\n",
       " 'MT711871.1_|Severe_acute_respiratory_syndrome_coronavirus_2_isolate_SARS-CoV-2/human/USA/UT-02434/2020_ORF1ab_polyprotein_(ORF1ab),_ORF1a_polyprotein_(ORF1ab),_surface_glycoprotein_(S),_ORF3a_protein_(ORF3a),_envelope_protein_(E),_membrane_glycoprotein_(M),_ORF6_protein_(ORF6),_ORF7a_protein_(ORF7a),_ORF7b_(ORF7b),_ORF8_protein_(ORF8),_nucleocapsid_phosphoprotein_(N),_and_ORF10_protein_(ORF10)_genes,_complete_cds',\n",
       " 'MT711872.1_|Severe_acute_respiratory_syndrome_coronavirus_2_isolate_SARS-CoV-2/human/USA/UT-02435/2020,_complete_genome',\n",
       " 'MT711873.1_|Severe_acute_respiratory_syndrome_coronavirus_2_isolate_SARS-CoV-2/human/USA/UT-02437/2020,_complete_genome',\n",
       " 'MT711874.1_|Severe_acute_respiratory_syndrome_coronavirus_2_isolate_SARS-CoV-2/human/USA/UT-02438/2020_ORF1ab_polyprotein_(ORF1ab),_ORF1a_polyprotein_(ORF1ab),_surface_glycoprotein_(S),_ORF3a_protein_(ORF3a),_envelope_protein_(E),_membrane_glycoprotein_(M),_ORF6_protein_(ORF6),_ORF7a_protein_(ORF7a),_ORF7b_(ORF7b),_ORF8_protein_(ORF8),_nucleocapsid_phosphoprotein_(N),_and_ORF10_protein_(ORF10)_genes,_complete_cds',\n",
       " 'MT711875.1_|Severe_acute_respiratory_syndrome_coronavirus_2_isolate_SARS-CoV-2/human/USA/UT-03892/2020_ORF1ab_polyprotein_(ORF1ab),_ORF1a_polyprotein_(ORF1ab),_surface_glycoprotein_(S),_ORF3a_protein_(ORF3a),_envelope_protein_(E),_membrane_glycoprotein_(M),_ORF6_protein_(ORF6),_ORF7a_protein_(ORF7a),_ORF7b_(ORF7b),_ORF8_protein_(ORF8),_nucleocapsid_phosphoprotein_(N),_and_ORF10_protein_(ORF10)_genes,_complete_cds',\n",
       " 'MT711876.1_|Severe_acute_respiratory_syndrome_coronavirus_2_isolate_SARS-CoV-2/human/USA/UT-03901/2020_ORF1ab_polyprotein_(ORF1ab),_ORF1a_polyprotein_(ORF1ab),_surface_glycoprotein_(S),_ORF3a_protein_(ORF3a),_envelope_protein_(E),_membrane_glycoprotein_(M),_ORF6_protein_(ORF6),_ORF7a_protein_(ORF7a),_ORF7b_(ORF7b),_ORF8_protein_(ORF8),_nucleocapsid_phosphoprotein_(N),_and_ORF10_protein_(ORF10)_genes,_complete_cds',\n",
       " 'MT711877.1_|Severe_acute_respiratory_syndrome_coronavirus_2_isolate_SARS-CoV-2/human/USA/UT-03906/2020_ORF1ab_polyprotein_(ORF1ab),_ORF1a_polyprotein_(ORF1ab),_surface_glycoprotein_(S),_ORF3a_protein_(ORF3a),_envelope_protein_(E),_membrane_glycoprotein_(M),_ORF6_protein_(ORF6),_ORF7a_protein_(ORF7a),_ORF7b_(ORF7b),_ORF8_protein_(ORF8),_nucleocapsid_phosphoprotein_(N),_and_ORF10_protein_(ORF10)_genes,_complete_cds',\n",
       " 'MT711878.1_|Severe_acute_respiratory_syndrome_coronavirus_2_isolate_SARS-CoV-2/human/USA/UT-03914/2020_ORF1ab_polyprotein_(ORF1ab),_ORF1a_polyprotein_(ORF1ab),_surface_glycoprotein_(S),_ORF3a_protein_(ORF3a),_envelope_protein_(E),_membrane_glycoprotein_(M),_ORF6_protein_(ORF6),_ORF7a_protein_(ORF7a),_ORF7b_(ORF7b),_ORF8_protein_(ORF8),_nucleocapsid_phosphoprotein_(N),_and_ORF10_protein_(ORF10)_genes,_complete_cds',\n",
       " 'MT711879.1_|Severe_acute_respiratory_syndrome_coronavirus_2_isolate_SARS-CoV-2/human/USA/UT-03966/2020_ORF1ab_polyprotein_(ORF1ab),_ORF1a_polyprotein_(ORF1ab),_surface_glycoprotein_(S),_ORF3a_protein_(ORF3a),_envelope_protein_(E),_membrane_glycoprotein_(M),_ORF6_protein_(ORF6),_ORF7a_protein_(ORF7a),_ORF7b_(ORF7b),_ORF8_protein_(ORF8),_nucleocapsid_phosphoprotein_(N),_and_ORF10_protein_(ORF10)_genes,_complete_cds',\n",
       " 'MT711880.1_|Severe_acute_respiratory_syndrome_coronavirus_2_isolate_SARS-CoV-2/human/USA/UT-04836/2020,_complete_genome',\n",
       " 'MT705205.1_|Severe_acute_respiratory_syndrome_coronavirus_2_isolate_SARS-CoV-2/human/NLD/Leiden-0001/2020,_complete_genome',\n",
       " 'MT705206.1_|Severe_acute_respiratory_syndrome_coronavirus_2_isolate_SARS-CoV-2/human/NLD/Leiden-0008/2020,_complete_genome',\n",
       " 'MT704812.1_|Severe_acute_respiratory_syndrome_coronavirus_2_isolate_SARS-CoV-2/human/SRB/UE92/2020,_complete_genome',\n",
       " 'MT704954.1_|Severe_acute_respiratory_syndrome_coronavirus_2_isolate_SARS-CoV-2/human/BGD/GBL-ORF1ab-Midi/2020_ORF1ab_polyprotein,_RNA-dependent_RNA_polymerase_region,_(ORF1ab)_gene,_partial_cds',\n",
       " 'MT703677.1_|Severe_acute_respiratory_syndrome_coronavirus_2_isolate_SARS-CoV-2/human/USA/NYU-VC-003/2020,_complete_genome',\n",
       " 'MT703956.1_|Severe_acute_respiratory_syndrome_coronavirus_2_isolate_SARS-CoV-2/human/RUS/Nsk-FRCFTM-1/2020_ORF1ab_polyprotein,_3C-like_proteinase_region,_(ORF1ab)_and_ORF1a_polyprotein,_3C-like_proteinase_region,_(ORF1ab)_genes,_partial_cds',\n",
       " 'MT703957.1_|Severe_acute_respiratory_syndrome_coronavirus_2_isolate_SARS-CoV-2/human/USA/FL-BPHL-0139/2020_ORF1ab_polyprotein_(ORF1ab)_and_ORF1a_polyprotein_(ORF1ab)_genes,_partial_cds;_and_surface_glycoprotein_(S),_ORF3a_protein_(ORF3a),_envelope_protein_(E),_membrane_glycoprotein_(M),_ORF6_protein_(ORF6),_ORF7a_protein_(ORF7a),_ORF7b_(ORF7b),_ORF8_protein_(ORF8),_nucleocapsid_phosphoprotein_(N),_and_ORF10_protein_(ORF10)_genes,_complete_cds',\n",
       " 'MT703958.1_|Severe_acute_respiratory_syndrome_coronavirus_2_isolate_SARS-CoV-2/human/USA/FL-BPHL-0140/2020,_complete_genome',\n",
       " 'MT703959.1_|Severe_acute_respiratory_syndrome_coronavirus_2_isolate_SARS-CoV-2/human/USA/FL-BPHL-0141/2020_ORF1ab_polyprotein_(ORF1ab)_and_ORF1a_polyprotein_(ORF1ab)_genes,_partial_cds;_and_surface_glycoprotein_(S),_ORF3a_protein_(ORF3a),_envelope_protein_(E),_membrane_glycoprotein_(M),_ORF6_protein_(ORF6),_ORF7a_protein_(ORF7a),_ORF7b_(ORF7b),_ORF8_protein_(ORF8),_nucleocapsid_phosphoprotein_(N),_and_ORF10_protein_(ORF10)_genes,_complete_cds',\n",
       " 'MT703960.1_|Severe_acute_respiratory_syndrome_coronavirus_2_isolate_SARS-CoV-2/human/USA/FL-BPHL-0142/2020_ORF1ab_polyprotein_(ORF1ab)_and_ORF1a_polyprotein_(ORF1ab)_genes,_partial_cds;_and_surface_glycoprotein_(S),_ORF3a_protein_(ORF3a),_envelope_protein_(E),_membrane_glycoprotein_(M),_ORF6_protein_(ORF6),_ORF7a_protein_(ORF7a),_ORF7b_(ORF7b),_ORF8_protein_(ORF8),_nucleocapsid_phosphoprotein_(N),_and_ORF10_protein_(ORF10)_genes,_complete_cds',\n",
       " 'MT703961.1_|Severe_acute_respiratory_syndrome_coronavirus_2_isolate_SARS-CoV-2/human/USA/FL-BPHL-0143/2020_ORF1ab_polyprotein_(ORF1ab)_and_ORF1a_polyprotein_(ORF1ab)_genes,_partial_cds;_and_surface_glycoprotein_(S),_ORF3a_protein_(ORF3a),_envelope_protein_(E),_membrane_glycoprotein_(M),_ORF6_protein_(ORF6),_ORF7a_protein_(ORF7a),_ORF7b_(ORF7b),_ORF8_protein_(ORF8),_nucleocapsid_phosphoprotein_(N),_and_ORF10_protein_(ORF10)_genes,_complete_cds',\n",
       " 'MT703962.1_|Severe_acute_respiratory_syndrome_coronavirus_2_isolate_SARS-CoV-2/human/USA/FL-BPHL-0144/2020_ORF1ab_polyprotein_(ORF1ab)_and_ORF1a_polyprotein_(ORF1ab)_genes,_partial_cds;_and_surface_glycoprotein_(S),_ORF3a_protein_(ORF3a),_envelope_protein_(E),_membrane_glycoprotein_(M),_ORF6_protein_(ORF6),_ORF7a_protein_(ORF7a),_ORF7b_(ORF7b),_ORF8_protein_(ORF8),_nucleocapsid_phosphoprotein_(N),_and_ORF10_protein_(ORF10)_genes,_complete_cds',\n",
       " 'MT703963.1_|Severe_acute_respiratory_syndrome_coronavirus_2_isolate_SARS-CoV-2/human/USA/FL-BPHL-0145/2020,_complete_genome',\n",
       " 'MT703964.1_|Severe_acute_respiratory_syndrome_coronavirus_2_isolate_SARS-CoV-2/human/USA/FL-BPHL-0146/2020_ORF1ab_polyprotein_(ORF1ab),_ORF1a_polyprotein_(ORF1ab),_surface_glycoprotein_(S),_ORF3a_protein_(ORF3a),_envelope_protein_(E),_membrane_glycoprotein_(M),_ORF7a_protein_(ORF7a),_ORF7b_(ORF7b),_ORF8_protein_(ORF8),_and_nucleocapsid_phosphoprotein_(N)_genes,_complete_cds;_and_ORF10_protein_(ORF10)_gene,_partial_cds',\n",
       " 'MT703965.1_|Severe_acute_respiratory_syndrome_coronavirus_2_isolate_SARS-CoV-2/human/USA/FL-BPHL-0147/2020_ORF1ab_polyprotein_(ORF1ab)_and_ORF1a_polyprotein_(ORF1ab)_genes,_partial_cds;_and_surface_glycoprotein_(S),_ORF3a_protein_(ORF3a),_envelope_protein_(E),_membrane_glycoprotein_(M),_ORF6_protein_(ORF6),_ORF7a_protein_(ORF7a),_ORF7b_(ORF7b),_ORF8_protein_(ORF8),_nucleocapsid_phosphoprotein_(N),_and_ORF10_protein_(ORF10)_genes,_complete_cds',\n",
       " 'MT703966.1_|Severe_acute_respiratory_syndrome_coronavirus_2_isolate_SARS-CoV-2/human/USA/FL-BPHL-0148/2020_ORF1ab_polyprotein_(ORF1ab)_and_ORF1a_polyprotein_(ORF1ab)_genes,_partial_cds;_and_surface_glycoprotein_(S),_ORF3a_protein_(ORF3a),_envelope_protein_(E),_membrane_glycoprotein_(M),_ORF6_protein_(ORF6),_ORF7a_protein_(ORF7a),_ORF7b_(ORF7b),_ORF8_protein_(ORF8),_nucleocapsid_phosphoprotein_(N),_and_ORF10_protein_(ORF10)_genes,_complete_cds',\n",
       " 'MT703967.1_|Severe_acute_respiratory_syndrome_coronavirus_2_isolate_SARS-CoV-2/human/USA/FL-BPHL-0149/2020_ORF1ab_polyprotein_(ORF1ab),_ORF1a_polyprotein_(ORF1ab),_surface_glycoprotein_(S),_ORF3a_protein_(ORF3a),_envelope_protein_(E),_membrane_glycoprotein_(M),_and_ORF6_protein_(ORF6)_genes,_complete_cds;_ORF7a_protein_(ORF7a)_and_ORF7b_(ORF7b)_genes,_partial_cds;_and_ORF8_protein_(ORF8),_nucleocapsid_phosphoprotein_(N),_and_ORF10_protein_(ORF10)_genes,_complete_cds',\n",
       " 'MT703968.1_|Severe_acute_respiratory_syndrome_coronavirus_2_isolate_SARS-CoV-2/human/USA/FL-BPHL-0150/2020_ORF1ab_polyprotein_(ORF1ab),_ORF1a_polyprotein_(ORF1ab),_surface_glycoprotein_(S),_ORF3a_protein_(ORF3a),_envelope_protein_(E),_membrane_glycoprotein_(M),_ORF6_protein_(ORF6),_ORF7a_protein_(ORF7a),_ORF7b_(ORF7b),_ORF8_protein_(ORF8),_nucleocapsid_phosphoprotein_(N),_and_ORF10_protein_(ORF10)_genes,_complete_cds',\n",
       " 'MT703969.1_|Severe_acute_respiratory_syndrome_coronavirus_2_isolate_SARS-CoV-2/human/USA/FL-BPHL-0151/2020,_complete_genome',\n",
       " 'MT703970.1_|Severe_acute_respiratory_syndrome_coronavirus_2_isolate_SARS-CoV-2/human/USA/FL-BPHL-0152/2020_ORF1ab_polyprotein_(ORF1ab),_ORF1a_polyprotein_(ORF1ab),_surface_glycoprotein_(S),_ORF3a_protein_(ORF3a),_envelope_protein_(E),_membrane_glycoprotein_(M),_ORF6_protein_(ORF6),_ORF7a_protein_(ORF7a),_ORF7b_(ORF7b),_ORF8_protein_(ORF8),_nucleocapsid_phosphoprotein_(N),_and_ORF10_protein_(ORF10)_genes,_complete_cds',\n",
       " 'MT703971.1_|Severe_acute_respiratory_syndrome_coronavirus_2_isolate_SARS-CoV-2/human/USA/FL-BPHL-0153/2020_ORF1ab_polyprotein_(ORF1ab),_ORF1a_polyprotein_(ORF1ab),_surface_glycoprotein_(S),_ORF3a_protein_(ORF3a),_envelope_protein_(E),_membrane_glycoprotein_(M),_ORF6_protein_(ORF6),_ORF7a_protein_(ORF7a),_ORF7b_(ORF7b),_ORF8_protein_(ORF8),_nucleocapsid_phosphoprotein_(N),_and_ORF10_protein_(ORF10)_genes,_complete_cds',\n",
       " 'MT703972.1_|Severe_acute_respiratory_syndrome_coronavirus_2_isolate_SARS-CoV-2/human/USA/FL-BPHL-0154/2020_ORF1ab_polyprotein_(ORF1ab),_ORF1a_polyprotein_(ORF1ab),_surface_glycoprotein_(S),_ORF3a_protein_(ORF3a),_envelope_protein_(E),_membrane_glycoprotein_(M),_ORF6_protein_(ORF6),_ORF7a_protein_(ORF7a),_ORF7b_(ORF7b),_ORF8_protein_(ORF8),_nucleocapsid_phosphoprotein_(N),_and_ORF10_protein_(ORF10)_genes,_complete_cds',\n",
       " 'MT703973.1_|Severe_acute_respiratory_syndrome_coronavirus_2_isolate_SARS-CoV-2/human/USA/FL-BPHL-0155/2020,_complete_genome',\n",
       " 'MT703974.1_|Severe_acute_respiratory_syndrome_coronavirus_2_isolate_SARS-CoV-2/human/USA/FL-BPHL-0156/2020_ORF1ab_polyprotein_(ORF1ab),_ORF1a_polyprotein_(ORF1ab),_surface_glycoprotein_(S),_ORF3a_protein_(ORF3a),_envelope_protein_(E),_membrane_glycoprotein_(M),_ORF6_protein_(ORF6),_ORF7a_protein_(ORF7a),_ORF7b_(ORF7b),_ORF8_protein_(ORF8),_nucleocapsid_phosphoprotein_(N),_and_ORF10_protein_(ORF10)_genes,_complete_cds',\n",
       " 'MT703975.1_|Severe_acute_respiratory_syndrome_coronavirus_2_isolate_SARS-CoV-2/human/USA/FL-BPHL-0157/2020,_complete_genome',\n",
       " 'MT703976.1_|Severe_acute_respiratory_syndrome_coronavirus_2_isolate_SARS-CoV-2/human/USA/FL-BPHL-0158/2020,_complete_genome',\n",
       " 'MT703977.1_|Severe_acute_respiratory_syndrome_coronavirus_2_isolate_SARS-CoV-2/human/USA/FL-BPHL-0159/2020,_complete_genome',\n",
       " 'MT703978.1_|Severe_acute_respiratory_syndrome_coronavirus_2_isolate_SARS-CoV-2/human/USA/FL-BPHL-0160/2020,_complete_genome',\n",
       " 'MT703979.1_|Severe_acute_respiratory_syndrome_coronavirus_2_isolate_SARS-CoV-2/human/USA/FL-BPHL-0161/2020,_complete_genome',\n",
       " 'MT703980.1_|Severe_acute_respiratory_syndrome_coronavirus_2_isolate_SARS-CoV-2/human/USA/FL-BPHL-0162/2020_ORF1ab_polyprotein_(ORF1ab),_ORF1a_polyprotein_(ORF1ab),_surface_glycoprotein_(S),_ORF3a_protein_(ORF3a),_envelope_protein_(E),_membrane_glycoprotein_(M),_ORF6_protein_(ORF6),_ORF7a_protein_(ORF7a),_ORF7b_(ORF7b),_ORF8_protein_(ORF8),_nucleocapsid_phosphoprotein_(N),_and_ORF10_protein_(ORF10)_genes,_complete_cds',\n",
       " 'MT703981.1_|Severe_acute_respiratory_syndrome_coronavirus_2_isolate_SARS-CoV-2/human/USA/FL-BPHL-0163/2020_ORF1ab_polyprotein_(ORF1ab),_ORF1a_polyprotein_(ORF1ab),_surface_glycoprotein_(S),_ORF3a_protein_(ORF3a),_envelope_protein_(E),_membrane_glycoprotein_(M),_ORF6_protein_(ORF6),_ORF7a_protein_(ORF7a),_ORF7b_(ORF7b),_ORF8_protein_(ORF8),_nucleocapsid_phosphoprotein_(N),_and_ORF10_protein_(ORF10)_genes,_complete_cds',\n",
       " 'MT703982.1_|Severe_acute_respiratory_syndrome_coronavirus_2_isolate_SARS-CoV-2/human/USA/FL-BPHL-0164/2020,_complete_genome',\n",
       " 'MT703983.1_|Severe_acute_respiratory_syndrome_coronavirus_2_isolate_SARS-CoV-2/human/USA/FL-BPHL-0165/2020,_complete_genome',\n",
       " 'MT703984.1_|Severe_acute_respiratory_syndrome_coronavirus_2_isolate_SARS-CoV-2/human/USA/FL-BPHL-0166/2020,_complete_genome',\n",
       " 'MT703985.1_|Severe_acute_respiratory_syndrome_coronavirus_2_isolate_SARS-CoV-2/human/USA/FL-BPHL-0167/2020,_complete_genome',\n",
       " 'MT703986.1_|Severe_acute_respiratory_syndrome_coronavirus_2_isolate_SARS-CoV-2/human/USA/FL-BPHL-0168/2020_ORF1ab_polyprotein_(ORF1ab),_ORF1a_polyprotein_(ORF1ab),_surface_glycoprotein_(S),_ORF3a_protein_(ORF3a),_envelope_protein_(E),_membrane_glycoprotein_(M),_ORF6_protein_(ORF6),_ORF7a_protein_(ORF7a),_ORF7b_(ORF7b),_ORF8_protein_(ORF8),_nucleocapsid_phosphoprotein_(N),_and_ORF10_protein_(ORF10)_genes,_complete_cds',\n",
       " 'MT703987.1_|Severe_acute_respiratory_syndrome_coronavirus_2_isolate_SARS-CoV-2/human/USA/FL-BPHL-0169/2020_ORF1ab_polyprotein_(ORF1ab),_ORF1a_polyprotein_(ORF1ab),_surface_glycoprotein_(S),_ORF3a_protein_(ORF3a),_envelope_protein_(E),_membrane_glycoprotein_(M),_and_ORF6_protein_(ORF6)_genes,_complete_cds;_ORF7a_protein_(ORF7a)_and_ORF7b_(ORF7b)_genes,_partial_cds;_and_ORF8_protein_(ORF8),_nucleocapsid_phosphoprotein_(N),_and_ORF10_protein_(ORF10)_genes,_complete_cds',\n",
       " 'MT703988.1_|Severe_acute_respiratory_syndrome_coronavirus_2_isolate_SARS-CoV-2/human/USA/FL-BPHL-0170/2020_ORF1ab_polyprotein_(ORF1ab),_ORF1a_polyprotein_(ORF1ab),_surface_glycoprotein_(S),_ORF3a_protein_(ORF3a),_envelope_protein_(E),_membrane_glycoprotein_(M),_ORF6_protein_(ORF6),_ORF7a_protein_(ORF7a),_ORF7b_(ORF7b),_ORF8_protein_(ORF8),_nucleocapsid_phosphoprotein_(N),_and_ORF10_protein_(ORF10)_genes,_complete_cds',\n",
       " 'MT703989.1_|Severe_acute_respiratory_syndrome_coronavirus_2_isolate_SARS-CoV-2/human/USA/FL-BPHL-0171/2020,_complete_genome',\n",
       " 'MT703990.1_|Severe_acute_respiratory_syndrome_coronavirus_2_isolate_SARS-CoV-2/human/USA/FL-BPHL-0172/2020,_complete_genome',\n",
       " 'MT703991.1_|Severe_acute_respiratory_syndrome_coronavirus_2_isolate_SARS-CoV-2/human/USA/FL-BPHL-0173/2020,_complete_genome',\n",
       " 'MT703992.1_|Severe_acute_respiratory_syndrome_coronavirus_2_isolate_SARS-CoV-2/human/USA/FL-BPHL-0174/2020,_complete_genome',\n",
       " 'MT703993.1_|Severe_acute_respiratory_syndrome_coronavirus_2_isolate_SARS-CoV-2/human/USA/FL-BPHL-0175/2020,_complete_genome',\n",
       " 'MT703994.1_|Severe_acute_respiratory_syndrome_coronavirus_2_isolate_SARS-CoV-2/human/USA/FL-BPHL-0176/2020,_complete_genome',\n",
       " 'MT703995.1_|Severe_acute_respiratory_syndrome_coronavirus_2_isolate_SARS-CoV-2/human/USA/FL-BPHL-0177/2020,_complete_genome',\n",
       " 'MT703996.1_|Severe_acute_respiratory_syndrome_coronavirus_2_isolate_SARS-CoV-2/human/USA/FL-BPHL-0178/2020,_complete_genome',\n",
       " 'MT703997.1_|Severe_acute_respiratory_syndrome_coronavirus_2_isolate_SARS-CoV-2/human/USA/FL-BPHL-0179/2020,_complete_genome',\n",
       " 'MT703998.1_|Severe_acute_respiratory_syndrome_coronavirus_2_isolate_SARS-CoV-2/human/USA/FL-BPHL-0180/2020,_complete_genome',\n",
       " 'MT703999.1_|Severe_acute_respiratory_syndrome_coronavirus_2_isolate_SARS-CoV-2/human/USA/FL-BPHL-0181/2020,_complete_genome',\n",
       " 'MT704000.1_|Severe_acute_respiratory_syndrome_coronavirus_2_isolate_SARS-CoV-2/human/USA/FL-BPHL-0182/2020,_complete_genome',\n",
       " 'MT704001.1_|Severe_acute_respiratory_syndrome_coronavirus_2_isolate_SARS-CoV-2/human/USA/FL-BPHL-0183/2020,_complete_genome',\n",
       " 'MT704002.1_|Severe_acute_respiratory_syndrome_coronavirus_2_isolate_SARS-CoV-2/human/USA/FL-BPHL-0184/2020_ORF1ab_polyprotein_(ORF1ab),_ORF1a_polyprotein_(ORF1ab),_surface_glycoprotein_(S),_ORF3a_protein_(ORF3a),_envelope_protein_(E),_membrane_glycoprotein_(M),_ORF6_protein_(ORF6),_ORF7a_protein_(ORF7a),_ORF7b_(ORF7b),_ORF8_protein_(ORF8),_nucleocapsid_phosphoprotein_(N),_and_ORF10_protein_(ORF10)_genes,_complete_cds',\n",
       " 'MT704003.1_|Severe_acute_respiratory_syndrome_coronavirus_2_isolate_SARS-CoV-2/human/USA/FL-BPHL-0185/2020,_complete_genome',\n",
       " 'MT704004.1_|Severe_acute_respiratory_syndrome_coronavirus_2_isolate_SARS-CoV-2/human/USA/FL-BPHL-0186/2020,_complete_genome',\n",
       " 'MT704005.1_|Severe_acute_respiratory_syndrome_coronavirus_2_isolate_SARS-CoV-2/human/USA/FL-BPHL-0187/2020,_complete_genome',\n",
       " 'MT704006.1_|Severe_acute_respiratory_syndrome_coronavirus_2_isolate_SARS-CoV-2/human/USA/FL-BPHL-0188/2020,_complete_genome',\n",
       " 'MT704007.1_|Severe_acute_respiratory_syndrome_coronavirus_2_isolate_SARS-CoV-2/human/USA/FL-BPHL-0189/2020,_complete_genome',\n",
       " 'MT704008.1_|Severe_acute_respiratory_syndrome_coronavirus_2_isolate_SARS-CoV-2/human/USA/FL-BPHL-0190/2020,_complete_genome',\n",
       " 'MT704009.1_|Severe_acute_respiratory_syndrome_coronavirus_2_isolate_SARS-CoV-2/human/USA/FL-BPHL-0191/2020,_complete_genome',\n",
       " 'MT704010.1_|Severe_acute_respiratory_syndrome_coronavirus_2_isolate_SARS-CoV-2/human/USA/FL-BPHL-0192/2020_ORF1ab_polyprotein_(ORF1ab),_ORF1a_polyprotein_(ORF1ab),_and_surface_glycoprotein_(S)_genes,_partial_cds;_and_ORF3a_protein_(ORF3a),_envelope_protein_(E),_membrane_glycoprotein_(M),_ORF6_protein_(ORF6),_ORF7a_protein_(ORF7a),_ORF7b_(ORF7b),_ORF8_protein_(ORF8),_nucleocapsid_phosphoprotein_(N),_and_ORF10_protein_(ORF10)_genes,_complete_cds',\n",
       " 'MT704011.1_|Severe_acute_respiratory_syndrome_coronavirus_2_isolate_SARS-CoV-2/human/USA/FL-BPHL-0193/2020,_complete_genome',\n",
       " 'MT704012.1_|Severe_acute_respiratory_syndrome_coronavirus_2_isolate_SARS-CoV-2/human/USA/FL-BPHL-0194/2020,_complete_genome',\n",
       " 'MT704013.1_|Severe_acute_respiratory_syndrome_coronavirus_2_isolate_SARS-CoV-2/human/USA/FL-BPHL-0195/2020_ORF1ab_polyprotein_(ORF1ab),_ORF1a_polyprotein_(ORF1ab),_surface_glycoprotein_(S),_ORF3a_protein_(ORF3a),_envelope_protein_(E),_membrane_glycoprotein_(M),_ORF6_protein_(ORF6),_ORF7a_protein_(ORF7a),_ORF7b_(ORF7b),_ORF8_protein_(ORF8),_nucleocapsid_phosphoprotein_(N),_and_ORF10_protein_(ORF10)_genes,_complete_cds',\n",
       " 'MT704014.1_|Severe_acute_respiratory_syndrome_coronavirus_2_isolate_SARS-CoV-2/human/USA/FL-BPHL-0196/2020,_complete_genome',\n",
       " 'MT704015.1_|Severe_acute_respiratory_syndrome_coronavirus_2_isolate_SARS-CoV-2/human/USA/FL-BPHL-0197/2020_ORF1ab_polyprotein_(ORF1ab),_ORF1a_polyprotein_(ORF1ab),_surface_glycoprotein_(S),_ORF3a_protein_(ORF3a),_envelope_protein_(E),_membrane_glycoprotein_(M),_ORF6_protein_(ORF6),_ORF7a_protein_(ORF7a),_ORF7b_(ORF7b),_ORF8_protein_(ORF8),_nucleocapsid_phosphoprotein_(N),_and_ORF10_protein_(ORF10)_genes,_complete_cds',\n",
       " 'MT704016.1_|Severe_acute_respiratory_syndrome_coronavirus_2_isolate_SARS-CoV-2/human/USA/FL-BPHL-0198/2020_ORF1ab_polyprotein_(ORF1ab),_ORF1a_polyprotein_(ORF1ab),_surface_glycoprotein_(S),_ORF3a_protein_(ORF3a),_envelope_protein_(E),_membrane_glycoprotein_(M),_ORF6_protein_(ORF6),_ORF7a_protein_(ORF7a),_ORF7b_(ORF7b),_ORF8_protein_(ORF8),_nucleocapsid_phosphoprotein_(N),_and_ORF10_protein_(ORF10)_genes,_complete_cds',\n",
       " 'MT704017.1_|Severe_acute_respiratory_syndrome_coronavirus_2_isolate_SARS-CoV-2/human/USA/FL-BPHL-0199/2020,_complete_genome',\n",
       " 'MT704018.1_|Severe_acute_respiratory_syndrome_coronavirus_2_isolate_SARS-CoV-2/human/USA/FL-BPHL-0200/2020,_complete_genome',\n",
       " 'MT704019.1_|Severe_acute_respiratory_syndrome_coronavirus_2_isolate_SARS-CoV-2/human/USA/FL-BPHL-0201/2020,_complete_genome',\n",
       " 'MT704020.1_|Severe_acute_respiratory_syndrome_coronavirus_2_isolate_SARS-CoV-2/human/USA/FL-BPHL-0202/2020_ORF1ab_polyprotein_(ORF1ab),_ORF1a_polyprotein_(ORF1ab),_surface_glycoprotein_(S),_ORF3a_protein_(ORF3a),_envelope_protein_(E),_membrane_glycoprotein_(M),_and_ORF6_protein_(ORF6)_genes,_complete_cds;_ORF7a_protein_(ORF7a)_and_ORF7b_(ORF7b)_genes,_partial_cds;_and_ORF8_protein_(ORF8),_nucleocapsid_phosphoprotein_(N),_and_ORF10_protein_(ORF10)_genes,_complete_cds',\n",
       " 'MT704021.1_|Severe_acute_respiratory_syndrome_coronavirus_2_isolate_SARS-CoV-2/human/USA/FL-BPHL-0203/2020_ORF1ab_polyprotein_(ORF1ab),_ORF1a_polyprotein_(ORF1ab),_surface_glycoprotein_(S),_ORF3a_protein_(ORF3a),_envelope_protein_(E),_membrane_glycoprotein_(M),_ORF6_protein_(ORF6),_ORF7a_protein_(ORF7a),_ORF7b_(ORF7b),_ORF8_protein_(ORF8),_nucleocapsid_phosphoprotein_(N),_and_ORF10_protein_(ORF10)_genes,_complete_cds',\n",
       " 'MT704022.1_|Severe_acute_respiratory_syndrome_coronavirus_2_isolate_SARS-CoV-2/human/USA/FL-BPHL-0204/2020,_complete_genome',\n",
       " 'MT704023.1_|Severe_acute_respiratory_syndrome_coronavirus_2_isolate_SARS-CoV-2/human/USA/FL-BPHL-0205/2020,_complete_genome',\n",
       " 'MT704024.1_|Severe_acute_respiratory_syndrome_coronavirus_2_isolate_SARS-CoV-2/human/USA/FL-BPHL-0206/2020,_complete_genome',\n",
       " 'MT704025.1_|Severe_acute_respiratory_syndrome_coronavirus_2_isolate_SARS-CoV-2/human/USA/FL-BPHL-0207/2020,_complete_genome',\n",
       " 'MT704026.1_|Severe_acute_respiratory_syndrome_coronavirus_2_isolate_SARS-CoV-2/human/USA/FL-BPHL-0208/2020,_complete_genome',\n",
       " 'MT704027.1_|Severe_acute_respiratory_syndrome_coronavirus_2_isolate_SARS-CoV-2/human/USA/FL-BPHL-0209/2020_ORF1ab_polyprotein_(ORF1ab),_ORF1a_polyprotein_(ORF1ab),_surface_glycoprotein_(S),_ORF3a_protein_(ORF3a),_envelope_protein_(E),_membrane_glycoprotein_(M),_and_ORF6_protein_(ORF6)_genes,_complete_cds;_ORF7a_protein_(ORF7a)_and_ORF7b_(ORF7b)_genes,_partial_cds;_and_ORF8_protein_(ORF8),_nucleocapsid_phosphoprotein_(N),_and_ORF10_protein_(ORF10)_genes,_complete_cds',\n",
       " 'MT704028.1_|Severe_acute_respiratory_syndrome_coronavirus_2_isolate_SARS-CoV-2/human/USA/FL-BPHL-0210/2020_ORF1ab_polyprotein_(ORF1ab),_ORF1a_polyprotein_(ORF1ab),_surface_glycoprotein_(S),_ORF3a_protein_(ORF3a),_envelope_protein_(E),_membrane_glycoprotein_(M),_ORF6_protein_(ORF6),_ORF7a_protein_(ORF7a),_ORF7b_(ORF7b),_ORF8_protein_(ORF8),_nucleocapsid_phosphoprotein_(N),_and_ORF10_protein_(ORF10)_genes,_complete_cds',\n",
       " 'MT704029.1_|Severe_acute_respiratory_syndrome_coronavirus_2_isolate_SARS-CoV-2/human/USA/FL-BPHL-0211/2020,_complete_genome',\n",
       " 'MT704030.1_|Severe_acute_respiratory_syndrome_coronavirus_2_isolate_SARS-CoV-2/human/USA/FL-BPHL-0212/2020,_complete_genome',\n",
       " 'MT704031.1_|Severe_acute_respiratory_syndrome_coronavirus_2_isolate_SARS-CoV-2/human/USA/FL-BPHL-0213/2020_ORF1ab_polyprotein_(ORF1ab),_ORF1a_polyprotein_(ORF1ab),_surface_glycoprotein_(S),_ORF3a_protein_(ORF3a),_envelope_protein_(E),_membrane_glycoprotein_(M),_ORF6_protein_(ORF6),_ORF7a_protein_(ORF7a),_ORF7b_(ORF7b),_ORF8_protein_(ORF8),_nucleocapsid_phosphoprotein_(N),_and_ORF10_protein_(ORF10)_genes,_complete_cds',\n",
       " 'MT704032.1_|Severe_acute_respiratory_syndrome_coronavirus_2_isolate_SARS-CoV-2/human/USA/FL-BPHL-0214/2020_ORF1ab_polyprotein_(ORF1ab),_ORF1a_polyprotein_(ORF1ab),_surface_glycoprotein_(S),_ORF3a_protein_(ORF3a),_envelope_protein_(E),_membrane_glycoprotein_(M),_ORF6_protein_(ORF6),_ORF7a_protein_(ORF7a),_ORF7b_(ORF7b),_ORF8_protein_(ORF8),_nucleocapsid_phosphoprotein_(N),_and_ORF10_protein_(ORF10)_genes,_complete_cds',\n",
       " 'MT704033.1_|Severe_acute_respiratory_syndrome_coronavirus_2_isolate_SARS-CoV-2/human/USA/FL-BPHL-0215/2020,_complete_genome',\n",
       " 'MT704034.1_|Severe_acute_respiratory_syndrome_coronavirus_2_isolate_SARS-CoV-2/human/USA/FL-BPHL-0216/2020_ORF1ab_polyprotein_(ORF1ab)_gene,_complete_cds;_ORF1a_polyprotein_(ORF1ab)_gene,_partial_cds;_surface_glycoprotein_(S),_ORF3a_protein_(ORF3a),_envelope_protein_(E),_membrane_glycoprotein_(M),_and_ORF6_protein_(ORF6)_genes,_complete_cds;_ORF7a_protein_(ORF7a)_and_ORF7b_(ORF7b)_genes,_partial_cds;_and_ORF8_protein_(ORF8),_nucleocapsid_phosphoprotein_(N),_and_ORF10_protein_(ORF10)_genes,_complete_cds',\n",
       " 'MT704035.1_|Severe_acute_respiratory_syndrome_coronavirus_2_isolate_SARS-CoV-2/human/USA/FL-BPHL-0217/2020_ORF1ab_polyprotein_(ORF1ab),_ORF1a_polyprotein_(ORF1ab),_surface_glycoprotein_(S),_ORF3a_protein_(ORF3a),_envelope_protein_(E),_membrane_glycoprotein_(M),_ORF6_protein_(ORF6),_ORF7a_protein_(ORF7a),_ORF7b_(ORF7b),_ORF8_protein_(ORF8),_nucleocapsid_phosphoprotein_(N),_and_ORF10_protein_(ORF10)_genes,_complete_cds',\n",
       " 'MT704036.1_|Severe_acute_respiratory_syndrome_coronavirus_2_isolate_SARS-CoV-2/human/USA/FL-BPHL-0218/2020_ORF1ab_polyprotein_(ORF1ab),_ORF1a_polyprotein_(ORF1ab),_surface_glycoprotein_(S),_ORF3a_protein_(ORF3a),_envelope_protein_(E),_membrane_glycoprotein_(M),_ORF6_protein_(ORF6),_ORF7a_protein_(ORF7a),_ORF7b_(ORF7b),_ORF8_protein_(ORF8),_nucleocapsid_phosphoprotein_(N),_and_ORF10_protein_(ORF10)_genes,_complete_cds',\n",
       " 'MT704037.1_|Severe_acute_respiratory_syndrome_coronavirus_2_isolate_SARS-CoV-2/human/USA/FL-BPHL-0219/2020,_complete_genome',\n",
       " 'MT704038.1_|Severe_acute_respiratory_syndrome_coronavirus_2_isolate_SARS-CoV-2/human/USA/FL-BPHL-0220/2020,_complete_genome',\n",
       " 'MT704039.1_|Severe_acute_respiratory_syndrome_coronavirus_2_isolate_SARS-CoV-2/human/USA/FL-BPHL-0221/2020,_complete_genome',\n",
       " 'MT704040.1_|Severe_acute_respiratory_syndrome_coronavirus_2_isolate_SARS-CoV-2/human/USA/FL-BPHL-0222/2020,_complete_genome',\n",
       " 'MT704041.1_|Severe_acute_respiratory_syndrome_coronavirus_2_isolate_SARS-CoV-2/human/USA/FL-BPHL-0223/2020,_complete_genome',\n",
       " 'MT704042.1_|Severe_acute_respiratory_syndrome_coronavirus_2_isolate_SARS-CoV-2/human/USA/FL-BPHL-0224/2020,_complete_genome',\n",
       " 'MT704043.1_|Severe_acute_respiratory_syndrome_coronavirus_2_isolate_SARS-CoV-2/human/USA/FL-BPHL-0225/2020,_complete_genome',\n",
       " 'MT704044.1_|Severe_acute_respiratory_syndrome_coronavirus_2_isolate_SARS-CoV-2/human/USA/FL-BPHL-0226/2020,_complete_genome',\n",
       " 'MT704045.1_|Severe_acute_respiratory_syndrome_coronavirus_2_isolate_SARS-CoV-2/human/USA/FL-BPHL-0227/2020,_complete_genome',\n",
       " 'MT704046.1_|Severe_acute_respiratory_syndrome_coronavirus_2_isolate_SARS-CoV-2/human/USA/FL-BPHL-0228/2020,_complete_genome',\n",
       " 'MT704047.1_|Severe_acute_respiratory_syndrome_coronavirus_2_isolate_SARS-CoV-2/human/USA/FL-BPHL-0229/2020,_complete_genome',\n",
       " 'MT704048.1_|Severe_acute_respiratory_syndrome_coronavirus_2_isolate_SARS-CoV-2/human/USA/FL-BPHL-0230/2020_ORF1ab_polyprotein_(ORF1ab),_ORF1a_polyprotein_(ORF1ab),_surface_glycoprotein_(S),_ORF3a_protein_(ORF3a),_envelope_protein_(E),_membrane_glycoprotein_(M),_ORF6_protein_(ORF6),_ORF7a_protein_(ORF7a),_ORF7b_(ORF7b),_ORF8_protein_(ORF8),_nucleocapsid_phosphoprotein_(N),_and_ORF10_protein_(ORF10)_genes,_complete_cds',\n",
       " 'MT704049.1_|Severe_acute_respiratory_syndrome_coronavirus_2_isolate_SARS-CoV-2/human/USA/FL-BPHL-0231/2020,_complete_genome',\n",
       " 'MT704050.1_|Severe_acute_respiratory_syndrome_coronavirus_2_isolate_SARS-CoV-2/human/USA/FL-BPHL-0232/2020,_complete_genome',\n",
       " 'MT704051.1_|Severe_acute_respiratory_syndrome_coronavirus_2_isolate_SARS-CoV-2/human/USA/FL-BPHL-0233/2020,_complete_genome',\n",
       " 'MT704052.1_|Severe_acute_respiratory_syndrome_coronavirus_2_isolate_SARS-CoV-2/human/USA/FL-BPHL-0234/2020,_complete_genome',\n",
       " 'MT704053.1_|Severe_acute_respiratory_syndrome_coronavirus_2_isolate_SARS-CoV-2/human/USA/FL-BPHL-0235/2020_ORF1ab_polyprotein_(ORF1ab),_ORF1a_polyprotein_(ORF1ab),_surface_glycoprotein_(S),_ORF3a_protein_(ORF3a),_envelope_protein_(E),_membrane_glycoprotein_(M),_and_ORF6_protein_(ORF6)_genes,_complete_cds;_ORF7a_protein_(ORF7a)_and_ORF7b_(ORF7b)_genes,_partial_cds;_and_ORF8_protein_(ORF8),_nucleocapsid_phosphoprotein_(N),_and_ORF10_protein_(ORF10)_genes,_complete_cds',\n",
       " 'MT704054.1_|Severe_acute_respiratory_syndrome_coronavirus_2_isolate_SARS-CoV-2/human/USA/FL-BPHL-0236/2020_ORF1ab_polyprotein_(ORF1ab),_ORF1a_polyprotein_(ORF1ab),_surface_glycoprotein_(S),_ORF3a_protein_(ORF3a),_envelope_protein_(E),_membrane_glycoprotein_(M),_and_ORF6_protein_(ORF6)_genes,_complete_cds;_ORF7a_protein_(ORF7a)_and_ORF7b_(ORF7b)_genes,_partial_cds;_and_ORF8_protein_(ORF8),_nucleocapsid_phosphoprotein_(N),_and_ORF10_protein_(ORF10)_genes,_complete_cds',\n",
       " 'MT704055.1_|Severe_acute_respiratory_syndrome_coronavirus_2_isolate_SARS-CoV-2/human/USA/FL-BPHL-0237/2020,_complete_genome',\n",
       " 'MT704056.1_|Severe_acute_respiratory_syndrome_coronavirus_2_isolate_SARS-CoV-2/human/USA/FL-BPHL-0238/2020,_complete_genome',\n",
       " 'MT704057.1_|Severe_acute_respiratory_syndrome_coronavirus_2_isolate_SARS-CoV-2/human/USA/FL-BPHL-0239/2020_ORF1ab_polyprotein_(ORF1ab)_and_ORF1a_polyprotein_(ORF1ab)_genes,_partial_cds;_and_surface_glycoprotein_(S),_ORF3a_protein_(ORF3a),_envelope_protein_(E),_membrane_glycoprotein_(M),_ORF6_protein_(ORF6),_ORF7a_protein_(ORF7a),_ORF7b_(ORF7b),_ORF8_protein_(ORF8),_nucleocapsid_phosphoprotein_(N),_and_ORF10_protein_(ORF10)_genes,_complete_cds',\n",
       " 'MT704058.1_|Severe_acute_respiratory_syndrome_coronavirus_2_isolate_SARS-CoV-2/human/USA/FL-BPHL-0240/2020_ORF1ab_polyprotein_(ORF1ab)_and_ORF1a_polyprotein_(ORF1ab)_genes,_partial_cds;_and_surface_glycoprotein_(S),_ORF3a_protein_(ORF3a),_envelope_protein_(E),_membrane_glycoprotein_(M),_ORF6_protein_(ORF6),_ORF7a_protein_(ORF7a),_ORF7b_(ORF7b),_ORF8_protein_(ORF8),_nucleocapsid_phosphoprotein_(N),_and_ORF10_protein_(ORF10)_genes,_complete_cds',\n",
       " 'MT704059.1_|Severe_acute_respiratory_syndrome_coronavirus_2_isolate_SARS-CoV-2/human/USA/FL-BPHL-0241/2020_ORF1ab_polyprotein_(ORF1ab)_and_ORF1a_polyprotein_(ORF1ab)_genes,_partial_cds;_and_surface_glycoprotein_(S),_ORF3a_protein_(ORF3a),_envelope_protein_(E),_membrane_glycoprotein_(M),_ORF6_protein_(ORF6),_ORF7a_protein_(ORF7a),_ORF7b_(ORF7b),_ORF8_protein_(ORF8),_nucleocapsid_phosphoprotein_(N),_and_ORF10_protein_(ORF10)_genes,_complete_cds',\n",
       " 'MT704060.1_|Severe_acute_respiratory_syndrome_coronavirus_2_isolate_SARS-CoV-2/human/USA/FL-BPHL-0242/2020,_complete_genome',\n",
       " 'MT704061.1_|Severe_acute_respiratory_syndrome_coronavirus_2_isolate_SARS-CoV-2/human/USA/FL-BPHL-0243/2020,_complete_genome',\n",
       " 'MT704062.1_|Severe_acute_respiratory_syndrome_coronavirus_2_isolate_SARS-CoV-2/human/USA/FL-BPHL-0244/2020_ORF1ab_polyprotein_(ORF1ab)_and_ORF1a_polyprotein_(ORF1ab)_genes,_partial_cds;_and_surface_glycoprotein_(S),_ORF3a_protein_(ORF3a),_envelope_protein_(E),_membrane_glycoprotein_(M),_ORF6_protein_(ORF6),_ORF7a_protein_(ORF7a),_ORF7b_(ORF7b),_ORF8_protein_(ORF8),_nucleocapsid_phosphoprotein_(N),_and_ORF10_protein_(ORF10)_genes,_complete_cds',\n",
       " 'MT704063.1_|Severe_acute_respiratory_syndrome_coronavirus_2_isolate_SARS-CoV-2/human/USA/FL-BPHL-0245/2020,_complete_genome',\n",
       " 'MT704064.1_|Severe_acute_respiratory_syndrome_coronavirus_2_isolate_SARS-CoV-2/human/USA/FL-BPHL-0246/2020,_complete_genome',\n",
       " 'MT704065.1_|Severe_acute_respiratory_syndrome_coronavirus_2_isolate_SARS-CoV-2/human/USA/FL-BPHL-0247/2020,_complete_genome',\n",
       " 'MT704066.1_|Severe_acute_respiratory_syndrome_coronavirus_2_isolate_SARS-CoV-2/human/USA/FL-BPHL-0248/2020,_complete_genome',\n",
       " 'MT704067.1_|Severe_acute_respiratory_syndrome_coronavirus_2_isolate_SARS-CoV-2/human/USA/FL-BPHL-0249/2020,_complete_genome',\n",
       " 'MT704068.1_|Severe_acute_respiratory_syndrome_coronavirus_2_isolate_SARS-CoV-2/human/USA/FL-BPHL-0250/2020,_complete_genome',\n",
       " 'MT704069.1_|Severe_acute_respiratory_syndrome_coronavirus_2_isolate_SARS-CoV-2/human/USA/FL-BPHL-0251/2020,_complete_genome',\n",
       " 'MT704070.1_|Severe_acute_respiratory_syndrome_coronavirus_2_isolate_SARS-CoV-2/human/USA/FL-BPHL-0252/2020,_complete_genome',\n",
       " 'MT704071.1_|Severe_acute_respiratory_syndrome_coronavirus_2_isolate_SARS-CoV-2/human/USA/FL-BPHL-0253/2020,_complete_genome',\n",
       " 'MT704072.1_|Severe_acute_respiratory_syndrome_coronavirus_2_isolate_SARS-CoV-2/human/USA/FL-BPHL-0254/2020,_complete_genome',\n",
       " 'MT704073.1_|Severe_acute_respiratory_syndrome_coronavirus_2_isolate_SARS-CoV-2/human/USA/FL-BPHL-0255/2020,_complete_genome',\n",
       " 'MT704074.1_|Severe_acute_respiratory_syndrome_coronavirus_2_isolate_SARS-CoV-2/human/USA/FL-BPHL-0256/2020,_complete_genome',\n",
       " 'MT704075.1_|Severe_acute_respiratory_syndrome_coronavirus_2_isolate_SARS-CoV-2/human/USA/FL-BPHL-0257/2020,_complete_genome',\n",
       " 'MT704076.1_|Severe_acute_respiratory_syndrome_coronavirus_2_isolate_SARS-CoV-2/human/USA/FL-BPHL-0258/2020_ORF1ab_polyprotein_(ORF1ab),_ORF1a_polyprotein_(ORF1ab),_surface_glycoprotein_(S),_ORF3a_protein_(ORF3a),_envelope_protein_(E),_membrane_glycoprotein_(M),_ORF6_protein_(ORF6),_ORF7a_protein_(ORF7a),_ORF7b_(ORF7b),_ORF8_protein_(ORF8),_nucleocapsid_phosphoprotein_(N),_and_ORF10_protein_(ORF10)_genes,_complete_cds',\n",
       " 'MT704077.1_|Severe_acute_respiratory_syndrome_coronavirus_2_isolate_SARS-CoV-2/human/USA/FL-BPHL-0259/2020,_complete_genome',\n",
       " 'MT704078.1_|Severe_acute_respiratory_syndrome_coronavirus_2_isolate_SARS-CoV-2/human/USA/FL-BPHL-0260/2020_ORF1ab_polyprotein_(ORF1ab),_ORF1a_polyprotein_(ORF1ab),_surface_glycoprotein_(S),_ORF3a_protein_(ORF3a),_envelope_protein_(E),_membrane_glycoprotein_(M),_ORF6_protein_(ORF6),_ORF7a_protein_(ORF7a),_ORF7b_(ORF7b),_ORF8_protein_(ORF8),_nucleocapsid_phosphoprotein_(N),_and_ORF10_protein_(ORF10)_genes,_complete_cds',\n",
       " 'MT704079.1_|Severe_acute_respiratory_syndrome_coronavirus_2_isolate_SARS-CoV-2/human/USA/FL-BPHL-0261/2020_ORF1ab_polyprotein_(ORF1ab),_ORF1a_polyprotein_(ORF1ab),_surface_glycoprotein_(S),_ORF3a_protein_(ORF3a),_envelope_protein_(E),_membrane_glycoprotein_(M),_and_ORF6_protein_(ORF6)_genes,_complete_cds;_ORF7a_protein_(ORF7a)_and_ORF7b_(ORF7b)_genes,_partial_cds;_and_ORF8_protein_(ORF8),_nucleocapsid_phosphoprotein_(N),_and_ORF10_protein_(ORF10)_genes,_complete_cds',\n",
       " 'MT704080.1_|Severe_acute_respiratory_syndrome_coronavirus_2_isolate_SARS-CoV-2/human/USA/FL-BPHL-0262/2020,_complete_genome',\n",
       " 'MT704081.1_|Severe_acute_respiratory_syndrome_coronavirus_2_isolate_SARS-CoV-2/human/USA/FL-BPHL-0263/2020,_complete_genome',\n",
       " 'MT704082.1_|Severe_acute_respiratory_syndrome_coronavirus_2_isolate_SARS-CoV-2/human/USA/FL-BPHL-0264/2020_ORF1ab_polyprotein_(ORF1ab),_ORF1a_polyprotein_(ORF1ab),_and_surface_glycoprotein_(S)_genes,_complete_cds;_ORF3a_protein_(ORF3a)_and_envelope_protein_(E)_genes,_partial_cds;_membrane_glycoprotein_(M)_and_ORF6_protein_(ORF6)_genes,_complete_cds;_ORF7a_protein_(ORF7a)_and_ORF7b_(ORF7b)_genes,_partial_cds;_and_ORF8_protein_(ORF8),_nucleocapsid_phosphoprotein_(N),_and_ORF10_protein_(ORF10)_genes,_complete_cds',\n",
       " 'MT704083.1_|Severe_acute_respiratory_syndrome_coronavirus_2_isolate_SARS-CoV-2/human/USA/FL-BPHL-0265/2020_ORF1ab_polyprotein_(ORF1ab),_ORF1a_polyprotein_(ORF1ab),_surface_glycoprotein_(S),_ORF3a_protein_(ORF3a),_envelope_protein_(E),_membrane_glycoprotein_(M),_ORF6_protein_(ORF6),_ORF7a_protein_(ORF7a),_ORF7b_(ORF7b),_ORF8_protein_(ORF8),_nucleocapsid_phosphoprotein_(N),_and_ORF10_protein_(ORF10)_genes,_complete_cds',\n",
       " 'MT704084.1_|Severe_acute_respiratory_syndrome_coronavirus_2_isolate_SARS-CoV-2/human/USA/FL-BPHL-0266/2020,_complete_genome',\n",
       " 'MT704085.1_|Severe_acute_respiratory_syndrome_coronavirus_2_isolate_SARS-CoV-2/human/USA/FL-BPHL-0267/2020,_complete_genome',\n",
       " 'MT704086.1_|Severe_acute_respiratory_syndrome_coronavirus_2_isolate_SARS-CoV-2/human/USA/FL-BPHL-0268/2020_ORF1ab_polyprotein_(ORF1ab),_ORF1a_polyprotein_(ORF1ab),_surface_glycoprotein_(S),_ORF3a_protein_(ORF3a),_envelope_protein_(E),_membrane_glycoprotein_(M),_and_ORF6_protein_(ORF6)_genes,_complete_cds;_ORF7a_protein_(ORF7a)_and_ORF7b_(ORF7b)_genes,_partial_cds;_and_ORF8_protein_(ORF8),_nucleocapsid_phosphoprotein_(N),_and_ORF10_protein_(ORF10)_genes,_complete_cds',\n",
       " 'MT704087.1_|Severe_acute_respiratory_syndrome_coronavirus_2_isolate_SARS-CoV-2/human/USA/FL-BPHL-0269/2020_ORF1ab_polyprotein_(ORF1ab),_ORF1a_polyprotein_(ORF1ab),_surface_glycoprotein_(S),_and_ORF3a_protein_(ORF3a)_genes,_complete_cds;_envelope_protein_(E)_and_membrane_glycoprotein_(M)_genes,_partial_cds;_ORF6_protein_(ORF6)_gene,_complete_cds;_ORF7a_protein_(ORF7a)_and_ORF7b_(ORF7b)_genes,_partial_cds;_and_ORF8_protein_(ORF8),_nucleocapsid_phosphoprotein_(N),_and_ORF10_protein_(ORF10)_genes,_complete_cds',\n",
       " 'MT704088.1_|Severe_acute_respiratory_syndrome_coronavirus_2_isolate_SARS-CoV-2/human/USA/FL-BPHL-0270/2020,_complete_genome',\n",
       " 'MT704089.1_|Severe_acute_respiratory_syndrome_coronavirus_2_isolate_SARS-CoV-2/human/USA/FL-BPHL-0271/2020_ORF1ab_polyprotein_(ORF1ab),_ORF1a_polyprotein_(ORF1ab),_surface_glycoprotein_(S),_ORF3a_protein_(ORF3a),_envelope_protein_(E),_membrane_glycoprotein_(M),_ORF6_protein_(ORF6),_ORF7a_protein_(ORF7a),_ORF7b_(ORF7b),_ORF8_protein_(ORF8),_nucleocapsid_phosphoprotein_(N),_and_ORF10_protein_(ORF10)_genes,_complete_cds',\n",
       " 'MT704090.1_|Severe_acute_respiratory_syndrome_coronavirus_2_isolate_SARS-CoV-2/human/USA/FL-BPHL-0272/2020_ORF1ab_polyprotein_(ORF1ab),_ORF1a_polyprotein_(ORF1ab),_surface_glycoprotein_(S),_ORF3a_protein_(ORF3a),_envelope_protein_(E),_membrane_glycoprotein_(M),_and_ORF6_protein_(ORF6)_genes,_complete_cds;_ORF7a_protein_(ORF7a)_and_ORF7b_(ORF7b)_genes,_partial_cds;_and_ORF8_protein_(ORF8),_nucleocapsid_phosphoprotein_(N),_and_ORF10_protein_(ORF10)_genes,_complete_cds',\n",
       " 'MT704091.1_|Severe_acute_respiratory_syndrome_coronavirus_2_isolate_SARS-CoV-2/human/USA/FL-BPHL-0273/2020_ORF1ab_polyprotein_(ORF1ab),_ORF1a_polyprotein_(ORF1ab),_surface_glycoprotein_(S),_ORF3a_protein_(ORF3a),_envelope_protein_(E),_membrane_glycoprotein_(M),_and_ORF6_protein_(ORF6)_genes,_complete_cds;_ORF7a_protein_(ORF7a)_and_ORF7b_(ORF7b)_genes,_partial_cds;_and_ORF8_protein_(ORF8),_nucleocapsid_phosphoprotein_(N),_and_ORF10_protein_(ORF10)_genes,_complete_cds',\n",
       " 'MT704092.1_|Severe_acute_respiratory_syndrome_coronavirus_2_isolate_SARS-CoV-2/human/USA/FL-BPHL-0274/2020_ORF1ab_polyprotein_(ORF1ab),_ORF1a_polyprotein_(ORF1ab),_surface_glycoprotein_(S),_ORF3a_protein_(ORF3a),_envelope_protein_(E),_membrane_glycoprotein_(M),_and_ORF6_protein_(ORF6)_genes,_complete_cds;_ORF7a_protein_(ORF7a)_and_ORF7b_(ORF7b)_genes,_partial_cds;_and_ORF8_protein_(ORF8),_nucleocapsid_phosphoprotein_(N),_and_ORF10_protein_(ORF10)_genes,_complete_cds',\n",
       " 'MT704093.1_|Severe_acute_respiratory_syndrome_coronavirus_2_isolate_SARS-CoV-2/human/USA/FL-BPHL-0275/2020_ORF1ab_polyprotein_(ORF1ab),_ORF1a_polyprotein_(ORF1ab),_surface_glycoprotein_(S),_ORF3a_protein_(ORF3a),_envelope_protein_(E),_membrane_glycoprotein_(M),_ORF6_protein_(ORF6),_ORF7a_protein_(ORF7a),_ORF7b_(ORF7b),_ORF8_protein_(ORF8),_nucleocapsid_phosphoprotein_(N),_and_ORF10_protein_(ORF10)_genes,_complete_cds',\n",
       " 'MT704094.1_|Severe_acute_respiratory_syndrome_coronavirus_2_isolate_SARS-CoV-2/human/USA/FL-BPHL-0276/2020,_complete_genome',\n",
       " 'MT704095.1_|Severe_acute_respiratory_syndrome_coronavirus_2_isolate_SARS-CoV-2/human/USA/FL-BPHL-0277/2020,_complete_genome',\n",
       " 'MT704096.1_|Severe_acute_respiratory_syndrome_coronavirus_2_isolate_SARS-CoV-2/human/USA/FL-BPHL-0278/2020_ORF1ab_polyprotein_(ORF1ab),_ORF1a_polyprotein_(ORF1ab),_surface_glycoprotein_(S),_ORF3a_protein_(ORF3a),_envelope_protein_(E),_membrane_glycoprotein_(M),_and_ORF6_protein_(ORF6)_genes,_complete_cds;_ORF7a_protein_(ORF7a)_and_ORF8_protein_(ORF8)_genes,_partial_cds;_and_nucleocapsid_phosphoprotein_(N)_and_ORF10_protein_(ORF10)_genes,_complete_cds',\n",
       " 'MT704097.1_|Severe_acute_respiratory_syndrome_coronavirus_2_isolate_SARS-CoV-2/human/USA/FL-BPHL-0279/2020_ORF1ab_polyprotein_(ORF1ab),_ORF1a_polyprotein_(ORF1ab),_surface_glycoprotein_(S),_ORF3a_protein_(ORF3a),_envelope_protein_(E),_membrane_glycoprotein_(M),_and_ORF6_protein_(ORF6)_genes,_complete_cds;_ORF7a_protein_(ORF7a)_and_ORF7b_(ORF7b)_genes,_partial_cds;_and_ORF8_protein_(ORF8),_nucleocapsid_phosphoprotein_(N),_and_ORF10_protein_(ORF10)_genes,_complete_cds',\n",
       " 'MT704098.1_|Severe_acute_respiratory_syndrome_coronavirus_2_isolate_SARS-CoV-2/human/USA/FL-BPHL-0280/2020_ORF1ab_polyprotein_(ORF1ab),_ORF1a_polyprotein_(ORF1ab),_surface_glycoprotein_(S),_ORF3a_protein_(ORF3a),_envelope_protein_(E),_membrane_glycoprotein_(M),_and_ORF6_protein_(ORF6)_genes,_complete_cds;_ORF7a_protein_(ORF7a)_and_ORF7b_(ORF7b)_genes,_partial_cds;_and_ORF8_protein_(ORF8),_nucleocapsid_phosphoprotein_(N),_and_ORF10_protein_(ORF10)_genes,_complete_cds',\n",
       " 'MT704099.1_|Severe_acute_respiratory_syndrome_coronavirus_2_isolate_SARS-CoV-2/human/USA/FL-BPHL-0281/2020_ORF1ab_polyprotein_(ORF1ab)_and_ORF1a_polyprotein_(ORF1ab)_genes,_partial_cds;_and_surface_glycoprotein_(S),_ORF3a_protein_(ORF3a),_envelope_protein_(E),_membrane_glycoprotein_(M),_ORF6_protein_(ORF6),_ORF7a_protein_(ORF7a),_ORF7b_(ORF7b),_ORF8_protein_(ORF8),_nucleocapsid_phosphoprotein_(N),_and_ORF10_protein_(ORF10)_genes,_complete_cds',\n",
       " 'MT704100.1_|Severe_acute_respiratory_syndrome_coronavirus_2_isolate_SARS-CoV-2/human/USA/FL-BPHL-0282/2020,_complete_genome',\n",
       " 'MT704101.1_|Severe_acute_respiratory_syndrome_coronavirus_2_isolate_SARS-CoV-2/human/USA/FL-BPHL-0283/2020,_complete_genome',\n",
       " 'MT704102.1_|Severe_acute_respiratory_syndrome_coronavirus_2_isolate_SARS-CoV-2/human/USA/FL-BPHL-0284/2020,_complete_genome',\n",
       " 'MT704103.1_|Severe_acute_respiratory_syndrome_coronavirus_2_isolate_SARS-CoV-2/human/USA/FL-BPHL-0285/2020_ORF1ab_polyprotein_(ORF1ab),_ORF1a_polyprotein_(ORF1ab),_surface_glycoprotein_(S),_ORF3a_protein_(ORF3a),_envelope_protein_(E),_membrane_glycoprotein_(M),_ORF6_protein_(ORF6),_ORF7a_protein_(ORF7a),_ORF7b_(ORF7b),_ORF8_protein_(ORF8),_nucleocapsid_phosphoprotein_(N),_and_ORF10_protein_(ORF10)_genes,_complete_cds',\n",
       " 'MT704104.1_|Severe_acute_respiratory_syndrome_coronavirus_2_isolate_SARS-CoV-2/human/USA/FL-BPHL-0286/2020_ORF1ab_polyprotein_(ORF1ab)_gene,_partial_cds;_ORF1a_polyprotein_(ORF1ab)_gene,_complete_cds;_surface_glycoprotein_(S)_gene,_partial_cds;_ORF3a_protein_(ORF3a),_envelope_protein_(E),_membrane_glycoprotein_(M),_and_ORF6_protein_(ORF6)_genes,_complete_cds;_ORF7a_protein_(ORF7a)_and_ORF7b_(ORF7b)_genes,_partial_cds;_and_ORF8_protein_(ORF8),_nucleocapsid_phosphoprotein_(N),_and_ORF10_protein_(ORF10)_genes,_complete_cds',\n",
       " 'MT704105.1_|Severe_acute_respiratory_syndrome_coronavirus_2_isolate_SARS-CoV-2/human/USA/FL-BPHL-0287/2020_ORF1ab_polyprotein_(ORF1ab),_ORF1a_polyprotein_(ORF1ab),_surface_glycoprotein_(S),_ORF3a_protein_(ORF3a),_envelope_protein_(E),_membrane_glycoprotein_(M),_and_ORF6_protein_(ORF6)_genes,_complete_cds;_ORF7a_protein_(ORF7a)_and_ORF7b_(ORF7b)_genes,_partial_cds;_and_ORF8_protein_(ORF8),_nucleocapsid_phosphoprotein_(N),_and_ORF10_protein_(ORF10)_genes,_complete_cds',\n",
       " 'MT704106.1_|Severe_acute_respiratory_syndrome_coronavirus_2_isolate_SARS-CoV-2/human/USA/FL-BPHL-0288/2020_ORF1ab_polyprotein_(ORF1ab),_ORF1a_polyprotein_(ORF1ab),_surface_glycoprotein_(S),_ORF3a_protein_(ORF3a),_envelope_protein_(E),_membrane_glycoprotein_(M),_and_ORF6_protein_(ORF6)_genes,_complete_cds;_ORF7a_protein_(ORF7a)_and_ORF7b_(ORF7b)_genes,_partial_cds;_and_ORF8_protein_(ORF8),_nucleocapsid_phosphoprotein_(N),_and_ORF10_protein_(ORF10)_genes,_complete_cds',\n",
       " 'MT704107.1_|Severe_acute_respiratory_syndrome_coronavirus_2_isolate_SARS-CoV-2/human/USA/FL-BPHL-0289/2020_ORF1ab_polyprotein_(ORF1ab),_ORF1a_polyprotein_(ORF1ab),_surface_glycoprotein_(S),_ORF3a_protein_(ORF3a),_envelope_protein_(E),_membrane_glycoprotein_(M),_and_ORF6_protein_(ORF6)_genes,_complete_cds;_ORF7a_protein_(ORF7a)_and_ORF7b_(ORF7b)_genes,_partial_cds;_and_ORF8_protein_(ORF8),_nucleocapsid_phosphoprotein_(N),_and_ORF10_protein_(ORF10)_genes,_complete_cds',\n",
       " 'MT704108.1_|Severe_acute_respiratory_syndrome_coronavirus_2_isolate_SARS-CoV-2/human/USA/FL-BPHL-0290/2020_ORF1ab_polyprotein_(ORF1ab),_ORF1a_polyprotein_(ORF1ab),_surface_glycoprotein_(S),_ORF3a_protein_(ORF3a),_envelope_protein_(E),_membrane_glycoprotein_(M),_and_ORF6_protein_(ORF6)_genes,_complete_cds;_ORF7a_protein_(ORF7a)_and_ORF7b_(ORF7b)_genes,_partial_cds;_and_ORF8_protein_(ORF8),_nucleocapsid_phosphoprotein_(N),_and_ORF10_protein_(ORF10)_genes,_complete_cds',\n",
       " 'MT704109.1_|Severe_acute_respiratory_syndrome_coronavirus_2_isolate_SARS-CoV-2/human/USA/FL-BPHL-0291/2020_ORF1ab_polyprotein_(ORF1ab),_ORF1a_polyprotein_(ORF1ab),_surface_glycoprotein_(S),_ORF3a_protein_(ORF3a),_envelope_protein_(E),_membrane_glycoprotein_(M),_ORF6_protein_(ORF6),_ORF7a_protein_(ORF7a),_ORF7b_(ORF7b),_ORF8_protein_(ORF8),_nucleocapsid_phosphoprotein_(N),_and_ORF10_protein_(ORF10)_genes,_complete_cds',\n",
       " 'MT704110.1_|Severe_acute_respiratory_syndrome_coronavirus_2_isolate_SARS-CoV-2/human/USA/FL-BPHL-0292/2020_ORF1ab_polyprotein_(ORF1ab),_ORF1a_polyprotein_(ORF1ab),_surface_glycoprotein_(S),_ORF3a_protein_(ORF3a),_envelope_protein_(E),_membrane_glycoprotein_(M),_ORF6_protein_(ORF6),_ORF7a_protein_(ORF7a),_ORF7b_(ORF7b),_ORF8_protein_(ORF8),_nucleocapsid_phosphoprotein_(N),_and_ORF10_protein_(ORF10)_genes,_complete_cds',\n",
       " 'MT704111.1_|Severe_acute_respiratory_syndrome_coronavirus_2_isolate_SARS-CoV-2/human/USA/FL-BPHL-0293/2020,_complete_genome',\n",
       " 'MT704112.1_|Severe_acute_respiratory_syndrome_coronavirus_2_isolate_SARS-CoV-2/human/USA/FL-BPHL-0294/2020,_complete_genome',\n",
       " 'MT704113.1_|Severe_acute_respiratory_syndrome_coronavirus_2_isolate_SARS-CoV-2/human/USA/FL-BPHL-0295/2020_ORF1ab_polyprotein_(ORF1ab),_ORF1a_polyprotein_(ORF1ab),_surface_glycoprotein_(S),_and_ORF3a_protein_(ORF3a)_genes,_complete_cds;_envelope_protein_(E)_and_membrane_glycoprotein_(M)_genes,_partial_cds;_ORF6_protein_(ORF6)_gene,_complete_cds;_ORF7a_protein_(ORF7a)_and_ORF7b_(ORF7b)_genes,_partial_cds;_and_ORF8_protein_(ORF8),_nucleocapsid_phosphoprotein_(N),_and_ORF10_protein_(ORF10)_genes,_complete_cds',\n",
       " 'MT704114.1_|Severe_acute_respiratory_syndrome_coronavirus_2_isolate_SARS-CoV-2/human/USA/FL-BPHL-0296/2020,_complete_genome',\n",
       " 'MT704115.1_|Severe_acute_respiratory_syndrome_coronavirus_2_isolate_SARS-CoV-2/human/USA/FL-BPHL-0297/2020,_complete_genome',\n",
       " 'MT704116.1_|Severe_acute_respiratory_syndrome_coronavirus_2_isolate_SARS-CoV-2/human/USA/FL-BPHL-0298/2020,_complete_genome',\n",
       " 'MT704117.1_|Severe_acute_respiratory_syndrome_coronavirus_2_isolate_SARS-CoV-2/human/USA/FL-BPHL-0299/2020,_complete_genome',\n",
       " 'MT704118.1_|Severe_acute_respiratory_syndrome_coronavirus_2_isolate_SARS-CoV-2/human/USA/FL-BPHL-0300/2020_ORF1ab_polyprotein_(ORF1ab),_ORF1a_polyprotein_(ORF1ab),_surface_glycoprotein_(S),_ORF3a_protein_(ORF3a),_envelope_protein_(E),_membrane_glycoprotein_(M),_ORF6_protein_(ORF6),_ORF7a_protein_(ORF7a),_ORF7b_(ORF7b),_ORF8_protein_(ORF8),_nucleocapsid_phosphoprotein_(N),_and_ORF10_protein_(ORF10)_genes,_complete_cds',\n",
       " 'MT704119.1_|Severe_acute_respiratory_syndrome_coronavirus_2_isolate_SARS-CoV-2/human/USA/MD-MDH-0016/2020,_complete_genome',\n",
       " 'MT704120.1_|Severe_acute_respiratory_syndrome_coronavirus_2_isolate_SARS-CoV-2/human/USA/MD-MDH-0017/2020,_complete_genome',\n",
       " 'MT704121.1_|Severe_acute_respiratory_syndrome_coronavirus_2_isolate_SARS-CoV-2/human/USA/MD-MDH-0019/2020,_complete_genome',\n",
       " 'MT704122.1_|Severe_acute_respiratory_syndrome_coronavirus_2_isolate_SARS-CoV-2/human/USA/MD-MDH-0020/2020,_complete_genome',\n",
       " 'MT704123.1_|Severe_acute_respiratory_syndrome_coronavirus_2_isolate_SARS-CoV-2/human/USA/MD-MDH-0021/2020,_complete_genome',\n",
       " 'MT704124.1_|Severe_acute_respiratory_syndrome_coronavirus_2_isolate_SARS-CoV-2/human/USA/MD-MDH-0023/2020,_complete_genome',\n",
       " 'MT704125.1_|Severe_acute_respiratory_syndrome_coronavirus_2_isolate_SARS-CoV-2/human/USA/MD-MDH-0025/2020,_complete_genome',\n",
       " 'MT704126.1_|Severe_acute_respiratory_syndrome_coronavirus_2_isolate_SARS-CoV-2/human/USA/MD-MDH-0026/2020,_complete_genome',\n",
       " 'MT704127.1_|Severe_acute_respiratory_syndrome_coronavirus_2_isolate_SARS-CoV-2/human/USA/MD-MDH-0027/2020,_complete_genome',\n",
       " 'MT704128.1_|Severe_acute_respiratory_syndrome_coronavirus_2_isolate_SARS-CoV-2/human/USA/MD-MDH-0028/2020,_complete_genome',\n",
       " 'MT704129.1_|Severe_acute_respiratory_syndrome_coronavirus_2_isolate_SARS-CoV-2/human/USA/MD-MDH-0030/2020,_complete_genome',\n",
       " 'MT704130.1_|Severe_acute_respiratory_syndrome_coronavirus_2_isolate_SARS-CoV-2/human/USA/MD-MDH-0031/2020_ORF1ab_polyprotein_(ORF1ab),_ORF1a_polyprotein_(ORF1ab),_surface_glycoprotein_(S),_ORF3a_protein_(ORF3a),_envelope_protein_(E),_membrane_glycoprotein_(M),_ORF6_protein_(ORF6),_ORF7a_protein_(ORF7a),_ORF7b_(ORF7b),_ORF8_protein_(ORF8),_nucleocapsid_phosphoprotein_(N),_and_ORF10_protein_(ORF10)_genes,_complete_cds',\n",
       " 'MT704131.1_|Severe_acute_respiratory_syndrome_coronavirus_2_isolate_SARS-CoV-2/human/USA/MD-MDH-0032/2020,_complete_genome',\n",
       " 'MT704132.1_|Severe_acute_respiratory_syndrome_coronavirus_2_isolate_SARS-CoV-2/human/USA/MD-MDH-0033/2020,_complete_genome',\n",
       " 'MT704133.1_|Severe_acute_respiratory_syndrome_coronavirus_2_isolate_SARS-CoV-2/human/USA/MD-MDH-0034/2020,_complete_genome',\n",
       " 'MT704134.1_|Severe_acute_respiratory_syndrome_coronavirus_2_isolate_SARS-CoV-2/human/USA/MD-MDH-0035/2020,_complete_genome',\n",
       " 'MT704135.1_|Severe_acute_respiratory_syndrome_coronavirus_2_isolate_SARS-CoV-2/human/USA/MD-MDH-0036/2020,_complete_genome',\n",
       " 'MT704136.1_|Severe_acute_respiratory_syndrome_coronavirus_2_isolate_SARS-CoV-2/human/USA/MD-MDH-0039/2020,_complete_genome',\n",
       " 'MT682732.1_|Severe_acute_respiratory_syndrome_coronavirus_2_isolate_SARS-CoV-2/human/ITA/Naples/2020,_complete_genome',\n",
       " 'MT683386.1_|Severe_acute_respiratory_syndrome_coronavirus_2_isolate_SARS-CoV-2/human/USA/CT-UW-5104/2020,_complete_genome',\n",
       " 'MT683387.1_|Severe_acute_respiratory_syndrome_coronavirus_2_isolate_SARS-CoV-2/human/USA/CT-UW-6577/2020,_complete_genome',\n",
       " 'MT683388.1_|Severe_acute_respiratory_syndrome_coronavirus_2_isolate_SARS-CoV-2/human/USA/CT-UW-6587/2020,_complete_genome',\n",
       " 'MT683389.1_|Severe_acute_respiratory_syndrome_coronavirus_2_isolate_SARS-CoV-2/human/USA/CT-UW-6590/2020,_complete_genome',\n",
       " 'MT683390.1_|Severe_acute_respiratory_syndrome_coronavirus_2_isolate_SARS-CoV-2/human/USA/CT-UW-6592/2020,_complete_genome',\n",
       " 'MT683391.1_|Severe_acute_respiratory_syndrome_coronavirus_2_isolate_SARS-CoV-2/human/USA/CT-UW-6594/2020,_complete_genome',\n",
       " 'MT683392.1_|Severe_acute_respiratory_syndrome_coronavirus_2_isolate_SARS-CoV-2/human/USA/CT-UW-6603/2020,_complete_genome',\n",
       " 'MT683393.1_|Severe_acute_respiratory_syndrome_coronavirus_2_isolate_SARS-CoV-2/human/USA/ID-UW-4595/2020,_complete_genome',\n",
       " 'MT683394.1_|Severe_acute_respiratory_syndrome_coronavirus_2_isolate_SARS-CoV-2/human/USA/UNKNOWN-UW-5620/2020,_complete_genome',\n",
       " 'MT683395.1_|Severe_acute_respiratory_syndrome_coronavirus_2_isolate_SARS-CoV-2/human/USA/UNKNOWN-UW-5622/2020,_complete_genome',\n",
       " 'MT683396.1_|Severe_acute_respiratory_syndrome_coronavirus_2_isolate_SARS-CoV-2/human/USA/WA-UW-4657/2020_ORF1ab_polyprotein_(ORF1ab),_ORF1a_polyprotein_(ORF1ab),_surface_glycoprotein_(S),_ORF3a_protein_(ORF3a),_envelope_protein_(E),_membrane_glycoprotein_(M),_ORF6_protein_(ORF6),_ORF7a_protein_(ORF7a),_ORF7b_(ORF7b),_ORF8_protein_(ORF8),_nucleocapsid_phosphoprotein_(N),_and_ORF10_protein_(ORF10)_genes,_complete_cds',\n",
       " 'MT683397.1_|Severe_acute_respiratory_syndrome_coronavirus_2_isolate_SARS-CoV-2/human/USA/WA-UW-4676/2020,_complete_genome',\n",
       " 'MT683398.1_|Severe_acute_respiratory_syndrome_coronavirus_2_isolate_SARS-CoV-2/human/USA/WA-UW-4684/2020_ORF1ab_polyprotein_(ORF1ab),_ORF1a_polyprotein_(ORF1ab),_surface_glycoprotein_(S),_ORF3a_protein_(ORF3a),_envelope_protein_(E),_membrane_glycoprotein_(M),_ORF6_protein_(ORF6),_ORF7a_protein_(ORF7a),_ORF7b_(ORF7b),_ORF8_protein_(ORF8),_nucleocapsid_phosphoprotein_(N),_and_ORF10_protein_(ORF10)_genes,_complete_cds',\n",
       " 'MT683399.1_|Severe_acute_respiratory_syndrome_coronavirus_2_isolate_SARS-CoV-2/human/USA/WA-UW-4690/2020,_complete_genome',\n",
       " 'MT683400.1_|Severe_acute_respiratory_syndrome_coronavirus_2_isolate_SARS-CoV-2/human/USA/WA-UW-4698/2020_ORF1ab_polyprotein_(ORF1ab),_ORF1a_polyprotein_(ORF1ab),_surface_glycoprotein_(S),_ORF3a_protein_(ORF3a),_envelope_protein_(E),_membrane_glycoprotein_(M),_ORF6_protein_(ORF6),_ORF7a_protein_(ORF7a),_ORF7b_(ORF7b),_ORF8_protein_(ORF8),_nucleocapsid_phosphoprotein_(N),_and_ORF10_protein_(ORF10)_genes,_complete_cds',\n",
       " 'MT683401.1_|Severe_acute_respiratory_syndrome_coronavirus_2_isolate_SARS-CoV-2/human/USA/WA-UW-4917/2020_ORF1ab_polyprotein_(ORF1ab),_ORF1a_polyprotein_(ORF1ab),_surface_glycoprotein_(S),_ORF3a_protein_(ORF3a),_envelope_protein_(E),_membrane_glycoprotein_(M),_ORF6_protein_(ORF6),_ORF7a_protein_(ORF7a),_ORF7b_(ORF7b),_ORF8_protein_(ORF8),_nucleocapsid_phosphoprotein_(N),_and_ORF10_protein_(ORF10)_genes,_complete_cds',\n",
       " 'MT683402.1_|Severe_acute_respiratory_syndrome_coronavirus_2_isolate_SARS-CoV-2/human/USA/WA-UW-4931/2020_ORF1ab_polyprotein_(ORF1ab),_ORF1a_polyprotein_(ORF1ab),_surface_glycoprotein_(S),_ORF3a_protein_(ORF3a),_envelope_protein_(E),_membrane_glycoprotein_(M),_ORF6_protein_(ORF6),_ORF7a_protein_(ORF7a),_ORF7b_(ORF7b),_ORF8_protein_(ORF8),_nucleocapsid_phosphoprotein_(N),_and_ORF10_protein_(ORF10)_genes,_complete_cds',\n",
       " 'MT683403.1_|Severe_acute_respiratory_syndrome_coronavirus_2_isolate_SARS-CoV-2/human/USA/WA-UW-5738/2020,_complete_genome',\n",
       " 'MT683404.1_|Severe_acute_respiratory_syndrome_coronavirus_2_isolate_SARS-CoV-2/human/USA/WA-UW-5781/2020,_complete_genome',\n",
       " 'MT683405.1_|Severe_acute_respiratory_syndrome_coronavirus_2_isolate_SARS-CoV-2/human/USA/WA-UW-5812/2020_ORF1ab_polyprotein_(ORF1ab),_ORF1a_polyprotein_(ORF1ab),_surface_glycoprotein_(S),_ORF3a_protein_(ORF3a),_envelope_protein_(E),_membrane_glycoprotein_(M),_ORF6_protein_(ORF6),_ORF7b_(ORF7b),_ORF8_protein_(ORF8),_nucleocapsid_phosphoprotein_(N),_and_ORF10_protein_(ORF10)_genes,_complete_cds',\n",
       " 'MT683406.1_|Severe_acute_respiratory_syndrome_coronavirus_2_isolate_SARS-CoV-2/human/USA/WA-UW-5860/2020,_complete_genome',\n",
       " 'MT683407.1_|Severe_acute_respiratory_syndrome_coronavirus_2_isolate_SARS-CoV-2/human/USA/WA-UW-6589/2020,_complete_genome',\n",
       " 'MT683408.1_|Severe_acute_respiratory_syndrome_coronavirus_2_isolate_SARS-CoV-2/human/USA/WA-UW-6596/2020,_complete_genome',\n",
       " 'MT683409.1_|Severe_acute_respiratory_syndrome_coronavirus_2_isolate_SARS-CoV-2/human/USA/WA-UW-6601/2020,_complete_genome',\n",
       " 'MT683410.1_|Severe_acute_respiratory_syndrome_coronavirus_2_isolate_SARS-CoV-2/human/USA/WA-UW-6605/2020,_complete_genome',\n",
       " 'MT683411.1_|Severe_acute_respiratory_syndrome_coronavirus_2_isolate_SARS-CoV-2/human/USA/WA-UW-6671/2020,_complete_genome',\n",
       " 'MT683412.1_|Severe_acute_respiratory_syndrome_coronavirus_2_isolate_SARS-CoV-2/human/USA/WA-UW-6698/2020,_complete_genome',\n",
       " 'MT683413.1_|Severe_acute_respiratory_syndrome_coronavirus_2_isolate_SARS-CoV-2/human/USA/WA-UW-6701/2020,_complete_genome',\n",
       " 'MT683414.1_|Severe_acute_respiratory_syndrome_coronavirus_2_isolate_SARS-CoV-2/human/USA/WA-UW-8437/2020_ORF1ab_polyprotein_(ORF1ab),_ORF1a_polyprotein_(ORF1ab),_surface_glycoprotein_(S),_ORF3a_protein_(ORF3a),_envelope_protein_(E),_membrane_glycoprotein_(M),_ORF6_protein_(ORF6),_ORF7a_protein_(ORF7a),_ORF7b_(ORF7b),_ORF8_protein_(ORF8),_nucleocapsid_phosphoprotein_(N),_and_ORF10_protein_(ORF10)_genes,_complete_cds',\n",
       " 'MT683415.1_|Severe_acute_respiratory_syndrome_coronavirus_2_isolate_SARS-CoV-2/human/USA/WA-UW-8527/2020_ORF1ab_polyprotein_(ORF1ab),_ORF1a_polyprotein_(ORF1ab),_surface_glycoprotein_(S),_ORF3a_protein_(ORF3a),_envelope_protein_(E),_membrane_glycoprotein_(M),_ORF6_protein_(ORF6),_ORF7a_protein_(ORF7a),_ORF7b_(ORF7b),_ORF8_protein_(ORF8),_nucleocapsid_phosphoprotein_(N),_and_ORF10_protein_(ORF10)_genes,_complete_cds',\n",
       " 'MT683416.1_|Severe_acute_respiratory_syndrome_coronavirus_2_isolate_SARS-CoV-2/human/USA/WA-UW-10090/2020,_complete_genome',\n",
       " 'MT683417.1_|Severe_acute_respiratory_syndrome_coronavirus_2_isolate_SARS-CoV-2/human/USA/WA-UW-10131/2020,_complete_genome',\n",
       " 'MT683418.1_|Severe_acute_respiratory_syndrome_coronavirus_2_isolate_SARS-CoV-2/human/USA/WA-UW-10138/2020,_complete_genome',\n",
       " 'MT624728.1_|Severe_acute_respiratory_syndrome_coronavirus_2_isolate_SARS-CoV-2/human/EGY/CUNCI-_HGC3I02/2020,_complete_genome',\n",
       " 'MT624733.1_|Severe_acute_respiratory_syndrome_coronavirus_2_isolate_SARS-CoV-2/human/EGY/CUNCI-_HGC3I03/2020,_complete_genome',\n",
       " 'MT627389.1_|Severe_acute_respiratory_syndrome_coronavirus_2_isolate_SARS-CoV-2/human/EGY/CUNCI-_HGC3I06/2020,_complete_genome',\n",
       " 'MT627390.1_|Severe_acute_respiratory_syndrome_coronavirus_2_isolate_SARS-CoV-2/human/EGY/CUNCI-_HGC3I07/2020,_complete_genome',\n",
       " 'MT627391.1_|Severe_acute_respiratory_syndrome_coronavirus_2_isolate_SARS-CoV-2/human/EGY/CUNCI-_HGC3I05/2020,_complete_genome',\n",
       " 'MT627392.1_|Severe_acute_respiratory_syndrome_coronavirus_2_isolate_SARS-CoV-2/human/EGY/CUNCI-_HGC3I025/2020,_complete_genome',\n",
       " 'MT627393.1_|Severe_acute_respiratory_syndrome_coronavirus_2_isolate_SARS-CoV-2/human/EGY/CUNCI-_HGC3I09/2020,_complete_genome',\n",
       " 'MT627394.1_|Severe_acute_respiratory_syndrome_coronavirus_2_isolate_SARS-CoV-2/human/EGY/CUNCI-_HGC3I012/2020,_complete_genome',\n",
       " 'MT627395.1_|Severe_acute_respiratory_syndrome_coronavirus_2_isolate_SARS-CoV-2/human/EGY/CUNCI-_HGC3I013/2020,_complete_genome',\n",
       " 'MT627396.1_|Severe_acute_respiratory_syndrome_coronavirus_2_isolate_SARS-CoV-2/human/EGY/CUNCI-_HGC3I023/2020,_complete_genome',\n",
       " 'MT627404.1_|Severe_acute_respiratory_syndrome_coronavirus_2_isolate_SARS-CoV-2/human/EGY/CUNCI-_HGC3I014/2020,_complete_genome',\n",
       " 'MT627405.1_|Severe_acute_respiratory_syndrome_coronavirus_2_isolate_SARS-CoV-2/human/EGY/CUNCI-_HGC3I011/2020,_complete_genome',\n",
       " 'MT627406.1_|Severe_acute_respiratory_syndrome_coronavirus_2_isolate_SARS-CoV-2/human/EGY/CUNCI-_HGC3I08/2020,_complete_genome',\n",
       " 'MT678839.1_|Severe_acute_respiratory_syndrome_coronavirus_2_isolate_SARS-CoV-2/human/KOR/CNUHV03/2020,_complete_genome',\n",
       " 'MT679155.1_|Severe_acute_respiratory_syndrome_coronavirus_2_isolate_SARS-CoV-2/human/USA/VA-DCLS-0405/2020,_complete_genome',\n",
       " 'MT679156.1_|Severe_acute_respiratory_syndrome_coronavirus_2_isolate_SARS-CoV-2/human/USA/VA-DCLS-0416/2020,_complete_genome',\n",
       " 'MT679157.1_|Severe_acute_respiratory_syndrome_coronavirus_2_isolate_SARS-CoV-2/human/USA/VA-DCLS-0417/2020,_complete_genome',\n",
       " 'MT679158.1_|Severe_acute_respiratory_syndrome_coronavirus_2_isolate_SARS-CoV-2/human/USA/VA-DCLS-0418/2020,_complete_genome',\n",
       " 'MT679159.1_|Severe_acute_respiratory_syndrome_coronavirus_2_isolate_SARS-CoV-2/human/USA/VA-DCLS-0419/2020,_complete_genome',\n",
       " 'MT679160.1_|Severe_acute_respiratory_syndrome_coronavirus_2_isolate_SARS-CoV-2/human/USA/VA-DCLS-0420/2020,_complete_genome',\n",
       " 'MT679161.1_|Severe_acute_respiratory_syndrome_coronavirus_2_isolate_SARS-CoV-2/human/USA/VA-DCLS-0421/2020,_complete_genome',\n",
       " 'MT679162.1_|Severe_acute_respiratory_syndrome_coronavirus_2_isolate_SARS-CoV-2/human/USA/VA-DCLS-0422/2020,_complete_genome',\n",
       " 'MT679163.1_|Severe_acute_respiratory_syndrome_coronavirus_2_isolate_SARS-CoV-2/human/USA/VA-DCLS-0423/2020,_complete_genome',\n",
       " 'MT679164.1_|Severe_acute_respiratory_syndrome_coronavirus_2_isolate_SARS-CoV-2/human/USA/VA-DCLS-0424/2020,_complete_genome',\n",
       " 'MT679165.1_|Severe_acute_respiratory_syndrome_coronavirus_2_isolate_SARS-CoV-2/human/USA/VA-DCLS-0425/2020,_complete_genome',\n",
       " 'MT679166.1_|Severe_acute_respiratory_syndrome_coronavirus_2_isolate_SARS-CoV-2/human/USA/VA-DCLS-0426/2020,_complete_genome',\n",
       " 'MT679167.1_|Severe_acute_respiratory_syndrome_coronavirus_2_isolate_SARS-CoV-2/human/USA/VA-DCLS-0427/2020,_complete_genome',\n",
       " 'MT679168.1_|Severe_acute_respiratory_syndrome_coronavirus_2_isolate_SARS-CoV-2/human/USA/VA-DCLS-0428/2020,_complete_genome',\n",
       " 'MT679169.1_|Severe_acute_respiratory_syndrome_coronavirus_2_isolate_SARS-CoV-2/human/USA/VA-DCLS-0429/2020,_complete_genome',\n",
       " 'MT679170.1_|Severe_acute_respiratory_syndrome_coronavirus_2_isolate_SARS-CoV-2/human/USA/VA-DCLS-0430/2020,_complete_genome',\n",
       " 'MT679171.1_|Severe_acute_respiratory_syndrome_coronavirus_2_isolate_SARS-CoV-2/human/USA/VA-DCLS-0431/2020,_complete_genome',\n",
       " 'MT679172.1_|Severe_acute_respiratory_syndrome_coronavirus_2_isolate_SARS-CoV-2/human/USA/VA-DCLS-0432/2020,_complete_genome',\n",
       " 'MT679173.1_|Severe_acute_respiratory_syndrome_coronavirus_2_isolate_SARS-CoV-2/human/USA/VA-DCLS-0433/2020,_complete_genome',\n",
       " 'MT679174.1_|Severe_acute_respiratory_syndrome_coronavirus_2_isolate_SARS-CoV-2/human/USA/VA-DCLS-0434/2020,_complete_genome',\n",
       " 'MT679175.1_|Severe_acute_respiratory_syndrome_coronavirus_2_isolate_SARS-CoV-2/human/USA/VA-DCLS-0435/2020,_complete_genome',\n",
       " 'MT679176.1_|Severe_acute_respiratory_syndrome_coronavirus_2_isolate_SARS-CoV-2/human/USA/VA-DCLS-0436/2020,_complete_genome',\n",
       " 'MT679177.1_|Severe_acute_respiratory_syndrome_coronavirus_2_isolate_SARS-CoV-2/human/USA/VA-DCLS-0437/2020,_complete_genome',\n",
       " 'MT679178.1_|Severe_acute_respiratory_syndrome_coronavirus_2_isolate_SARS-CoV-2/human/USA/VA-DCLS-0438/2020,_complete_genome',\n",
       " 'MT679179.1_|Severe_acute_respiratory_syndrome_coronavirus_2_isolate_SARS-CoV-2/human/USA/VA-DCLS-0439/2020,_complete_genome',\n",
       " 'MT679180.1_|Severe_acute_respiratory_syndrome_coronavirus_2_isolate_SARS-CoV-2/human/USA/VA-DCLS-0440/2020,_complete_genome',\n",
       " 'MT679181.1_|Severe_acute_respiratory_syndrome_coronavirus_2_isolate_SARS-CoV-2/human/USA/VA-DCLS-0441/2020,_complete_genome',\n",
       " 'MT679182.1_|Severe_acute_respiratory_syndrome_coronavirus_2_isolate_SARS-CoV-2/human/USA/VA-DCLS-0442/2020,_complete_genome',\n",
       " 'MT679183.1_|Severe_acute_respiratory_syndrome_coronavirus_2_isolate_SARS-CoV-2/human/USA/VA-DCLS-0443/2020,_complete_genome',\n",
       " 'MT679184.1_|Severe_acute_respiratory_syndrome_coronavirus_2_isolate_SARS-CoV-2/human/USA/VA-DCLS-0444/2020,_complete_genome',\n",
       " 'MT679185.1_|Severe_acute_respiratory_syndrome_coronavirus_2_isolate_SARS-CoV-2/human/USA/VA-DCLS-0447/2020,_complete_genome',\n",
       " 'MT679186.1_|Severe_acute_respiratory_syndrome_coronavirus_2_isolate_SARS-CoV-2/human/USA/VA-DCLS-0449/2020,_complete_genome',\n",
       " 'MT679187.1_|Severe_acute_respiratory_syndrome_coronavirus_2_isolate_SARS-CoV-2/human/USA/VA-DCLS-0450/2020,_complete_genome',\n",
       " 'MT679188.1_|Severe_acute_respiratory_syndrome_coronavirus_2_isolate_SARS-CoV-2/human/USA/VA-DCLS-0451/2020,_complete_genome',\n",
       " 'MT679189.1_|Severe_acute_respiratory_syndrome_coronavirus_2_isolate_SARS-CoV-2/human/USA/VA-DCLS-0452/2020,_complete_genome',\n",
       " 'MT679190.1_|Severe_acute_respiratory_syndrome_coronavirus_2_isolate_SARS-CoV-2/human/USA/VA-DCLS-0454/2020,_complete_genome',\n",
       " 'MT679191.1_|Severe_acute_respiratory_syndrome_coronavirus_2_isolate_SARS-CoV-2/human/USA/VA-DCLS-0456/2020,_complete_genome',\n",
       " 'MT679192.1_|Severe_acute_respiratory_syndrome_coronavirus_2_isolate_SARS-CoV-2/human/USA/VA-DCLS-0457/2020,_complete_genome',\n",
       " 'MT679193.1_|Severe_acute_respiratory_syndrome_coronavirus_2_isolate_SARS-CoV-2/human/USA/VA-DCLS-0459/2020,_complete_genome',\n",
       " 'MT679194.1_|Severe_acute_respiratory_syndrome_coronavirus_2_isolate_SARS-CoV-2/human/USA/VA-DCLS-0460/2020,_complete_genome',\n",
       " 'MT679195.1_|Severe_acute_respiratory_syndrome_coronavirus_2_isolate_SARS-CoV-2/human/USA/VA-DCLS-0462/2020,_complete_genome',\n",
       " 'MT679196.1_|Severe_acute_respiratory_syndrome_coronavirus_2_isolate_SARS-CoV-2/human/USA/VA-DCLS-0466/2020,_complete_genome',\n",
       " 'MT679197.1_|Severe_acute_respiratory_syndrome_coronavirus_2_isolate_SARS-CoV-2/human/USA/NYU-VC-002/2020_ORF1ab_polyprotein_(ORF1ab),_ORF1a_polyprotein_(ORF1ab),_surface_glycoprotein_(S),_ORF3a_protein_(ORF3a),_envelope_protein_(E),_membrane_glycoprotein_(M),_ORF6_protein_(ORF6),_ORF7a_protein_(ORF7a),_ORF7b_(ORF7b),_ORF8_protein_(ORF8),_nucleocapsid_phosphoprotein_(N),_and_ORF10_protein_(ORF10)_genes,_complete_cds',\n",
       " 'MT679198.1_|Severe_acute_respiratory_syndrome_coronavirus_2_isolate_SARS-CoV-2/human/USA/NYU-VC-008/2020,_complete_genome',\n",
       " 'MT679199.1_|Severe_acute_respiratory_syndrome_coronavirus_2_isolate_SARS-CoV-2/human/USA/NYU-VC-009a/2020_ORF1ab_polyprotein_(ORF1ab),_ORF1a_polyprotein_(ORF1ab),_surface_glycoprotein_(S),_ORF3a_protein_(ORF3a),_envelope_protein_(E),_membrane_glycoprotein_(M),_ORF6_protein_(ORF6),_ORF7a_protein_(ORF7a),_ORF7b_(ORF7b),_ORF8_protein_(ORF8),_nucleocapsid_phosphoprotein_(N),_and_ORF10_protein_(ORF10)_genes,_complete_cds',\n",
       " 'MT679200.1_|Severe_acute_respiratory_syndrome_coronavirus_2_isolate_SARS-CoV-2/human/USA/NYU-VC-009b/2020_ORF1ab_polyprotein_(ORF1ab),_ORF1a_polyprotein_(ORF1ab),_surface_glycoprotein_(S),_ORF3a_protein_(ORF3a),_envelope_protein_(E),_membrane_glycoprotein_(M),_ORF6_protein_(ORF6),_ORF7a_protein_(ORF7a),_ORF7b_(ORF7b),_ORF8_protein_(ORF8),_nucleocapsid_phosphoprotein_(N),_and_ORF10_protein_(ORF10)_genes,_complete_cds',\n",
       " 'MT679201.1_|Severe_acute_respiratory_syndrome_coronavirus_2_isolate_SARS-CoV-2/human/USA/NYU-VC-010/2020,_complete_genome',\n",
       " 'MT679202.1_|Severe_acute_respiratory_syndrome_coronavirus_2_isolate_SARS-CoV-2/human/USA/NYU-VC-014/2020,_complete_genome',\n",
       " 'MT679203.1_|Severe_acute_respiratory_syndrome_coronavirus_2_isolate_SARS-CoV-2/human/USA/NYU-VC-015/2020_ORF1ab_polyprotein_(ORF1ab),_ORF1a_polyprotein_(ORF1ab),_surface_glycoprotein_(S),_ORF3a_protein_(ORF3a),_envelope_protein_(E),_membrane_glycoprotein_(M),_ORF6_protein_(ORF6),_ORF7a_protein_(ORF7a),_ORF7b_(ORF7b),_ORF8_protein_(ORF8),_nucleocapsid_phosphoprotein_(N),_and_ORF10_protein_(ORF10)_genes,_complete_cds',\n",
       " 'MT679204.1_|Severe_acute_respiratory_syndrome_coronavirus_2_isolate_SARS-CoV-2/human/USA/NYU-VC-016/2020_ORF1ab_polyprotein_(ORF1ab),_ORF1a_polyprotein_(ORF1ab),_surface_glycoprotein_(S),_ORF3a_protein_(ORF3a),_and_envelope_protein_(E)_genes,_complete_cds;_membrane_glycoprotein_(M)_gene,_partial_cds;_and_ORF7a_protein_(ORF7a),_ORF7b_(ORF7b),_ORF8_protein_(ORF8),_nucleocapsid_phosphoprotein_(N),_and_ORF10_protein_(ORF10)_genes,_complete_cds',\n",
       " 'MT679205.1_|Severe_acute_respiratory_syndrome_coronavirus_2_isolate_SARS-CoV-2/human/USA/NYU-VC-017/2020,_complete_genome',\n",
       " 'MT679206.1_|Severe_acute_respiratory_syndrome_coronavirus_2_isolate_SARS-CoV-2/human/USA/NYU-VC-018/2020,_complete_genome',\n",
       " 'MT679207.1_|Severe_acute_respiratory_syndrome_coronavirus_2_isolate_SARS-CoV-2/human/USA/NYU-VC-020/2020_ORF1ab_polyprotein_(ORF1ab),_ORF1a_polyprotein_(ORF1ab),_surface_glycoprotein_(S),_ORF3a_protein_(ORF3a),_envelope_protein_(E),_membrane_glycoprotein_(M),_ORF6_protein_(ORF6),_ORF7a_protein_(ORF7a),_ORF7b_(ORF7b),_ORF8_protein_(ORF8),_nucleocapsid_phosphoprotein_(N),_and_ORF10_protein_(ORF10)_genes,_complete_cds',\n",
       " 'MT679208.1_|Severe_acute_respiratory_syndrome_coronavirus_2_isolate_SARS-CoV-2/human/USA/NYU-VC-022/2020,_complete_genome',\n",
       " 'MT679209.1_|Severe_acute_respiratory_syndrome_coronavirus_2_isolate_SARS-CoV-2/human/USA/NYU-VC-023/2020_ORF1ab_polyprotein_(ORF1ab)_gene,_complete_cds;_ORF1a_polyprotein_(ORF1ab)_gene,_partial_cds;_and_surface_glycoprotein_(S),_ORF3a_protein_(ORF3a),_envelope_protein_(E),_membrane_glycoprotein_(M),_ORF6_protein_(ORF6),_ORF7a_protein_(ORF7a),_ORF7b_(ORF7b),_ORF8_protein_(ORF8),_nucleocapsid_phosphoprotein_(N),_and_ORF10_protein_(ORF10)_genes,_complete_cds',\n",
       " 'MT680217.1_|Severe_acute_respiratory_syndrome_coronavirus_2_isolate_SARS-CoV-2/human/USA/VA-DCLS-0385/2020,_complete_genome',\n",
       " 'MT680218.1_|Severe_acute_respiratory_syndrome_coronavirus_2_isolate_SARS-CoV-2/human/USA/VA-DCLS-0386/2020,_complete_genome',\n",
       " 'MT680219.1_|Severe_acute_respiratory_syndrome_coronavirus_2_isolate_SARS-CoV-2/human/USA/VA-DCLS-0387/2020,_complete_genome',\n",
       " 'MT680220.1_|Severe_acute_respiratory_syndrome_coronavirus_2_isolate_SARS-CoV-2/human/USA/VA-DCLS-0388/2020,_complete_genome',\n",
       " 'MT680221.1_|Severe_acute_respiratory_syndrome_coronavirus_2_isolate_SARS-CoV-2/human/USA/VA-DCLS-0389/2020,_complete_genome',\n",
       " 'MT680222.1_|Severe_acute_respiratory_syndrome_coronavirus_2_isolate_SARS-CoV-2/human/USA/VA-DCLS-0390/2020,_complete_genome',\n",
       " 'MT680223.1_|Severe_acute_respiratory_syndrome_coronavirus_2_isolate_SARS-CoV-2/human/USA/VA-DCLS-0392/2020,_complete_genome',\n",
       " 'MT680224.1_|Severe_acute_respiratory_syndrome_coronavirus_2_isolate_SARS-CoV-2/human/USA/VA-DCLS-0393/2020,_complete_genome',\n",
       " 'MT680225.1_|Severe_acute_respiratory_syndrome_coronavirus_2_isolate_SARS-CoV-2/human/USA/VA-DCLS-0395/2020,_complete_genome',\n",
       " 'MT680226.1_|Severe_acute_respiratory_syndrome_coronavirus_2_isolate_SARS-CoV-2/human/USA/VA-DCLS-0396/2020,_complete_genome',\n",
       " 'MT680227.1_|Severe_acute_respiratory_syndrome_coronavirus_2_isolate_SARS-CoV-2/human/USA/VA-DCLS-0397/2020,_complete_genome',\n",
       " 'MT680228.1_|Severe_acute_respiratory_syndrome_coronavirus_2_isolate_SARS-CoV-2/human/USA/VA-DCLS-0398/2020,_complete_genome',\n",
       " 'MT680229.1_|Severe_acute_respiratory_syndrome_coronavirus_2_isolate_SARS-CoV-2/human/USA/VA-DCLS-0399/2020,_complete_genome',\n",
       " 'MT680230.1_|Severe_acute_respiratory_syndrome_coronavirus_2_isolate_SARS-CoV-2/human/USA/VA-DCLS-0400/2020,_complete_genome',\n",
       " 'MT680231.1_|Severe_acute_respiratory_syndrome_coronavirus_2_isolate_SARS-CoV-2/human/USA/VA-DCLS-0401/2020,_complete_genome',\n",
       " 'MT680232.1_|Severe_acute_respiratory_syndrome_coronavirus_2_isolate_SARS-CoV-2/human/USA/VA-DCLS-0403/2020,_complete_genome',\n",
       " 'MT680233.1_|Severe_acute_respiratory_syndrome_coronavirus_2_isolate_SARS-CoV-2/human/USA/VA-DCLS-0404/2020,_complete_genome',\n",
       " 'MT680234.1_|Severe_acute_respiratory_syndrome_coronavirus_2_isolate_SARS-CoV-2/human/USA/VA-DCLS-0406/2020,_complete_genome',\n",
       " 'MT680235.1_|Severe_acute_respiratory_syndrome_coronavirus_2_isolate_SARS-CoV-2/human/USA/VA-DCLS-0407/2020,_complete_genome',\n",
       " 'MT680236.1_|Severe_acute_respiratory_syndrome_coronavirus_2_isolate_SARS-CoV-2/human/USA/VA-DCLS-0408/2020,_complete_genome',\n",
       " 'MT680237.1_|Severe_acute_respiratory_syndrome_coronavirus_2_isolate_SARS-CoV-2/human/USA/VA-DCLS-0409/2020,_complete_genome',\n",
       " 'MT680238.1_|Severe_acute_respiratory_syndrome_coronavirus_2_isolate_SARS-CoV-2/human/USA/VA-DCLS-0410/2020,_complete_genome',\n",
       " 'MT680239.1_|Severe_acute_respiratory_syndrome_coronavirus_2_isolate_SARS-CoV-2/human/USA/VA-DCLS-0411/2020,_complete_genome',\n",
       " 'MT680240.1_|Severe_acute_respiratory_syndrome_coronavirus_2_isolate_SARS-CoV-2/human/USA/VA-DCLS-0412/2020,_complete_genome',\n",
       " 'MT680241.1_|Severe_acute_respiratory_syndrome_coronavirus_2_isolate_SARS-CoV-2/human/USA/VA-DCLS-0413/2020,_complete_genome',\n",
       " 'MT680242.1_|Severe_acute_respiratory_syndrome_coronavirus_2_isolate_SARS-CoV-2/human/USA/VA-DCLS-0414/2020,_complete_genome',\n",
       " 'MT609918.1_|Severe_acute_respiratory_syndrome_coronavirus_2_isolate_SARS-CoV-2/human/EGY/CUNCI-HGC4I003/2020,_complete_genome',\n",
       " 'MT610913.1_|Severe_acute_respiratory_syndrome_coronavirus_2_isolate_SARS-CoV-2/human/EGY/CUNCI-HGC4I004/2020,_complete_genome',\n",
       " 'MT611440.1_|Severe_acute_respiratory_syndrome_coronavirus_2_isolate_SARS-CoV-2/human/EGY/CUNCI-HGC4I029/2020,_complete_genome',\n",
       " 'MT611441.1_|Severe_acute_respiratory_syndrome_coronavirus_2_isolate_SARS-CoV-2/human/EGY/CUNCI-HGC4I026/2020,_complete_genome',\n",
       " 'MT611442.1_|Severe_acute_respiratory_syndrome_coronavirus_2_isolate_SARS-CoV-2/human/EGY/CUNCI-HGC4I030/2020,_complete_genome',\n",
       " 'MT611443.1_|Severe_acute_respiratory_syndrome_coronavirus_2_isolate_SARS-CoV-2/human/EGY/CUNCI-HGC4I033/2020,_complete_genome',\n",
       " 'MT611444.1_|Severe_acute_respiratory_syndrome_coronavirus_2_isolate_SARS-CoV-2/human/EGY/CUNCI-HGC4I022/2020,_complete_genome',\n",
       " 'MT611448.1_|Severe_acute_respiratory_syndrome_coronavirus_2_isolate_SARS-CoV-2/human/EGY/CUNCI-HGC4I025/2020,_complete_genome',\n",
       " 'MT611449.1_|Severe_acute_respiratory_syndrome_coronavirus_2_isolate_SARS-CoV-2/human/EGY/CUNCI-HGC4I031/2020,_complete_genome',\n",
       " 'MT611450.1_|Severe_acute_respiratory_syndrome_coronavirus_2_isolate_SARS-CoV-2/human/EGY/CUNCI-HGC4I034/2020,_complete_genome',\n",
       " 'MT611451.1_|Severe_acute_respiratory_syndrome_coronavirus_2_isolate_SARS-CoV-2/human/EGY/CUNCI-HGC4I032/2020,_complete_genome',\n",
       " 'MT611527.1_|Severe_acute_respiratory_syndrome_coronavirus_2_isolate_SARS-CoV-2/human/EGY/CUNCI-HGC5I001/2020,_complete_genome',\n",
       " 'MT611530.1_|Severe_acute_respiratory_syndrome_coronavirus_2_isolate_SARS-CoV-2/human/EGY/CUNCI-HGC5I003/2020,_complete_genome',\n",
       " 'MT611536.1_|Severe_acute_respiratory_syndrome_coronavirus_2_isolate_SARS-CoV-2/human/EGY/CUNCI-HGC5I011/2020,_complete_genome',\n",
       " 'MT611537.1_|Severe_acute_respiratory_syndrome_coronavirus_2_isolate_SARS-CoV-2/human/EGY/CUNCI-HGC5I012/2020,_complete_genome',\n",
       " 'MT611538.1_|Severe_acute_respiratory_syndrome_coronavirus_2_isolate_SARS-CoV-2/human/EGY/CUNCI-HGC5I014/2020,_complete_genome',\n",
       " 'MT611539.1_|Severe_acute_respiratory_syndrome_coronavirus_2_isolate_SARS-CoV-2/human/EGY/CUNCI-HGC5I022/2020,_complete_genome',\n",
       " 'MT611968.1_|Severe_acute_respiratory_syndrome_coronavirus_2_isolate_SARS-CoV-2/human/EGY/CUNCI-HGC5I025/2020,_complete_genome',\n",
       " 'MT614347.1_|Severe_acute_respiratory_syndrome_coronavirus_2_isolate_SARS-CoV-2/human/EGY/CUNCI-HGC5I033/2020,_complete_genome',\n",
       " 'MT614348.1_|Severe_acute_respiratory_syndrome_coronavirus_2_isolate_SARS-CoV-2/human/EGY/CUNCI-HGC6I003/2020,_complete_genome',\n",
       " 'MT614349.1_|Severe_acute_respiratory_syndrome_coronavirus_2_isolate_SARS-CoV-2/human/EGY/CUNCI-HGC6I002/2020,_complete_genome',\n",
       " 'MT614356.1_|Severe_acute_respiratory_syndrome_coronavirus_2_isolate_SARS-CoV-2/human/EGY/CUNCI-HGC5I034/2020,_complete_genome',\n",
       " 'MT614357.1_|Severe_acute_respiratory_syndrome_coronavirus_2_isolate_SARS-CoV-2/human/EGY/CUNCI-HGC5I030/2020,_complete_genome',\n",
       " 'MT614595.1_|Severe_acute_respiratory_syndrome_coronavirus_2_isolate_SARS-CoV-2/human/EGY/CUNCI-HGC6I007/2020,_complete_genome',\n",
       " 'MT614597.1_|Severe_acute_respiratory_syndrome_coronavirus_2_isolate_SARS-CoV-2/human/EGY/CUNCI-HGC6I033/2020,_complete_genome',\n",
       " 'MT614598.1_|Severe_acute_respiratory_syndrome_coronavirus_2_isolate_SARS-CoV-2/human/EGY/CUNCI-HGC6I026/2020,_complete_genome',\n",
       " 'MT614599.1_|Severe_acute_respiratory_syndrome_coronavirus_2_isolate_SARS-CoV-2/human/EGY/CUNCI-HGC6I015/2020,_complete_genome',\n",
       " 'MT614600.1_|Severe_acute_respiratory_syndrome_coronavirus_2_isolate_SARS-CoV-2/human/EGY/CUNCI-HGC6I009/2020,_complete_genome',\n",
       " 'MT614601.1_|Severe_acute_respiratory_syndrome_coronavirus_2_isolate_SARS-CoV-2/human/EGY/CUNCI-HGC6I011/2020,_complete_genome',\n",
       " 'MT648830.1_|Severe_acute_respiratory_syndrome_coronavirus_2_isolate_SARS-CoV-2/human/EGY/CUNCI-HGC4I015/2020,_complete_genome',\n",
       " 'MT658264.1_|Severe_acute_respiratory_syndrome_coronavirus_2_isolate_SARS-CoV-2/human/EGY/CUNCI-HGC4I023/2020,_complete_genome',\n",
       " 'MT658500.1_|Severe_acute_respiratory_syndrome_coronavirus_2_isolate_SARS-CoV-2/human/EGY/CUNCI-HGC5I010/2020,_complete_genome',\n",
       " 'MT658501.1_|Severe_acute_respiratory_syndrome_coronavirus_2_isolate_SARS-CoV-2/human/EGY/CUNCI-HGC5I016/2020,_complete_genome',\n",
       " 'MT658502.1_|Severe_acute_respiratory_syndrome_coronavirus_2_isolate_SARS-CoV-2/human/EGY/CUNCI-HGC6I024/2020,_complete_genome',\n",
       " 'MT658503.1_|Severe_acute_respiratory_syndrome_coronavirus_2_isolate_SARS-CoV-2/human/EGY/CUNCI-HGC6I032/2020,_complete_genome',\n",
       " 'MT658504.1_|Severe_acute_respiratory_syndrome_coronavirus_2_isolate_SARS-CoV-2/human/EGY/CUNCI-HGC5I029/2020,_complete_genome',\n",
       " 'MT658505.1_|Severe_acute_respiratory_syndrome_coronavirus_2_isolate_SARS-CoV-2/human/EGY/CUNCI-HGC5I026/2020,_complete_genome',\n",
       " 'MT675289.1_|Severe_acute_respiratory_syndrome_coronavirus_2_isolate_SARS-CoV-2/human/USA/COVID19-AK141/2020,_complete_genome',\n",
       " 'MT675517.1_|Severe_acute_respiratory_syndrome_coronavirus_2_isolate_SARS-CoV-2/human/USA/COVID19-AK142/2020,_complete_genome',\n",
       " 'MT675933.1_|Severe_acute_respiratory_syndrome_coronavirus_2_isolate_SARS-CoV-2/human/IND/GBRC222a/2020,_complete_genome',\n",
       " 'MT675937.1_|Severe_acute_respiratory_syndrome_coronavirus_2_isolate_SARS-CoV-2/human/IND/GBRC223a/2020,_complete_genome',\n",
       " 'MT675938.1_|Severe_acute_respiratory_syndrome_coronavirus_2_isolate_SARS-CoV-2/human/IND/GBRC224a/2020,_complete_genome',\n",
       " 'MT675939.1_|Severe_acute_respiratory_syndrome_coronavirus_2_isolate_SARS-CoV-2/human/IND/GBRC222b/2020,_complete_genome',\n",
       " 'MT675940.1_|Severe_acute_respiratory_syndrome_coronavirus_2_isolate_SARS-CoV-2/human/IND/GBRC223b/2020,_complete_genome',\n",
       " 'MT675941.1_|Severe_acute_respiratory_syndrome_coronavirus_2_isolate_SARS-CoV-2/human/IND/GBRC224b/2020,_complete_genome',\n",
       " 'MT675942.1_|Severe_acute_respiratory_syndrome_coronavirus_2_isolate_SARS-CoV-2/human/IND/GBRC225b/2020,_complete_genome',\n",
       " 'MT675943.1_|Severe_acute_respiratory_syndrome_coronavirus_2_isolate_SARS-CoV-2/human/IND/GBRC225a/2020,_complete_genome',\n",
       " 'MT675944.1_|Severe_acute_respiratory_syndrome_coronavirus_2_isolate_SARS-CoV-2/human/IND/GBRC228a/2020,_complete_genome',\n",
       " 'MT675945.1_|Severe_acute_respiratory_syndrome_coronavirus_2_isolate_SARS-CoV-2/human/IND/GBRC228b/2020,_complete_genome',\n",
       " 'MT675950.1_|Severe_acute_respiratory_syndrome_coronavirus_2_isolate_SARS-CoV-2/human/IND/GBRC229a/2020,_complete_genome',\n",
       " 'MT675951.1_|Severe_acute_respiratory_syndrome_coronavirus_2_isolate_SARS-CoV-2/human/IND/GBRC230/2020,_complete_genome',\n",
       " 'MT675952.1_|Severe_acute_respiratory_syndrome_coronavirus_2_isolate_SARS-CoV-2/human/IND/GBRC229b/2020,_complete_genome',\n",
       " 'MT675954.1_|Severe_acute_respiratory_syndrome_coronavirus_2_isolate_SARS-CoV-2/human/IND/GBRC231a/2020,_complete_genome',\n",
       " 'MT675955.1_|Severe_acute_respiratory_syndrome_coronavirus_2_isolate_SARS-CoV-2/human/IND/GBRC231b/2020,_complete_genome',\n",
       " 'MT675956.1_|Severe_acute_respiratory_syndrome_coronavirus_2_isolate_SARS-CoV-2/human/TUR/KOC-IST-B303/2020,_complete_genome',\n",
       " 'MT675957.1_|Severe_acute_respiratory_syndrome_coronavirus_2_isolate_SARS-CoV-2/human/IND/GBRC232a/2020,_complete_genome',\n",
       " 'MT675958.1_|Severe_acute_respiratory_syndrome_coronavirus_2_isolate_SARS-CoV-2/human/TUR/KOC-IST-B91/2020,_complete_genome',\n",
       " 'MT675959.1_|Severe_acute_respiratory_syndrome_coronavirus_2_isolate_SARS-CoV-2/human/IND/GBRC232b/2020,_complete_genome',\n",
       " 'MT676013.1_|Severe_acute_respiratory_syndrome_coronavirus_2_isolate_SARS-CoV-2/human/IND/GBRC211/2020,_complete_genome',\n",
       " 'MT676014.1_|Severe_acute_respiratory_syndrome_coronavirus_2_isolate_SARS-CoV-2/human/IND/GBRC212/2020,_complete_genome',\n",
       " 'MT676288.1_|Severe_acute_respiratory_syndrome_coronavirus_2_isolate_SARS-CoV-2/human/IND/GBRC233a/2020,_complete_genome',\n",
       " 'MT676289.1_|Severe_acute_respiratory_syndrome_coronavirus_2_isolate_SARS-CoV-2/human/IND/GBRC236/2020,_complete_genome',\n",
       " 'MT676290.1_|Severe_acute_respiratory_syndrome_coronavirus_2_isolate_SARS-CoV-2/human/IND/GBRC233b/2020,_complete_genome',\n",
       " 'MT676291.1_|Severe_acute_respiratory_syndrome_coronavirus_2_isolate_SARS-CoV-2/human/IND/GBRC235a/2020,_complete_genome',\n",
       " 'MT676366.1_|Severe_acute_respiratory_syndrome_coronavirus_2_isolate_SARS-CoV-2/human/IND/GBRC237b/2020,_complete_genome',\n",
       " 'MT676367.1_|Severe_acute_respiratory_syndrome_coronavirus_2_isolate_SARS-CoV-2/human/IND/GBRC238b/2020,_complete_genome',\n",
       " 'MT676368.1_|Severe_acute_respiratory_syndrome_coronavirus_2_isolate_SARS-CoV-2/human/IND/GBRC200/2020,_complete_genome',\n",
       " 'MT676369.1_|Severe_acute_respiratory_syndrome_coronavirus_2_isolate_SARS-CoV-2/human/IND/GBRC238a/2020,_complete_genome',\n",
       " 'MT676388.1_|Severe_acute_respiratory_syndrome_coronavirus_2_isolate_SARS-CoV-2/human/IND/GBRC237a/2020,_complete_genome',\n",
       " 'MT676389.1_|Severe_acute_respiratory_syndrome_coronavirus_2_isolate_SARS-CoV-2/human/IND/GBRC187a/2020,_complete_genome',\n",
       " 'MT676390.1_|Severe_acute_respiratory_syndrome_coronavirus_2_isolate_SARS-CoV-2/human/IND/GBRC235b/2020,_complete_genome',\n",
       " 'MT676397.1_|Severe_acute_respiratory_syndrome_coronavirus_2_isolate_SARS-CoV-2/human/IND/GBRC189/2020,_complete_genome',\n",
       " 'MT676411.1_|Severe_acute_respiratory_syndrome_coronavirus_2_isolate_SARS-CoV-2/human/BGD/GBL-Mini-6/2020_surface_glycoprotein_(S)_gene,_complete_cds',\n",
       " 'MT614596.1_|Severe_acute_respiratory_syndrome_coronavirus_2_isolate_SARS-CoV-2/human/EGY/CUNCI-HGC6I010/2020,_complete_genome',\n",
       " 'MT669321.1_|Severe_acute_respiratory_syndrome_coronavirus_2_isolate_SARS-CoV-2/human/IND/GBRC203a/2020,_complete_genome',\n",
       " 'MT669322.1_|Severe_acute_respiratory_syndrome_coronavirus_2_isolate_SARS-CoV-2/human/IND/GBRC203b/2020,_complete_genome',\n",
       " 'MT670013.1_|Severe_acute_respiratory_syndrome_coronavirus_2_isolate_SARS-CoV-2/human/CHL/2020-23741/2020,_complete_genome',\n",
       " 'MT670014.1_|Severe_acute_respiratory_syndrome_coronavirus_2_isolate_SARS-CoV-2/human/CHL/2020-25338/2020,_complete_genome',\n",
       " 'MT670015.1_|Severe_acute_respiratory_syndrome_coronavirus_2_isolate_SARS-CoV-2/human/CHL/2020-25343/2020,_complete_genome',\n",
       " 'MT670016.1_|Severe_acute_respiratory_syndrome_coronavirus_2_isolate_SARS-CoV-2/human/CHL/2020-25669/2020_ORF1ab_polyprotein_(ORF1ab),_ORF1a_polyprotein_(ORF1ab),_surface_glycoprotein_(S),_ORF3a_protein_(ORF3a),_envelope_protein_(E),_membrane_glycoprotein_(M),_ORF6_protein_(ORF6),_ORF7a_protein_(ORF7a),_ORF7b_(ORF7b),_ORF8_protein_(ORF8),_nucleocapsid_phosphoprotein_(N),_and_ORF10_protein_(ORF10)_genes,_complete_cds',\n",
       " 'MT670017.1_|Severe_acute_respiratory_syndrome_coronavirus_2_isolate_SARS-CoV-2/human/CHL/2020-26347/2020,_complete_genome',\n",
       " 'MT670018.1_|Severe_acute_respiratory_syndrome_coronavirus_2_isolate_SARS-CoV-2/human/CHL/2020-26639/2020,_complete_genome',\n",
       " 'MT670019.1_|Severe_acute_respiratory_syndrome_coronavirus_2_isolate_SARS-CoV-2/human/CHL/2020-27991/2020,_complete_genome',\n",
       " 'MT670020.1_|Severe_acute_respiratory_syndrome_coronavirus_2_isolate_SARS-CoV-2/human/CHL/2020-28875/2020_ORF1ab_polyprotein_(ORF1ab),_ORF1a_polyprotein_(ORF1ab),_surface_glycoprotein_(S),_ORF3a_protein_(ORF3a),_envelope_protein_(E),_membrane_glycoprotein_(M),_ORF6_protein_(ORF6),_ORF7a_protein_(ORF7a),_ORF7b_(ORF7b),_ORF8_protein_(ORF8),_nucleocapsid_phosphoprotein_(N),_and_ORF10_protein_(ORF10)_genes,_complete_cds',\n",
       " 'MT670021.1_|Severe_acute_respiratory_syndrome_coronavirus_2_isolate_SARS-CoV-2/human/CHL/2020-29192/2020,_complete_genome',\n",
       " 'MT670022.1_|Severe_acute_respiratory_syndrome_coronavirus_2_isolate_SARS-CoV-2/human/CHL/2020-31600/2020,_complete_genome',\n",
       " 'MT670023.1_|Severe_acute_respiratory_syndrome_coronavirus_2_isolate_SARS-CoV-2/human/CHL/2020-32205/2020,_complete_genome',\n",
       " 'MT671810.1_|Severe_acute_respiratory_syndrome_coronavirus_2_isolate_SARS-CoV-2/human/USA/CA-CZB-1751/2020,_complete_genome',\n",
       " 'MT671811.1_|Severe_acute_respiratory_syndrome_coronavirus_2_isolate_SARS-CoV-2/human/USA/CA-CZB-1755/2020,_complete_genome',\n",
       " 'MT671812.1_|Severe_acute_respiratory_syndrome_coronavirus_2_isolate_SARS-CoV-2/human/USA/CA-CZB-1756/2020,_complete_genome',\n",
       " 'MT671813.1_|Severe_acute_respiratory_syndrome_coronavirus_2_isolate_SARS-CoV-2/human/USA/CA-CZB-1757/2020,_complete_genome',\n",
       " 'MT671814.1_|Severe_acute_respiratory_syndrome_coronavirus_2_isolate_SARS-CoV-2/human/USA/CA-CZB-1758/2020,_complete_genome',\n",
       " 'MT671815.1_|Severe_acute_respiratory_syndrome_coronavirus_2_isolate_SARS-CoV-2/human/USA/CA-CZB-1761/2020,_complete_genome',\n",
       " 'MT671816.1_|Severe_acute_respiratory_syndrome_coronavirus_2_isolate_SARS-CoV-2/human/USA/CA-CZB-1762/2020,_complete_genome',\n",
       " 'MT671817.1_|Severe_acute_respiratory_syndrome_coronavirus_2_isolate_SARS-CoV-2/human/USA/CA-CZB-1763/2020,_complete_genome',\n",
       " 'MT671818.1_|Severe_acute_respiratory_syndrome_coronavirus_2_isolate_SARS-CoV-2/human/USA/CA-CZB-1764/2020,_complete_genome',\n",
       " 'MT671819.1_|Severe_acute_respiratory_syndrome_coronavirus_2_isolate_SARS-CoV-2/human/USA/CA-CZB-1765/2020,_complete_genome',\n",
       " 'MT671820.1_|Severe_acute_respiratory_syndrome_coronavirus_2_isolate_SARS-CoV-2/human/USA/CA-CZB-1766/2020,_complete_genome',\n",
       " 'MT671821.1_|Severe_acute_respiratory_syndrome_coronavirus_2_isolate_SARS-CoV-2/human/USA/CA-CZB-1767/2020,_complete_genome',\n",
       " 'MT671822.1_|Severe_acute_respiratory_syndrome_coronavirus_2_isolate_SARS-CoV-2/human/USA/CA-CZB-1768/2020,_complete_genome',\n",
       " 'MT671823.1_|Severe_acute_respiratory_syndrome_coronavirus_2_isolate_SARS-CoV-2/human/USA/CA-CZB-1769/2020,_complete_genome',\n",
       " 'MT671824.1_|Severe_acute_respiratory_syndrome_coronavirus_2_isolate_SARS-CoV-2/human/USA/CA-CZB-1770/2020,_complete_genome',\n",
       " 'MT671825.1_|Severe_acute_respiratory_syndrome_coronavirus_2_isolate_SARS-CoV-2/human/USA/CA-CZB-1771/2020,_complete_genome',\n",
       " 'MT671826.1_|Severe_acute_respiratory_syndrome_coronavirus_2_isolate_SARS-CoV-2/human/USA/CA-CZB-1773/2020,_complete_genome',\n",
       " 'MT671827.1_|Severe_acute_respiratory_syndrome_coronavirus_2_isolate_SARS-CoV-2/human/USA/CA-CZB-1774/2020,_complete_genome',\n",
       " 'MT671828.1_|Severe_acute_respiratory_syndrome_coronavirus_2_isolate_SARS-CoV-2/human/USA/CA-CZB-1775/2020,_complete_genome',\n",
       " 'MT671829.1_|Severe_acute_respiratory_syndrome_coronavirus_2_isolate_SARS-CoV-2/human/USA/CA-CZB-1776/2020_ORF1ab_polyprotein_(ORF1ab),_ORF1a_polyprotein_(ORF1ab),_surface_glycoprotein_(S),_ORF3a_protein_(ORF3a),_envelope_protein_(E),_membrane_glycoprotein_(M),_ORF6_protein_(ORF6),_ORF7a_protein_(ORF7a),_ORF7b_(ORF7b),_ORF8_protein_(ORF8),_nucleocapsid_phosphoprotein_(N),_and_ORF10_protein_(ORF10)_genes,_complete_cds',\n",
       " 'MT664105.1_|Severe_acute_respiratory_syndrome_coronavirus_2_isolate_SARS-CoV-2/human/BGD/BCSIR_NILMRC_021/2020,_complete_genome',\n",
       " 'MT664106.1_|Severe_acute_respiratory_syndrome_coronavirus_2_isolate_SARS-CoV-2/human/BGD/BCSIR_NILMRC_112/2020,_complete_genome',\n",
       " 'MT664107.1_|Severe_acute_respiratory_syndrome_coronavirus_2_isolate_SARS-CoV-2/human/BGD/BCSIR_NILMRC_071/2020,_complete_genome',\n",
       " 'MT664109.1_|Severe_acute_respiratory_syndrome_coronavirus_2_isolate_SARS-CoV-2/human/BGD/BCSIR_NILMRC_025/2020,_complete_genome',\n",
       " 'MT664117.1_|Severe_acute_respiratory_syndrome_coronavirus_2_isolate_SARS-CoV-2/human/IND/GBRC204a/2020,_complete_genome',\n",
       " 'MT664118.1_|Severe_acute_respiratory_syndrome_coronavirus_2_isolate_SARS-CoV-2/human/IND/GBRC204b/2020,_complete_genome',\n",
       " 'MT664143.1_|Severe_acute_respiratory_syndrome_coronavirus_2_isolate_SARS-CoV-2/human/IND/GBRC205a/2020,_complete_genome',\n",
       " 'MT664161.1_|Severe_acute_respiratory_syndrome_coronavirus_2_isolate_SARS-CoV-2/human/IND/GBRC205b/2020,_complete_genome',\n",
       " 'MT664169.1_|Severe_acute_respiratory_syndrome_coronavirus_2_isolate_SARS-CoV-2/human/IND/GBRC206/2020,_complete_genome',\n",
       " 'MT664170.1_|Severe_acute_respiratory_syndrome_coronavirus_2_isolate_SARS-CoV-2/human/IND/GBRC207a/2020,_complete_genome',\n",
       " 'MT664171.1_|Severe_acute_respiratory_syndrome_coronavirus_2_isolate_SARS-CoV-2/human/BGD/BCSIR_NILMRC_113/2020,_complete_genome',\n",
       " 'MT664172.1_|Severe_acute_respiratory_syndrome_coronavirus_2_isolate_SARS-CoV-2/human/IND/GBRC207b/2020,_complete_genome',\n",
       " 'MT664175.1_|Severe_acute_respiratory_syndrome_coronavirus_2_isolate_SARS-CoV-2/human/BGD/BCSIR_NILMRC_108/2020,_complete_genome',\n",
       " 'MT664197.1_|Severe_acute_respiratory_syndrome_coronavirus_2_isolate_SARS-CoV-2/human/IND/GBRC208a/2020,_complete_genome',\n",
       " 'MT664201.1_|Severe_acute_respiratory_syndrome_coronavirus_2_isolate_SARS-CoV-2/human/IND/GBRC208b/2020,_complete_genome',\n",
       " 'MT664202.1_|Severe_acute_respiratory_syndrome_coronavirus_2_isolate_SARS-CoV-2/human/IND/GBRC209a/2020,_complete_genome',\n",
       " 'MT664203.1_|Severe_acute_respiratory_syndrome_coronavirus_2_isolate_SARS-CoV-2/human/IND/GBRC209b/2020,_complete_genome',\n",
       " 'MT664205.1_|Severe_acute_respiratory_syndrome_coronavirus_2_isolate_SARS-CoV-2/human/IND/GBRC210a/2020,_complete_genome',\n",
       " 'MT664209.1_|Severe_acute_respiratory_syndrome_coronavirus_2_isolate_SARS-CoV-2/human/IND/GBRC210b/2020,_complete_genome',\n",
       " 'MT664727.1_|Severe_acute_respiratory_syndrome_coronavirus_2_isolate_SARS-CoV-2/human/IND/GBRC214a/2020,_complete_genome',\n",
       " 'MT664729.1_|Severe_acute_respiratory_syndrome_coronavirus_2_isolate_SARS-CoV-2/human/IND/GBRC214b/2020,_complete_genome',\n",
       " 'MT664774.1_|Severe_acute_respiratory_syndrome_coronavirus_2_isolate_SARS-CoV-2/human/IND/GBRC215/2020,_complete_genome',\n",
       " 'MT664793.1_|Severe_acute_respiratory_syndrome_coronavirus_2_isolate_SARS-CoV-2/human/IND/GBRC213a/2020,_complete_genome',\n",
       " 'MT664795.1_|Severe_acute_respiratory_syndrome_coronavirus_2_isolate_SARS-CoV-2/human/IND/GBRC213b/2020,_complete_genome',\n",
       " 'MT664796.1_|Severe_acute_respiratory_syndrome_coronavirus_2_isolate_SARS-CoV-2/human/IND/GBRC216a/2020,_complete_genome',\n",
       " 'MT664807.1_|Severe_acute_respiratory_syndrome_coronavirus_2_isolate_SARS-CoV-2/human/IND/GBRC194a/2020,_complete_genome',\n",
       " 'MT664808.1_|Severe_acute_respiratory_syndrome_coronavirus_2_isolate_SARS-CoV-2/human/IND/GBRC194b/2020,_complete_genome',\n",
       " 'MT664822.1_|Severe_acute_respiratory_syndrome_coronavirus_2_isolate_SARS-CoV-2/human/IND/GBRC216b/2020,_complete_genome',\n",
       " 'MT664986.1_|Severe_acute_respiratory_syndrome_coronavirus_2_isolate_SARS-CoV-2/human/IND/GBRC217a/2020,_complete_genome',\n",
       " 'MT664990.1_|Severe_acute_respiratory_syndrome_coronavirus_2_isolate_SARS-CoV-2/human/IND/GBRC217b/2020,_complete_genome',\n",
       " 'MT665006.1_|Severe_acute_respiratory_syndrome_coronavirus_2_isolate_SARS-CoV-2/human/IND/GBRC218a/2020,_complete_genome',\n",
       " 'MT665028.1_|Severe_acute_respiratory_syndrome_coronavirus_2_isolate_SARS-CoV-2/human/IND/GBRC218b/2020,_complete_genome',\n",
       " 'MT665970.1_|Severe_acute_respiratory_syndrome_coronavirus_2_isolate_SARS-CoV-2/human/IND/GBRC219a/2020,_complete_genome',\n",
       " 'MT665972.1_|Severe_acute_respiratory_syndrome_coronavirus_2_isolate_SARS-CoV-2/human/IND/GBRC219b/2020,_complete_genome',\n",
       " 'MT665974.1_|Severe_acute_respiratory_syndrome_coronavirus_2_isolate_SARS-CoV-2/human/IND/GBRC220/2020,_complete_genome',\n",
       " 'MT666042.1_|Severe_acute_respiratory_syndrome_coronavirus_2_isolate_SARS-CoV-2/human/IND/GBRC221/2020,_complete_genome',\n",
       " 'MT666068.1_|Severe_acute_respiratory_syndrome_coronavirus_2_isolate_SARS-CoV-2/human/BGD/BCSIR_NILMRC_105/2020,_complete_genome',\n",
       " 'MT666099.1_|Severe_acute_respiratory_syndrome_coronavirus_2_isolate_SARS-CoV-2/human/BGD/BCSIR_NILMRC_115/2020,_complete_genome',\n",
       " 'MT667351.1_|Severe_acute_respiratory_syndrome_coronavirus_2_isolate_SARS-CoV-2/human/BGD/BCSIR_NILMRC_116/2020,_complete_genome',\n",
       " 'MT668716.1_|Severe_acute_respiratory_syndrome_coronavirus_2_isolate_SARS-CoV-2/human/USA/UF-19/2020,_complete_genome',\n",
       " 'MT661524.1_|Severe_acute_respiratory_syndrome_coronavirus_2_isolate_SARS-CoV-2/human/EGY/CUNCI-HGC6I029/2020,_complete_genome',\n",
       " 'MT653094.1_|Severe_acute_respiratory_syndrome_coronavirus_2_isolate_SARS-CoV-2/human/USA/UT-03874/2020,_complete_genome',\n",
       " 'MT653095.1_|Severe_acute_respiratory_syndrome_coronavirus_2_isolate_SARS-CoV-2/human/USA/UT-03885/2020_ORF1ab_polyprotein_(ORF1ab),_ORF1a_polyprotein_(ORF1ab),_surface_glycoprotein_(S),_ORF3a_protein_(ORF3a),_envelope_protein_(E),_membrane_glycoprotein_(M),_and_ORF6_protein_(ORF6)_genes,_complete_cds;_ORF7a_protein_(ORF7a)_and_ORF7b_(ORF7b)_genes,_partial_cds;_and_ORF8_protein_(ORF8),_nucleocapsid_phosphoprotein_(N),_and_ORF10_protein_(ORF10)_genes,_complete_cds',\n",
       " 'MT653096.1_|Severe_acute_respiratory_syndrome_coronavirus_2_isolate_SARS-CoV-2/human/USA/UT-04014/2020_ORF1ab_polyprotein_(ORF1ab)_gene,_complete_cds;_ORF1a_polyprotein_(ORF1ab)_gene,_partial_cds;_surface_glycoprotein_(S),_ORF3a_protein_(ORF3a),_envelope_protein_(E),_membrane_glycoprotein_(M),_and_ORF6_protein_(ORF6)_genes,_complete_cds;_ORF7a_protein_(ORF7a)_and_ORF7b_(ORF7b)_genes,_partial_cds;_and_ORF8_protein_(ORF8),_nucleocapsid_phosphoprotein_(N),_and_ORF10_protein_(ORF10)_genes,_complete_cds',\n",
       " 'MT653097.1_|Severe_acute_respiratory_syndrome_coronavirus_2_isolate_SARS-CoV-2/human/USA/UT-04032/2020,_complete_genome',\n",
       " 'MT653098.1_|Severe_acute_respiratory_syndrome_coronavirus_2_isolate_SARS-CoV-2/human/USA/UT-04033/2020_ORF1ab_polyprotein_(ORF1ab),_ORF1a_polyprotein_(ORF1ab),_surface_glycoprotein_(S),_ORF3a_protein_(ORF3a),_envelope_protein_(E),_membrane_glycoprotein_(M),_ORF6_protein_(ORF6),_ORF7a_protein_(ORF7a),_ORF7b_(ORF7b),_ORF8_protein_(ORF8),_nucleocapsid_phosphoprotein_(N),_and_ORF10_protein_(ORF10)_genes,_complete_cds',\n",
       " 'MT653099.1_|Severe_acute_respiratory_syndrome_coronavirus_2_isolate_SARS-CoV-2/human/USA/UT-04034/2020,_complete_genome',\n",
       " 'MT653100.1_|Severe_acute_respiratory_syndrome_coronavirus_2_isolate_SARS-CoV-2/human/USA/UT-04035/2020_ORF1ab_polyprotein_(ORF1ab)_gene,_complete_cds;_ORF1a_polyprotein_(ORF1ab)_gene,_partial_cds;_surface_glycoprotein_(S),_ORF3a_protein_(ORF3a),_envelope_protein_(E),_membrane_glycoprotein_(M),_and_ORF6_protein_(ORF6)_genes,_complete_cds;_ORF7a_protein_(ORF7a)_and_ORF7b_(ORF7b)_genes,_partial_cds;_and_ORF8_protein_(ORF8),_nucleocapsid_phosphoprotein_(N),_and_ORF10_protein_(ORF10)_genes,_complete_cds',\n",
       " 'MT653101.1_|Severe_acute_respiratory_syndrome_coronavirus_2_isolate_SARS-CoV-2/human/USA/UT-04042/2020_ORF1ab_polyprotein_(ORF1ab)_gene,_complete_cds;_ORF1a_polyprotein_(ORF1ab)_gene,_partial_cds;_surface_glycoprotein_(S),_ORF3a_protein_(ORF3a),_envelope_protein_(E),_membrane_glycoprotein_(M),_and_ORF6_protein_(ORF6)_genes,_complete_cds;_ORF7a_protein_(ORF7a)_and_ORF7b_(ORF7b)_genes,_partial_cds;_and_ORF8_protein_(ORF8),_nucleocapsid_phosphoprotein_(N),_and_ORF10_protein_(ORF10)_genes,_complete_cds',\n",
       " 'MT653102.1_|Severe_acute_respiratory_syndrome_coronavirus_2_isolate_SARS-CoV-2/human/USA/UT-04051/2020_ORF1ab_polyprotein_(ORF1ab)_gene,_complete_cds;_ORF1a_polyprotein_(ORF1ab)_gene,_partial_cds;_surface_glycoprotein_(S),_ORF3a_protein_(ORF3a),_envelope_protein_(E),_membrane_glycoprotein_(M),_and_ORF6_protein_(ORF6)_genes,_complete_cds;_ORF7a_protein_(ORF7a)_and_ORF7b_(ORF7b)_genes,_partial_cds;_and_ORF8_protein_(ORF8),_nucleocapsid_phosphoprotein_(N),_and_ORF10_protein_(ORF10)_genes,_complete_cds',\n",
       " 'MT653103.1_|Severe_acute_respiratory_syndrome_coronavirus_2_isolate_SARS-CoV-2/human/USA/UT-04064/2020_ORF1ab_polyprotein_(ORF1ab)_gene,_complete_cds;_ORF1a_polyprotein_(ORF1ab)_gene,_partial_cds;_surface_glycoprotein_(S),_ORF3a_protein_(ORF3a),_envelope_protein_(E),_membrane_glycoprotein_(M),_and_ORF6_protein_(ORF6)_genes,_complete_cds;_ORF7a_protein_(ORF7a)_and_ORF7b_(ORF7b)_genes,_partial_cds;_and_ORF8_protein_(ORF8),_nucleocapsid_phosphoprotein_(N),_and_ORF10_protein_(ORF10)_genes,_complete_cds',\n",
       " 'MT653104.1_|Severe_acute_respiratory_syndrome_coronavirus_2_isolate_SARS-CoV-2/human/USA/UT-04078/2020_ORF1ab_polyprotein_(ORF1ab)_gene,_complete_cds;_ORF1a_polyprotein_(ORF1ab)_gene,_partial_cds;_surface_glycoprotein_(S),_ORF3a_protein_(ORF3a),_envelope_protein_(E),_membrane_glycoprotein_(M),_and_ORF6_protein_(ORF6)_genes,_complete_cds;_ORF7a_protein_(ORF7a)_and_ORF7b_(ORF7b)_genes,_partial_cds;_and_ORF8_protein_(ORF8),_nucleocapsid_phosphoprotein_(N),_and_ORF10_protein_(ORF10)_genes,_complete_cds',\n",
       " 'MT653105.1_|Severe_acute_respiratory_syndrome_coronavirus_2_isolate_SARS-CoV-2/human/USA/UT-04082/2020_ORF1ab_polyprotein_(ORF1ab),_ORF1a_polyprotein_(ORF1ab),_surface_glycoprotein_(S),_ORF3a_protein_(ORF3a),_envelope_protein_(E),_membrane_glycoprotein_(M),_and_ORF6_protein_(ORF6)_genes,_complete_cds;_ORF7a_protein_(ORF7a)_and_ORF7b_(ORF7b)_genes,_partial_cds;_and_ORF8_protein_(ORF8),_nucleocapsid_phosphoprotein_(N),_and_ORF10_protein_(ORF10)_genes,_complete_cds',\n",
       " 'MT653106.1_|Severe_acute_respiratory_syndrome_coronavirus_2_isolate_SARS-CoV-2/human/USA/UT-04091/2020_ORF1ab_polyprotein_(ORF1ab)_gene,_complete_cds;_ORF1a_polyprotein_(ORF1ab)_gene,_partial_cds;_surface_glycoprotein_(S),_ORF3a_protein_(ORF3a),_envelope_protein_(E),_membrane_glycoprotein_(M),_and_ORF6_protein_(ORF6)_genes,_complete_cds;_ORF7a_protein_(ORF7a)_and_ORF7b_(ORF7b)_genes,_partial_cds;_and_ORF8_protein_(ORF8),_nucleocapsid_phosphoprotein_(N),_and_ORF10_protein_(ORF10)_genes,_complete_cds',\n",
       " 'MT653107.1_|Severe_acute_respiratory_syndrome_coronavirus_2_isolate_SARS-CoV-2/human/USA/UT-04102/2020_ORF1ab_polyprotein_(ORF1ab)_gene,_complete_cds;_ORF1a_polyprotein_(ORF1ab)_gene,_partial_cds;_surface_glycoprotein_(S),_ORF3a_protein_(ORF3a),_envelope_protein_(E),_membrane_glycoprotein_(M),_and_ORF6_protein_(ORF6)_genes,_complete_cds;_ORF7a_protein_(ORF7a)_and_ORF7b_(ORF7b)_genes,_partial_cds;_and_ORF8_protein_(ORF8),_nucleocapsid_phosphoprotein_(N),_and_ORF10_protein_(ORF10)_genes,_complete_cds',\n",
       " 'MT653108.1_|Severe_acute_respiratory_syndrome_coronavirus_2_isolate_SARS-CoV-2/human/USA/UT-04105/2020_ORF1ab_polyprotein_(ORF1ab),_ORF1a_polyprotein_(ORF1ab),_surface_glycoprotein_(S),_ORF3a_protein_(ORF3a),_envelope_protein_(E),_membrane_glycoprotein_(M),_ORF6_protein_(ORF6),_ORF7a_protein_(ORF7a),_ORF7b_(ORF7b),_ORF8_protein_(ORF8),_nucleocapsid_phosphoprotein_(N),_and_ORF10_protein_(ORF10)_genes,_complete_cds',\n",
       " 'MT653109.1_|Severe_acute_respiratory_syndrome_coronavirus_2_isolate_SARS-CoV-2/human/USA/UT-04109/2020_ORF1ab_polyprotein_(ORF1ab)_gene,_complete_cds;_ORF1a_polyprotein_(ORF1ab)_gene,_partial_cds;_surface_glycoprotein_(S),_ORF3a_protein_(ORF3a),_envelope_protein_(E),_membrane_glycoprotein_(M),_and_ORF6_protein_(ORF6)_genes,_complete_cds;_ORF7a_protein_(ORF7a)_and_ORF7b_(ORF7b)_genes,_partial_cds;_and_ORF8_protein_(ORF8),_nucleocapsid_phosphoprotein_(N),_and_ORF10_protein_(ORF10)_genes,_complete_cds',\n",
       " 'MT655131.1_|Severe_acute_respiratory_syndrome_coronavirus_2_isolate_SARS-CoV-2/human/ESP/HUD-70065612/2020,_complete_genome',\n",
       " 'MT655132.1_|Severe_acute_respiratory_syndrome_coronavirus_2_isolate_SARS-CoV-2/human/ESP/HUD-65067673/2020,_complete_genome',\n",
       " 'MT655133.1_|Severe_acute_respiratory_syndrome_coronavirus_2_isolate_SARS-CoV-2/human/ESP/HUD-70063452/2020,_complete_genome',\n",
       " 'MT655134.1_|Severe_acute_respiratory_syndrome_coronavirus_2_isolate_SARS-CoV-2/human/ESP/HUD-96195073/2020,_complete_genome',\n",
       " 'MT655135.1_|Severe_acute_respiratory_syndrome_coronavirus_2_isolate_SARS-CoV-2/human/ESP/HUD-98203801/2020,_complete_genome',\n",
       " 'MT655742.1_|Severe_acute_respiratory_syndrome_coronavirus_2_isolate_SARS-CoV-2/human/BGD/BCSIR_NILMRC_017/2020,_complete_genome',\n",
       " 'MT655743.1_|Severe_acute_respiratory_syndrome_coronavirus_2_isolate_SARS-CoV-2/human/BGD/BCSIR_NILMRC_102/2020,_complete_genome',\n",
       " 'MT655744.1_|Severe_acute_respiratory_syndrome_coronavirus_2_isolate_SARS-CoV-2/human/BGD/BCSIR_NILMRC_109/2020,_complete_genome',\n",
       " 'MT655745.1_|Severe_acute_respiratory_syndrome_coronavirus_2_isolate_SARS-CoV-2/human/BGD/BCSIR_NILMRC_110/2020,_complete_genome',\n",
       " 'MT655746.1_|Severe_acute_respiratory_syndrome_coronavirus_2_isolate_SARS-CoV-2/human/BGD/BCSIR_NILMRC_114/2020,_complete_genome',\n",
       " 'MT655750.1_|Severe_acute_respiratory_syndrome_coronavirus_2_isolate_SARS-CoV-2/human/BGD/BCSIR_NILMRC_101/2020,_complete_genome',\n",
       " 'MT655751.1_|Severe_acute_respiratory_syndrome_coronavirus_2_isolate_SARS-CoV-2/human/BGD/BCSIR_NILMRC_103/2020,_complete_genome',\n",
       " 'MT655948.1_|Severe_acute_respiratory_syndrome_coronavirus_2_isolate_SARS-CoV-2/human/BGD/BCSIR_NILMRC_104/2020,_complete_genome',\n",
       " 'MT656010.1_|Severe_acute_respiratory_syndrome_coronavirus_2_isolate_SARS-CoV-2/human/BGD/BCSIR_NILMRC_094/2020,_complete_genome',\n",
       " 'MT656011.1_|Severe_acute_respiratory_syndrome_coronavirus_2_isolate_SARS-CoV-2/human/BGD/BCSIR_NILMRC_107/2020,_complete_genome',\n",
       " 'MT656256.1_|Severe_acute_respiratory_syndrome_coronavirus_2_isolate_SARS-CoV-2/human/BGD/BCSIR_NILMRC_095/2020,_complete_genome',\n",
       " 'MT656257.1_|Severe_acute_respiratory_syndrome_coronavirus_2_isolate_SARS-CoV-2/human/BGD/BCSIR_NILMRC_111/2020,_complete_genome',\n",
       " 'MT656590.1_|Severe_acute_respiratory_syndrome_coronavirus_2_isolate_SARS-CoV-2/human/BGD/BCSIR_NILMRC_100/2020,_complete_genome',\n",
       " 'MT656591.1_|Severe_acute_respiratory_syndrome_coronavirus_2_isolate_SARS-CoV-2/human/BGD/BCSIR_NILMRC_117/2020,_complete_genome',\n",
       " 'MT657271.1_|Severe_acute_respiratory_syndrome_coronavirus_2_isolate_SARS-CoV-2/human/BGD/BCSIR_NILMRC_096/2020,_complete_genome',\n",
       " 'MT657275.1_|Severe_acute_respiratory_syndrome_coronavirus_2_isolate_SARS-CoV-2/human/BGD/BCSIR_NILMRC_018/2020,_complete_genome',\n",
       " 'MT657958.1_|Severe_acute_respiratory_syndrome_coronavirus_2_isolate_SARS-CoV-2/human/BGD/BCSIR_NILMRC_090/2020,_complete_genome',\n",
       " 'MT658507.1_|Severe_acute_respiratory_syndrome_coronavirus_2_isolate_SARS-CoV-2/human/EGY/CUNCI-HGC5I015/2020,_complete_genome',\n",
       " 'MT658508.1_|Severe_acute_respiratory_syndrome_coronavirus_2_isolate_SARS-CoV-2/human/EGY/CUNCI-HGC6I016/2020,_complete_genome',\n",
       " 'MT658509.1_|Severe_acute_respiratory_syndrome_coronavirus_2_isolate_SARS-CoV-2/human/EGY/CUNCI-HGC6I031/2020,_complete_genome',\n",
       " 'MT646036.1_|Severe_acute_respiratory_syndrome_coronavirus_2_isolate_SARS-CoV-2/human/IRN/Iran/2020_ORF1ab_polyprotein_(ORF1ab),_ORF1a_polyprotein_(ORF1ab),_surface_glycoprotein_(S),_ORF3a_protein_(ORF3a),_and_envelope_protein_(E)_genes,_complete_cds;_membrane_glycoprotein_(M)_gene,_partial_cds;_and_ORF6_protein_(ORF6),_ORF7a_protein_(ORF7a),_ORF7b_(ORF7b),_ORF8_protein_(ORF8),_nucleocapsid_phosphoprotein_(N),_and_ORF10_protein_(ORF10)_genes,_complete_cds',\n",
       " 'MT646048.1_|Severe_acute_respiratory_syndrome_coronavirus_2_isolate_SARS-CoV-2/human/USA/DC-HP00091/2020_ORF1ab_polyprotein_(ORF1ab),_ORF1a_polyprotein_(ORF1ab),_surface_glycoprotein_(S),_ORF3a_protein_(ORF3a),_envelope_protein_(E),_membrane_glycoprotein_(M),_ORF6_protein_(ORF6),_ORF7a_protein_(ORF7a),_ORF7b_(ORF7b),_ORF8_protein_(ORF8),_nucleocapsid_phosphoprotein_(N),_and_ORF10_protein_(ORF10)_genes,_complete_cds',\n",
       " 'MT646049.1_|Severe_acute_respiratory_syndrome_coronavirus_2_isolate_SARS-CoV-2/human/USA/MD-HP00093/2020_ORF1ab_polyprotein_(ORF1ab),_ORF1a_polyprotein_(ORF1ab),_surface_glycoprotein_(S),_ORF3a_protein_(ORF3a),_envelope_protein_(E),_membrane_glycoprotein_(M),_ORF6_protein_(ORF6),_ORF7a_protein_(ORF7a),_ORF7b_(ORF7b),_ORF8_protein_(ORF8),_nucleocapsid_phosphoprotein_(N),_and_ORF10_protein_(ORF10)_genes,_complete_cds',\n",
       " 'MT646050.1_|Severe_acute_respiratory_syndrome_coronavirus_2_isolate_SARS-CoV-2/human/USA/MD-HP00094/2020_ORF1ab_polyprotein_(ORF1ab),_ORF1a_polyprotein_(ORF1ab),_surface_glycoprotein_(S),_ORF3a_protein_(ORF3a),_envelope_protein_(E),_membrane_glycoprotein_(M),_ORF6_protein_(ORF6),_ORF7a_protein_(ORF7a),_ORF7b_(ORF7b),_ORF8_protein_(ORF8),_nucleocapsid_phosphoprotein_(N),_and_ORF10_protein_(ORF10)_genes,_complete_cds',\n",
       " 'MT646051.1_|Severe_acute_respiratory_syndrome_coronavirus_2_isolate_SARS-CoV-2/human/USA/MD-HP00106/2020_ORF1ab_polyprotein_(ORF1ab),_ORF1a_polyprotein_(ORF1ab),_surface_glycoprotein_(S),_ORF3a_protein_(ORF3a),_envelope_protein_(E),_membrane_glycoprotein_(M),_ORF6_protein_(ORF6),_ORF7a_protein_(ORF7a),_ORF7b_(ORF7b),_ORF8_protein_(ORF8),_nucleocapsid_phosphoprotein_(N),_and_ORF10_protein_(ORF10)_genes,_complete_cds',\n",
       " 'MT646052.1_|Severe_acute_respiratory_syndrome_coronavirus_2_isolate_SARS-CoV-2/human/USA/MD-HP00112/2020_ORF1ab_polyprotein_(ORF1ab),_ORF1a_polyprotein_(ORF1ab),_surface_glycoprotein_(S),_ORF3a_protein_(ORF3a),_envelope_protein_(E),_membrane_glycoprotein_(M),_ORF6_protein_(ORF6),_ORF7a_protein_(ORF7a),_ORF7b_(ORF7b),_ORF8_protein_(ORF8),_nucleocapsid_phosphoprotein_(N),_and_ORF10_protein_(ORF10)_genes,_complete_cds',\n",
       " 'MT646053.1_|Severe_acute_respiratory_syndrome_coronavirus_2_isolate_SARS-CoV-2/human/USA/MD-HP00113/2020,_complete_genome',\n",
       " 'MT646054.1_|Severe_acute_respiratory_syndrome_coronavirus_2_isolate_SARS-CoV-2/human/USA/MD-HP00114/2020,_complete_genome',\n",
       " 'MT646055.1_|Severe_acute_respiratory_syndrome_coronavirus_2_isolate_SARS-CoV-2/human/USA/DC-HP00138/2020_ORF1ab_polyprotein_(ORF1ab),_ORF1a_polyprotein_(ORF1ab),_surface_glycoprotein_(S),_ORF3a_protein_(ORF3a),_envelope_protein_(E),_membrane_glycoprotein_(M),_ORF6_protein_(ORF6),_ORF7a_protein_(ORF7a),_ORF7b_(ORF7b),_ORF8_protein_(ORF8),_and_nucleocapsid_phosphoprotein_(N)_genes,_complete_cds;_and_ORF10_protein_(ORF10)_gene,_partial_cds',\n",
       " 'MT646056.1_|Severe_acute_respiratory_syndrome_coronavirus_2_isolate_SARS-CoV-2/human/USA/DC-HP00139/2020_ORF1ab_polyprotein_(ORF1ab),_ORF1a_polyprotein_(ORF1ab),_surface_glycoprotein_(S),_ORF3a_protein_(ORF3a),_envelope_protein_(E),_membrane_glycoprotein_(M),_ORF6_protein_(ORF6),_ORF7a_protein_(ORF7a),_ORF7b_(ORF7b),_ORF8_protein_(ORF8),_and_nucleocapsid_phosphoprotein_(N)_genes,_complete_cds;_and_ORF10_protein_(ORF10)_gene,_partial_cds',\n",
       " 'MT646057.1_|Severe_acute_respiratory_syndrome_coronavirus_2_isolate_SARS-CoV-2/human/USA/MD-HP00140/2020_ORF1ab_polyprotein_(ORF1ab),_ORF1a_polyprotein_(ORF1ab),_surface_glycoprotein_(S),_ORF3a_protein_(ORF3a),_envelope_protein_(E),_membrane_glycoprotein_(M),_ORF6_protein_(ORF6),_ORF7a_protein_(ORF7a),_ORF7b_(ORF7b),_ORF8_protein_(ORF8),_and_nucleocapsid_phosphoprotein_(N)_genes,_complete_cds;_and_ORF10_protein_(ORF10)_gene,_partial_cds',\n",
       " 'MT646058.1_|Severe_acute_respiratory_syndrome_coronavirus_2_isolate_SARS-CoV-2/human/USA/MD-HP00143/2020_ORF1ab_polyprotein_(ORF1ab),_ORF1a_polyprotein_(ORF1ab),_surface_glycoprotein_(S),_ORF3a_protein_(ORF3a),_envelope_protein_(E),_membrane_glycoprotein_(M),_ORF6_protein_(ORF6),_ORF7a_protein_(ORF7a),_ORF7b_(ORF7b),_ORF8_protein_(ORF8),_and_nucleocapsid_phosphoprotein_(N)_genes,_complete_cds;_and_ORF10_protein_(ORF10)_gene,_partial_cds',\n",
       " 'MT646059.1_|Severe_acute_respiratory_syndrome_coronavirus_2_isolate_SARS-CoV-2/human/USA/DC-HP00146/2020_ORF1ab_polyprotein_(ORF1ab)_gene,_partial_cds;_ORF1a_polyprotein_(ORF1ab)_gene,_complete_cds;_surface_glycoprotein_(S)_gene,_partial_cds;_ORF3a_protein_(ORF3a),_envelope_protein_(E),_membrane_glycoprotein_(M),_ORF6_protein_(ORF6),_and_ORF7a_protein_(ORF7a)_genes,_complete_cds;_ORF7b_(ORF7b)_and_ORF8_protein_(ORF8)_genes,_partial_cds;_nucleocapsid_phosphoprotein_(N)_gene,_complete_cds;_and_ORF10_protein_(ORF10)_gene,_partial_cds',\n",
       " 'MT646060.1_|Severe_acute_respiratory_syndrome_coronavirus_2_isolate_SARS-CoV-2/human/USA/MD-HP00147/2020_ORF1ab_polyprotein_(ORF1ab),_ORF1a_polyprotein_(ORF1ab),_surface_glycoprotein_(S),_ORF3a_protein_(ORF3a),_envelope_protein_(E),_membrane_glycoprotein_(M),_ORF6_protein_(ORF6),_ORF7a_protein_(ORF7a),_ORF7b_(ORF7b),_ORF8_protein_(ORF8),_and_nucleocapsid_phosphoprotein_(N)_genes,_complete_cds;_and_ORF10_protein_(ORF10)_gene,_partial_cds',\n",
       " 'MT646061.1_|Severe_acute_respiratory_syndrome_coronavirus_2_isolate_SARS-CoV-2/human/USA/MD-HP00149/2020_ORF1ab_polyprotein_(ORF1ab),_ORF1a_polyprotein_(ORF1ab),_surface_glycoprotein_(S),_ORF3a_protein_(ORF3a),_envelope_protein_(E),_membrane_glycoprotein_(M),_ORF6_protein_(ORF6),_ORF7a_protein_(ORF7a),_ORF7b_(ORF7b),_ORF8_protein_(ORF8),_and_nucleocapsid_phosphoprotein_(N)_genes,_complete_cds;_and_ORF10_protein_(ORF10)_gene,_partial_cds',\n",
       " 'MT646062.1_|Severe_acute_respiratory_syndrome_coronavirus_2_isolate_SARS-CoV-2/human/USA/MD-HP00153/2020_ORF1ab_polyprotein_(ORF1ab),_ORF1a_polyprotein_(ORF1ab),_surface_glycoprotein_(S),_ORF3a_protein_(ORF3a),_envelope_protein_(E),_membrane_glycoprotein_(M),_ORF6_protein_(ORF6),_ORF7a_protein_(ORF7a),_ORF7b_(ORF7b),_ORF8_protein_(ORF8),_and_nucleocapsid_phosphoprotein_(N)_genes,_complete_cds;_and_ORF10_protein_(ORF10)_gene,_partial_cds',\n",
       " 'MT646063.1_|Severe_acute_respiratory_syndrome_coronavirus_2_isolate_SARS-CoV-2/human/USA/MD-HP00159/2020_ORF1ab_polyprotein_(ORF1ab),_ORF1a_polyprotein_(ORF1ab),_surface_glycoprotein_(S),_ORF3a_protein_(ORF3a),_envelope_protein_(E),_membrane_glycoprotein_(M),_ORF6_protein_(ORF6),_ORF7a_protein_(ORF7a),_ORF7b_(ORF7b),_ORF8_protein_(ORF8),_and_nucleocapsid_phosphoprotein_(N)_genes,_complete_cds;_and_ORF10_protein_(ORF10)_gene,_partial_cds',\n",
       " 'MT646064.1_|Severe_acute_respiratory_syndrome_coronavirus_2_isolate_SARS-CoV-2/human/USA/MD-HP00045/2020,_complete_genome',\n",
       " 'MT646065.1_|Severe_acute_respiratory_syndrome_coronavirus_2_isolate_SARS-CoV-2/human/USA/MD-HP00048/2020,_complete_genome',\n",
       " 'MT646066.1_|Severe_acute_respiratory_syndrome_coronavirus_2_isolate_SARS-CoV-2/human/USA/DC-HP00049/2020_ORF1ab_polyprotein_(ORF1ab),_ORF1a_polyprotein_(ORF1ab),_surface_glycoprotein_(S),_ORF3a_protein_(ORF3a),_envelope_protein_(E),_membrane_glycoprotein_(M),_ORF6_protein_(ORF6),_ORF7a_protein_(ORF7a),_ORF7b_(ORF7b),_ORF8_protein_(ORF8),_and_nucleocapsid_phosphoprotein_(N)_genes,_complete_cds;_and_ORF10_protein_(ORF10)_gene,_partial_cds',\n",
       " 'MT646067.1_|Severe_acute_respiratory_syndrome_coronavirus_2_isolate_SARS-CoV-2/human/USA/MD-HP00050/2020_ORF1ab_polyprotein_(ORF1ab),_ORF1a_polyprotein_(ORF1ab),_surface_glycoprotein_(S),_ORF3a_protein_(ORF3a),_envelope_protein_(E),_membrane_glycoprotein_(M),_ORF6_protein_(ORF6),_ORF7a_protein_(ORF7a),_ORF7b_(ORF7b),_ORF8_protein_(ORF8),_and_nucleocapsid_phosphoprotein_(N)_genes,_complete_cds;_and_ORF10_protein_(ORF10)_gene,_partial_cds',\n",
       " 'MT646068.1_|Severe_acute_respiratory_syndrome_coronavirus_2_isolate_SARS-CoV-2/human/USA/MD-HP00051/2020,_complete_genome',\n",
       " 'MT646069.1_|Severe_acute_respiratory_syndrome_coronavirus_2_isolate_SARS-CoV-2/human/USA/DC-HP00052/2020,_complete_genome',\n",
       " 'MT646070.1_|Severe_acute_respiratory_syndrome_coronavirus_2_isolate_SARS-CoV-2/human/USA/MD-HP00055/2020,_complete_genome',\n",
       " 'MT646071.1_|Severe_acute_respiratory_syndrome_coronavirus_2_isolate_SARS-CoV-2/human/USA/MD-HP00057/2020,_complete_genome',\n",
       " 'MT646072.1_|Severe_acute_respiratory_syndrome_coronavirus_2_isolate_SARS-CoV-2/human/USA/MD-HP00058/2020,_complete_genome',\n",
       " 'MT646073.1_|Severe_acute_respiratory_syndrome_coronavirus_2_isolate_SARS-CoV-2/human/USA/DC-HP00059/2020,_complete_genome',\n",
       " 'MT646074.1_|Severe_acute_respiratory_syndrome_coronavirus_2_isolate_SARS-CoV-2/human/USA/MD-HP00061/2020,_complete_genome',\n",
       " 'MT646075.1_|Severe_acute_respiratory_syndrome_coronavirus_2_isolate_SARS-CoV-2/human/USA/DC-HP00063/2020,_complete_genome',\n",
       " 'MT646076.1_|Severe_acute_respiratory_syndrome_coronavirus_2_isolate_SARS-CoV-2/human/USA/MD-HP00064/2020,_complete_genome',\n",
       " 'MT646077.1_|Severe_acute_respiratory_syndrome_coronavirus_2_isolate_SARS-CoV-2/human/USA/MD-HP00065/2020,_complete_genome',\n",
       " 'MT646078.1_|Severe_acute_respiratory_syndrome_coronavirus_2_isolate_SARS-CoV-2/human/USA/MD-HP00067/2020,_complete_genome',\n",
       " 'MT646079.1_|Severe_acute_respiratory_syndrome_coronavirus_2_isolate_SARS-CoV-2/human/USA/DC-HP00116/2020,_complete_genome',\n",
       " 'MT646080.1_|Severe_acute_respiratory_syndrome_coronavirus_2_isolate_SARS-CoV-2/human/USA/DC-HP00117/2020,_complete_genome',\n",
       " 'MT646081.1_|Severe_acute_respiratory_syndrome_coronavirus_2_isolate_SARS-CoV-2/human/USA/MD-HP00118/2020,_complete_genome',\n",
       " 'MT646082.1_|Severe_acute_respiratory_syndrome_coronavirus_2_isolate_SARS-CoV-2/human/USA/MD-HP00119/2020,_complete_genome',\n",
       " 'MT646083.1_|Severe_acute_respiratory_syndrome_coronavirus_2_isolate_SARS-CoV-2/human/USA/MD-HP00120/2020,_complete_genome',\n",
       " 'MT646084.1_|Severe_acute_respiratory_syndrome_coronavirus_2_isolate_SARS-CoV-2/human/USA/DC-HP00122/2020,_complete_genome',\n",
       " 'MT646085.1_|Severe_acute_respiratory_syndrome_coronavirus_2_isolate_SARS-CoV-2/human/USA/MD-HP00123/2020_ORF1ab_polyprotein_(ORF1ab),_ORF1a_polyprotein_(ORF1ab),_surface_glycoprotein_(S),_ORF3a_protein_(ORF3a),_envelope_protein_(E),_membrane_glycoprotein_(M),_ORF6_protein_(ORF6),_ORF7a_protein_(ORF7a),_ORF7b_(ORF7b),_ORF8_protein_(ORF8),_and_nucleocapsid_phosphoprotein_(N)_genes,_complete_cds;_and_ORF10_protein_(ORF10)_gene,_partial_cds',\n",
       " 'MT646086.1_|Severe_acute_respiratory_syndrome_coronavirus_2_isolate_SARS-CoV-2/human/USA/MD-HP00017/2020,_complete_genome',\n",
       " 'MT646087.1_|Severe_acute_respiratory_syndrome_coronavirus_2_isolate_SARS-CoV-2/human/USA/MD-HP00127/2020,_complete_genome',\n",
       " 'MT646088.1_|Severe_acute_respiratory_syndrome_coronavirus_2_isolate_SARS-CoV-2/human/USA/MD-HP00128/2020,_complete_genome',\n",
       " 'MT646089.1_|Severe_acute_respiratory_syndrome_coronavirus_2_isolate_SARS-CoV-2/human/USA/MD-HP00129/2020,_complete_genome',\n",
       " 'MT646090.1_|Severe_acute_respiratory_syndrome_coronavirus_2_isolate_SARS-CoV-2/human/USA/MD-HP00131/2020,_complete_genome',\n",
       " 'MT646091.1_|Severe_acute_respiratory_syndrome_coronavirus_2_isolate_SARS-CoV-2/human/USA/MD-HP00132/2020,_complete_genome',\n",
       " 'MT646092.1_|Severe_acute_respiratory_syndrome_coronavirus_2_isolate_SARS-CoV-2/human/USA/MD-HP00133/2020,_complete_genome',\n",
       " 'MT646093.1_|Severe_acute_respiratory_syndrome_coronavirus_2_isolate_SARS-CoV-2/human/USA/DC-HP00135/2020,_complete_genome',\n",
       " 'MT646094.1_|Severe_acute_respiratory_syndrome_coronavirus_2_isolate_SARS-CoV-2/human/USA/MD-HP00031/2020,_complete_genome',\n",
       " 'MT646095.1_|Severe_acute_respiratory_syndrome_coronavirus_2_isolate_SARS-CoV-2/human/USA/MD-HP00018/2020_ORF1ab_polyprotein_(ORF1ab),_ORF1a_polyprotein_(ORF1ab),_surface_glycoprotein_(S),_ORF3a_protein_(ORF3a),_envelope_protein_(E),_membrane_glycoprotein_(M),_ORF6_protein_(ORF6),_ORF7a_protein_(ORF7a),_ORF7b_(ORF7b),_ORF8_protein_(ORF8),_nucleocapsid_phosphoprotein_(N),_and_ORF10_protein_(ORF10)_genes,_complete_cds',\n",
       " 'MT646096.1_|Severe_acute_respiratory_syndrome_coronavirus_2_isolate_SARS-CoV-2/human/USA/MD-HP00029/2020,_complete_genome',\n",
       " 'MT646097.1_|Severe_acute_respiratory_syndrome_coronavirus_2_isolate_SARS-CoV-2/human/USA/DC-HP00035/2020,_complete_genome',\n",
       " 'MT646098.1_|Severe_acute_respiratory_syndrome_coronavirus_2_isolate_SARS-CoV-2/human/USA/MD-HP00039/2020,_complete_genome',\n",
       " 'MT646099.1_|Severe_acute_respiratory_syndrome_coronavirus_2_isolate_SARS-CoV-2/human/USA/MD-HP00077/2020_ORF1ab_polyprotein_(ORF1ab),_ORF1a_polyprotein_(ORF1ab),_surface_glycoprotein_(S),_ORF3a_protein_(ORF3a),_envelope_protein_(E),_membrane_glycoprotein_(M),_ORF6_protein_(ORF6),_ORF7a_protein_(ORF7a),_ORF7b_(ORF7b),_ORF8_protein_(ORF8),_nucleocapsid_phosphoprotein_(N),_and_ORF10_protein_(ORF10)_genes,_complete_cds',\n",
       " 'MT646100.1_|Severe_acute_respiratory_syndrome_coronavirus_2_isolate_SARS-CoV-2/human/USA/MD-HP00086/2020_ORF1ab_polyprotein_(ORF1ab),_ORF1a_polyprotein_(ORF1ab),_surface_glycoprotein_(S),_ORF3a_protein_(ORF3a),_envelope_protein_(E),_membrane_glycoprotein_(M),_ORF6_protein_(ORF6),_ORF7a_protein_(ORF7a),_ORF7b_(ORF7b),_ORF8_protein_(ORF8),_nucleocapsid_phosphoprotein_(N),_and_ORF10_protein_(ORF10)_genes,_complete_cds',\n",
       " 'MT646101.1_|Severe_acute_respiratory_syndrome_coronavirus_2_isolate_SARS-CoV-2/human/USA/DC-HP00096/2020,_complete_genome',\n",
       " 'MT646102.1_|Severe_acute_respiratory_syndrome_coronavirus_2_isolate_SARS-CoV-2/human/USA/MD-HP00097/2020_ORF1ab_polyprotein_(ORF1ab),_ORF1a_polyprotein_(ORF1ab),_surface_glycoprotein_(S),_ORF3a_protein_(ORF3a),_envelope_protein_(E),_membrane_glycoprotein_(M),_ORF6_protein_(ORF6),_ORF7a_protein_(ORF7a),_ORF7b_(ORF7b),_ORF8_protein_(ORF8),_nucleocapsid_phosphoprotein_(N),_and_ORF10_protein_(ORF10)_genes,_complete_cds',\n",
       " 'MT646103.1_|Severe_acute_respiratory_syndrome_coronavirus_2_isolate_SARS-CoV-2/human/USA/MD-HP00098/2020_ORF1ab_polyprotein_(ORF1ab),_ORF1a_polyprotein_(ORF1ab),_surface_glycoprotein_(S),_ORF3a_protein_(ORF3a),_envelope_protein_(E),_membrane_glycoprotein_(M),_ORF6_protein_(ORF6),_ORF7a_protein_(ORF7a),_ORF7b_(ORF7b),_ORF8_protein_(ORF8),_nucleocapsid_phosphoprotein_(N),_and_ORF10_protein_(ORF10)_genes,_complete_cds',\n",
       " 'MT646104.1_|Severe_acute_respiratory_syndrome_coronavirus_2_isolate_SARS-CoV-2/human/USA/MD-HP00101/2020_ORF1ab_polyprotein_(ORF1ab),_ORF1a_polyprotein_(ORF1ab),_surface_glycoprotein_(S),_ORF3a_protein_(ORF3a),_envelope_protein_(E),_membrane_glycoprotein_(M),_ORF6_protein_(ORF6),_ORF7a_protein_(ORF7a),_ORF7b_(ORF7b),_ORF8_protein_(ORF8),_nucleocapsid_phosphoprotein_(N),_and_ORF10_protein_(ORF10)_genes,_complete_cds',\n",
       " 'MT646105.1_|Severe_acute_respiratory_syndrome_coronavirus_2_isolate_SARS-CoV-2/human/USA/MD-HP00107/2020_ORF1ab_polyprotein_(ORF1ab),_ORF1a_polyprotein_(ORF1ab),_surface_glycoprotein_(S),_ORF3a_protein_(ORF3a),_envelope_protein_(E),_membrane_glycoprotein_(M),_ORF6_protein_(ORF6),_ORF7a_protein_(ORF7a),_ORF7b_(ORF7b),_ORF8_protein_(ORF8),_nucleocapsid_phosphoprotein_(N),_and_ORF10_protein_(ORF10)_genes,_complete_cds',\n",
       " 'MT646106.1_|Severe_acute_respiratory_syndrome_coronavirus_2_isolate_SARS-CoV-2/human/USA/MD-HP00110/2020,_complete_genome',\n",
       " 'MT646107.1_|Severe_acute_respiratory_syndrome_coronavirus_2_isolate_SARS-CoV-2/human/USA/MD-HP00141/2020_ORF1ab_polyprotein_(ORF1ab),_ORF1a_polyprotein_(ORF1ab),_surface_glycoprotein_(S),_ORF3a_protein_(ORF3a),_envelope_protein_(E),_membrane_glycoprotein_(M),_ORF6_protein_(ORF6),_ORF7a_protein_(ORF7a),_ORF7b_(ORF7b),_ORF8_protein_(ORF8),_and_nucleocapsid_phosphoprotein_(N)_genes,_complete_cds;_and_ORF10_protein_(ORF10)_gene,_partial_cds',\n",
       " 'MT646108.1_|Severe_acute_respiratory_syndrome_coronavirus_2_isolate_SARS-CoV-2/human/USA/DC-HP00145/2020_ORF1ab_polyprotein_(ORF1ab),_ORF1a_polyprotein_(ORF1ab),_surface_glycoprotein_(S),_ORF3a_protein_(ORF3a),_envelope_protein_(E),_membrane_glycoprotein_(M),_ORF6_protein_(ORF6),_ORF7a_protein_(ORF7a),_ORF7b_(ORF7b),_ORF8_protein_(ORF8),_and_nucleocapsid_phosphoprotein_(N)_genes,_complete_cds;_and_ORF10_protein_(ORF10)_gene,_partial_cds',\n",
       " 'MT646109.1_|Severe_acute_respiratory_syndrome_coronavirus_2_isolate_SARS-CoV-2/human/USA/MD-HP00148/2020_ORF1ab_polyprotein_(ORF1ab),_ORF1a_polyprotein_(ORF1ab),_surface_glycoprotein_(S),_ORF3a_protein_(ORF3a),_envelope_protein_(E),_membrane_glycoprotein_(M),_ORF6_protein_(ORF6),_ORF7a_protein_(ORF7a),_ORF7b_(ORF7b),_ORF8_protein_(ORF8),_and_nucleocapsid_phosphoprotein_(N)_genes,_complete_cds;_and_ORF10_protein_(ORF10)_gene,_partial_cds',\n",
       " 'MT646110.1_|Severe_acute_respiratory_syndrome_coronavirus_2_isolate_SARS-CoV-2/human/USA/MD-HP00150/2020_ORF1ab_polyprotein_(ORF1ab),_ORF1a_polyprotein_(ORF1ab),_surface_glycoprotein_(S),_ORF3a_protein_(ORF3a),_envelope_protein_(E),_membrane_glycoprotein_(M),_ORF6_protein_(ORF6),_ORF7a_protein_(ORF7a),_ORF7b_(ORF7b),_ORF8_protein_(ORF8),_nucleocapsid_phosphoprotein_(N),_and_ORF10_protein_(ORF10)_genes,_complete_cds',\n",
       " 'MT646111.1_|Severe_acute_respiratory_syndrome_coronavirus_2_isolate_SARS-CoV-2/human/USA/DC-HP00152/2020_ORF1ab_polyprotein_(ORF1ab),_ORF1a_polyprotein_(ORF1ab),_surface_glycoprotein_(S),_ORF3a_protein_(ORF3a),_envelope_protein_(E),_membrane_glycoprotein_(M),_ORF6_protein_(ORF6),_ORF7a_protein_(ORF7a),_ORF7b_(ORF7b),_ORF8_protein_(ORF8),_nucleocapsid_phosphoprotein_(N),_and_ORF10_protein_(ORF10)_genes,_complete_cds',\n",
       " 'MT646112.1_|Severe_acute_respiratory_syndrome_coronavirus_2_isolate_SARS-CoV-2/human/USA/MD-HP00154/2020,_complete_genome',\n",
       " 'MT646113.1_|Severe_acute_respiratory_syndrome_coronavirus_2_isolate_SARS-CoV-2/human/USA/MD-HP00155/2020_ORF1ab_polyprotein_(ORF1ab),_ORF1a_polyprotein_(ORF1ab),_surface_glycoprotein_(S),_ORF3a_protein_(ORF3a),_envelope_protein_(E),_membrane_glycoprotein_(M),_ORF6_protein_(ORF6),_ORF7a_protein_(ORF7a),_ORF7b_(ORF7b),_ORF8_protein_(ORF8),_and_nucleocapsid_phosphoprotein_(N)_genes,_complete_cds;_and_ORF10_protein_(ORF10)_gene,_partial_cds',\n",
       " 'MT646114.1_|Severe_acute_respiratory_syndrome_coronavirus_2_isolate_SARS-CoV-2/human/USA/MD-HP00156/2020_ORF1ab_polyprotein_(ORF1ab),_ORF1a_polyprotein_(ORF1ab),_surface_glycoprotein_(S),_ORF3a_protein_(ORF3a),_envelope_protein_(E),_membrane_glycoprotein_(M),_ORF6_protein_(ORF6),_ORF7a_protein_(ORF7a),_ORF7b_(ORF7b),_ORF8_protein_(ORF8),_nucleocapsid_phosphoprotein_(N),_and_ORF10_protein_(ORF10)_genes,_complete_cds',\n",
       " 'MT646115.1_|Severe_acute_respiratory_syndrome_coronavirus_2_isolate_SARS-CoV-2/human/USA/MD-HP00157/2020_ORF1ab_polyprotein_(ORF1ab),_ORF1a_polyprotein_(ORF1ab),_surface_glycoprotein_(S),_ORF3a_protein_(ORF3a),_envelope_protein_(E),_membrane_glycoprotein_(M),_ORF6_protein_(ORF6),_ORF7a_protein_(ORF7a),_ORF7b_(ORF7b),_ORF8_protein_(ORF8),_and_nucleocapsid_phosphoprotein_(N)_genes,_complete_cds;_and_ORF10_protein_(ORF10)_gene,_partial_cds',\n",
       " 'MT646116.1_|Severe_acute_respiratory_syndrome_coronavirus_2_isolate_SARS-CoV-2/human/USA/MD-HP00158/2020,_complete_genome',\n",
       " 'MT646117.1_|Severe_acute_respiratory_syndrome_coronavirus_2_isolate_SARS-CoV-2/human/USA/DC-HP00054/2020,_complete_genome',\n",
       " 'MT646118.1_|Severe_acute_respiratory_syndrome_coronavirus_2_isolate_SARS-CoV-2/human/USA/MD-HP00060/2020_ORF1ab_polyprotein_(ORF1ab),_ORF1a_polyprotein_(ORF1ab),_surface_glycoprotein_(S),_ORF3a_protein_(ORF3a),_envelope_protein_(E),_membrane_glycoprotein_(M),_ORF6_protein_(ORF6),_ORF7a_protein_(ORF7a),_ORF7b_(ORF7b),_ORF8_protein_(ORF8),_nucleocapsid_phosphoprotein_(N),_and_ORF10_protein_(ORF10)_genes,_complete_cds',\n",
       " 'MT646119.1_|Severe_acute_respiratory_syndrome_coronavirus_2_isolate_SARS-CoV-2/human/USA/MD-HP00062/2020_ORF1ab_polyprotein_(ORF1ab),_ORF1a_polyprotein_(ORF1ab),_surface_glycoprotein_(S),_ORF3a_protein_(ORF3a),_envelope_protein_(E),_membrane_glycoprotein_(M),_ORF6_protein_(ORF6),_ORF7a_protein_(ORF7a),_ORF7b_(ORF7b),_ORF8_protein_(ORF8),_and_nucleocapsid_phosphoprotein_(N)_genes,_complete_cds;_and_ORF10_protein_(ORF10)_gene,_partial_cds',\n",
       " 'MT646120.1_|Severe_acute_respiratory_syndrome_coronavirus_2_isolate_SARS-CoV-2/human/USA/DC-HP00137/2020,_complete_genome',\n",
       " 'MT648676.1_|Severe_acute_respiratory_syndrome_coronavirus_2_isolate_SARS-CoV-2/human/BGD/BCSIR_NILMRC_091/2020,_complete_genome',\n",
       " 'MT641485.1_|Severe_acute_respiratory_syndrome_coronavirus_2_isolate_SARS-CoV-2/human/USA/WA-S709/2020,_complete_genome',\n",
       " 'MT641486.1_|Severe_acute_respiratory_syndrome_coronavirus_2_isolate_SARS-CoV-2/human/USA/WA-S796/2020,_complete_genome',\n",
       " 'MT641487.1_|Severe_acute_respiratory_syndrome_coronavirus_2_isolate_SARS-CoV-2/human/USA/WA-S780/2020_ORF1ab_polyprotein_(ORF1ab),_ORF1a_polyprotein_(ORF1ab),_surface_glycoprotein_(S),_and_ORF3a_protein_(ORF3a)_genes,_complete_cds;_envelope_protein_(E)_gene,_partial_cds;_and_membrane_glycoprotein_(M),_ORF6_protein_(ORF6),_ORF7a_protein_(ORF7a),_ORF7b_(ORF7b),_ORF8_protein_(ORF8),_nucleocapsid_phosphoprotein_(N),_and_ORF10_protein_(ORF10)_genes,_complete_cds',\n",
       " 'MT641488.1_|Severe_acute_respiratory_syndrome_coronavirus_2_isolate_SARS-CoV-2/human/USA/WA-S747/2020,_complete_genome',\n",
       " 'MT641489.1_|Severe_acute_respiratory_syndrome_coronavirus_2_isolate_SARS-CoV-2/human/USA/WA-S761/2020,_complete_genome',\n",
       " 'MT641490.1_|Severe_acute_respiratory_syndrome_coronavirus_2_isolate_SARS-CoV-2/human/USA/WA-S713/2020,_complete_genome',\n",
       " 'MT641491.1_|Severe_acute_respiratory_syndrome_coronavirus_2_isolate_SARS-CoV-2/human/USA/WA-S806/2020_ORF1ab_polyprotein_(ORF1ab),_ORF1a_polyprotein_(ORF1ab),_and_surface_glycoprotein_(S)_genes,_complete_cds;_ORF3a_protein_(ORF3a)_gene,_partial_cds;_membrane_glycoprotein_(M),_ORF6_protein_(ORF6),_ORF7a_protein_(ORF7a),_and_ORF7b_(ORF7b)_genes,_complete_cds;_ORF8_protein_(ORF8)_and_nucleocapsid_phosphoprotein_(N)_genes,_partial_cds;_and_ORF10_protein_(ORF10)_gene,_complete_cds',\n",
       " 'MT641492.1_|Severe_acute_respiratory_syndrome_coronavirus_2_isolate_SARS-CoV-2/human/USA/WA-S800/2020,_complete_genome',\n",
       " 'MT641493.1_|Severe_acute_respiratory_syndrome_coronavirus_2_isolate_SARS-CoV-2/human/USA/WA-S828/2020,_complete_genome',\n",
       " 'MT641494.1_|Severe_acute_respiratory_syndrome_coronavirus_2_isolate_SARS-CoV-2/human/USA/WA-S683/2020,_complete_genome',\n",
       " 'MT641495.1_|Severe_acute_respiratory_syndrome_coronavirus_2_isolate_SARS-CoV-2/human/USA/WA-S805/2020,_complete_genome',\n",
       " 'MT641496.1_|Severe_acute_respiratory_syndrome_coronavirus_2_isolate_SARS-CoV-2/human/USA/WA-S742/2020,_complete_genome',\n",
       " 'MT641497.1_|Severe_acute_respiratory_syndrome_coronavirus_2_isolate_SARS-CoV-2/human/USA/WA-S724/2020,_complete_genome',\n",
       " 'MT641498.1_|Severe_acute_respiratory_syndrome_coronavirus_2_isolate_SARS-CoV-2/human/USA/WA-S769/2020,_complete_genome',\n",
       " 'MT641499.1_|Severe_acute_respiratory_syndrome_coronavirus_2_isolate_SARS-CoV-2/human/USA/WA-S752/2020,_complete_genome',\n",
       " 'MT641500.1_|Severe_acute_respiratory_syndrome_coronavirus_2_isolate_SARS-CoV-2/human/USA/WA-S737/2020,_complete_genome',\n",
       " 'MT641501.1_|Severe_acute_respiratory_syndrome_coronavirus_2_isolate_SARS-CoV-2/human/USA/WA-S791/2020,_complete_genome',\n",
       " 'MT641502.1_|Severe_acute_respiratory_syndrome_coronavirus_2_isolate_SARS-CoV-2/human/USA/WA-S689/2020,_complete_genome',\n",
       " 'MT641503.1_|Severe_acute_respiratory_syndrome_coronavirus_2_isolate_SARS-CoV-2/human/USA/WA-S820/2020,_complete_genome',\n",
       " 'MT641504.1_|Severe_acute_respiratory_syndrome_coronavirus_2_isolate_SARS-CoV-2/human/USA/WA-S688/2020,_complete_genome',\n",
       " 'MT641505.1_|Severe_acute_respiratory_syndrome_coronavirus_2_isolate_SARS-CoV-2/human/USA/WA-S817/2020,_complete_genome',\n",
       " 'MT641506.1_|Severe_acute_respiratory_syndrome_coronavirus_2_isolate_SARS-CoV-2/human/USA/WA-S680/2020,_complete_genome',\n",
       " 'MT641507.1_|Severe_acute_respiratory_syndrome_coronavirus_2_isolate_SARS-CoV-2/human/USA/WA-S746/2020_ORF1ab_polyprotein_(ORF1ab),_ORF1a_polyprotein_(ORF1ab),_surface_glycoprotein_(S),_ORF3a_protein_(ORF3a),_and_envelope_protein_(E)_genes,_complete_cds;_membrane_glycoprotein_(M)_gene,_partial_cds;_and_ORF6_protein_(ORF6),_ORF7a_protein_(ORF7a),_ORF7b_(ORF7b),_ORF8_protein_(ORF8),_nucleocapsid_phosphoprotein_(N),_and_ORF10_protein_(ORF10)_genes,_complete_cds',\n",
       " 'MT641508.1_|Severe_acute_respiratory_syndrome_coronavirus_2_isolate_SARS-CoV-2/human/USA/WA-S751/2020,_complete_genome',\n",
       " 'MT641509.1_|Severe_acute_respiratory_syndrome_coronavirus_2_isolate_SARS-CoV-2/human/USA/WA-S695/2020,_complete_genome',\n",
       " 'MT641510.1_|Severe_acute_respiratory_syndrome_coronavirus_2_isolate_SARS-CoV-2/human/USA/WA-S813/2020,_complete_genome',\n",
       " 'MT641511.1_|Severe_acute_respiratory_syndrome_coronavirus_2_isolate_SARS-CoV-2/human/USA/WA-S824/2020,_complete_genome',\n",
       " 'MT641512.1_|Severe_acute_respiratory_syndrome_coronavirus_2_isolate_SARS-CoV-2/human/USA/WA-S826/2020,_complete_genome',\n",
       " 'MT641513.1_|Severe_acute_respiratory_syndrome_coronavirus_2_isolate_SARS-CoV-2/human/USA/WA-S692/2020,_complete_genome',\n",
       " 'MT641514.1_|Severe_acute_respiratory_syndrome_coronavirus_2_isolate_SARS-CoV-2/human/USA/WA-S669/2020,_complete_genome',\n",
       " 'MT641515.1_|Severe_acute_respiratory_syndrome_coronavirus_2_isolate_SARS-CoV-2/human/USA/WA-S741/2020,_complete_genome',\n",
       " 'MT641516.1_|Severe_acute_respiratory_syndrome_coronavirus_2_isolate_SARS-CoV-2/human/USA/WA-S753/2020,_complete_genome',\n",
       " 'MT641517.1_|Severe_acute_respiratory_syndrome_coronavirus_2_isolate_SARS-CoV-2/human/USA/WA-S788/2020,_complete_genome',\n",
       " 'MT641518.1_|Severe_acute_respiratory_syndrome_coronavirus_2_isolate_SARS-CoV-2/human/USA/WA-S733/2020,_complete_genome',\n",
       " 'MT641519.1_|Severe_acute_respiratory_syndrome_coronavirus_2_isolate_SARS-CoV-2/human/USA/WA-S697/2020,_complete_genome',\n",
       " 'MT641520.1_|Severe_acute_respiratory_syndrome_coronavirus_2_isolate_SARS-CoV-2/human/USA/WA-S687/2020,_complete_genome',\n",
       " 'MT641521.1_|Severe_acute_respiratory_syndrome_coronavirus_2_isolate_SARS-CoV-2/human/USA/WA-S819/2020,_complete_genome',\n",
       " 'MT641522.1_|Severe_acute_respiratory_syndrome_coronavirus_2_isolate_SARS-CoV-2/human/USA/WA-S671/2020,_complete_genome',\n",
       " 'MT641523.1_|Severe_acute_respiratory_syndrome_coronavirus_2_isolate_SARS-CoV-2/human/USA/WA-S831/2020,_complete_genome',\n",
       " 'MT641524.1_|Severe_acute_respiratory_syndrome_coronavirus_2_isolate_SARS-CoV-2/human/USA/WA-S801/2020,_complete_genome',\n",
       " 'MT641525.1_|Severe_acute_respiratory_syndrome_coronavirus_2_isolate_SARS-CoV-2/human/USA/WA-S748/2020,_complete_genome',\n",
       " 'MT641526.1_|Severe_acute_respiratory_syndrome_coronavirus_2_isolate_SARS-CoV-2/human/USA/WA-S727/2020,_complete_genome',\n",
       " 'MT641527.1_|Severe_acute_respiratory_syndrome_coronavirus_2_isolate_SARS-CoV-2/human/USA/WA-S740/2020,_complete_genome',\n",
       " 'MT641528.1_|Severe_acute_respiratory_syndrome_coronavirus_2_isolate_SARS-CoV-2/human/USA/WA-S809/2020,_complete_genome',\n",
       " 'MT641529.1_|Severe_acute_respiratory_syndrome_coronavirus_2_isolate_SARS-CoV-2/human/USA/WA-S759/2020,_complete_genome',\n",
       " 'MT641530.1_|Severe_acute_respiratory_syndrome_coronavirus_2_isolate_SARS-CoV-2/human/USA/WA-S681/2020,_complete_genome',\n",
       " 'MT641531.1_|Severe_acute_respiratory_syndrome_coronavirus_2_isolate_SARS-CoV-2/human/USA/WA-S782/2020_ORF1ab_polyprotein_(ORF1ab),_ORF1a_polyprotein_(ORF1ab),_surface_glycoprotein_(S),_ORF3a_protein_(ORF3a),_and_envelope_protein_(E)_genes,_complete_cds;_membrane_glycoprotein_(M)_gene,_partial_cds;_and_ORF6_protein_(ORF6),_ORF7a_protein_(ORF7a),_ORF7b_(ORF7b),_ORF8_protein_(ORF8),_nucleocapsid_phosphoprotein_(N),_and_ORF10_protein_(ORF10)_genes,_complete_cds',\n",
       " 'MT641532.1_|Severe_acute_respiratory_syndrome_coronavirus_2_isolate_SARS-CoV-2/human/USA/WA-S728/2020,_complete_genome',\n",
       " 'MT641533.1_|Severe_acute_respiratory_syndrome_coronavirus_2_isolate_SARS-CoV-2/human/USA/WA-S736/2020,_complete_genome',\n",
       " 'MT641534.1_|Severe_acute_respiratory_syndrome_coronavirus_2_isolate_SARS-CoV-2/human/USA/WA-S739/2020,_complete_genome',\n",
       " 'MT641535.1_|Severe_acute_respiratory_syndrome_coronavirus_2_isolate_SARS-CoV-2/human/USA/WA-S715/2020,_complete_genome',\n",
       " 'MT641536.1_|Severe_acute_respiratory_syndrome_coronavirus_2_isolate_SARS-CoV-2/human/USA/WA-S730/2020,_complete_genome',\n",
       " 'MT641537.1_|Severe_acute_respiratory_syndrome_coronavirus_2_isolate_SARS-CoV-2/human/USA/WA-S714/2020,_complete_genome',\n",
       " 'MT641538.1_|Severe_acute_respiratory_syndrome_coronavirus_2_isolate_SARS-CoV-2/human/USA/WA-S792/2020,_complete_genome',\n",
       " 'MT641539.1_|Severe_acute_respiratory_syndrome_coronavirus_2_isolate_SARS-CoV-2/human/USA/WA-S711/2020,_complete_genome',\n",
       " 'MT641540.1_|Severe_acute_respiratory_syndrome_coronavirus_2_isolate_SARS-CoV-2/human/USA/WA-S770/2020,_complete_genome',\n",
       " 'MT641541.1_|Severe_acute_respiratory_syndrome_coronavirus_2_isolate_SARS-CoV-2/human/USA/WA-S744/2020,_complete_genome',\n",
       " 'MT641542.1_|Severe_acute_respiratory_syndrome_coronavirus_2_isolate_SARS-CoV-2/human/USA/WA-S721/2020,_complete_genome',\n",
       " 'MT641543.1_|Severe_acute_respiratory_syndrome_coronavirus_2_isolate_SARS-CoV-2/human/USA/WA-S731/2020,_complete_genome',\n",
       " 'MT641544.1_|Severe_acute_respiratory_syndrome_coronavirus_2_isolate_SARS-CoV-2/human/USA/WA-S732/2020,_complete_genome',\n",
       " 'MT641545.1_|Severe_acute_respiratory_syndrome_coronavirus_2_isolate_SARS-CoV-2/human/USA/WA-S758/2020,_complete_genome',\n",
       " 'MT641546.1_|Severe_acute_respiratory_syndrome_coronavirus_2_isolate_SARS-CoV-2/human/USA/WA-S691/2020,_complete_genome',\n",
       " 'MT641547.1_|Severe_acute_respiratory_syndrome_coronavirus_2_isolate_SARS-CoV-2/human/USA/WA-S787/2020,_complete_genome',\n",
       " 'MT641548.1_|Severe_acute_respiratory_syndrome_coronavirus_2_isolate_SARS-CoV-2/human/USA/WA-S699/2020,_complete_genome',\n",
       " 'MT641549.1_|Severe_acute_respiratory_syndrome_coronavirus_2_isolate_SARS-CoV-2/human/USA/WA-S812/2020,_complete_genome',\n",
       " 'MT641550.1_|Severe_acute_respiratory_syndrome_coronavirus_2_isolate_SARS-CoV-2/human/USA/WA-S816/2020,_complete_genome',\n",
       " 'MT641551.1_|Severe_acute_respiratory_syndrome_coronavirus_2_isolate_SARS-CoV-2/human/USA/WA-S672/2020,_complete_genome',\n",
       " 'MT641552.1_|Severe_acute_respiratory_syndrome_coronavirus_2_isolate_SARS-CoV-2/human/USA/WA-S674/2020,_complete_genome',\n",
       " 'MT641553.1_|Severe_acute_respiratory_syndrome_coronavirus_2_isolate_SARS-CoV-2/human/USA/WA-S811/2020,_complete_genome',\n",
       " 'MT641554.1_|Severe_acute_respiratory_syndrome_coronavirus_2_isolate_SARS-CoV-2/human/USA/WA-S726/2020,_complete_genome',\n",
       " 'MT641555.1_|Severe_acute_respiratory_syndrome_coronavirus_2_isolate_SARS-CoV-2/human/USA/WA-S823/2020,_complete_genome',\n",
       " 'MT641556.1_|Severe_acute_respiratory_syndrome_coronavirus_2_isolate_SARS-CoV-2/human/USA/WA-S754/2020,_complete_genome',\n",
       " 'MT641557.1_|Severe_acute_respiratory_syndrome_coronavirus_2_isolate_SARS-CoV-2/human/USA/WA-S798/2020,_complete_genome',\n",
       " 'MT641558.1_|Severe_acute_respiratory_syndrome_coronavirus_2_isolate_SARS-CoV-2/human/USA/WA-S763/2020,_complete_genome',\n",
       " 'MT641559.1_|Severe_acute_respiratory_syndrome_coronavirus_2_isolate_SARS-CoV-2/human/USA/WA-S766/2020,_complete_genome',\n",
       " 'MT641560.1_|Severe_acute_respiratory_syndrome_coronavirus_2_isolate_SARS-CoV-2/human/USA/WA-S808/2020,_complete_genome',\n",
       " 'MT641561.1_|Severe_acute_respiratory_syndrome_coronavirus_2_isolate_SARS-CoV-2/human/USA/WA-S794/2020,_complete_genome',\n",
       " 'MT641562.1_|Severe_acute_respiratory_syndrome_coronavirus_2_isolate_SARS-CoV-2/human/USA/WA-S790/2020,_complete_genome',\n",
       " 'MT641563.1_|Severe_acute_respiratory_syndrome_coronavirus_2_isolate_SARS-CoV-2/human/USA/WA-S765/2020,_complete_genome',\n",
       " 'MT641564.1_|Severe_acute_respiratory_syndrome_coronavirus_2_isolate_SARS-CoV-2/human/USA/WA-S707/2020,_complete_genome',\n",
       " 'MT641565.1_|Severe_acute_respiratory_syndrome_coronavirus_2_isolate_SARS-CoV-2/human/USA/WA-S745/2020,_complete_genome',\n",
       " 'MT641566.1_|Severe_acute_respiratory_syndrome_coronavirus_2_isolate_SARS-CoV-2/human/USA/WA-S735/2020,_complete_genome',\n",
       " ...]"
      ]
     },
     "execution_count": 48,
     "metadata": {},
     "output_type": "execute_result"
    }
   ],
   "source": [
    "list(df_metadata.index)"
   ]
  },
  {
   "cell_type": "code",
   "execution_count": 49,
   "metadata": {},
   "outputs": [
    {
     "data": {
      "text/plain": [
       "NC_045512.2_|Severe_acute_respiratory_syndrome_coronavirus_2_isolate_Wuhan-Hu-1,_complete_genome                                                                                                                                                                                                                                                                                                                                                                                    NC\n",
       "MT712208.1_|Severe_acute_respiratory_syndrome_coronavirus_2_isolate_SARS-CoV-2/human/VNM/NIHE/2020_ORF1a_polyprotein_(ORF1ab)_and_ORF1ab_polyprotein_(ORF1ab)_genes,_partial_cds                                                                                                                                                                                                                                                                                            MT712208.1\n",
       "MT706050.1_|Severe_acute_respiratory_syndrome_coronavirus_2_isolate_SARS-CoV-2/human/NZL/20CHL869065O/2020,_complete_genome                                                                                                                                                                                                                                                                                                                                                 MT706050.1\n",
       "MT706132.1_|Severe_acute_respiratory_syndrome_coronavirus_2_isolate_SARS-CoV-2/human/USA/WI-UW-04/2020,_complete_genome                                                                                                                                                                                                                                                                                                                                                     MT706132.1\n",
       "MT706133.1_|Severe_acute_respiratory_syndrome_coronavirus_2_isolate_SARS-CoV-2/human/USA/WI-UW-11/2020,_complete_genome                                                                                                                                                                                                                                                                                                                                                     MT706133.1\n",
       "                                                                                                                                                                                                                                                                                                                                                                                                                                                                               ...    \n",
       "ENA|MT536954|MT536954.1_Severe_acute_respiratory_syndrome_coronavirus_2_isolate_SARS-CoV-2/Human/USA/UT-01677/2020_ORF1ab_polyprotein_(ORF1ab),_ORF1a_polyprotein_(ORF1ab),_surface_glycoprotein_(S),_ORF3a_protein_(ORF3a),_envelope_protein_(E),_membrane_glycoprotein_(M),_ORF6_protein_(ORF6),_ORF7a_protein_(ORF7a),_ORF7b_(ORF7b),_ORF8_protein_(ORF8),_nucleocapsid_phosphoprotein_(N),_and_ORF10_protein_(ORF10)_genes,_complete_cds.                               MT536954.1\n",
       "ENA|MN938389|MN938389.1_Severe_acute_respiratory_syndrome_coronavirus_2_isolate_2019-nCoV_HKU-SZ-004_2020_surface_glycoprotein_(S)_gene,_partial_cds.                                                                                                                                                                                                                                                                                                                       MN938389.1\n",
       "ENA|MT215193|MT215193.1_Severe_acute_respiratory_syndrome_coronavirus_2_isolate_SARS-CoV-2/canine/HKG/20-02756/2020_ORF1ab_polyprotein_(ORF1ab)_and_ORF1a_polyprotein_(ORF1ab)_genes,_partial_cds;_and_surface_glycoprotein_(S),_ORF3a_protein_(ORF3a),_envelope_protein_(E),_membrane_glycoprotein_(M),_ORF6_protein_(ORF6),_ORF7a_protein_(ORF7a),_ORF7b_(ORF7b),_ORF8_protein_(ORF8),_nucleocapsid_phosphoprotein_(N),_and_ORF10_protein_(ORF10)_genes,_complete_cds.    MT215193.1\n",
       "ENA|MT233520|MT233520.1_Severe_acute_respiratory_syndrome_coronavirus_2_isolate_SARS-CoV-2/human/ESP/Valencia4/2020,_partial_genome.                                                                                                                                                                                                                                                                                                                                        MT233520.1\n",
       "ENA|MT233526|MT233526.1_Severe_acute_respiratory_syndrome_coronavirus_2_strain_FDAARGOS_983_isolate_2019-nCoV/USA-WA1/2020,_complete_genome.                                                                                                                                                                                                                                                                                                                                MT233526.1\n",
       "Length: 17278, dtype: object"
      ]
     },
     "execution_count": 49,
     "metadata": {},
     "output_type": "execute_result"
    }
   ],
   "source": [
    "access_series"
   ]
  },
  {
   "cell_type": "code",
   "execution_count": 51,
   "metadata": {},
   "outputs": [],
   "source": [
    "not_hcov = [i for i in df_metadata.index if not i.strip('>').startswith(\"h\")]"
   ]
  },
  {
   "cell_type": "code",
   "execution_count": 52,
   "metadata": {},
   "outputs": [
    {
     "data": {
      "text/plain": [
       "8744"
      ]
     },
     "execution_count": 52,
     "metadata": {},
     "output_type": "execute_result"
    }
   ],
   "source": [
    "len(not_hcov)"
   ]
  },
  {
   "cell_type": "code",
   "execution_count": 69,
   "metadata": {},
   "outputs": [],
   "source": [
    "new_access = access_series[not_hcov]"
   ]
  },
  {
   "cell_type": "code",
   "execution_count": 70,
   "metadata": {},
   "outputs": [
    {
     "data": {
      "text/plain": [
       "8744"
      ]
     },
     "execution_count": 70,
     "metadata": {},
     "output_type": "execute_result"
    }
   ],
   "source": [
    "len(np.unique(new_access.values))"
   ]
  },
  {
   "cell_type": "code",
   "execution_count": 71,
   "metadata": {},
   "outputs": [],
   "source": [
    "new_access_values = np.array([i.split('.')[0] for i in new_access.values])"
   ]
  },
  {
   "cell_type": "code",
   "execution_count": 72,
   "metadata": {},
   "outputs": [
    {
     "name": "stdout",
     "output_type": "stream",
     "text": [
      "8744\n",
      "8744\n"
     ]
    }
   ],
   "source": [
    "print(len(new_access_values))\n",
    "print(len(np.unique(new_access_values)))"
   ]
  },
  {
   "cell_type": "code",
   "execution_count": 73,
   "metadata": {},
   "outputs": [
    {
     "data": {
      "text/plain": [
       "array(['MT712208', 'MT706050', 'MT706132', 'MT706133', 'MT706134'],\n",
       "      dtype='<U8')"
      ]
     },
     "execution_count": 73,
     "metadata": {},
     "output_type": "execute_result"
    }
   ],
   "source": [
    "new_access_values[:5]"
   ]
  },
  {
   "cell_type": "code",
   "execution_count": 74,
   "metadata": {},
   "outputs": [],
   "source": [
    "new_access = pd.Series(index=new_access_values, data=new_access.index)"
   ]
  },
  {
   "cell_type": "code",
   "execution_count": 75,
   "metadata": {},
   "outputs": [
    {
     "data": {
      "text/plain": [
       "MT712208    MT712208.1_|Severe_acute_respiratory_syndrome_...\n",
       "MT706050    MT706050.1_|Severe_acute_respiratory_syndrome_...\n",
       "MT706132    MT706132.1_|Severe_acute_respiratory_syndrome_...\n",
       "MT706133    MT706133.1_|Severe_acute_respiratory_syndrome_...\n",
       "MT706134    MT706134.1_|Severe_acute_respiratory_syndrome_...\n",
       "dtype: object"
      ]
     },
     "execution_count": 75,
     "metadata": {},
     "output_type": "execute_result"
    }
   ],
   "source": [
    "new_access.head()"
   ]
  },
  {
   "cell_type": "code",
   "execution_count": null,
   "metadata": {},
   "outputs": [],
   "source": []
  },
  {
   "cell_type": "code",
   "execution_count": 67,
   "metadata": {},
   "outputs": [],
   "source": [
    "time_df = time_df.iloc[1:,:]['Collection_Date']"
   ]
  },
  {
   "cell_type": "code",
   "execution_count": 76,
   "metadata": {},
   "outputs": [
    {
     "data": {
      "text/plain": [
       "Accession\n",
       "MT712208    2020-02-10\n",
       "MT706050    2020-03-21\n",
       "MT706132    2020-03-15\n",
       "MT706133    2020-03-15\n",
       "MT706134    2020-03-16\n",
       "               ...    \n",
       "MT416726           NaN\n",
       "MT507793    2020-03-11\n",
       "MT507794    2020-03-16\n",
       "MT507795    2020-04-06\n",
       "MT507796    2020-04-01\n",
       "Name: Collection_Date, Length: 8744, dtype: object"
      ]
     },
     "execution_count": 76,
     "metadata": {},
     "output_type": "execute_result"
    }
   ],
   "source": [
    "time_df = time_df[new_access_values]\n",
    "time_df"
   ]
  },
  {
   "cell_type": "code",
   "execution_count": 77,
   "metadata": {},
   "outputs": [
    {
     "data": {
      "text/plain": [
       "Accession\n",
       "MT712208    2020-02-10\n",
       "MT706050    2020-03-21\n",
       "MT706132    2020-03-15\n",
       "MT706133    2020-03-15\n",
       "MT706134    2020-03-16\n",
       "               ...    \n",
       "MN985325    2020-01-19\n",
       "MT507793    2020-03-11\n",
       "MT507794    2020-03-16\n",
       "MT507795    2020-04-06\n",
       "MT507796    2020-04-01\n",
       "Name: Collection_Date, Length: 8742, dtype: object"
      ]
     },
     "execution_count": 77,
     "metadata": {},
     "output_type": "execute_result"
    }
   ],
   "source": [
    "time_df = time_df.dropna()\n",
    "time_df"
   ]
  },
  {
   "cell_type": "code",
   "execution_count": 79,
   "metadata": {},
   "outputs": [
    {
     "data": {
      "text/plain": [
       "MT712208.1_|Severe_acute_respiratory_syndrome_coronavirus_2_isolate_SARS-CoV-2/human/VNM/NIHE/2020_ORF1a_polyprotein_(ORF1ab)_and_ORF1ab_polyprotein_(ORF1ab)_genes,_partial_cds    2020-02-10\n",
       "MT706050.1_|Severe_acute_respiratory_syndrome_coronavirus_2_isolate_SARS-CoV-2/human/NZL/20CHL869065O/2020,_complete_genome                                                         2020-03-21\n",
       "MT706132.1_|Severe_acute_respiratory_syndrome_coronavirus_2_isolate_SARS-CoV-2/human/USA/WI-UW-04/2020,_complete_genome                                                             2020-03-15\n",
       "MT706133.1_|Severe_acute_respiratory_syndrome_coronavirus_2_isolate_SARS-CoV-2/human/USA/WI-UW-11/2020,_complete_genome                                                             2020-03-15\n",
       "MT706134.1_|Severe_acute_respiratory_syndrome_coronavirus_2_isolate_SARS-CoV-2/human/USA/WI-UW-12/2020,_complete_genome                                                             2020-03-16\n",
       "                                                                                                                                                                                       ...    \n",
       "MN985325.1_|Severe_acute_respiratory_syndrome_coronavirus_2_isolate_SARS-CoV-2/human/USA/USA-WA1/2020,_complete_genome                                                              2020-01-19\n",
       "MT507793.1_|Severe_acute_respiratory_syndrome_coronavirus_2_isolate_SARS-CoV-2/homo_sapien/JAM/JM-CDC-0078/2020,_complete_genome                                                    2020-03-11\n",
       "MT507794.1_|Severe_acute_respiratory_syndrome_coronavirus_2_isolate_SARS-CoV-2/homo_sapien/JAM/JM-CDC-6729/2020,_complete_genome                                                    2020-03-16\n",
       "MT507795.1_|Severe_acute_respiratory_syndrome_coronavirus_2_isolate_SARS-CoV-2/homo_sapien/USA/VI-CDC-3884/2020,_complete_genome                                                    2020-04-06\n",
       "MT507796.1_|Severe_acute_respiratory_syndrome_coronavirus_2_isolate_SARS-CoV-2/homo_sapien/USA/VI-CDC-3849/2020,_complete_genome                                                    2020-04-01\n",
       "Length: 8742, dtype: object"
      ]
     },
     "execution_count": 79,
     "metadata": {},
     "output_type": "execute_result"
    }
   ],
   "source": [
    "new_time_df = pd.Series(index = new_access[time_df.index], data=time_df.values)\n",
    "new_time_df"
   ]
  },
  {
   "cell_type": "code",
   "execution_count": 80,
   "metadata": {},
   "outputs": [],
   "source": [
    "df_metadata.loc[new_time_df.index, 'time'] = new_time_df"
   ]
  },
  {
   "cell_type": "code",
   "execution_count": 81,
   "metadata": {},
   "outputs": [
    {
     "data": {
      "text/html": [
       "<div>\n",
       "<style scoped>\n",
       "    .dataframe tbody tr th:only-of-type {\n",
       "        vertical-align: middle;\n",
       "    }\n",
       "\n",
       "    .dataframe tbody tr th {\n",
       "        vertical-align: top;\n",
       "    }\n",
       "\n",
       "    .dataframe thead th {\n",
       "        text-align: right;\n",
       "    }\n",
       "</style>\n",
       "<table border=\"1\" class=\"dataframe\">\n",
       "  <thead>\n",
       "    <tr style=\"text-align: right;\">\n",
       "      <th></th>\n",
       "      <th>location</th>\n",
       "      <th>time</th>\n",
       "    </tr>\n",
       "  </thead>\n",
       "  <tbody>\n",
       "    <tr>\n",
       "      <th>MT712208.1_|Severe_acute_respiratory_syndrome_coronavirus_2_isolate_SARS-CoV-2/human/VNM/NIHE/2020_ORF1a_polyprotein_(ORF1ab)_and_ORF1ab_polyprotein_(ORF1ab)_genes,_partial_cds</th>\n",
       "      <td>VNM</td>\n",
       "      <td>2020-02-10</td>\n",
       "    </tr>\n",
       "    <tr>\n",
       "      <th>MT706050.1_|Severe_acute_respiratory_syndrome_coronavirus_2_isolate_SARS-CoV-2/human/NZL/20CHL869065O/2020,_complete_genome</th>\n",
       "      <td>NZL</td>\n",
       "      <td>2020-03-21</td>\n",
       "    </tr>\n",
       "    <tr>\n",
       "      <th>MT706132.1_|Severe_acute_respiratory_syndrome_coronavirus_2_isolate_SARS-CoV-2/human/USA/WI-UW-04/2020,_complete_genome</th>\n",
       "      <td>USA</td>\n",
       "      <td>2020-03-15</td>\n",
       "    </tr>\n",
       "    <tr>\n",
       "      <th>MT706133.1_|Severe_acute_respiratory_syndrome_coronavirus_2_isolate_SARS-CoV-2/human/USA/WI-UW-11/2020,_complete_genome</th>\n",
       "      <td>USA</td>\n",
       "      <td>2020-03-15</td>\n",
       "    </tr>\n",
       "    <tr>\n",
       "      <th>MT706134.1_|Severe_acute_respiratory_syndrome_coronavirus_2_isolate_SARS-CoV-2/human/USA/WI-UW-12/2020,_complete_genome</th>\n",
       "      <td>USA</td>\n",
       "      <td>2020-03-16</td>\n",
       "    </tr>\n",
       "  </tbody>\n",
       "</table>\n",
       "</div>"
      ],
      "text/plain": [
       "                                                   location        time\n",
       "MT712208.1_|Severe_acute_respiratory_syndrome_c...      VNM  2020-02-10\n",
       "MT706050.1_|Severe_acute_respiratory_syndrome_c...      NZL  2020-03-21\n",
       "MT706132.1_|Severe_acute_respiratory_syndrome_c...      USA  2020-03-15\n",
       "MT706133.1_|Severe_acute_respiratory_syndrome_c...      USA  2020-03-15\n",
       "MT706134.1_|Severe_acute_respiratory_syndrome_c...      USA  2020-03-16"
      ]
     },
     "execution_count": 81,
     "metadata": {},
     "output_type": "execute_result"
    }
   ],
   "source": [
    "df_metadata.head()"
   ]
  },
  {
   "cell_type": "code",
   "execution_count": 82,
   "metadata": {},
   "outputs": [
    {
     "data": {
      "text/plain": [
       "(70534, 2)"
      ]
     },
     "execution_count": 82,
     "metadata": {},
     "output_type": "execute_result"
    }
   ],
   "source": [
    "df_metadata.shape"
   ]
  },
  {
   "cell_type": "code",
   "execution_count": 84,
   "metadata": {},
   "outputs": [],
   "source": [
    "df_metadata = df_metadata.dropna()"
   ]
  },
  {
   "cell_type": "code",
   "execution_count": 85,
   "metadata": {},
   "outputs": [
    {
     "data": {
      "text/plain": [
       "(70532, 2)"
      ]
     },
     "execution_count": 85,
     "metadata": {},
     "output_type": "execute_result"
    }
   ],
   "source": [
    "df_metadata.shape"
   ]
  },
  {
   "cell_type": "code",
   "execution_count": 86,
   "metadata": {},
   "outputs": [],
   "source": [
    "df_metadata.to_csv(\"df_metadata.csv\")"
   ]
  },
  {
   "cell_type": "code",
   "execution_count": 87,
   "metadata": {},
   "outputs": [],
   "source": [
    "updated_blast_results = updated_blast_results.loc[df_metadata.index, :]"
   ]
  },
  {
   "cell_type": "code",
   "execution_count": 89,
   "metadata": {},
   "outputs": [
    {
     "data": {
      "text/plain": [
       "(70532, 14)"
      ]
     },
     "execution_count": 89,
     "metadata": {},
     "output_type": "execute_result"
    }
   ],
   "source": [
    "updated_blast_results.shape"
   ]
  },
  {
   "cell_type": "code",
   "execution_count": 90,
   "metadata": {},
   "outputs": [
    {
     "data": {
      "text/html": [
       "<div>\n",
       "<style scoped>\n",
       "    .dataframe tbody tr th:only-of-type {\n",
       "        vertical-align: middle;\n",
       "    }\n",
       "\n",
       "    .dataframe tbody tr th {\n",
       "        vertical-align: top;\n",
       "    }\n",
       "\n",
       "    .dataframe thead th {\n",
       "        text-align: right;\n",
       "    }\n",
       "</style>\n",
       "<table border=\"1\" class=\"dataframe\">\n",
       "  <thead>\n",
       "    <tr style=\"text-align: right;\">\n",
       "      <th></th>\n",
       "      <th>sseqid</th>\n",
       "      <th>pident</th>\n",
       "      <th>length</th>\n",
       "      <th>mismatch</th>\n",
       "      <th>gapopen</th>\n",
       "      <th>qstart</th>\n",
       "      <th>qend</th>\n",
       "      <th>sstart</th>\n",
       "      <th>send</th>\n",
       "      <th>evalue</th>\n",
       "      <th>bitscore</th>\n",
       "      <th>ppos</th>\n",
       "      <th>qseq</th>\n",
       "      <th>sseq</th>\n",
       "    </tr>\n",
       "  </thead>\n",
       "  <tbody>\n",
       "    <tr>\n",
       "      <th>MT712208.1_|Severe_acute_respiratory_syndrome_coronavirus_2_isolate_SARS-CoV-2/human/VNM/NIHE/2020_ORF1a_polyprotein_(ORF1ab)_and_ORF1ab_polyprotein_(ORF1ab)_genes,_partial_cds</th>\n",
       "      <td>gi|1798174254|ref|NC_045512.2|</td>\n",
       "      <td>99.477</td>\n",
       "      <td>765</td>\n",
       "      <td>4</td>\n",
       "      <td>0</td>\n",
       "      <td>1</td>\n",
       "      <td>765</td>\n",
       "      <td>12719</td>\n",
       "      <td>13483</td>\n",
       "      <td>0.0</td>\n",
       "      <td>1391</td>\n",
       "      <td>99.48</td>\n",
       "      <td>ATGTCTTGTGCTGCCGGTACTACACAAACTGCTTGCACTGATGACA...</td>\n",
       "      <td>ATGTCTTGTGCTGCCGGTACTACACAAACTGCTTGCACTGATGACA...</td>\n",
       "    </tr>\n",
       "    <tr>\n",
       "      <th>MT706050.1_|Severe_acute_respiratory_syndrome_coronavirus_2_isolate_SARS-CoV-2/human/NZL/20CHL869065O/2020,_complete_genome</th>\n",
       "      <td>gi|1798174254|ref|NC_045512.2|</td>\n",
       "      <td>99.983</td>\n",
       "      <td>29806</td>\n",
       "      <td>5</td>\n",
       "      <td>0</td>\n",
       "      <td>1</td>\n",
       "      <td>29806</td>\n",
       "      <td>21</td>\n",
       "      <td>29826</td>\n",
       "      <td>0.0</td>\n",
       "      <td>54985</td>\n",
       "      <td>99.98</td>\n",
       "      <td>CAGGTAACAAACCAACCAACTTTCGATCTCTTGTAGATCTGTTCTC...</td>\n",
       "      <td>CAGGTAACAAACCAACCAACTTTCGATCTCTTGTAGATCTGTTCTC...</td>\n",
       "    </tr>\n",
       "    <tr>\n",
       "      <th>MT706132.1_|Severe_acute_respiratory_syndrome_coronavirus_2_isolate_SARS-CoV-2/human/USA/WI-UW-04/2020,_complete_genome</th>\n",
       "      <td>gi|1798174254|ref|NC_045512.2|</td>\n",
       "      <td>99.977</td>\n",
       "      <td>29843</td>\n",
       "      <td>7</td>\n",
       "      <td>0</td>\n",
       "      <td>1</td>\n",
       "      <td>29843</td>\n",
       "      <td>25</td>\n",
       "      <td>29867</td>\n",
       "      <td>0.0</td>\n",
       "      <td>55042</td>\n",
       "      <td>99.98</td>\n",
       "      <td>TAACAAACCAACCAACTTTCGATCTCTTGTAGATCTGTTCTCTAAA...</td>\n",
       "      <td>TAACAAACCAACCAACTTTCGATCTCTTGTAGATCTGTTCTCTAAA...</td>\n",
       "    </tr>\n",
       "    <tr>\n",
       "      <th>MT706133.1_|Severe_acute_respiratory_syndrome_coronavirus_2_isolate_SARS-CoV-2/human/USA/WI-UW-11/2020,_complete_genome</th>\n",
       "      <td>gi|1798174254|ref|NC_045512.2|</td>\n",
       "      <td>99.976</td>\n",
       "      <td>29782</td>\n",
       "      <td>7</td>\n",
       "      <td>0</td>\n",
       "      <td>1</td>\n",
       "      <td>29782</td>\n",
       "      <td>55</td>\n",
       "      <td>29836</td>\n",
       "      <td>0.0</td>\n",
       "      <td>54931</td>\n",
       "      <td>99.98</td>\n",
       "      <td>AGATCTGTTCTCTAAACGAACTTTAAAATCTGTGTGGCTGTCACTC...</td>\n",
       "      <td>AGATCTGTTCTCTAAACGAACTTTAAAATCTGTGTGGCTGTCACTC...</td>\n",
       "    </tr>\n",
       "    <tr>\n",
       "      <th>MT706134.1_|Severe_acute_respiratory_syndrome_coronavirus_2_isolate_SARS-CoV-2/human/USA/WI-UW-12/2020,_complete_genome</th>\n",
       "      <td>gi|1798174254|ref|NC_045512.2|</td>\n",
       "      <td>99.980</td>\n",
       "      <td>29782</td>\n",
       "      <td>6</td>\n",
       "      <td>0</td>\n",
       "      <td>1</td>\n",
       "      <td>29782</td>\n",
       "      <td>55</td>\n",
       "      <td>29836</td>\n",
       "      <td>0.0</td>\n",
       "      <td>54935</td>\n",
       "      <td>99.98</td>\n",
       "      <td>AGATCTGTTCTCTAAACGAACTTTAAAATCTGTGTGGCTGTCACTC...</td>\n",
       "      <td>AGATCTGTTCTCTAAACGAACTTTAAAATCTGTGTGGCTGTCACTC...</td>\n",
       "    </tr>\n",
       "  </tbody>\n",
       "</table>\n",
       "</div>"
      ],
      "text/plain": [
       "                                                                            sseqid  \\\n",
       "MT712208.1_|Severe_acute_respiratory_syndrome_c...  gi|1798174254|ref|NC_045512.2|   \n",
       "MT706050.1_|Severe_acute_respiratory_syndrome_c...  gi|1798174254|ref|NC_045512.2|   \n",
       "MT706132.1_|Severe_acute_respiratory_syndrome_c...  gi|1798174254|ref|NC_045512.2|   \n",
       "MT706133.1_|Severe_acute_respiratory_syndrome_c...  gi|1798174254|ref|NC_045512.2|   \n",
       "MT706134.1_|Severe_acute_respiratory_syndrome_c...  gi|1798174254|ref|NC_045512.2|   \n",
       "\n",
       "                                                    pident  length  mismatch  \\\n",
       "MT712208.1_|Severe_acute_respiratory_syndrome_c...  99.477     765         4   \n",
       "MT706050.1_|Severe_acute_respiratory_syndrome_c...  99.983   29806         5   \n",
       "MT706132.1_|Severe_acute_respiratory_syndrome_c...  99.977   29843         7   \n",
       "MT706133.1_|Severe_acute_respiratory_syndrome_c...  99.976   29782         7   \n",
       "MT706134.1_|Severe_acute_respiratory_syndrome_c...  99.980   29782         6   \n",
       "\n",
       "                                                    gapopen  qstart   qend  \\\n",
       "MT712208.1_|Severe_acute_respiratory_syndrome_c...        0       1    765   \n",
       "MT706050.1_|Severe_acute_respiratory_syndrome_c...        0       1  29806   \n",
       "MT706132.1_|Severe_acute_respiratory_syndrome_c...        0       1  29843   \n",
       "MT706133.1_|Severe_acute_respiratory_syndrome_c...        0       1  29782   \n",
       "MT706134.1_|Severe_acute_respiratory_syndrome_c...        0       1  29782   \n",
       "\n",
       "                                                    sstart   send  evalue  \\\n",
       "MT712208.1_|Severe_acute_respiratory_syndrome_c...   12719  13483     0.0   \n",
       "MT706050.1_|Severe_acute_respiratory_syndrome_c...      21  29826     0.0   \n",
       "MT706132.1_|Severe_acute_respiratory_syndrome_c...      25  29867     0.0   \n",
       "MT706133.1_|Severe_acute_respiratory_syndrome_c...      55  29836     0.0   \n",
       "MT706134.1_|Severe_acute_respiratory_syndrome_c...      55  29836     0.0   \n",
       "\n",
       "                                                    bitscore   ppos  \\\n",
       "MT712208.1_|Severe_acute_respiratory_syndrome_c...      1391  99.48   \n",
       "MT706050.1_|Severe_acute_respiratory_syndrome_c...     54985  99.98   \n",
       "MT706132.1_|Severe_acute_respiratory_syndrome_c...     55042  99.98   \n",
       "MT706133.1_|Severe_acute_respiratory_syndrome_c...     54931  99.98   \n",
       "MT706134.1_|Severe_acute_respiratory_syndrome_c...     54935  99.98   \n",
       "\n",
       "                                                                                                 qseq  \\\n",
       "MT712208.1_|Severe_acute_respiratory_syndrome_c...  ATGTCTTGTGCTGCCGGTACTACACAAACTGCTTGCACTGATGACA...   \n",
       "MT706050.1_|Severe_acute_respiratory_syndrome_c...  CAGGTAACAAACCAACCAACTTTCGATCTCTTGTAGATCTGTTCTC...   \n",
       "MT706132.1_|Severe_acute_respiratory_syndrome_c...  TAACAAACCAACCAACTTTCGATCTCTTGTAGATCTGTTCTCTAAA...   \n",
       "MT706133.1_|Severe_acute_respiratory_syndrome_c...  AGATCTGTTCTCTAAACGAACTTTAAAATCTGTGTGGCTGTCACTC...   \n",
       "MT706134.1_|Severe_acute_respiratory_syndrome_c...  AGATCTGTTCTCTAAACGAACTTTAAAATCTGTGTGGCTGTCACTC...   \n",
       "\n",
       "                                                                                                 sseq  \n",
       "MT712208.1_|Severe_acute_respiratory_syndrome_c...  ATGTCTTGTGCTGCCGGTACTACACAAACTGCTTGCACTGATGACA...  \n",
       "MT706050.1_|Severe_acute_respiratory_syndrome_c...  CAGGTAACAAACCAACCAACTTTCGATCTCTTGTAGATCTGTTCTC...  \n",
       "MT706132.1_|Severe_acute_respiratory_syndrome_c...  TAACAAACCAACCAACTTTCGATCTCTTGTAGATCTGTTCTCTAAA...  \n",
       "MT706133.1_|Severe_acute_respiratory_syndrome_c...  AGATCTGTTCTCTAAACGAACTTTAAAATCTGTGTGGCTGTCACTC...  \n",
       "MT706134.1_|Severe_acute_respiratory_syndrome_c...  AGATCTGTTCTCTAAACGAACTTTAAAATCTGTGTGGCTGTCACTC...  "
      ]
     },
     "execution_count": 90,
     "metadata": {},
     "output_type": "execute_result"
    }
   ],
   "source": [
    "updated_blast_results.head()"
   ]
  },
  {
   "cell_type": "code",
   "execution_count": null,
   "metadata": {},
   "outputs": [],
   "source": []
  },
  {
   "cell_type": "raw",
   "metadata": {},
   "source": [
    "f.close()\n",
    "f=open(\"C:\\Users\\Sharika\\Countries_format.csv\")\n",
    "countries=[]\n",
    "abbreviations=[]\n",
    "for i in f:\n",
    "    i = i.strip()\n",
    "    countries.append(i.split(',')[0])\n",
    "    abbreviations.append(i.split(',')[1])\n",
    "dict_countries=dict(zip(countries, abbreviations))\n",
    "f.close()"
   ]
  },
  {
   "cell_type": "raw",
   "metadata": {},
   "source": [
    "for i in df:\n",
    "    for j in dict_countries:\n",
    "        if df.loc[i, column='location']==dict_countries.get(j):\n",
    "            df.loc[i, column='location']==j"
   ]
  },
  {
   "cell_type": "raw",
   "metadata": {},
   "source": [
    "f=open(C:\\Users\\Sharika\\Downloads\\sequences.csv)\n",
    "all_access=[]\n",
    "all_dates=[]\n",
    "for i in f:\n",
    "    i=i.strip()\n",
    "    all_access.append(f.split(',')[0])\n",
    "    all_dates.append(f.split(',')[10])\n",
    "\n",
    "for i in all_access:\n",
    "    for j in heads:\n",
    "        if j.split('/')[1] == i:\n",
    "            all_access.remove(i)\n",
    "            all_dates.remove(all_access.index(i))\n",
    "\n",
    "dict_access=dict(zip(all_access,all_dates))\n",
    "for i in df:\n",
    "    for j in dict_access:\n",
    "        if j in i:\n",
    "            df.loc[i, column='time']==dict_access.get(j)\n",
    "            \n",
    "#this completes metadata dataframe"
   ]
  },
  {
   "cell_type": "code",
   "execution_count": 175,
   "metadata": {
    "scrolled": true
   },
   "outputs": [
    {
     "name": "stdout",
     "output_type": "stream",
     "text": [
      "England\n"
     ]
    }
   ],
   "source": [
    "hCOV_country=\">hCoV-19/England/09c/2020|EPI_ISL_412116|2020-02-09\"\n",
    "inner_hCOV=hCOV_country.split('/')[1]\n",
    "print(inner_hCOV)"
   ]
  },
  {
   "cell_type": "code",
   "execution_count": 182,
   "metadata": {},
   "outputs": [
    {
     "name": "stdout",
     "output_type": "stream",
     "text": [
      "AUS\n"
     ]
    }
   ],
   "source": [
    "ena_country=\">ENA|MT451614|MT451614.1_Severe_acute_respiratory_syndrome_coronavirus_2_isolate_SARS-CoV-2/human/AUS/VIC875/2020,_complete_genome.\"\n",
    "inner_ENA=ena_country.split('/')[2]\n",
    "print(inner_ENA)"
   ]
  },
  {
   "cell_type": "code",
   "execution_count": 177,
   "metadata": {},
   "outputs": [
    {
     "name": "stdout",
     "output_type": "stream",
     "text": [
      "NZL\n"
     ]
    }
   ],
   "source": [
    "genbank_country=\">MT706050.1_|Severe_acute_respiratory_syndrome_coronavirus_2_isolate_SARS-CoV-2/human/NZL/20CHL869065O/2020,_complete_genome\"\n",
    "inner_genbank=genbank_country.split('/')[2]\n",
    "print(inner_genbank)"
   ]
  },
  {
   "cell_type": "code",
   "execution_count": 179,
   "metadata": {},
   "outputs": [
    {
     "name": "stdout",
     "output_type": "stream",
     "text": [
      "2020-02-09\n"
     ]
    }
   ],
   "source": [
    "hCOV_time=\">hCoV-19/England/09c/2020|EPI_ISL_412116|2020-02-09\"\n",
    "inner_htime=hCOV_time.split('|')[2]\n",
    "print(inner_htime)"
   ]
  },
  {
   "cell_type": "code",
   "execution_count": 181,
   "metadata": {},
   "outputs": [
    {
     "name": "stdout",
     "output_type": "stream",
     "text": [
      "2020,\n"
     ]
    }
   ],
   "source": [
    "ena_time=\">ENA|MT520387|MT520387.1_Severe_acute_respiratory_syndrome_coronavirus_2_isolate_SARS-CoV-2/human/USA/MA_MGH_00571/2020,_complete_genome.\"\n",
    "inner_enatime=ena_time.split('/')[len(ena_time.split('/')) -1 ].split('_')[0]\n",
    "print(inner_enatime)"
   ]
  },
  {
   "cell_type": "markdown",
   "metadata": {},
   "source": [
    "# Making a DataFrame for every genomic position"
   ]
  },
  {
   "cell_type": "code",
   "execution_count": null,
   "metadata": {},
   "outputs": [],
   "source": [
    "import difflib\n",
    "a = 'ACAACACCAACCAACTTTCGATCTCTTGTAGATCTGTTCTCTAAACGAACTTTAAAATCTGTGTGGCTGTCACTCGGCTGCATGCTTAGTGCACTCACGCAGTATAATTAATAACTAATTACTGTCGTTGACAGGACACGAGTAACTCGTCTATCTTCTGCAGGCTGCTTACGGTTTCGTCCGTGTTGCAGCCGATCATCAGCACATCTAGGTTTTGTCCGGGTGTGACCGAAAGGTAAGATGGAGAGCCTTGTCCCTGGTTTCAACGAGAAAACACACGTCCAACTCAGTTTGCCTGTTTTACAGGTTCGCGACGTGCTCGTACGTGGCTTTGGAGACTCCGTGGAGGAGGTCTTATCAGAGGCACGTCAACATCTTAAAGATGGCACTTGTGGCTTAGTAGAAGTTGAAAAAGGCGTTTTGCCTCAACTTGAACAGCCCTATGTGTTCATCAAACGTTCGGATGCTCGAACTGCACCTCATGGTCATGTTATGGTTGAGCTGGTAGCAGAACTCGAAGGCATTCAGTACGGTCGTAGTGGTGAGACACTTGGTGTCCTTGTCCCTCATGTGGGCGAAATACCAGTGGCTTACCGCAAGGTTCTTCTTCGTAAGAACGGTAATAAAGGAGCTGGTGGCCATAGTTACGGCGCCGATCTAAAGTCATTTGACTTAGGCGACGAGCTTGGCACTGATCCTTATGAAGATTTTCAAGAAAACTGGAACACTAAACATAGCAGTGGTGTTACCCGTGAACTCATGCGTGAGCTTAACGGAGGGGCATACACTCGCTATGTCGATAACAACTTCTGTGGCCCTGATGGCTACCCTCTTGAGTGCATTAAAGACCTTCTAGCACGTGCTGGTAAAGCTTCATGCACTTTGTCCGAACAACTGGACTTTATTGACACTAAGAGGGGTGTATACTGCTGCCGTGAACATGAGCATGAAATTGCTTGGTACACGGAACGTTCTGAAAAGAGCTATGAATTGCAGACACCTTTTGAAATTAAATTGGCAAAGAAATTTGACACCTTCAATGGGGAATGTCCAAATTTTGTATTTCCCTTAAATTCCATAATCAAGACTATTCAACCAAGGGTTGAAAAGAAAAAGCTTGATGGCTTTATGGGTAGAATTCGATCTGTCTATCCAGTTGCGTCACCAAATGAATGCAACCAAATGTGCCTTTCAACTCTCATGAAGTGTGATCATTGTGGTGAAACTTCATGGCAGACGGGCGATTTTGTTAAAGCCACTTGCGAATTTTGTGGCACTGAGAATTTGACTAAAGAAGGTGCCACTACTTGTGGTTACTTACCCCAAAATGCTGTTGTTAAAATTTATTGTCCAGCATGTCACAATTCAGAAGTAGGACCTGAGCATAGTCTTGCCGAATACCATAATGAATCTGGCTTGAAAACCATTCTTCGTAAGGGTGGTCGCACTATTGCCTTTGGAGGCTGTGTGTTCTCTTATGTTGGTTGCCATAACAAGTGTGCCTATTGGGTTCCACGTGCTAGCGCTAACATAGGTTGTAACCATACAGGTGTTGTTGGAGAAGGTTCCGAAGGTCTTAATGACAACCTTCTTGAAATACTCCAAAAAGAGAAAGTCAACATCAATATTGTTGGTGACTTTAAACTTAATGAAGAGATCGCCATTATTTTGGCATCTTTTTCTGCTTCCACAAGTGCTTTTGTGGAAACTGTGAAAGGTTTGGATTATAAAGCATTCAAACAAATTGTTGAATCCTGTGGTAATTTTAAAGTTACAAAAGGAAAAGCTAAAAAAGGTGCCTGGAATATTGGTGAACAGAAATCAATACTGAGTCCTCTTTATGCATTTGCATCAGAGGCTGCTCGTGTTGTACGATCAATTTTCTCCCGCACTCTTGAAACTGCTCAAAATTCTGTGCGTGTTTTACAGAAGGCCGCTATAACAATACTAGATGGAATTTCACAGTATTCACTGAGACTCATTGATGCTATGATGTTCACATCTGATTTGGCTACTAACAATCTAGTTGTAATGGCCTACATTACAGGTGGTGTTGTTCAGTTGACTTCGCAGTGGCTAACTAACATCTTTGGCACTGTTTATGAAAAACTCAAACCCGTCCTTGATTGGCTTGAAGAGAAGTTTAAGGAAGGTGTAGAGTTTCTTAGAGACGGTTGGGAAATTGTTAAATTTATCTCAACCTGTGCTTGTGAAATTGTCGGTGGACAAATTGTCACCTGTGCAAAGGAAATTAAGGAGAGTGTTCAGACATTCTTTAAGCTTGTAAATAAATTTTTGGCTTTGTGTGCTGACTCTATCATTATTGGTGGAGCTAAACTTAAAGCCTTGAATTTAGGTGAAACATTTGTCACGCACTCAAAGGGATTGTACAGAAAGTGTGTTAAATCCAGAGAAGAAACTGGCCTACTCATGCCTCTAAAAGCCCCAAAAGAAATTATCTTCTTAGAGGGAGAAACACTTCCCACAGAAGTGTTAACAGAGGAAGTTGTCTTGAAAACTGGTGATTTACAACCATTAGAACAACCTACTAGTGAAGCTGTTGAAGCTCCATTGGTTGGTACACCAGTTTGTATTAACGGGCTTATGTTGCTCGAAATCAAAGACACAGAAAAGTACTGTGCCCTTGCACCTAATATGATGGTAACAAACAATACCTTCACACTCAAAGGCGGTGCACCAACAAAGGTTACTTTTGGTGATGACACTGTGATAGAAGTGCAAGGTTACAAGAGTGTGAATATCACTTTTGAACTTGATGAAAGGATTGATAAAGTACTTAATGAGAAGTGCTCTGCCTATACAGTTGAACTCGGTACAGAAGTAAATGAGTTCGCCTGTGTTGTGGCAGATGCTGTCATAAAAACTTTGCAACCAGTATCTGAATTACTTACACCACTGGGCATTGATTTAGATGAGTGGAGTATGGCTACATACTACTTATTTGATGAGTCTGGTGAGTTTAAATTGGCTTCACATATGTATTGTTCTTTTTACCCTCCAGATGAGGATGAAGAAGAAGGTGATTGTGAAGAAGAAGAGTTTGAGCCATCAACTCAATATGAGTATGGTACTGAAGATGATTACCAAGGTAAACCTTTGGAATTTGGTGCCACTTCTGCTGCTCTTCAACCTGAAGAAGAGCAAGAAGAAGATTGGTTAGATGATGATAGTCAACAAACTGTTGGTCAACAAGACGGCAGTGAGGACAATCAGACAACTACTATTCAAACAATTGTTGAGGTTCAACCTCAATTAGAGATGGAACTTACACCAGTTGTTCAGACTATTGAAGTGAATAGTTTTAGTGGTTATTTAAAACTTACTGACAATGTATACATTAAAAATGCAGACATTGTGGAAGAAGCTAAAAAGGTAAAACCAACAGTGGTTGTTAATGCAGCCAATGTTTACCTTAAACATGGAGGAGGTGTTGCAGGAGCCTTAAATAAGGCTACTAACAATGCCATGCAAGTTGAATCTGATGATTACATAGCTACTAATGGACCACTTAAAGTGGGTGGTAGTTGTGTTTTAAGCGGACACAATCTTGCTAAACACTGTCTTCATGTTGTCGGCCCAAATGTTAACAAAGGTGAAGACATTCAACTTCTTAAGAGTGCTTATGAAAATTTTAATCAGCACGAAGTTCTACTTGCACCATTATTATCAGCTGGTATTTTTGGTGCTGACCCTATACATTCTTTAAGAGTTTGTGTAGATACTGTTCGCACAAATGTCTACTTAGCTGTCTTTGATAAAAATCTCTATGACAAACTTGTTTCAAGCTTTTTGGAAATGAAGAGTGAAAAGCAAGTTGAACAAAAGATCGCTGAGATTCCTAAAGAGGAAGTTAAGCCATTTATAACTGAAAGTAAACCTTCAGTTGAACAGAGAAAACAAGATGATAAGAAAATCAAAGCTTGTGTTGAAGAAGTTACAACAACTCTGGAAGAAACTAAGTTCCTCACAGAAAACTTGTTACTTTATATTGACATTAATGGCAATCTTCATCCAGATTCTGCCACTCTTGTTAGTGACATTGACATCACTTTCTTAAAGAAAGATGCTCCATATATAGTGGGTGATGTTGTTCAAGAGGGTGTTTTAACTGCTGTGGTTATACCTACTAAAAAGGCTGGTGGCACTACTGAAATGCTAGCGAAAGCTTTGAGAAAAGTGCCAACAGACAATTATATAACCACTTACCCGGGTCAGGGTTTAAATGGTTACACTGTAGAGGAGGCAAAGACAGTGCTTAAAAAGTGTAAAAGTGCCTTTTACATTCTACCATCTATTATCTCTAATGAGAAGCAAGAAATTCTTGGAACTGTTTCTTGGAATTTGCGAGAAATGCTTGCACATGCAGAAGAAACACGCAAATTAATGCCTGTCTGTGTGGAAACTAAAGCCATAGTTTCAACTATACAGCGTAAATATAAGGGTATTAAAATACAAGAGGGTGTGGTTGATTATGGTGCTAGATTTTACTTTTACACCAGTAAAACAACTGTAGCGTCACTTATCAACACACTTAACGATCTAAATGAAACTCTTGTTACAATGCCACTTGGCTATGTAACACATGGCTTAAATTTGGAAGAAGCTGCTCGGTATATGAGATCTCTCAAAGTGCCAGCTACAGTTTCTGTTTCTTCACCTGATGCTGTTACAGCGTATAATGGTTATCTTACTTCTTCTTCTAAAACACCTGAAGAACATTTTATTGAAACCATCTCACTTGCTGGTTCCTATAAAGATTGGTCCTATTCTGGACAATCTACACAACTAGGTATAGAATTTCTTAAGAGAGGTGATAAAAGTGTATATTACACTAGTAATCCTACCACATTCCACCTAGATGGTGAAGTTATCACCTTTGACAATCTTAAGACACTTCTTTCTTTGAGAGAAGTGAGGACTATTAAGGTGTTTACAACAGTAGACAACATTAACCTCCACACGCAAGTTGTGGACATGTCAATGACATATGGACAACAGTTTGGTCCAACTTATTTGGATGGAGCTGATGTTACTAAAATAAAACCTCATAATTCACATGAAGGTAAAACATTTTATGTTTTACCTAATGATGACACTCTACGTGTTGAGGCTTTTGAGTACTACCACACAACTGATCCTAGTTTTCTGGGTAGGTACATGTCAGCATTAAATCACACTAAAAAGTGGAAATACCCACAAGTTAATGGTTTAACTTCTATTAAATGGGCAGATAACAACTGTTATCTTGCCACTGCATTGTTAACACTCCAACAAATAGAGTTGAAGTTTAATCCACCTGCTCTACAAGATGCTTATTACAGAGCAAGGGCTGGTGAAGCTGCTAACTTTTGTGCACTTATCTTAGCCTACTGTAATAAGACAGTAGGTGAGTTAGGTGATGTTAGAGAAACAATGAGTTACTTGTTTCAACATGCCAATTTAGATTCTTGCAAAAGAGTCTTGAACGTGGTGTGTAAAACTTGTGGACAACAGCAGACAACCCTTAAGGGTGTAGAAGCTGTTATGTACATGGGCACACTTTCTTATGAACAATTTAAGAAAGGTGTTCAGATACCTTGTACGTGTGGTAAACAAGCTACAAAATATCTAGTACAACAGGAGTCACCTTTTGTTATGATGTCAGCACCACCTGCTCAGTATGAACTTAAGCATGGTACATTTACTTGTGCTAGTGAGTACACTGGTAATTACCAGTGTGGTCACTATAAACATATAACTTCTAAAGAAACTTTGTATTGCATAGACGGTGCTTTACTTACAAAGTCCTCAGAATACAAAGGTCCTATTACGGATGTTTTCTACAAAGAAAACAGTTACACAACAACCATAAAACCAGTTACTTATAAATTGGATGGTGTTGTTTGTACAGAAATTGACCCTAAGTTGGACAATTATTATAAGAAAGACAATTCTTATTTCACAGAGCAACCAATTGATCTTGTACCAAACCAACCATATCCAAACGCAAGCTTCGATAATTTTAAGTTTGTATGTGATAATATCAAATTTGCTGATGATTTAAACCAGTTAACTGGTTATAAGAAACCTGCTTCAAGAGAGCTTAAAGTTACATTTTTCCCTGACTTAAATGGTGATGTGGTGGCTATTGATTATAAACACTACACACCCTCTTTTAAGAAAGGAGCTAAATTGTTACATAAACCTATTGTTTGGCATGTTAACAATGCAACTAATAAAGCCACGTATAAACCAAATACCTGGTGTATACGTTGTCTTTGGAGCACAAAACCAGTTGAAACATCAAATTCGTTTGATGTACTGAAGTCAGAGGACGCGCAGGGAATGGATAATCTTGCCTGCGAAGATCTAAAACCAGTCTCTGAAGAAGTAGTGGAAAATCCTACCATACAGAAAGACGTTCTTGAGTGTAATGTGAAAACTACCGAAGTTGTAGGAGACATTATACTTAAACCAGCAAATAATAGTTTAAAAATTACAGAAGAGGTTGGCCACACAGATCTAATGGCTGCTTATGTAGACAATTCTAGTCTTACTATTAAGAAACCTAATGAATTATCTAGAGTATTAGGTTTGAAAACCCTTGCTACTCATGGTTTAGCTGCTGTTAATAGTGTCCCTTGGGATACTATAGCTAATTATGCTAAGCCTTTTCTTAACAAAGTTGTTAGTACAACTACTAACATAGTTACACGGTGTTTAAACCGTGTTTGTACTAATTATATGCCTTATTTCTTTACTTTATTGCTACAATTGTGTACTTTTACTAGAAGTACAAATTCTAGAATTAAAGCATCTATGCCGACTACTATAGCAAAGAATACTGTTAAGAGTGTCGGTAAATTTTGTCTAGAGGCTTCATTTAATTATTTGAAGTCACCTAATTTTTCTAAACTGATAAATATTATAATTTGGTTTTTACTATTAAGTGTTTGCCTAGGTTCTTTAATCTACTCAACCGCTGCTTTAGGTGTTTTAATGTCTAATTTAGGCATGCCTTCTTACTGTACTGGTTACAGAGAAGGCTATTTGAACTCTACTAATGTCACTATTGCAACCTACTGTACTGGTTCTATACCTTGTAGTGTTTGTCTTAGTGGTTTAGATTCTTTAGACACCTATCCTTCTTTAGAAACTATACAAATTACCATTTCATCTTTTAAATGGGATTTAACTGCTTTTGGCTTAGTTGCAGAGTGGTTTTTGGCATATATTCTTTTCACTAGGTTTTTCTATGTACTTGGATTGGCTGCAATCATGCAATTGTTTTTCAGCTATTTTGCAGTACATTTTATTAGTAATTCTTGGCTTATGTGGTTAATAATTAATCTTGTACAAATGGCCCCGATTTCAGCTATGGTTAGAATGTACATCTTCTTTGCATCATTTTATTATGTATGGAAAAGTTATGTGCATGTTGTAGACGGTTGTAATTCATCAACTTGTATGATGTGTTACAAACGTAATAGAGCAACAAGAGTCGAATGTACAACTATTGTTAATGGTGTTAGAAGGTCCTTTTATGTCTATGCTAATGGAGGTAAAGGCTTTTGCAAACTACACAATTGGAATTGTGTTAATTGTGATACATTCTGTGCTGGTAGTACATTTATTAGTGATGAAGTTGCGAGAGACTTGTCACTACAGTTTAAAAGACCAATAAATCCTACTGACCAGTCTTCTTACATCGTTGATAGTGTTACAGTGAAGAATGGTTCCATCCATCTTTACTTTGATAAAGCTGGTCAAAAGACTTATGAAAGACATTCTCTCTCTCATTTTGTTAACTTAGACAACCTGAGAGCTAATAACACTAAAGGTTCATTGCCTATTAATGTTATAGTTTTTGATGGTAAATCAAAATGTGAAGAATCATCTGCAAAATCAGCGTCTGTTTACTACAGTCAGCTTATGTGTCAACCTATACTGTTACTAGATCAGGCATTAGTGTCTGATGTTGGTGATAGTGCGGAAGTTGCAGTTAAAATGTTTGATGCTTACGTTAATACGTTTTCATCAACTTTTAACGTACCAATGGAAAAACTCAAAACACTAGTTGCAACTGCAGAAGCTGAACTTGCAAAGAATGTGTCCTTAGACAATGTCTTATCTACTTTTATTTCAGCAGCTCGGCAAGGGTTTGTTGATTCAGATGTAGAAACTAAAGATGTTGTTGAATGTCTTAAATTGTCACATCAATCTGACATAGAAGTTACTGGCGATAGTTGTAATAACTATATGCTCACCTATAACAAAGTTGAAAACATGACACCCCGTGACCTTGGTGCTTGTATTGACTGTAGTGCGCGTCATATTAATGCGCAGGTAGCAAAAAGTCACAACATTGCTTTGATATGGAACGTTAAAGATTTCATGTCATTGTCTGAACAACTACGAAAACAAATACGTAGTGCTGCTAAAAAGAATAACTTACCTTTTAAGTTGACATGTGCAACTACTAGACAAGTTGTTAATGTTGTAACAACAAAGATAGCACTTAAGGGTGGTAAAATTGTTAATAATTGGTTGAAGCAGTTAATTAAAGTTACACTTGTGTTCCTTTTTGTTGCTGCTATTTTCTATTTAATAACACCTGTTCATGTCATGTCTAAACATACTGACTTTTCAAGTGAAATCATAGGATACAAGGCTATTGATGGTGGTGTCACTCGTGACATAGCATCTACAGATACTTGTTTTGCTAACAAACATGCTGATTTTGACACATGGTTTAGCCAGCGTGGTGGTAGTTATACTAATGACAAAGCTTGCCCATTGATTGCTGCAGTCATAACAAGAGAAGTGGGTTTTGTCGTGCCTGGTTTGCCTGGCACGATATTACGCACAACTAATGGTGACTTTTTGCATTTCTTACCTAGAGTTTTTAGTGCAGTTGGTAACATCTGTTACACACCATCAAAACTTATAGAGTACACTGACTTTGCAACATCAGCTTGTGTTTTGGCTGCTGAATGTACAATTTTTAAAGATGCTTCTGGTAAGCCAGTACCATATTGTTATGATACCAATGTACTAGAAGGTTCTGTTGCTTATGAAAGTTTACGCCCTGACACACGTTATGTGCTCATGGATGGCTCTATTATTCAATTTCCTAACACCTACCTTGAAGGTTCTGTTAGAGTGGTAACAACTTTTGATTCTGAGTACTGTAGGCACGGCACTTGTGAAAGATCAGAAGCTGGTGTTTGTGTATCTACTAGTGGTAGATGGGTACTTAACAATGATTATTACAGATCTTTACCAGGAGTTTTCTGTGGTGTAGATGCTGTAAATTTACTTACTAATATGTTTACACCACTAATTCAACCTATTGGTGCTTTGGACATATCAGCATCTATAGTAGCTGGTGGTATTGTAGCTATCGTAGTAACATGCCTTGCCTACTATTTTATGAGGTTTAGAAGAGCTTTTGGTGAATACAGTCATGTAGTTGCCTTTAATACTTTACTATTCCTTATGTCATTCACTGTACTCTGTTTAACACCAGTTTACTCATTCTTACCTGGTGTTTATTCTGTTATTTACTTGTACTTGACATTTTATCTTACTAATGATGTTTCTTTTTTAGCACATATTCAGTGGATGGTTATGTTCACACCTTTAGTACCTTTCTGGATAACAATTGCTTATATCATTTGTATTTCCACAAAGCATTTCTATTGGTTCTTTAGTAATTACCTAAAGAGACGTGTAGTCTTTAATGGTGTTTCCTTTAGTACTTTTGAAGAAGCTGCGCTGTGCACCTTTTTGTTAAATAAAGAAATGTATCTAAAGTTGCGTAGTGATGTGCTATTACCTCTTACGCAATATAATAGATACTTAGCTCTTTATAATAAGTACAAGTATTTTAGTGGAGCAATGGATACAACTAGCTACAGAGAAGCTGCTTGTTGTCATCTCGCAAAGGCTCTCAATGACTTCAGTAACTCAGGTTCTGATGTTCTTTACCAACCACCACAAACCTCTATCACCTCAGCTGTTTTGCAGAGTGGTTTTAGAAAAATGGCATTCCCATCTGGTAAAGTTGAGGGTTGTATGGTACAAGTAACTTGTGGTACAACTACACTTAACGGTCTTTGGCTTGATGACGTAGTTTACTGTCCAAGACATGTGATCTGCACCTCTGAAGACATGCTTAACCCTAATTATGAAGATTTACTCATTCGTAAGTCTAATCATAATTTCTTGGTACAGGCTGGTAATGTTCAACTCAGGGTTATTGGACATTCTATGCAAAATTGTGTACTTAAGCTTAAGGTTGATACAGCCAATCCTAAGACACCTAAGTATAAGTTTGTTCGCATTCAACCAGGACAGACTTTTTCAGTGTTAGCTTGTTACAATGGTTCACCATCTGGTGTTTACCAATGTGCTATGAGGCCCAATTTCACTATTAAGGGTTCATTCCTTAATGGTTCATGTGGTAGTGTTGGTTTTAACATAGATTATGACTGTGTCTCTTTTTGTTACATGCACCATATGGAATTACCAACTGGAGTTCATGCTGGCACAGACTTAGAAGGTAACTTTTATGGACCTTTTGTTGACAGGCAAACAGCACAAGCAGCTGGTACGGACACAACTATTACAGTTAATGTTTTAGCTTGGTTGTACGCTGCTGTTATAAATGGAGACAGGTGGTTTCTCAATCGATTTACCACAACTCTTAATGACTTTAACCTTGTGGCTATGAAGTACAATTATGAACCTCTAACACAAGACCATGTTGACATACTAGGACCTCTTTCTGCTCAAACTGGAATTGCCGTTTTAGATATGTGTGCTTCATTAAAAGAATTACTGCAAAATGGTATGAATGGACGTACCATATTGGGTAGTGCTTTATTAGAAGATGAATTTACACCTTTTGATGTTGTTAGACAATGCTCAGGTGTTACTTTCCAAAGTGCAGTGAAAAGAACAATCAAGGGTACACACCACTGGTTGTTACTCACAATTTTGACTTCACTTTTAGTTTTAGTCCAGAGTACTCAATGGTCTTTGTTCTTTTTTTTGTATGAAAATGCCTTTTTACCTTTTGCTATGGGTATTATTGCTATGTCTGCTTTTGCAATGATGTTTGTCAAACATAAGCATGCATTTCTCTGTTTGTTTTTGTTACCTTCTCTTGCCACTGTAGCTTATTTTAATATGGTCTATATGCCTGCTAGTTGGGTGATGCGTATTATGACATGGTTGGATATGGTTGATACTAGTTTGTCTGGTTTTAAGCTAAAAGACTGTGTTATGTATGCATCAGCTGTAGTGTTACTAATCCTTATGACAGCAAGAACTGTGTATGATGATGGTGCTAGGAGAGTGTGGACACTTATGAATGTCTTGACACTCGTTTATAAAGTTTATTATGGTAATGCTTTAGATCAAGCCATTTCCATGTGGGCTCTTATAATCTCTGTTACTTCTAACTACTCAGGTGTAGTTACAACTGTCATGTTTTTGGCCAGAGGTATTGTTTTTATGTGTGTTGAGTATTGCCCTATTTTCTTCATAACTGGTAATACACTTCAGTGTATAATGCTAGTTTATTGTTTCTTAGGCTATTTTTGTACTTGTTACTTTGGCCTCTTTTGTTTACTCAACCGCTACTTTAGACTGACTCTTGGTGTTTATGATTACTTAGTTTCTACACAGGAGTTTAGATATATGAATTCACAGGGACTACTCCCACCCAAGAATAGCATAGATGCCTTCAAACTCAACATTAAATTGTTGGGTGTTGGTGGCAAACCTTGTATCAAAGTAGCCACTGTACAGTCTAAAATGTCAGATGTAAAGTGCACATCAGTAGTCTTACTCTCAGTTTTGCAACAACTCAGAGTAGAATCATCATCTAAATTGTGGGCTCAATGTGTCCAGTTACACAATGACATTCTCTTAGCTAAAGATACTACTGAAGCCTTTGAAAAAATGGTTTCACTACTTTCTGTTTTGCTTTCCATGCAGGGTGCTGTAGACATAAACAAGCTTTGTGAAGAAATGCTGGACAACAGGGCAACCTTACAAGCTATAGCCTCAGAGTTTAGTTCCCTTCCATCATATGCAGCTTTTGCTACTGCTCAAGAAGCTTATGAGCAGGCTGTTGCTAATGGTGATTCTGAAGTTGTTCTTAAAAAGTTGAAGAAGTCTTTGAATGTGGCTAAATCTGAATTTGACCGTGATGCAGCCATGCAACGTAAGTTGGAAAAGATGGCTGATCAAGCTATGACCCAAATGTATAAACAGGCTAGATCTGAGGACAAGAGGGCAAAAGTTACTAGTGCTATGCAGACAATGCTTTTCACTATGCTTAGAAAGTTGGATAATGATGCACTCAACAACATTATCAACAATGCAAGAGATGGTTGTGTTCCCTTGAACATAATACCTCTTACAACAGCAGCCAAACTAATGGTTGTCATACCAGACTATAACACATATAAAAATACGTGTGATGGTACAACATTTACTTATGCATCAGCATTGTGGGAAATCCAACAGGTTGTAGATGCAGATAGTAAAATTGTTCAACTTAGTGAAATTAGTATGGACAATTCACCTAATTTAGCATGGCCTCTTATTGTAACAGCTTTAAGGGCCAATTCTGCTGTCAAATTACAGAATAATGAGCTTAGTCCTGTTGCACTACGACAGATGTCTTGTGCTGCCGGTACTACACAAACTGCTTGCACTGATGACAATGCGTTAGCTTACTACAACACAACAAAGGGAGGTAGGTTTGTACTTGCACTGTTATCCGATTTACAGGATTTGAAATGGGCTAGATTCCCTAAGAGTGATGGAACTGGTACTATCTATACAGAACTGGAACCACCTTGTAGGTTTGTTACAGACACACCTAAAGGTCCTAAAGTGAAGTATTTATACTTTATTAAAGGATTAAACAACCTAAATAGAGGTATGGTACTTGGTAGTTTAGCTGCCACAGTACGTCTACAAGCTGGTAATGCAACAGAAGTGCCTGCCAATTCAACTGTATTATCTTTCTGTGCTTTTGCTGTAGATGCTGCTAAAGCTTACAAAGATTATCTAGCTAGTGGGGGACAACCAATCACTAATTGTGTTAAGATGTTGTGTACACACACTGGTACTGGTCAGGCAATAACAGTTACACCGGAAGCCAATATGGATCAAGAATCCTTTGGTGGTGCATCGTGTTGTCTGTACTGCCGTTGCCACATAGATCATCCAAATCCTAAAGGATTTTGTGACTTAAAAGGTAAGTATGTACAAATACCTACAACTTGTGCTAATGACCCTGTGGGTTTTACACTTAAAAACACAGTCTGTACCGTCTGCGGTATGTGGAAAGGTTATGGCTGTAGTTGTGATCAACTCCGCGAACCCATGCTTCAGTCAGCTGATGCACAATCGTTTTTAAACGGGTTTGCGGTGTAAGTGCAGCCCGTCTTACACCGTGCGGCACAGGCACTAGTACTGATGTCGTATACAGGGCTTTTGACATCTACAATGATAAAGTAGCTGGTTTTGCTAAATTCCTAAAAACTAATTGTTGTCGCTTCCAAGAAAAGGACGAAGATGACAATTTAATTGATTCTTACTTTGTAGTTAAGAGACACACTTTCTCTAACTACCAACATGAAGAAACAATTTATAATTTACTTAAGGATTGTCCAGCTGTTGCTAAACATGACTTCTTTAAGTTTAGAATAGACGGTGACATGGTACCACATATATCACGTCAACGTCTTACTAAATACACAATGGCAGACCTCGTCTATGCTTTAAGGCATTTTGATGAAGGTAATTGTGACACATTAAAAGAAATACTTGTCACATACAATTGTTGTGATGATGATTATTTCAATAAAAAGGACTGGTATGATTTTGTAGAAAACCCAGATATATTACGCGTATACGCCAACTTAGGTGAACGTGTACGCCAAGCTTTGTTAAAAACAGTACAATTCTGTGATGCCATGCGAAATGCTGGTATTGTTGGTGTACTGACATTAGATAATCAAGATCTCAATGGTAACTGGTATGATTTCGGTGATTTCATACAAACCACGCCAGGTAGTGGAGTTCCTGTTGTAGATTCTTATTATTCATTGTTAATGCCTATATTAACCTTGACCAGGGCTTTAACTGCAGAGTCACATGTTGACACTGACTTAACAAAGCCTTACATTAAGTGGGATTTGTTAAAATATGACTTCACGGAAGAGAGGTTAAAACTCTTTGACCGTTATTTTAAATATTGGGATCAGACATACCACCCAAATTGTGTTAACTGTTTGGATGACAGATGCATTCTGCATTGTGCAAACTTTAATGTTTTATTCTCTACAGTGTTCCCACTTACAAGTTTTGGACCACTAGTGAGAAAAATATTTGTTGATGGTGTTCCATTTGTAGTTTCAACTGGATACCACTTCAGAGAGCTAGGTGTTGTACATAATCAGGATGTAAACTTACATAGCTCTAGACTTAGTTTTAAGGAATTACTTGTGTATGCTGCTGACCCTGCTATGCACGCTGCTTCTGGTAATCTATTACTAGATAAACGCACTACGTGCTTTTCAGTAGCTGCACTTACTAACAATGTTGCTTTTCAAACTGTCAAACCCGGTAATTTTAACAAAGACTTCTATGACTTTGCTGTGTCTAAGGGTTTCTTTAAGGAAGGAAGTTCTGTTGAATTAAAACACTTCTTCTTTGCTCAGGATGGTAATGCTGCTATCAGCGATTATGACTACTATCGTTATAATCTACCAACAATGTGTGATATCAGACAACTACTATTTGTAGTTGAAGTTGTTGATAAGTACTTTGATTGTTACGATGGTGGCTGTATTAATGCTAACCAAGTCATCGTCAACAACCTAGACAAATCAGCTGGTTTTCCATTTAATAAATGGGGTAAGGCTAGACTTTATTATGATTCAATGAGTTATGAGGATCAAGATGCACTTTTCGCATATACAAAACGTAATGTCATCCCTACTATAACTCAAATGAATCTTAAGTATGCCATTAGTGCAAAGAATAGAGCTCGCACCGTAGCTGGTGTCTCTATCTGTAGTACTATGACCAATAGACAGTTTCATCAAAAATTATTGAAATCAATAGCCGCCACTAGAGGAGCTACTGTAGTAATTGGAACAAGCAAATTCTATGGTGGTTGGCACAACATGTTAAAAACTGTTTATAGTGATGTAGAAAACCCTCACCTTATGGGTTGGGATTATCCTAAATGTGATAGAGCCATGCCTAACATGCTTAGAATTATGGCCTCACTTGTTCTTGCTCGCAAACATACAACGTGTTGTAGCTTGTCACACCGTTTCTATAGATTAGCTAATGAGTGTGCTCAAGTATTGAGTGAAATGGTCATGTGTGGCGGTTCACTATATGTTAAACCAGGTGGAACCTCATCAGGAGATGCCACAACTGCTTATGCTAATAGTGTTTTTAACATTTGTCAAGCTGTCACGGCCAATGTTAATGCACTTTTATCTACTGATGGTAACAAAATTGCCGATAAGTATGTCCGCAATTTACAACACAGACTTTATGAGTGTCTCTATAGAAATAGAGATGTTGACACAGACTTTGTGAATGAGTTTTACGCATATTTGCGTAAACATTTCTCAATGATGATACTCTCTGACGATGCTGTTGTGTGTTTCAATAGCACTTATGCATCTCAAGGTCTAGTGGCTAGCATAAAGAACTTTAAGTCAGTTCTTTATTATCAAAACAATGTTTTTATGTCTGAAGCAAAATGTTGGACTGAGACTGACCTTACTAAAGGACCTCATGAATTTTGCTCTCAACATACAATGCTAGTTAAACAGGGTGATGATTATGTGTACCTTCCTTACCCAGATCCATCAAGAATCCTAGGGGCCGGCTGTTTTGTAGATGATATCGTAAAAACAGATGGTACACTTATGATTGAACGGTTCGTGTCTTTAGCTATAGATGCTTACCCACTTACTAAACATCCTAATCAGGAGTATGCTGATGTCTTTCATTTGTACTTACAATACATAAGAAAGCTACATGATGAGTTAACAGGACACATGTTAGACATGTATTCTGTTATGCTTACTAATGATAACACTTCAAGGTATTGGGAACCTGAGTTTTATGAGGCTATGTACACACCGCATACAGTCTTACAGGCTGTTGGGGCTTGTGTTCTTTGCAATTCACAGACTTCATTAAGATGTGGTGCTTGCATACGTAGACCATTCTTATGTTGTAAATGCTGTTACGACCATGTCATATCAACATCACATAAATTAGTCTTGTCTGTTAATCCGTATGTTTGCAATGCTCCAGGTTGTGATGTCACAGATGTGACTCAACTTTACTTAGGAGGTATGAGCTATTATTGTAAATCACATAAACCACCCATTAGTTTTCCATTGTGTGCTAATGGACAAGTTTTTGGTTTATATAAAAATACATGTGTTGGTAGCGATAATGTTACTGACTTTAATGCAATTGCAACATGTGACTGGACAAATGCTGGTGATTACATTTTAGCTAACACCTGTACTGAAAGACTCAAGCTTTTTGCAGCAGAAACGCTCAAAGCTACTGAGGAGACATTTAAACTGTCTTATGGTATTGCTACTGTACGTGAAGTGCTGTCTGACAGAGAATTACATCTTTCATGGGAAGTTGGTAAACCTAGACCACCACTTAACCGAAATTATGTCTTTACTGGTTATCGTGTAACTAAAAACAGTAAAGTACAAATAGGAGAGTACACCTTTGAAAAAGGTGACTATGGTGATGCTGTTGTTTACCGAGGTACAACAACTTACAAATTAAATGTTGGTGATTATTTTGTGCTGACATCACATACAGTAATGCCATTAAGTGCACCTACACTAGTGCCACAAGAGCACTATGTTAGAATTACTGGCTTATACCCAACACTCAATATCTCAGATGAGTTTTCTAGCAATGTTGCAAATTATCAAAAGGTTGGTATGCAAAAGTATTCTACACTCCAGGGACCACCTGGTACTGGTAAGAGTCATTTTGCTATTGGCCTAGCTCTCTACTACCCTTCTGCTCGCATAGTGTATACAGCTTGCTCTCATGCCGCTGTTGATGCACTATGTGAGAAGGCATTAAAATATTTGCCTATAGATAAATGTAGTAGAATTATACCTGCACGTGCTCGTGTAGAGTGTTTTGATAAATTCAAAGTGAATTCAACATTAGAACAGTATGTCTTTTGTACTGTAAATGCATTGCCTGAGACGACAGCAGATATAGTTGTCTTTGATGAAATTTCAATGGCCACAAATTATGATTTGAGTGTTGTCAATGCCAGATTACGTGCTAAGCACTATGTGTACATTGGCGACCCTGCTCAATTACCTGCACCACGCACATTGCTAACTAAGGGCACACTAGAACCAGAATATTTCAATTCAGTGTGTAGACTTATGAAAACTATAGGTCCAGACATGTTCCTCGGAACTTGTCGGCGTTGTCCTGCTGAAATTGTTGACACTGTGAGTGCTTTGGTTTATGATAATAAGCTTAAAGCACATAAAGACAAATCAGCTCAATGCTTTAAAATGTTTTATAAGGGTGTTATCACGCATGATGTTTCATCTGCAATTAACAGGCCACAAATAGGCGTGGTAAGAGAATTCCTTACACGTAACCCTGCTTGGAGAAAAGCTGTCTTTATTTCACCTTATAATTCACAGAATGCTGTAGCCTCAAAGATTTTGGGACTACCAACTCAAACTGTTGATTCATCACAGGGCTCAGAATATGACTATGTCATATTCACTCAAACCACTGAAACAGCTCACTCTTGTAATGTAAACAGATTTAATGTTGCTATTACCAGAGCAAAAGTAGGCATACTTTGCATAATGTCTGATAGAGACCTTTATGACAAGTTGCAATTTACAAGTCTTGAAATTCCACGTAGGAATGTGGCAACTTTACAAGCTGAAAATGTAACAGGACTCTTTAAAGATTGTAGTAAGGTAATCACTGGGTTACATCCTACACAGGCACCTACACACCTCAGTGTTGACACTAAATTCAAAACTGAAGGTTTATGTGTTGACATACCTGGCATACCTAAGGACATGACCTATAGAAGACTCATCTCTATGATGGGTTTTAAAATGAATTATCAAGTTAATGGTTACCCTAACATGTTTATCACCCGCGAAGAAGCTATAAGACATGTACGTGCATGGATTGGCTTCGATGTCGAGGGGTGTCATGCTACTAGAGAAGCTGTTGGTACCAATTTACCTTTACAGCTAGGTTTTTCTACAGGTGTTAACCTAGTTGCTGTACCTACAGGTTATGTTGATACACCTAATAATACAGATTTTTCCAGAGTTAGTGCTAAACCACCGCCTGGAGATCAATTTAAACACCTCATACCACTTATGTACAAAGGACTTCCTTGGAATGTAGTGCGTATAAAGATTGTACAAATGTTAAGTGACACACTTAAAAATCTCTCTGACAGAGTCGTATTTGTCTTATGGGCACATGGCTTTGAGTTGACATCTATGAAGTATTTTGTGAAAATAGGACCTGAGCGCACCTGTTGTCTATGTGATAGACGTGCCACATGCTTTTCCACTGCTTCAGACACTTATGCCTGTTGGCATCATTCTATTGGATTTGATTACGTCTATAATCCGTTTATGATTGATGTTCAACAATGGGGTTTTACAGGTAACCTACAAAGCAACCATGATCTGTATTGTCAAGTCCATGGTAATGCACATGTAGCTAGTTGTGATGCAATCATGACTAGGTGTTTAGCTGTCCACGAGTGCTTTGTTAAGCGTGTTGACTGGACTATTGAATATCCTATAATTGGTGATGAACTGAAGATTAATGCGGCTTGTAGAAAGGTTCAACACATGGTTGTTAAAGCTGCATTATTAGCAGACAAATTCCCAGTTCTTCACGACATTGGTAACCCTAAAGCTATTAAGTGTGTACCTCAAGCTGATGTAGAATGGAAGTTCTATGATGCACAGCCTTGTAGTGACAAAGCTTATAAAATAGAAGAATTATTCTATTCTTATGCCACACATTCTGACAAATTCACAGATGGTGTATGCCTATTTTGGAATTGCAATGTCGATAGATATCCTGCTAATTCCATTGTTTGTAGATTTGACACTAGAGTGCTATCTAACCTTAACTTGCCTGGTTGTGATGGTGGCAGTTTGTATGTAAATAAACATGCATTCCACACACCAGCTTTTGATAAAAGTGCTTTTGTTAATTTAAAACAATTACCATTTTTCTATTACTCTGACAGTCCATGTGAGTCTCATGGAAAACAAGTAGTGTCAGATATAGATTATGTACCACTAAAGTCTGCTACGTGTATAACACGTTGCAATTTAGGTGGTGCTGTCTGTAGACATCATGCTAATGAGTACAGATTGTATCTCGATGCTTATAACATGATGATCTCAGCTGGCTTTAGCTTGTGGGTTTACAAACAATTTGATACTTATAACCTCTGGAACACTTTTACAAGACTTCAGAGTTTAGAAAATGTGGCTTTTAATGTTGTAAATAAGGGACACTTTGATGGACAACAGGGTGAAGTACCAGTTTCTATCATTAATAACACTGTTTACACAAAAGTTGATGGTGTTGATGTAGAATTGTTTGAAAATAAAACAACATTACCTGTTAATGTAGCATTTGAGCTTTGGGCTAAGCGCAACATTAAACCAGTACCAGAGGTGAAAATACTCAATAATTTGGGTGTGGACATTGCTGCTAATACTGTGATCTGGGACTACAAAAGAGATGCTCCAGCACATATATCTACTATTGGTGTTTGTTCTATGACTGACATAGCCAAGAAACCAACTGAAACGATTTGTGCACCACTCACTGTCTTTTTTGATGGTAGAGTTGATGGTCAAGTAGACTTATTTAGAAATGCCCGTAATGGTGTTCTTATTACAGAAGGTAGTGTTAAAGGTTTACAACCATCTGTAGGTCCCAAACAAGCTAGTCTTAATGGAGTCACATTAATTGGAGAAGCCGTAAAAACACAGTTCAATTATTATAAGAAAGTTGATGGTGTTGTCCAACAATTACCTGAAACTTACTTTACTCAGAGTAGAAATTTACAAGAATTTAAACCCAGGAGTCAAATGGAAATTGATTTCTTAGAATTAGCTATGGATGAATTCATTGAACGGTATAAATTAGAAGGCTATGCCTTCGAACATATCGTTTATGGAGATTTTAGTCATAGTCAGTTAGGTGGTTTACATCTACTGATTGGACTAGCTAAACGTTTTAAGGAATCACCTTTTGAATTAGAAGATTTTATTCCTATGGACAGTACAGTTAAAAACTATTTCATAACAGATGCGCAAACAGGTTCATCTAAGTGTGTGTGTTCTGTTATTGATTTATTACTTGATGATTTTGTTGAAATAATAAAATCCCAAGATTTATCTGTAGTTTCTAAGGTTGTCAAAGTGACTATTGACTATACAGAAATTTCATTTATGCTTTGGTGTAAAGATGGCCATGTAGAAACATTTTACCCAAAATTACAATCTAGTCAAGCGTGGCAACCGGGTGTTGCTATGCCTAATCTTTACAAAATGCAAAGAATGCTATTAGAAAAGTGTGACCTTCAAAATTATGGTGATAGTGCAACATTACCTAAAGGCATAATGATGAATGTCGCAAAATATACTCAACTGTGTCAATATTTAAACACATTAACATTAGCTGTACCCTATAATATGAGAGTTATACATTTTGGTGCTGGTTCTGATAAAGGAGTTGCACCAGGTACAGCTGTTTTAAGACAGTGGTTGCCTACGGGTACGCTGCTTGTCGATTCAGATCTTAATGACTTTGTCTCTGATGCAGATTCAACTTTGATTGGTGATTGTGCAACTGTACATACAGCTAATAAATGGGATCTCATTATTAGTGATATGTACGACCCTAAGACTAAAAATGTTACAAAAGAAAATGACTCTAAAGAGGGTTTTTTCACTTACATTTGTGGGTTTATACAACAAAAGCTAGCTCTTGGAGGTTCCGTGGCTATAAAGATAACAGAACATTCTTGGAATGCTGATCTTTATAAGCTCATGGGACACTTCGCATGGTGGACAGCCTTTGTTACTAATGTGAATGCGTCATCATCTGAAGCATTTTTAATTGGATGTAATTATCTTGGCAAACCACGCGAACAAATAGATGGTTATGTCATGCATGCAAATTACATATTTTGGAGGAATACAAATCCAATTCAGTTGTCTTCCTATTCTTTATTTGACATGAGTAAATTTCCCCTTAAATTAAGGGGTACTGCTGTTATGTCTTTAAAAGAAGGTCAAATCAATGATATGATTTTATCTCTTCTTAGTAAAGGTAGACTTATAATTAGAGAAAACAACAGAGTTGTTATTTCTAGTGATGTTCTTGTTAACAACTAAACGAACAATGTTTGTTTTTCTTGTTTTATTGCCACTAGTCTCTAGTCAGTGTGTTAATCTTACAACCAGAACTCAATTACCCCCTGCATACACTAATTCTTTCACACGTGGTGTTTATTACCCTGACAAAGTTTTCAGATCCTCAGTTTTACATTCAACTCAGGACTTGTTCTTACCTTTCTTTTCCAATGTTACTTGGTTCCATGCTATACATGTCTCTGGGACCAATGGTACTAAGAGGTTTGATAACCCTGTCCTACCATTTAATGATGGTGTTTATTTTGCTTCCACTGAGAAGTCTAACATAATAAGAGGCTGGATTTTTGGTACTACTTTAGATTCGAAGACCCAGTCCCTACTTATTGTTAATAACGCTACTAATGTTGTTATTAAAGTCTGTGAATTTCAATTTTGTAATGATCCATTTTTGGGTGTTTATTACCACAAAAACAACAAAAGTTGGATGGAAAGTGAGTTCAGAGTTTATTCTAGTGCGAATAATTGCACTTTTGAATATGTCTCTCAGCCTTTTCTTATGGACCTTGAAGGAAAACAGGGTAATTTCAAAAATCTTAGGGAATTTGTGTTTAAGAATATTGATGGTTATTTTAAAATATATTCTAAGCACACGCCTATTAATTTAGTGCGTGATCTCCCTCAGGGTTTTTCGGCTTTAGAACCATTGGTAGATTTGCCAATAGGTATTAACATCACTAGGTTTCAAACTTTACTTGCTTTACATAGAAGTTATTTGACTCCTGGTGATTCTTCTTCAGGTTGGACAGCTGGTGCTGCAGCTTATTATGTGGGTTATCTTCAACCTAGGACTTTTCTATTAAAATATAATGAAAATGGAACCATTACAGATGCTGTAGACTGTGCACTTGACCCTCTCTCAGAAACAAAGTGTACGTTGAAATCCTTCACTGTAGAAAAAGGAATCTATCAAACTTCTAACTTTAGAGTCCAACCAACAGAATCTATTGTTAGATTTCCTAATATTACAAACTTGTGCCCTTTTGGTGAAGTTTTTAACGCCACCAGATTTGCATCTGTTTATGCTTGGAACAGGAAGAGAATCAGCAACTGTGTTGCTGATTATTCTGTCCTATATAATTCCGCATCATTTTCCACTTTTAAGTGTTATGGAGTGTCTCCTACTAAATTAAATGATCTCTGCTTTACTAATGTCTATGCAGATTCATTTGTAATTAGAGGTGATGAAGTCAGACAAATCGCTCCAGGGCAAACTGGAAAGATTGCTGATTATAATTATAAATTACCAGATGATTTTACAGGCTGCGTTATAGCTTGGAATTCTAACAATCTTGATTCTAAGGTTGGTGGTAATTATAATTACCTGTATAGATTGTTTAGGAAGTCTAATCTCAAACCTTTTGAGAGAGATATTTCAACTGAAATCTATCAGGCCGGTAGCACACCTTGTAATGGTGTTGAAGGTTTTAATTGTTACTTTCCTTTACAATCATATGGTTTCCAACCCACTAATGGTGTTGGTTACCAACCATACAGAGTAGTAGTACTTTCTTTTGAACTTCTACATGCACCAGCAACTGTTTGTGGACCTAAAAAGTCTACTAATTTGGTTAAAAACAAATGTGTCAATTTCAACTTCAATGGTTTAACAGGCACAGGTGTTCTTACTGAGTCTAACAAAAAGTTTCTGCCTTTCCAACAATTTGGCAGAGACATTGCTGACACTACTGATGCTGTCCGTGATCCACAGACACTTGAGATTCTTGACATTACACCATGTTCTTTTGGTGGTGTCAGTGTTATAACACCAGGAACAAATACTTCTAACCAGGTTGCTGTTCTTTATCAGGGTGTTAACTGCACAGAAGTCCCTGTTGCTATTCATGCAGATCAACTTACTCCTACTTGGCGTGTTTATTCTACAGGTTCTAATGTTTTTCAAACACGTGCAGGCTGTTTAATAGGGGCTGAACATGTCAACAACTCATATGAGTGTGACATACCCATTGGTGCAGGTATATGCGCTAGTTATCAGACTCAGACTAATTCTCCTCGGCGGGCACGTAGTGTAGCTAGTCAATCCATCATTGCCTACACTATGTCACTTGGTGCAGAAAATTCAGTTGCTTACTCTAATAACTCTATTGCCATACCCACAAATTTTACTATTAGTGTTACCACAGAAATTCTACCAGTGTCTATGACCAAGACATCAGTAGATTGTACAATGTACATTTGTGGTGATTCAACTGAATGCAGCAATCTTTTGTTGCAATATGGCAGTTTTTGTACACAATTAAACCGTGCTTTAACTGGAATAGCTGTTGAACAAGACAAAAACACCCAAGAAGTTTTTGCACAAGTCAAACAAATTTACAAAACACCACCAATTAAAGATTTTGGTGGTTTTAATTTTTCACAAATATTACCAGATCCATCAAAACCAAGCAAGAGGTCATTTATTGAAGATCTACTTTTCAACAAAGTGACACTTGCAGATGCTGGCTTCATCAAACAATATGGTGATTGCCTTGGTGATATTGCTGCTAGAGACCTCATTTGTGCACAAAAGTTTAACGGCCTTACTGTTTTGCCACCTTTGCTCACAGATGAAATGATTGCTCAATACACTTCTGCACTGTTAGCGGGTACAATCACTTCTGGTTGGACCTTTGGTGCAGGTGCTGCATTACAAATACCATTTGCTATGCAAATGGCTTATAGGTTTAATGGTATTGGAGTTACACAGAATGTTCTCTATGAGAACCAAAAATTGATTGCCAACCAATTTAATAGTGCTATTGGCAAAATTCAAGACTCACTTTCTTCCACAGCAAGTGCACTTGGAAAACTTCAAGATGTGGTCAACCAAAATGCACAAGCTTTAAACACGCTTGTTAAACAACTTAGCTCCAATTTTGGTGCAATTTCAAGTGTTTTAAATGATATCCTTTCACGTCTTGACAAAGTTGAGGCTGAAGTGCAAATTGATAGGTTGATCACAGGCAGACTTCAAAGTTTGCAGACATATGTGACTCAACAATTAATTAGAGCTGCAGAAATCAGAGCTTCTGCTAATCTTGCTGCTACTAAAATGTCAGAGTGTGTACTTGGACAATCAAAAAGAGTTGATTTTTGTGGAAAGGGCTATCATCTTATGTCCTTCCCTCAGTCAGCACCTCATGGTGTAGTCTTCTTGCATGTGACTTATGTCCCTGCACAAGAAAAGAACTTCACAACTGCTCCTGCCATTTGTCATGATGGAAAAGCACACTTTCCTCGTGAAGGTGTCTTTGTTTCAAATGGCACACACTGGTTTGTAACACAAAGGAATTTTTATGAACCACAAATCATTACTACAGACAACACATTTGTGTCTGGTAACTGTGATGTTGTAATAGGAATTGTCAACAACACAGTTTATGATCCTTTGCAACCTGAATTAGACTCATTCAAGGAGGAGTTAGATAAATATTTTAAGAATCATACATCACCAGATGTTGATTTAGGTGACATCTCTGGCATTAATGCTTCAGTTGTAAACATTCAAAAAGAAATTGACCGCCTCAATGAGGTTGCCAAGAATTTAAATGAATCTCTCATCGATCTCCAAGAACTTGGAAAGTATGAGCAGTATATAAAATGGCCATGGTACATTTGGCTAGGTTTTATAGCTGGCTTGATTGCCATAGTAATGGTGACAATTATGCTTTGCTGTATGACCAGTTGCTGTAGTTGTCTCAAGGGCTGTTGTTCTTGTGGATCCTGCTGCAAATTTGATGAAGACGACTCTGAGCCAGTGCTCAAAGGAGTCAAATTACATTACACATAAACGAACTTATGGATTTGTTTATGAGAATCTTCACAATTGGAACTGTAACTTTGAAGCAAGGTGAAATCAAGGATGCTACTCCTTCAGATTTTGTTCGCGCTACTGCAACGATACCGATACAAGCCTCACTCCCTTTCGGATGGCTTATTGTTGGCGTTGCACTTCTTGCTGTTTTTCATAGCGCTTCCAAAATCATAACCCTCAAAAAGAGATGGCAACTAGCACTCTCCAAGGGTGTTCACTTTGTTTGCAACTTGCTGTTGTTGTTTGTAACAGTTTACTCACACCTTTTGCTCGTTGCTGCTGGCCTTGAAGCCCCTTTTCTCTATCTTTATGCTTTAGTCTACTTCTTGCAGAGTATAAACTTTGTAAGAATAATAATGAGGCTTTGGCTTTGCTGGAAATGCCGTTCCAAAAACCCATTACTTTATGATGCCAACTATTTTCTTTGCTGGCATACTAATTGTTACGACTATTGTATACCTTACAATAGTGTAACTTCTTCAATTGTCATTACTTCAGGTGATGGCACAACAAGTCCTATTTCTGAACATGACTACCAGATTGGTGGTTATACTGAAAAATGGGAATCTGGAGTAAAAGACTGTGTTGTATTACACAGTTACTTCACTTCAGACTATTACCAGCTGTACTCAACTCAATTGAGTACAGACACTGGTGTTGAACATGTTACCTTCTTCATCTACAATAAAATTGTTGATGAGCCTGAAGAACATGTCCAAATTCACACAATCGACGGTTCATCCGGAGTTGTTAATCCAGTAATGGAACCAATTTATGATGAACCGACGACGACTACTAGCGTGCCTTTGTAAGCACAAGCTGATGAGTACGAACTTATGTACTCATTCGTTTCGGAAGAGACAGGTACGTTAATAGTTAATAGCGTACTTCTTTTTCTTGCTTTCGTGGTATTCTTGCTAGTTACACTAGCCATCCTTACTGCGCTTCGATTGTGTGCGTACTGCTGCAATATTGTTAACGTGAGTCTTGTAAAACCTTCTTTTTACGTTTACTCTCGTGTTAAAAATCTGAATTCTTCTAGAGTTCCTGATCTTCTGGTCTAAACGAACTAAATATTATATTAGTTTTTCTGTTTGGAACTTTAATTTTAGCCATGGCAGATTCCAACGGTACTATTACCGTTGAAGAGCTTAAAAAGCTCCTTGAACAATGGAACCTAGTAATAGGTTTCCTATTCCTTACATGGATTTGTCTTCTACAATTTGCCTATGCCAACAGGAATAGGTTTTTGTATATAATTAAGTTAATTTTCCTCTGGCTGTTATGGCCAGTAACTTTAGCTTGTTTTGTGCTTGCTGCTGTTTACAGAATAAATTGGATCACCGGTGGAATTGCTATCGCAATGGCTTGTCTTGTAGGCTTGATGTGGCTCAGCTACTTCATTGCTTCTTTCAGACTGTTTGCGCGTACGCGTTCCATGTGGTCATTCAATCCAGAAACTAACATTCTTCTCAACGTGCCACTCCATGGCACTATTCTGACCAGACCGCTTCTAGAAAGTGAACTCGTAATCGGAGCTGTGATCCTTCGTGGACATCTTCGTATTGCTGGACACCATCTAGGACGCTGTGACATCAAGGACCTGCCTAAAGAAATCACTGTTGCTACATCACGAACGCTTTCTTATTACAAATTGGGAGCTTCGCAGCGTGTAGCAGGTGACTCAGGTTTTGCTGCATACAGTCGCTACAGGATTGGCAACTATAAATTAAACACAGACCATTCCAGTAGCAGTGACAATATTGCTTTGCTTGTACAGTAAGTGACAACAGATGTTTCATCTCGTTGACTTTCAGGTTACTATAGCAGAGATATTACTAATTATTATGAGGACTTTTAAAGTTTCCATTTGGAATCTTGATTACATCATAAACCTCATAATTAAAAATTTATCTAAGTCACTAACTGAGAATAAATATTCTCAATTAGATGAAGAGCAACCAATGGAGATTGATTAAACGAACATGAAAATTATTCTTTTCTTGGCACTGATAACACTCGCTACTTGTGAGCTTTATCACTACCAAGAGTGTGTTAGAGGTACAACAGTACTTTTAAAAGAACCTTGCTCTTCTGGAACATACGAGGGCAATTCACCATTTCATCCTCTAGCTGATAACAAATTTGCACTGACTTGCTTTAGCACTCAATTTGCTTTTGCTTGTCCTGACGGCGTAAAACACGTCTATCAGTTACGTGCCAGATCAGTTTCACCTAAACTGTTCATCAGACAAGAGGAAGTTCAAGAACTTTACTCTCCAATTTTTCTTATTGTTGCGGCAATAGTGTTTATAACACTTTGCTTCACACTCAAAAGAAAGACAGAATGATTGAACTTTCATTAATTGACTTCTATTTGTGCTTTTTAGCCTTTCTGCTATTCCTTGTTTTAATTATGCTTATTATCTTTTGGTTCTCACTTGAACTGCAAGATCATAATGAAACTTGTCACGCCTAAACGAACATGAAATTTCTTGTTTTCTTAGGAATCATCACAACTGTAGCTGCATTTCACCAAGAATGTAGTTTACAGTCATGTACTCAACATCAACCATATGTAGTTGATGACCCGTGTCCTATTCACTTCTATTCTAAATGGTATATTAGAGTAGGAGCTAGAAAATCAGCACCTTTAATTGAATTGTGCGTGGATGAGGCTGGTTCTAAATCACCCATTCAGTACATCGATATCGGTAATTATACAGTTTCCTGTTTACCTTTTACAATTAATTGCCAGGAACCTAAATTGGGTAGTCTTGTAGTGCGTTGTTCGTTCTATGAAGACTTTTTAGAGTATCATGACGTTCGTGTTGTTTTAGATTTCATCTAAACGAACAAACTAAAATGTCTGATAATGGACCCCAAAATCAGCGAAATGCACCCCGCATTACGTTTGGTGGACCCTCAGATTCAACTGGCAGTAACCAGAATGGAGAACGCAGTGGGGCGCGATCAAAACAACGTCGGCCCCAAGGTTTACCCAATAATACTGCGTCTTGGTTCACCGCTCTCACTCAACATGGCAAGGAAGACCTTAAATTCCCTCGAGGACAAGGCGTTCCAATTAACACCAATAGCAGTCCAGATGACCAAATTGGCTACTACCGAAGAGCTACCAGACGAATTCGTGGTGGTGACGGTAAAATGAAAGATCTCAGTCCAAGATGGTATTTCTACTACCTAGGAACTGGGCCAGAAGCTGGACTTCCCTATGGTGCTAACAAAGACGGCATCATATGGGTTGCAACTGAGGGAGCCTTGAATACACCAAAAGATCACATTGGCACCCGCAATCCTGCTAACAATGCTGCAATCGTGCTACAACTTCCTCAAGGAACAACATTGCCAAAAGGCTTCTACGCAGAAGGGAGCAGAGGCGGCAGTCAAGCCTCTTCTCGTTCCTCATCACGTAGTCGCAACAGTTCAAGAAATTCAACTCCAGGCAGCAGTAGGGGAACTTCTCCTGCTAGAATGGCTGGCAATGGCGGTGATGCTGCTCTTGCTTTGCTGCTGCTTGACAGATTGAACCAGCTTGAGAGCAAAATGTCTGGTAAAGGCCAACAACAACAAGGCCAAACTGTCACTAAGAAATCTGCTGCTGAGGCTTCTAAGAAGCCTCGGCAAAAACGTACTGCCACTAAAGCATACAATGTAACACAAGCTTTCGGCAGACGTGGTCCAGAACAAACCCAAGGAAATTTTGGGGACCAGGAACTAATCAGACAAGGAACTGATTACAAACATTGGCCGCAAATTGCACAATTTGCCCCCAGCGCTTCAGCGTTCTTCGGAATGTCGCGCATTGGCATGGAAGTCACACCTTCGGGAACGTGGTTGACCTACACAGGTGCCATCAAATTGGATGACAAAGATCCAAATTTCAAAGATCAAGTCATTTTGCTGAATAAGCATATTGACGCATACAAAACATTCCCACCAACAGAGCCTAAAAAGGACAAAAAGAAGAAGGCTGATGAAACTCAAGCCTTACCGCAGAGACAGAAGAAACAGCAAACTGTGACTCTTCTTCCTGCTGCAGATTTGGATGATTTCTCCAAACAATTGCAACAATCCATGAGCAGTGCTGACTCAACTCAGGCCTAAACTCATGCAGACCACACAAGGCAGATGGGCTATATAAACGTTTTCGCTTTTCCGTTTACGATATATAGTCTACTCTTGTGCAGAATGAATTCTCGTAACTACATAGCACAAGTAGATGTAGTTAACTTTAATCTCACATAGCAATCTTTAATCAGTGTGTAACATTAGGGAGGACTTGAAAGAGCCACCACATTTTCACCGAGGCCACGCGGAGTACGATCGAGTGTACAGTGAACAATGCTAGGGAGAGCTGCCTATATGGAAGAGCCCTAATGTGTAAAATTAATTTTAGTAGTGCTATCC'\n",
    "b = 'ACAA-ACCAACCAACTTTCGATCTCTTGTAGATCTGTTCTCTAAACGAACTTTAAAATCTGTGTGGCTGTCACTCGGCTGCATGCTTAGTGCACTCACGCAGTATAATTAATAACTAATTACTGTCGTTGACAGGACACGAGTAACTCGTCTATCTTCTGCAGGCTGCTTACGGTTTCGTCCGTGTTGCAGCCGATCATCAGCACATCTAGGTTTCGTCCGGGTGTGACCGAAAGGTAAGATGGAGAGCCTTGTCCCTGGTTTCAACGAGAAAACACACGTCCAACTCAGTTTGCCTGTTTTACAGGTTCGCGACGTGCTCGTACGTGGCTTTGGAGACTCCGTGGAGGAGGTCTTATCAGAGGCACGTCAACATCTTAAAGATGGCACTTGTGGCTTAGTAGAAGTTGAAAAAGGCGTTTTGCCTCAACTTGAACAGCCCTATGTGTTCATCAAACGTTCGGATGCTCGAACTGCACCTCATGGTCATGTTATGGTTGAGCTGGTAGCAGAACTCGAAGGCATTCAGTACGGTCGTAGTGGTGAGACACTTGGTGTCCTTGTCCCTCATGTGGGCGAAATACCAGTGGCTTACCGCAAGGTTCTTCTTCGTAAGAACGGTAATAAAGGAGCTGGTGGCCATAGTTACGGCGCCGATCTAAAGTCATTTGACTTAGGCGACGAGCTTGGCACTGATCCTTATGAAGATTTTCAAGAAAACTGGAACACTAAACATAGCAGTGGTGTTACCCGTGAACTCATGCGTGAGCTTAACGGAGGGGCATACACTCGCTATGTCGATAACAACTTCTGTGGCCCTGATGGCTACCCTCTTGAGTGCATTAAAGACCTTCTAGCACGTGCTGGTAAAGCTTCATGCACTTTGTCCGAACAACTGGACTTTATTGACACTAAGAGGGGTGTATACTGCTGCCGTGAACATGAGCATGAAATTGCTTGGTACACGGAACGTTCTGAAAAGAGCTATGAATTGCAGACACCTTTTGAAATTAAATTGGCAAAGAAATTTGACACCTTCAATGGGGAATGTCCAAATTTTGTATTTCCCTTAAATTCCATAATCAAGACTATTCAACCAAGGGTTGAAAAGAAAAAGCTTGATGGCTTTATGGGTAGAATTCGATCTGTCTATCCAGTTGCGTCACCAAATGAATGCAACCAAATGTGCCTTTCAACTCTCATGAAGTGTGATCATTGTGGTGAAACTTCATGGCAGACGGGCGATTTTGTTAAAGCCACTTGCGAATTTTGTGGCACTGAGAATTTGACTAAAGAAGGTGCCACTACTTGTGGTTACTTACCCCAAAATGCTGTTGTTAAAATTTATTGTCCAGCATGTCACAATTCAGAAGTAGGACCTGAGCATAGTCTTGCCGAATACCATAATGAATCTGGCTTGAAAACCATTCTTCGTAAGGGTGGTCGCACTATTGCCTTTGGAGGCTGTGTGTTCTCTTATGTTGGTTGCCATAACAAGTGTGCCTATTGGGTTCCACGTGCTAGCGCTAACATAGGTTGTAACCATACAGGTGTTGTTGGAGAAGGTTCCGAAGGTCTTAATGACAACCTTCTTGAAATACTCCAAAAAGAGAAAGTCAACATCAATATTGTTGGTGACTTTAAACTTAATGAAGAGATCGCCATTATTTTGGCATCTTTTTCTGCTTCCACAAGTGCTTTTGTGGAAACTGTGAAAGGTTTGGATTATAAAGCATTCAAACAAATTGTTGAATCCTGTGGTAATTTTAAAGTTACAAAAGGAAAAGCTAAAAAAGGTGCCTGGAATATTGGTGAACAGAAATCAATACTGAGTCCTCTTTATGCATTTGCATCAGAGGCTGCTCGTGTTGTACGATCAATTTTCTCCCGCACTCTTGAAACTGCTCAAAATTCTGTGCGTGTTTTACAGAAGGCCGCTATAACAATACTAGATGGAATTTCACAGTATTCACTGAGACTCATTGATGCTATGATGTTCACATCTGATTTGGCTACTAACAATCTAGTTGTAATGGCCTACATTACAGGTGGTGTTGTTCAGTTGACTTCGCAGTGGCTAACTAACATCTTTGGCACTGTTTATGAAAAACTCAAACCCGTCCTTGATTGGCTTGAAGAGAAGTTTAAGGAAGGTGTAGAGTTTCTTAGAGACGGTTGGGAAATTGTTAAATTTATCTCAACCTGTGCTTGTGAAATTGTCGGTGGACAAATTGTCACCTGTGCAAAGGAAATTAAGGAGAGTGTTCAGACATTCTTTAAGCTTGTAAATAAATTTTTGGCTTTGTGTGCTGACTCTATCATTATTGGTGGAGCTAAACTTAAAGCCTTGAATTTAGGTGAAACATTTGTCACGCACTCAAAGGGATTGTACAGAAAGTGTGTTAAATCCAGAGAAGAAACTGGCCTACTCATGCCTCTAAAAGCCCCAAAAGAAATTATCTTCTTAGAGGGAGAAACACTTCCCACAGAAGTGTTAACAGAGGAAGTTGTCTTGAAAACTGGTGATTTACAACCATTAGAACAACCTACTAGTGAAGCTGTTGAAGCTCCATTGGTTGGTACACCAGTTTGTATTAACGGGCTTATGTTGCTCGAAATCAAAGACACAGAAAAGTACTGTGCCCTTGCACCTAATATGATGGTAACAAACAATACCTTCACACTCAAAGGCGGTGCACCAACAAAGGTTACTTTTGGTGATGACACTGTGATAGAAGTGCAAGGTTACAAGAGTGTGAATATCACTTTTGAACTTGATGAAAGGATTGATAAAGTACTTAATGAGAAGTGCTCTGCCTATACAGTTGAACTCGGTACAGAAGTAAATGAGTTCGCCTGTGTTGTGGCAGATGCTGTCATAAAAACTTTGCAACCAGTATCTGAATTACTTACACCACTGGGCATTGATTTAGATGAGTGGAGTATGGCTACATACTACTTATTTGATGAGTCTGGTGAGTTTAAATTGGCTTCACATATGTATTGTTCTTTCTACCCTCCAGATGAGGATGAAGAAGAAGGTGATTGTGAAGAAGAAGAGTTTGAGCCATCAACTCAATATGAGTATGGTACTGAAGATGATTACCAAGGTAAACCTTTGGAATTTGGTGCCACTTCTGCTGCTCTTCAACCTGAAGAAGAGCAAGAAGAAGATTGGTTAGATGATGATAGTCAACAAACTGTTGGTCAACAAGACGGCAGTGAGGACAATCAGACAACTACTATTCAAACAATTGTTGAGGTTCAACCTCAATTAGAGATGGAACTTACACCAGTTGTTCAGACTATTGAAGTGAATAGTTTTAGTGGTTATTTAAAACTTACTGACAATGTATACATTAAAAATGCAGACATTGTGGAAGAAGCTAAAAAGGTAAAACCAACAGTGGTTGTTAATGCAGCCAATGTTTACCTTAAACATGGAGGAGGTGTTGCAGGAGCCTTAAATAAGGCTACTAACAATGCCATGCAAGTTGAATCTGATGATTACATAGCTACTAATGGACCACTTAAAGTGGGTGGTAGTTGTGTTTTAAGCGGACACAATCTTGCTAAACACTGTCTTCATGTTGTCGGCCCAAATGTTAACAAAGGTGAAGACATTCAACTTCTTAAGAGTGCTTATGAAAATTTTAATCAGCACGAAGTTCTACTTGCACCATTATTATCAGCTGGTATTTTTGGTGCTGACCCTATACATTCTTTAAGAGTTTGTGTAGATACTGTTCGCACAAATGTCTACTTAGCTGTCTTTGATAAAAATCTCTATGACAAACTTGTTTCAAGCTTTTTGGAAATGAAGAGTGAAAAGCAAGTTGAACAAAAGATCGCTGAGATTCCTAAAGAGGAAGTTAAGCCATTTATAACTGAAAGTAAACCTTCAGTTGAACAGAGAAAACAAGATGATAAGAAAATCAAAGCTTGTGTTGAAGAAGTTACAACAACTCTGGAAGAAACTAAGTTCCTCACAGAAAACTTGTTACTTTATATTGACATTAATGGCAATCTTCATCCAGATTCTGCCACTCTTGTTAGTGACATTGACATCACTTTCTTAAAGAAAGATGCTCCATATATAGTGGGTGATGTTGTTCAAGAGGGTGTTTTAACTGCTGTGGTTATACCTACTAAAAAGGCTGGTGGCACTACTGAAATGCTAGCGAAAGCTTTGAGAAAAGTGCCAACAGACAATTATATAACCACTTACCCGGGTCAGGGTTTAAATGGTTACACTGTAGAGGAGGCAAAGACAGTGCTTAAAAAGTGTAAAAGTGCCTTTTACATTCTACCATCTATTATCTCTAATGAGAAGCAAGAAATTCTTGGAACTGTTTCTTGGAATTTGCGAGAAATGCTTGCACATGCAGAAGAAACACGCAAATTAATGCCTGTCTGTGTGGAAACTAAAGCCATAGTTTCAACTATACAGCGTAAATATAAGGGTATTAAAATACAAGAGGGTGTGGTTGATTATGGTGCTAGATTTTACTTTTACACCAGTAAAACAACTGTAGCGTCACTTATCAACACACTTAACGATCTAAATGAAACTCTTGTTACAATGCCACTTGGCTATGTAACACATGGCTTAAATTTGGAAGAAGCTGCTCGGTATATGAGATCTCTCAAAGTGCCAGCTACAGTTTCTGTTTCTTCACCTGATGCTGTTACAGCGTATAATGGTTATCTTACTTCTTCTTCTAAAACACCTGAAGAACATTTTATTGAAACCATCTCACTTGCTGGTTCCTATAAAGATTGGTCCTATTCTGGACAATCTACACAACTAGGTATAGAATTTCTTAAGAGAGGTGATAAAAGTGTATATTACACTAGTAATCCTACCACATTCCACCTAGATGGTGAAGTTATCACCTTTGACAATCTTAAGACACTTCTTTCTTTGAGAGAAGTGAGGACTATTAAGGTGTTTACAACAGTAGACAACATTAACCTCCACACGCAAGTTGTGGACATGTCAATGACATATGGACAACAGTTTGGTCCAACTTATTTGGATGGAGCTGATGTTACTAAAATAAAACCTCATAATTCACATGAAGGTAAAACATTTTATGTTTTACCTAATGATGACACTCTACGTGTTGAGGCTTTTGAGTACTACCACACAACTGATCCTAGTTTTCTGGGTAGGTACATGTCAGCATTAAATCACACTAAAAAGTGGAAATACCCACAAGTTAATGGTTTAACTTCTATTAAATGGGCAGATAACAACTGTTATCTTGCCACTGCATTGTTAACACTCCAACAAATAGAGTTGAAGTTTAATCCACCTGCTCTACAAGATGCTTATTACAGAGCAAGGGCTGGTGAAGCTGCTAACTTTTGTGCACTTATCTTAGCCTACTGTAATAAGACAGTAGGTGAGTTAGGTGATGTTAGAGAAACAATGAGTTACTTGTTTCAACATGCCAATTTAGATTCTTGCAAAAGAGTCTTGAACGTGGTGTGTAAAACTTGTGGACAACAGCAGACAACCCTTAAGGGTGTAGAAGCTGTTATGTACATGGGCACACTTTCTTATGAACAATTTAAGAAAGGTGTTCAGATACCTTGTACGTGTGGTAAACAAGCTACAAAATATCTAGTACAACAGGAGTCACCTTTTGTTATGATGTCAGCACCACCTGCTCAGTATGAACTTAAGCATGGTACATTTACTTGTGCTAGTGAGTACACTGGTAATTACCAGTGTGGTCACTATAAACATATAACTTCTAAAGAAACTTTGTATTGCATAGACGGTGCTTTACTTACAAAGTCCTCAGAATACAAAGGTCCTATTACGGATGTTTTCTACAAAGAAAACAGTTACACAACAACCATAAAACCAGTTACTTATAAATTGGATGGTGTTGTTTGTACAGAAATTGACCCTAAGTTGGACAATTATTATAAGAAAGACAATTCTTATTTCACAGAGCAACCAATTGATCTTGTACCAAACCAACCATATCCAAACGCAAGCTTCGATAATTTTAAGTTTGTATGTGATAATATCAAATTTGCTGATGATTTAAACCAGTTAACTGGTTATAAGAAACCTGCTTCAAGAGAGCTTAAAGTTACATTTTTCCCTGACTTAAATGGTGATGTGGTGGCTATTGATTATAAACACTACACACCCTCTTTTAAGAAAGGAGCTAAATTGTTACATAAACCTATTGTTTGGCATGTTAACAATGCAACTAATAAAGCCACGTATAAACCAAATACCTGGTGTATACGTTGTCTTTGGAGCACAAAACCAGTTGAAACATCAAATTCGTTTGATGTACTGAAGTCAGAGGACGCGCAGGGAATGGATAATCTTGCCTGCGAAGATCTAAAACCAGTCTCTGAAGAAGTAGTGGAAAATCCTACCATACAGAAAGACGTTCTTGAGTGTAATGTGAAAACTACCGAAGTTGTAGGAGACATTATACTTAAACCAGCAAATAATAGTTTAAAAATTACAGAAGAGGTTGGCCACACAGATCTAATGGCTGCTTATGTAGACAATTCTAGTCTTACTATTAAGAAACCTAATGAATTATCTAGAGTATTAGGTTTGAAAACCCTTGCTACTCATGGTTTAGCTGCTGTTAATAGTGTCCCTTGGGATACTATAGCTAATTATGCTAAGCCTTTTCTTAACAAAGTTGTTAGTACAACTACTAACATAGTTACACGGTGTTTAAACCGTGTTTGTACTAATTATATGCCTTATTTCTTTACTTTATTGCTACAATTGTGTACTTTTACTAGAAGTACAAATTCTAGAATTAAAGCATCTATGCCGACTACTATAGCAAAGAATACTGTTAAGAGTGTCGGTAAATTTTGTCTAGAGGCTTCATTTAATTATTTGAAGTCACCTAATTTTTCTAAACTGATAAATATTATAATTTGGTTTTTACTATTAAGTGTTTGCCTAGGTTCTTTAATCTACTCAACCGCTGCTTTAGGTGTTTTAATGTCTAATTTAGGCATGCCTTCTTACTGTACTGGTTACAGAGAAGGCTATTTGAACTCTACTAATGTCACTATTGCAACCTACTGTACTGGTTCTATACCTTGTAGTGTTTGTCTTAGTGGTTTAGATTCTTTAGACACCTATCCTTCTTTAGAAACTATACAAATTACCATTTCATCTTTTAAATGGGATTTAACTGCTTTTGGCTTAGTTGCAGAGTGGTTTTTGGCATATATTCTTTTCACTAGGTTTTTCTATGTACTTGGATTGGCTGCAATCATGCAATTGTTTTTCAGCTATTTTGCAGTACATTTTATTAGTAATTCTTGGCTTATGTGGTTAATAATTAATCTTGTACAAATGGCCCCGATTTCAGCTATGGTTAGAATGTACATCTTCTTTGCATCATTTTATTATGTATGGAAAAGTTATGTGCATGTTGTAGACGGTTGTAATTCATCAACTTGTATGATGTGTTACAAACGTAATAGAGCAACAAGAGTCGAATGTACAACTATTGTTAATGGTGTTAGAAGGTCCTTTTATGTCTATGCTAATGGAGGTAAAGGCTTTTGCAAACTACACAATTGGAATTGTGTTAATTGTGATACATTCTGTGCTGGTAGTACATTTATTAGTGATGAAGTTGCGAGAGACTTGTCACTACAGTTTAAAAGACCAATAAATCCTACTGACCAGTCTTCTTACATCGTTGATAGTGTTACAGTGAAGAATGGTTCCATCCATCTTTACTTTGATAAAGCTGGTCAAAAGACTTATGAAAGACATTCTCTCTCTCATTTTGTTAACTTAGACAACCTGAGAGCTAATAACACTAAAGGTTCATTGCCTATTAATGTTATAGTTTTTGATGGTAAATCAAAATGTGAAGAATCATCTGCAAAATCAGCGTCTGTTTACTACAGTCAGCTTATGTGTCAACCTATACTGTTACTAGATCAGGCATTAGTGTCTGATGTTGGTGATAGTGCGGAAGTTGCAGTTAAAATGTTTGATGCTTACGTTAATACGTTTTCATCAACTTTTAACGTACCAATGGAAAAACTCAAAACACTAGTTGCAACTGCAGAAGCTGAACTTGCAAAGAATGTGTCCTTAGACAATGTCTTATCTACTTTTATTTCAGCAGCTCGGCAAGGGTTTGTTGATTCAGATGTAGAAACTAAAGATGTTGTTGAATGTCTTAAATTGTCACATCAATCTGACATAGAAGTTACTGGCGATAGTTGTAATAACTATATGCTCACCTATAACAAAGTTGAAAACATGACACCCCGTGACCTTGGTGCTTGTATTGACTGTAGTGCGCGTCATATTAATGCGCAGGTAGCAAAAAGTCACAACATTGCTTTGATATGGAACGTTAAAGATTTCATGTCATTGTCTGAACAACTACGAAAACAAATACGTAGTGCTGCTAAAAAGAATAACTTACCTTTTAAGTTGACATGTGCAACTACTAGACAAGTTGTTAATGTTGTAACAACAAAGATAGCACTTAAGGGTGGTAAAATTGTTAATAATTGGTTGAAGCAGTTAATTAAAGTTACACTTGTGTTCCTTTTTGTTGCTGCTATTTTCTATTTAATAACACCTGTTCATGTCATGTCTAAACATACTGACTTTTCAAGTGAAATCATAGGATACAAGGCTATTGATGGTGGTGTCACTCGTGACATAGCATCTACAGATACTTGTTTTGCTAACAAACATGCTGATTTTGACACATGGTTTAGCCAGCGTGGTGGTAGTTATACTAATGACAAAGCTTGCCCATTGATTGCTGCAGTCATAACAAGAGAAGTGGGTTTTGTCGTGCCTGGTTTGCCTGGCACGATATTACGCACAACTAATGGTGACTTTTTGCATTTCTTACCTAGAGTTTTTAGTGCAGTTGGTAACATCTGTTACACACCATCAAAACTTATAGAGTACACTGACTTTGCAACATCAGCTTGTGTTTTGGCTGCTGAATGTACAATTTTTAAAGATGCTTCTGGTAAGCCAGTACCATATTGTTATGATACCAATGTACTAGAAGGTTCTGTTGCTTATGAAAGTTTACGCCCTGACACACGTTATGTGCTCATGGATGGCTCTATTATTCAATTTCCTAACACCTACCTTGAAGGTTCTGTTAGAGTGGTAACAACTTTTGATTCTGAGTACTGTAGGCACGGCACTTGTGAAAGATCAGAAGCTGGTGTTTGTGTATCTACTAGTGGTAGATGGGTACTTAACAATGATTATTACAGATCTTTACCAGGAGTTTTCTGTGGTGTAGATGCTGTAAATTTACTTACTAATATGTTTACACCACTAATTCAACCTATTGGTGCTTTGGACATATCAGCATCTATAGTAGCTGGTGGTATTGTAGCTATCGTAGTAACATGCCTTGCCTACTATTTTATGAGGTTTAGAAGAGCTTTTGGTGAATACAGTCATGTAGTTGCCTTTAATACTTTACTATTCCTTATGTCATTCACTGTACTCTGTTTAACACCAGTTTACTCATTCTTACCTGGTGTTTATTCTGTTATTTACTTGTACTTGACATTTTATCTTACTAATGATGTTTCTTTTTTAGCACATATTCAGTGGATGGTTATGTTCACACCTTTAGTACCTTTCTGGATAACAATTGCTTATATCATTTGTATTTCCACAAAGCATTTCTATTGGTTCTTTAGTAATTACCTAAAGAGACGTGTAGTCTTTAATGGTGTTTCCTTTAGTACTTTTGAAGAAGCTGCGCTGTGCACCTTTTTGTTAAATAAAGAAATGTATCTAAAGTTGCGTAGTGATGTGCTATTACCTCTTACGCAATATAATAGATACTTAGCTCTTTATAATAAGTACAAGTATTTTAGTGGAGCAATGGATACAACTAGCTACAGAGAAGCTGCTTGTTGTCATCTCGCAAAGGCTCTCAATGACTTCAGTAACTCAGGTTCTGATGTTCTTTACCAACCACCACAAACCTCTATCACCTCAGCTGTTTTGCAGAGTGGTTTTAGAAAAATGGCATTCCCATCTGGTAAAGTTGAGGGTTGTATGGTACAAGTAACTTGTGGTACAACTACACTTAACGGTCTTTGGCTTGATGACGTAGTTTACTGTCCAAGACATGTGATCTGCACCTCTGAAGACATGCTTAACCCTAATTATGAAGATTTACTCATTCGTAAGTCTAATCATAATTTCTTGGTACAGGCTGGTAATGTTCAACTCAGGGTTATTGGACATTCTATGCAAAATTGTGTACTTAAGCTTAAGGTTGATACAGCCAATCCTAAGACACCTAAGTATAAGTTTGTTCGCATTCAACCAGGACAGACTTTTTCAGTGTTAGCTTGTTACAATGGTTCACCATCTGGTGTTTACCAATGTGCTATGAGGCCCAATTTCACTATTAAGGGTTCATTCCTTAATGGTTCATGTGGTAGTGTTGGTTTTAACATAGATTATGACTGTGTCTCTTTTTGTTACATGCACCATATGGAATTACCAACTGGAGTTCATGCTGGCACAGACTTAGAAGGTAACTTTTATGGACCTTTTGTTGACAGGCAAACAGCACAAGCAGCTGGTACGGACACAACTATTACAGTTAATGTTTTAGCTTGGTTGTACGCTGCTGTTATAAATGGAGACAGGTGGTTTCTCAATCGATTTACCACAACTCTTAATGACTTTAACCTTGTGGCTATGAAGTACAATTATGAACCTCTAACACAAGACCATGTTGACATACTAGGACCTCTTTCTGCTCAAACTGGAATTGCCGTTTTAGATATGTGTGCTTCATTAAAAGAATTACTGCAAAATGGTATGAATGGACGTACCATATTGGGTAGTGCTTTATTAGAAGATGAATTTACACCTTTTGATGTTGTTAGACAATGCTCAGGTGTTACTTTCCAAAGTGCAGTGAAAAGAACAATCAAGGGTACACACCACTGGTTGTTACTCACAATTTTGACTTCACTTTTAGTTTTAGTCCAGAGTACTCAATGGTCTTTGTTCTTTTTTTTGTATGAAAATGCCTTTTTACCTTTTGCTATGGGTATTATTGCTATGTCTGCTTTTGCAATGATGTTTGTCAAACATAAGCATGCATTTCTCTGTTTGTTTTTGTTACCTTCTCTTGCCACTGTAGCTTATTTTAATATGGTCTATATGCCTGCTAGTTGGGTGATGCGTATTATGACATGGTTGGATATGGTTGATACTAGTTTGTCTGGTTTTAAGCTAAAAGACTGTGTTATGTATGCATCAGCTGTAGTGTTACTAATCCTTATGACAGCAAGAACTGTGTATGATGATGGTGCTAGGAGAGTGTGGACACTTATGAATGTCTTGACACTCGTTTATAAAGTTTATTATGGTAATGCTTTAGATCAAGCCATTTCCATGTGGGCTCTTATAATCTCTGTTACTTCTAACTACTCAGGTGTAGTTACAACTGTCATGTTTTTGGCCAGAGGTATTGTTTTTATGTGTGTTGAGTATTGCCCTATTTTCTTCATAACTGGTAATACACTTCAGTGTATAATGCTAGTTTATTGTTTCTTAGGCTATTTTTGTACTTGTTACTTTGGCCTCTTTTGTTTACTCAACCGCTACTTTAGACTGACTCTTGGTGTTTATGATTACTTAGTTTCTACACAGGAGTTTAGATATATGAATTCACAGGGACTACTCCCACCCAAGAATAGCATAGATGCCTTCAAACTCAACATTAAATTGTTGGGTGTTGGTGGCAAACCTTGTATCAAAGTAGCCACTGTACAGTCTAAAATGTCAGATGTAAAGTGCACATCAGTAGTCTTACTCTCAGTTTTGCAACAACTCAGAGTAGAATCATCATCTAAATTGTGGGCTCAATGTGTCCAGTTACACAATGACATTCTCTTAGCTAAAGATACTACTGAAGCCTTTGAAAAAATGGTTTCACTACTTTCTGTTTTGCTTTCCATGCAGGGTGCTGTAGACATAAACAAGCTTTGTGAAGAAATGCTGGACAACAGGGCAACCTTACAAGCTATAGCCTCAGAGTTTAGTTCCCTTCCATCATATGCAGCTTTTGCTACTGCTCAAGAAGCTTATGAGCAGGCTGTTGCTAATGGTGATTCTGAAGTTGTTCTTAAAAAGTTGAAGAAGTCTTTGAATGTGGCTAAATCTGAATTTGACCGTGATGCAGCCATGCAACGTAAGTTGGAAAAGATGGCTGATCAAGCTATGACCCAAATGTATAAACAGGCTAGATCTGAGGACAAGAGGGCAAAAGTTACTAGTGCTATGCAGACAATGCTTTTCACTATGCTTAGAAAGTTGGATAATGATGCACTCAACAACATTATCAACAATGCAAGAGATGGTTGTGTTCCCTTGAACATAATACCTCTTACAACAGCAGCCAAACTAATGGTTGTCATACCAGACTATAACACATATAAAAATACGTGTGATGGTACAACATTTACTTATGCATCAGCATTGTGGGAAATCCAACAGGTTGTAGATGCAGATAGTAAAATTGTTCAACTTAGTGAAATTAGTATGGACAATTCACCTAATTTAGCATGGCCTCTTATTGTAACAGCTTTAAGGGCCAATTCTGCTGTCAAATTACAGAATAATGAGCTTAGTCCTGTTGCACTACGACAGATGTCTTGTGCTGCCGGTACTACACAAACTGCTTGCACTGATGACAATGCGTTAGCTTACTACAACACAACAAAGGGAGGTAGGTTTGTACTTGCACTGTTATCCGATTTACAGGATTTGAAATGGGCTAGATTCCCTAAGAGTGATGGAACTGGTACTATCTATACAGAACTGGAACCACCTTGTAGGTTTGTTACAGACACACCTAAAGGTCCTAAAGTGAAGTATTTATACTTTATTAAAGGATTAAACAACCTAAATAGAGGTATGGTACTTGGTAGTTTAGCTGCCACAGTACGTCTACAAGCTGGTAATGCAACAGAAGTGCCTGCCAATTCAACTGTATTATCTTTCTGTGCTTTTGCTGTAGATGCTGCTAAAGCTTACAAAGATTATCTAGCTAGTGGGGGACAACCAATCACTAATTGTGTTAAGATGTTGTGTACACACACTGGTACTGGTCAGGCAATAACAGTTACACCGGAAGCCAATATGGATCAAGAATCCTTTGGTGGTGCATCGTGTTGTCTGTACTGCCGTTGCCACATAGATCATCCAAATCCTAAAGGATTTTGTGACTTAAAAGGTAAGTATGTACAAATACCTACAACTTGTGCTAATGACCCTGTGGGTTTTACACTTAAAAACACAGTCTGTACCGTCTGCGGTATGTGGAAAGGTTATGGCTGTAGTTGTGATCAACTCCGCGAACCCATGCTTCAGTCAGCTGATGCACAATCGTTTTTAAACGGGTTTGCGGTGTAAGTGCAGCCCGTCTTACACCGTGCGGCACAGGCACTAGTACTGATGTCGTATACAGGGCTTTTGACATCTACAATGATAAAGTAGCTGGTTTTGCTAAATTCCTAAAAACTAATTGTTGTCGCTTCCAAGAAAAGGACGAAGATGACAATTTAATTGATTCTTACTTTGTAGTTAAGAGACACACTTTCTCTAACTACCAACATGAAGAAACAATTTATAATTTACTTAAGGATTGTCCAGCTGTTGCTAAACATGACTTCTTTAAGTTTAGAATAGACGGTGACATGGTACCACATATATCACGTCAACGTCTTACTAAATACACAATGGCAGACCTCGTCTATGCTTTAAGGCATTTTGATGAAGGTAATTGTGACACATTAAAAGAAATACTTGTCACATACAATTGTTGTGATGATGATTATTTCAATAAAAAGGACTGGTATGATTTTGTAGAAAACCCAGATATATTACGCGTATACGCCAACTTAGGTGAACGTGTACGCCAAGCTTTGTTAAAAACAGTACAATTCTGTGATGCCATGCGAAATGCTGGTATTGTTGGTGTACTGACATTAGATAATCAAGATCTCAATGGTAACTGGTATGATTTCGGTGATTTCATACAAACCACGCCAGGTAGTGGAGTTCCTGTTGTAGATTCTTATTATTCATTGTTAATGCCTATATTAACCTTGACCAGGGCTTTAACTGCAGAGTCACATGTTGACACTGACTTAACAAAGCCTTACATTAAGTGGGATTTGTTAAAATATGACTTCACGGAAGAGAGGTTAAAACTCTTTGACCGTTATTTTAAATATTGGGATCAGACATACCACCCAAATTGTGTTAACTGTTTGGATGACAGATGCATTCTGCATTGTGCAAACTTTAATGTTTTATTCTCTACAGTGTTCCCACCTACAAGTTTTGGACCACTAGTGAGAAAAATATTTGTTGATGGTGTTCCATTTGTAGTTTCAACTGGATACCACTTCAGAGAGCTAGGTGTTGTACATAATCAGGATGTAAACTTACATAGCTCTAGACTTAGTTTTAAGGAATTACTTGTGTATGCTGCTGACCCTGCTATGCACGCTGCTTCTGGTAATCTATTACTAGATAAACGCACTACGTGCTTTTCAGTAGCTGCACTTACTAACAATGTTGCTTTTCAAACTGTCAAACCCGGTAATTTTAACAAAGACTTCTATGACTTTGCTGTGTCTAAGGGTTTCTTTAAGGAAGGAAGTTCTGTTGAATTAAAACACTTCTTCTTTGCTCAGGATGGTAATGCTGCTATCAGCGATTATGACTACTATCGTTATAATCTACCAACAATGTGTGATATCAGACAACTACTATTTGTAGTTGAAGTTGTTGATAAGTACTTTGATTGTTACGATGGTGGCTGTATTAATGCTAACCAAGTCATCGTCAACAACCTAGACAAATCAGCTGGTTTTCCATTTAATAAATGGGGTAAGGCTAGACTTTATTATGATTCAATGAGTTATGAGGATCAAGATGCACTTTTCGCATATACAAAACGTAATGTCATCCCTACTATAACTCAAATGAATCTTAAGTATGCCATTAGTGCAAAGAATAGAGCTCGCACCGTAGCTGGTGTCTCTATCTGTAGTACTATGACCAATAGACAGTTTCATCAAAAATTATTGAAATCAATAGCCGCCACTAGAGGAGCTACTGTAGTAATTGGAACAAGCAAATTCTATGGTGGTTGGCACAACATGTTAAAAACTGTTTATAGTGATGTAGAAAACCCTCACCTTATGGGTTGGGATTATCCTAAATGTGATAGAGCCATGCCTAACATGCTTAGAATTATGGCCTCACTTGTTCTTGCTCGCAAACATACAACGTGTTGTAGCTTGTCACACCGTTTCTATAGATTAGCTAATGAGTGTGCTCAAGTATTGAGTGAAATGGTCATGTGTGGCGGTTCACTATATGTTAAACCAGGTGGAACCTCATCAGGAGATGCCACAACTGCTTATGCTAATAGTGTTTTTAACATTTGTCAAGCTGTCACGGCCAATGTTAATGCACTTTTATCTACTGATGGTAACAAAATTGCCGATAAGTATGTCCGCAATTTACAACACAGACTTTATGAGTGTCTCTATAGAAATAGAGATGTTGACACAGACTTTGTGAATGAGTTTTACGCATATTTGCGTAAACATTTCTCAATGATGATACTCTCTGACGATGCTGTTGTGTGTTTCAATAGCACTTATGCATCTCAAGGTCTAGTGGCTAGCATAAAGAACTTTAAGTCAGTTCTTTATTATCAAAACAATGTTTTTATGTCTGAAGCAAAATGTTGGACTGAGACTGACCTTACTAAAGGACCTCATGAATTTTGCTCTCAACATACAATGCTAGTTAAACAGGGTGATGATTATGTGTACCTTCCTTACCCAGATCCATCAAGAATCCTAGGGGCCGGCTGTTTTGTAGATGATATCGTAAAAACAGATGGTACACTTATGATTGAACGGTTCGTGTCTTTAGCTATAGATGCTTACCCACTTACTAAACATCCTAATCAGGAGTATGCTGATGTCTTTCATTTGTACTTACAATACATAAGAAAGCTACATGATGAGTTAACAGGACACATGTTAGACATGTATTCTGTTATGCTTACTAATGATAACACTTCAAGGTATTGGGAACCTGAGTTTTATGAGGCTATGTACACACCGCATACAGTCTTACAGGCTGTTGGGGCTTGTGTTCTTTGCAATTCACAGACTTCATTAAGATGTGGTGCTTGCATACGTAGACCATTCTTATGTTGTAAATGCTGTTACGACCATGTCATATCAACATCACATAAATTAGTCTTGTCTGTTAATCCGTATGTTTGCAATGCTCCAGGTTGTGATGTCACAGATGTGACTCAACTTTACTTAGGAGGTATGAGCTATTATTGTAAATCACATAAACCACCCATTAGTTTTCCATTGTGTGCTAATGGACAAGTTTTTGGTTTATATAAAAATACATGTGTTGGTAGCGATAATGTTACTGACTTTAATGCAATTGCAACATGTGACTGGACAAATGCTGGTGATTACATTTTAGCTAACACCTGTACTGAAAGACTCAAGCTTTTTGCAGCAGAAACGCTCAAAGCTACTGAGGAGACATTTAAACTGTCTTATGGTATTGCTACTGTACGTGAAGTGCTGTCTGACAGAGAATTACATCTTTCATGGGAAGTTGGTAAACCTAGACCACCACTTAACCGAAATTATGTCTTTACTGGTTATCGTGTAACTAAAAACAGTAAAGTACAAATAGGAGAGTACACCTTTGAAAAAGGTGACTATGGTGATGCTGTTGTTTACCGAGGTACAACAACTTACAAATTAAATGTTGGTGATTATTTTGTGCTGACATCACATACAGTAATGCCATTAAGTGCACCTACACTAGTGCCACAAGAGCACTATGTTAGAATTACTGGCTTATACCCAACACTCAATATCTCAGATGAGTTTTCTAGCAATGTTGCAAATTATCAAAAGGTTGGTATGCAAAAGTATTCTACACTCCAGGGACCACCTGGTACTGGTAAGAGTCATTTTGCTATTGGCCTAGCTCTCTACTACCCTTCTGCTCGCATAGTGTATACAGCTTGCTCTCATGCCGCTGTTGATGCACTATGTGAGAAGGCATTAAAATATTTGCCTATAGATAAATGTAGTAGAATTATACCTGCACGTGCTCGTGTAGAGTGTTTTGATAAATTCAAAGTGAATTCAACATTAGAACAGTATGTCTTTTGTACTGTAAATGCATTGCCTGAGACGACAGCAGATATAGTTGTCTTTGATGAAATTTCAATGGCCACAAATTATGATTTGAGTGTTGTCAATGCCAGATTACGTGCTAAGCACTATGTGTACATTGGCGACCCTGCTCAATTACCTGCACCACGCACATTGCTAACTAAGGGCACACTAGAACCAGAATATTTCAATTCAGTGTGTAGACTTATGAAAACTATAGGTCCAGACATGTTCCTCGGAACTTGTCGGCGTTGTCCTGCTGAAATTGTTGACACTGTGAGTGCTTTGGTTTATGATAATAAGCTTAAAGCACATAAAGACAAATCAGCTCAATGCTTTAAAATGTTTTATAAGGGTGTTATCACGCATGATGTTTCATCTGCAATTAACAGGCCACAAATAGGCGTGGTAAGAGAATTCCTTACACGTAACCCTGCTTGGAGAAAAGCTGTCTTTATTTCACCTTATAATTCACAGAATGCTGTAGCCTCAAAGATTTTGGGACTACCAACTCAAACTGTTGATTCATCACAGGGCTCAGAATATGACTATGTCATATTCACTCAAACCACTGAAACAGCTCACTCTTGTAATGTAAACAGATTTAATGTTGCTATTACCAGAGCAAAAGTAGGCATACTTTGCATAATGTCTGATAGAGACCTTTATGACAAGTTGCAATTTACAAGTCTTGAAATTCCACGTAGGAATGTGGCAACTTTACAAGCTGAAAATGTAACAGGACTCTTTAAAGATTGTAGTAAGGTAATCACTGGGTTACATCCTACACAGGCACCTACACACCTCAGTGTTGACACTAAATTCAAAACTGAAGGTTTATGTGTTGACATACCTGGCATACCTAAGGACATGACCTATAGAAGACTCATCTCTATGATGGGTTTTAAAATGAATTATCAAGTTAATGGTTACCCTAACATGTTTATCACCCGCGAAGAAGCTATAAGACATGTACGTGCATGGATTGGCTTCGATGTCGAGGGGTGTCATGCTACTAGAGAAGCTGTTGGTACCAATTTACCTTTACAGCTAGGTTTTTCTACAGGTGTTAACCTAGTTGCTGTACCTACAGGTTATGTTGATACACCTAATAATACAGATTTTTCCAGAGTTAGTGCTAAACCACCGCCTGGAGATCAATTTAAACACCTCATACCACTTATGTACAAAGGACTTCCTTGGAATGTAGTGCGTATAAAGATTGTACAAATGTTAAGTGACACACTTAAAAATCTCTCTGACAGAGTCGTATTTGTCTTATGGGCACATGGCTTTGAGTTGACATCTATGAAGTATTTTGTGAAAATAGGACCTGAGCGCACCTGTTGTCTATGTGATAGACGTGCCACATGCTTTTCCACTGCTTCAGACACTTATGCCTGTTGGCATCATTCTATTGGATTTGATTACGTCTATAATCCGTTTATGATTGATGTTCAACAATGGGGTTTTACAGGTAACCTACAAAGCAACCATGATCTGTATTGTCAAGTCCATGGTAATGCACATGTAGCTAGTTGTGATGCAATCATGACTAGGTGTCTAGCTGTCCACGAGTGCTTTGTTAAGCGTGTTGACTGGACTATTGAATATCCTATAATTGGTGATGAACTGAAGATTAATGCGGCTTGTAGAAAGGTTCAACACATGGTTGTTAAAGCTGCATTATTAGCAGACAAATTCCCAGTTCTTCACGACATTGGTAACCCTAAAGCTATTAAGTGTGTACCTCAAGCTGATGTAGAATGGAAGTTCTATGATGCACAGCCTTGTAGTGACAAAGCTTATAAAATAGAAGAATTATTCTATTCTTATGCCACACATTCTGACAAATTCACAGATGGTGTATGCCTATTTTGGAATTGCAATGTCGATAGATATCCTGCTAATTCCATTGTTTGTAGATTTGACACTAGAGTGCTATCTAACCTTAACTTGCCTGGTTGTGATGGTGGCAGTTTGTATGTAAATAAACATGCATTCCACACACCAGCTTTTGATAAAAGTGCTTTTGTTAATTTAAAACAATTACCATTTTTCTATTACTCTGACAGTCCATGTGAGTCTCATGGAAAACAAGTAGTGTCAGATATAGATTATGTACCACTAAAGTCTGCTACGTGTATAACACGTTGCAATTTAGGTGGTGCTGTCTGTAGACATCATGCTAATGAGTACAGATTGTATCTCGATGCTTATAACATGATGATCTCAGCTGGCTTTAGCTTGTGGGTTTACAAACAATTTGATACTTATAACCTCTGGAACACTTTTACAAGACTTCAGAGTTTAGAAAATGTGGCTTTTAATGTTGTAAATAAGGGACACTTTGATGGACAACAGGGTGAAGTACCAGTTTCTATCATTAATAACACTGTTTACACAAAAGTTGATGGTGTTGATGTAGAATTGTTTGAAAATAAAACAACATTACCTGTTAATGTAGCATTTGAGCTTTGGGCTAAGCGCAACATTAAACCAGTACCAGAGGTGAAAATACTCAATAATTTGGGTGTGGACATTGCTGCTAATACTGTGATCTGGGACTACAAAAGAGATGCTCCAGCACATATATCTACTATTGGTGTTTGTTCTATGACTGACATAGCCAAGAAACCAACTGAAACGATTTGTGCACCACTCACTGTCTTTTTTGATGGTAGAGTTGATGGTCAAGTAGACTTATTTAGAAATGCCCGTAATGGTGTTCTTATTACAGAAGGTAGTGTTAAAGGTTTACAACCATCTGTAGGTCCCAAACAAGCTAGTCTTAATGGAGTCACATTAATTGGAGAAGCCGTAAAAACACAGTTCAATTATTATAAGAAAGTTGATGGTGTTGTCCAACAATTACCTGAAACTTACTTTACTCAGAGTAGAAATTTACAAGAATTTAAACCCAGGAGTCAAATGGAAATTGATTTCTTAGAATTAGCTATGGATGAATTCATTGAACGGTATAAATTAGAAGGCTATGCCTTCGAACATATCGTTTATGGAGATTTTAGTCATAGTCAGTTAGGTGGTTTACATCTACTGATTGGACTAGCTAAACGTTTTAAGGAATCACCTTTTGAATTAGAAGATTTTATTCCTATGGACAGTACAGTTAAAAACTATTTCATAACAGATGCGCAAACAGGTTCATCTAAGTGTGTGTGTTCTGTTATTGATTTATTACTTGATGATTTTGTTGAAATAATAAAATCCCAAGATTTATCTGTAGTTTCTAAGGTTGTCAAAGTGACTATTGACTATACAGAAATTTCATTTATGCTTTGGTGTAAAGATGGCCATGTAGAAACATTTTACCCAAAATTACAATCTAGTCAAGCGTGGCAACCGGGTGTTGCTATGCCTAATCTTTACAAAATGCAAAGAATGCTATTAGAAAAGTGTGACCTTCAAAATTATGGTGATAGTGCAACATTACCTAAAGGCATAATGATGAATGTCGCAAAATATACTCAACTGTGTCAATATTTAAACACATTAACATTAGCTGTACCCTATAATATGAGAGTTATACATTTTGGTGCTGGTTCTGATAAAGGAGTTGCACCAGGTACAGCTGTTTTAAGACAGTGGTTGCCTACGGGTACGCTGCTTGTCGATTCAGATCTTAATGACTTTGTCTCTGATGCAGATTCAACTTTGATTGGTGATTGTGCAACTGTACATACAGCTAATAAATGGGATCTCATTATTAGTGATATGTACGACCCTAAGACTAAAAATGTTACAAAAGAAAATGACTCTAAAGAGGGTTTTTTCACTTACATTTGTGGGTTTATACAACAAAAGCTAGCTCTTGGAGGTTCCGTGGCTATAAAGATAACAGAACATTCTTGGAATGCTGATCTTTATAAGCTCATGGGACACTTCGCATGGTGGACAGCCTTTGTTACTAATGTGAATGCGTCATCATCTGAAGCATTTTTAATTGGATGTAATTATCTTGGCAAACCACGCGAACAAATAGATGGTTATGTCATGCATGCAAATTACATATTTTGGAGGAATACAAATCCAATTCAGTTGTCTTCCTATTCTTTATTTGACATGAGTAAATTTCCCCTTAAATTAAGGGGTACTGCTGTTATGTCTTTAAAAGAAGGTCAAATCAATGATATGATTTTATCTCTTCTTAGTAAAGGTAGACTTATAATTAGAGAAAACAACAGAGTTGTTATTTCTAGTGATGTTCTTGTTAACAACTAAACGAACAATGTTTGTTTTTCTTGTTTTATTGCCACTAGTCTCTAGTCAGTGTGTTAATCTTACAACCAGAACTCAATTACCCCCTGCATACACTAATTCTTTCACACGTGGTGTTTATTACCCTGACAAAGTTTTCAGATCCTCAGTTTTACATTCAACTCAGGACTTGTTCTTACCTTTCTTTTCCAATGTTACTTGGTTCCATGCTATACATGTCTCTGGGACCAATGGTACTAAGAGGTTTGATAACCCTGTCCTACCATTTAATGATGGTGTTTATTTTGCTTCCACTGAGAAGTCTAACATAATAAGAGGCTGGATTTTTGGTACTACTTTAGATTCGAAGACCCAGTCCCTACTTATTGTTAATAACGCTACTAATGTTGTTATTAAAGTCTGTGAATTTCAATTTTGTAATGATCCATTTTTGGGTGTTTATTACCACAAAAACAACAAAAGTTGGATGGAAAGTGAGTTCAGAGTTTATTCTAGTGCGAATAATTGCACTTTTGAATATGTCTCTCAGCCTTTTCTTATGGACCTTGAAGGAAAACAGGGTAATTTCAAAAATCTTAGGGAATTTGTGTTTAAGAATATTGATGGTTATTTTAAAATATATTCTAAGCACACGCCTATTAATTTAGTGCGTGATCTCCCTCAGGGTTTTTCGGCTTTAGAACCATTGGTAGATTTGCCAATAGGTATTAACATCACTAGGTTTCAAACTTTACTTGCTTTACATAGAAGTTATTTGACTCCTGGTGATTCTTCTTCAGGTTGGACAGCTGGTGCTGCAGCTTATTATGTGGGTTATCTTCAACCTAGGACTTTTCTATTAAAATATAATGAAAATGGAACCATTACAGATGCTGTAGACTGTGCACTTGACCCTCTCTCAGAAACAAAGTGTACGTTGAAATCCTTCACTGTAGAAAAAGGAATCTATCAAACTTCTAACTTTAGAGTCCAACCAACAGAATCTATTGTTAGATTTCCTAATATTACAAACTTGTGCCCTTTTGGTGAAGTTTTTAACGCCACCAGATTTGCATCTGTTTATGCTTGGAACAGGAAGAGAATCAGCAACTGTGTTGCTGATTATTCTGTCCTATATAATTCCGCATCATTTTCCACTTTTAAGTGTTATGGAGTGTCTCCTACTAAATTAAATGATCTCTGCTTTACTAATGTCTATGCAGATTCATTTGTAATTAGAGGTGATGAAGTCAGACAAATCGCTCCAGGGCAAACTGGAAAGATTGCTGATTATAATTATAAATTACCAGATGATTTTACAGGCTGCGTTATAGCTTGGAATTCTAACAATCTTGATTCTAAGGTTGGTGGTAATTATAATTACCTGTATAGATTGTTTAGGAAGTCTAATCTCAAACCTTTTGAGAGAGATATTTCAACTGAAATCTATCAGGCCGGTAGCACACCTTGTAATGGTGTTGAAGGTTTTAATTGTTACTTTCCTTTACAATCATATGGTTTCCAACCCACTAATGGTGTTGGTTACCAACCATACAGAGTAGTAGTACTTTCTTTTGAACTTCTACATGCACCAGCAACTGTTTGTGGACCTAAAAAGTCTACTAATTTGGTTAAAAACAAATGTGTCAATTTCAACTTCAATGGTTTAACAGGCACAGGTGTTCTTACTGAGTCTAACAAAAAGTTTCTGCCTTTCCAACAATTTGGCAGAGACATTGCTGACACTACTGATGCTGTCCGTGATCCACAGACACTTGAGATTCTTGACATTACACCATGTTCTTTTGGTGGTGTCAGTGTTATAACACCAGGAACAAATACTTCTAACCAGGTTGCTGTTCTTTATCAGGATGTTAACTGCACAGAAGTCCCTGTTGCTATTCATGCAGATCAACTTACTCCTACTTGGCGTGTTTATTCTACAGGTTCTAATGTTTTTCAAACACGTGCAGGCTGTTTAATAGGGGCTGAACATGTCAACAACTCATATGAGTGTGACATACCCATTGGTGCAGGTATATGCGCTAGTTATCAGACTCAGACTAATTCTCCTCGGCGGGCACGTAGTGTAGCTAGTCAATCCATCATTGCCTACACTATGTCACTTGGTGCAGAAAATTCAGTTGCTTACTCTAATAACTCTATTGCCATACCCACAAATTTTACTATTAGTGTTACCACAGAAATTCTACCAGTGTCTATGACCAAGACATCAGTAGATTGTACAATGTACATTTGTGGTGATTCAACTGAATGCAGCAATCTTTTGTTGCAATATGGCAGTTTTTGTACACAATTAAACCGTGCTTTAACTGGAATAGCTGTTGAACAAGACAAAAACACCCAAGAAGTTTTTGCACAAGTCAAACAAATTTACAAAACACCACCAATTAAAGATTTTGGTGGTTTTAATTTTTCACAAATATTACCAGATCCATCAAAACCAAGCAAGAGGTCATTTATTGAAGATCTACTTTTCAACAAAGTGACACTTGCAGATGCTGGCTTCATCAAACAATATGGTGATTGCCTTGGTGATATTGCTGCTAGAGACCTCATTTGTGCACAAAAGTTTAACGGCCTTACTGTTTTGCCACCTTTGCTCACAGATGAAATGATTGCTCAATACACTTCTGCACTGTTAGCGGGTACAATCACTTCTGGTTGGACCTTTGGTGCAGGTGCTGCATTACAAATACCATTTGCTATGCAAATGGCTTATAGGTTTAATGGTATTGGAGTTACACAGAATGTTCTCTATGAGAACCAAAAATTGATTGCCAACCAATTTAATAGTGCTATTGGCAAAATTCAAGACTCACTTTCTTCCACAGCAAGTGCACTTGGAAAACTTCAAGATGTGGTCAACCAAAATGCACAAGCTTTAAACACGCTTGTTAAACAACTTAGCTCCAATTTTGGTGCAATTTCAAGTGTTTTAAATGATATCCTTTCACGTCTTGACAAAGTTGAGGCTGAAGTGCAAATTGATAGGTTGATCACAGGCAGACTTCAAAGTTTGCAGACATATGTGACTCAACAATTAATTAGAGCTGCAGAAATCAGAGCTTCTGCTAATCTTGCTGCTACTAAAATGTCAGAGTGTGTACTTGGACAATCAAAAAGAGTTGATTTTTGTGGAAAGGGCTATCATCTTATGTCCTTCCCTCAGTCAGCACCTCATGGTGTAGTCTTCTTGCATGTGACTTATGTCCCTGCACAAGAAAAGAACTTCACAACTGCTCCTGCCATTTGTCATGATGGAAAAGCACACTTTCCTCGTGAAGGTGTCTTTGTTTCAAATGGCACACACTGGTTTGTAACACAAAGGAATTTTTATGAACCACAAATCATTACTACAGACAACACATTTGTGTCTGGTAACTGTGATGTTGTAATAGGAATTGTCAACAACACAGTTTATGATCCTTTGCAACCTGAATTAGACTCATTCAAGGAGGAGTTAGATAAATATTTTAAGAATCATACATCACCAGATGTTGATTTAGGTGACATCTCTGGCATTAATGCTTCAGTTGTAAACATTCAAAAAGAAATTGACCGCCTCAATGAGGTTGCCAAGAATTTAAATGAATCTCTCATCGATCTCCAAGAACTTGGAAAGTATGAGCAGTATATAAAATGGCCATGGTACATTTGGCTAGGTTTTATAGCTGGCTTGATTGCCATAGTAATGGTGACAATTATGCTTTGCTGTATGACCAGTTGCTGTAGTTGTCTCAAGGGCTGTTGTTCTTGTGGATCCTGCTGCAAATTTGATGAAGACGACTCTGAGCCAGTGCTCAAAGGAGTCAAATTACATTACACATAAACGAACTTATGGATTTGTTTATGAGAATCTTCACAATTGGAACTGTAACTTTGAAGCAAGGTGAAATCAAGGATGCTACTCCTTCAGATTTTGTTCGCGCTACTGCAACGATACCGATACAAGCCTCACTCCCTTTCGGATGGCTTATTGTTGGCGTTGCACTTCTTGCTGTTTTTCAGAGCGCTTCCAAAATCATAACCCTCAAAAAGAGATGGCAACTAGCACTCTCCAAGGGTGTTCACTTTGTTTGCAACTTGCTGTTGTTGTTTGTAACAGTTTACTCACACCTTTTGCTCGTTGCTGCTGGCCTTGAAGCCCCTTTTCTCTATCTTTATGCTTTAGTCTACTTCTTGCAGAGTATAAACTTTGTAAGAATAATAATGAGGCTTTGGCTTTGCTGGAAATGCCGTTCCAAAAACCCATTACTTTATGATGCCAACTATTTTCTTTGCTGGCATACTAATTGTTACGACTATTGTATACCTTACAATAGTGTAACTTCTTCAATTGTCATTACTTCAGGTGATGGCACAACAAGTCCTATTTCTGAACATGACTACCAGATTGGTGGTTATACTGAAAAATGGGAATCTGGAGTAAAAGACTGTGTTGTATTACACAGTTACTTCACTTCAGACTATTACCAGCTGTACTCAACTCAATTGAGTACAGACACTGGTGTTGAACATGTTACCTTCTTCATCTACAATAAAATTGTTGATGAGCCTGAAGAACATGTCCAAATTCACACAATCGACGGTTCATCCGGAGTTGTTAATCCAGTAATGGAACCAATTTATGATGAACCGACGACGACTACTAGCGTGCCTTTGTAAGCACAAGCTGATGAGTACGAACTTATGTACTCATTCGTTTCGGAAGAGACAGGTACGTTAATAGTTAATAGCGTACTTCTTTTTCTTGCTTTCGTGGTATTCTTGCTAGTTACACTAGCCATCCTTACTGCGCTTCGATTGTGTGCGTACTGCTGCAATATTGTTAACGTGAGTCTTGTAAAACCTTCTTTTTACGTTTACTCTCGTGTTAAAAATCTGAATTCTTCTAGAGTTCCTGATCTTCTGGTCTAAACGAACTAAATATTATATTAGTTTTTCTGTTTGGAACTTTAATTTTAGCCATGGCAGATTCCAACGGTACTATTACCGTTGAAGAGCTTAAAAAGCTCCTTGAACAATGGAACCTAGTAATAGGTTTCCTATTCCTTACATGGATTTGTCTTCTACAATTTGCCTATGCCAACAGGAATAGGTTTTTGTATATAATTAAGTTAATTTTCCTCTGGCTGTTATGGCCAGTAACTTTAGCTTGTTTTGTGCTTGCTGCTGTTTACAGAATAAATTGGATCACCGGTGGAATTGCTATCGCAATGGCTTGTCTTGTAGGCTTGATGTGGCTCAGCTACTTCATTGCTTCTTTCAGACTGTTTGCGCGTACGCGTTCCATGTGGTCATTCAATCCAGAAACTAACATTCTTCTCAACGTGCCACTCCATGGCACTATTCTGACCAGACCGCTTCTAGAAAGTGAACTCGTAATCGGAGCTGTGATCCTTCGTGGACATCTTCGTATTGCTGGACACCATCTAGGACGCTGTGACATCAAGGACCTGCCTAAAGAAATCACTGTTGCTACATCACGAACGCTTTCTTATTACAAATTGGGAGCTTCGCAGCGTGTAGCAGGTGACTCAGGTTTTGCTGCATACAGTCGCTACAGGATTGGCAACTATAAATTAAACACAGACCATTCCAGTAGCAGTGACAATATTGCTTTGCTTGTACAGTAAGTGACAACAGATGTTTCATCTCGTTGACTTTCAGGTTACTATAGCAGAGATATTACTAATTATTATGAGGACTTTTAAAGTTTCCATTTGGAATCTTGATTACATCATAAACCTCATAATTAAAAATTTATCTAAGTCACTAACTGAGAATAAATATTCTCAATTAGATGAAGAGCAACCAATGGAGATTGATTAAACGAACATGAAAATTATTCTTTTCTTGGCACTGATAACACTCGCTACTTGTGAGCTTTATCACTACCAAGAGTGTGTTAGAGGTACAACAGTACTTTTAAAAGAACCTTGCTCTTCTGGAACATACGAGGGCAATTCACCATTTCATCCTCTAGCTGATAACAAATTTGCACTGACTTGCTTTAGCACTCAATTTGCTTTTGCTTGTCCTGACGGCGTAAAACACGTCTATCAGTTACGTGCCAGATCAGTTTCACCTAAACTGTTCATCAGACAAGAGGAAGTTCAAGAACTTTACTCTCCAATTTTTCTTATTGTTGCGGCAATAGTGTTTATAACACTTTGCTTCACACTCAAAAGAAAGACAGAATGATTGAACTTTCATTAATTGACTTCTATTTGTGCTTTTTAGCCTTTCTGCTATTCCTTGTTTTAATTATGCTTATTATCTTTTGGTTCTCACTTGAACTGCAAGATCATAATGAAACTTGTCACGCCTAAACGAACATGAAATTTCTTGTTTTCTTAGGAATCATCACAACTGTAGCTGCATTTCACCAAGAATGTAGTTTACAGTCATGTACTCAACATCAACCATATGTAGTTGATGACCCGTGTCCTATTCACTTCTATTCTAAATGGTATATTAGAGTAGGAGCTAGAAAATCAGCACCTTTAATTGAATTGTGCGTGGATGAGGCTGGTTCTAAATCACCCATTCAGTACATCGATATCGGTAATTATACAGTTTCCTGTTTACCTTTTACAATTAATTGCCAGGAACCTAAATTGGGTAGTCTTGTAGTGCGTTGTTCGTTCTATGAAGACTTTTTAGAGTATCATGACGTTCGTGTTGTTTTAGATTTCATCTAAACGAACAAACTAAAATGTCTGATAATGGACCCCAAAATCAGCGAAATGCACCCCGCATTACGTTTGGTGGACCCTCAGATTCAACTGGCAGTAACCAGAATGGAGAACGCAGTGGGGCGCGATCAAAACAACGTCGGCCCCAAGGTTTACCCAATAATACTGCGTCTTGGTTCACCGCTCTCACTCAACATGGCAAGGAAGACCTTAAATTCCCTCGAGGACAAGGCGTTCCAATTAACACCAATAGCAGTCCAGATGACCAAATTGGCTACTACCGAAGAGCTACCAGACGAATTCGTGGTGGTGACGGTAAAATGAAAGATCTCAGTCCAAGATGGTATTTCTACTACCTAGGAACTGGGCCAGAAGCTGGACTTCCCTATGGTGCTAACAAAGACGGCATCATATGGGTTGCAACTGAGGGAGCCTTGAATACACCAAAAGATCACATTGGCACCCGCAATCCTGCTAACAATGCTGCAATCGTGCTACAACTTCCTCAAGGAACAACATTGCCAAAAGGCTTCTACGCAGAAGGGAGCAGAGGCGGCAGTCAAGCCTCTTCTCGTTCCTCATCACGTAGTCGCAACAGTTCAAGAAATTCAACTCCAGGCAGCAGTAGGGGAACTTCTCCTGCTAGAATGGCTGGCAATGGCGGTGATGCTGCTCTTGCTTTGCTGCTGCTTGACAGATTGAACCAGCTTGAGAGCAAAATGTCTGGTAAAGGCCAACAACAACAAGGCCAAACTGTCACTAAGAAATCTGCTGCTGAGGCTTCTAAGAAGCCTCGGCAAAAACGTACTGCCACTAAAGCATACAATGTAACACAAGCTTTCGGCAGACGTGGTCCAGAACAAACCCAAGGAAATTTTGGGGACCAGGAACTAATCAGACAAGGAACTGATTACAAACATTGGCCGCAAATTGCACAATTTGCCCCCAGCGCTTCAGCGTTCTTCGGAATGTCGCGCATTGGCATGGAAGTCACACCTTCGGGAACGTGGTTGACCTACACAGGTGCCATCAAATTGGATGACAAAGATCCAAATTTCAAAGATCAAGTCATTTTGCTGAATAAGCATATTGACGCATACAAAACATTCCCACCAACAGAGCCTAAAAAGGACAAAAAGAAGAAGGCTGATGAAACTCAAGCCTTACCGCAGAGACAGAAGAAACAGCAAACTGTGACTCTTCTTCCTGCTGCAGATTTGGATGATTTCTCCAAACAATTGCAACAATCCATGAGCAGTGCTGACTCAACTCAGGCCTAAACTCATGCAGACCACACAAGGCAGATGGGCTATATAAACGTTTTCGCTTTTCCGTTTACGATATATAGTCTACTCTTGTGCAGAATGAATTCTCGTAACTACATAGCACAAGTAGATGTAGTTAACTTTAATCTCACATAGCAATCTTTAATCAGTGTGTAACATTAGGGAGGACTTGAAAGAGCCACCACATTTTCACCGAGGCCACGCGGAGTACGATCGAGTGTACAGTGAACAATGCTAGGGAGAGCTGCCTATATGGAAGAGCCCTAATGTGTAAAATTAATTTTAGTAGTGCTATCC'\n",
    "'''\n",
    "#print('{} => {}'.format(a,b))  \n",
    "for i,s in enumerate(difflib.ndiff(a, b)):\n",
    "    if s[0]==' ': continue\n",
    "    elif s[0]=='-':\n",
    "        print(u'Delete \"{}\" from position {}'.format(s[-1],i))\n",
    "    elif s[0]=='+':\n",
    "        print(u'Add \"{}\" to position {}'.format(s[-1],i))   \n",
    "'''"
   ]
  },
  {
   "cell_type": "code",
   "execution_count": 93,
   "metadata": {},
   "outputs": [
    {
     "data": {
      "text/html": [
       "<div>\n",
       "<style scoped>\n",
       "    .dataframe tbody tr th:only-of-type {\n",
       "        vertical-align: middle;\n",
       "    }\n",
       "\n",
       "    .dataframe tbody tr th {\n",
       "        vertical-align: top;\n",
       "    }\n",
       "\n",
       "    .dataframe thead th {\n",
       "        text-align: right;\n",
       "    }\n",
       "</style>\n",
       "<table border=\"1\" class=\"dataframe\">\n",
       "  <thead>\n",
       "    <tr style=\"text-align: right;\">\n",
       "      <th></th>\n",
       "      <th>sseqid</th>\n",
       "      <th>pident</th>\n",
       "      <th>length</th>\n",
       "      <th>mismatch</th>\n",
       "      <th>gapopen</th>\n",
       "      <th>qstart</th>\n",
       "      <th>qend</th>\n",
       "      <th>sstart</th>\n",
       "      <th>send</th>\n",
       "      <th>evalue</th>\n",
       "      <th>bitscore</th>\n",
       "      <th>ppos</th>\n",
       "      <th>qseq</th>\n",
       "      <th>sseq</th>\n",
       "    </tr>\n",
       "  </thead>\n",
       "  <tbody>\n",
       "    <tr>\n",
       "      <th>MT712208.1_|Severe_acute_respiratory_syndrome_coronavirus_2_isolate_SARS-CoV-2/human/VNM/NIHE/2020_ORF1a_polyprotein_(ORF1ab)_and_ORF1ab_polyprotein_(ORF1ab)_genes,_partial_cds</th>\n",
       "      <td>gi|1798174254|ref|NC_045512.2|</td>\n",
       "      <td>99.477</td>\n",
       "      <td>765</td>\n",
       "      <td>4</td>\n",
       "      <td>0</td>\n",
       "      <td>1</td>\n",
       "      <td>765</td>\n",
       "      <td>12719</td>\n",
       "      <td>13483</td>\n",
       "      <td>0.0</td>\n",
       "      <td>1391</td>\n",
       "      <td>99.48</td>\n",
       "      <td>ATGTCTTGTGCTGCCGGTACTACACAAACTGCTTGCACTGATGACA...</td>\n",
       "      <td>ATGTCTTGTGCTGCCGGTACTACACAAACTGCTTGCACTGATGACA...</td>\n",
       "    </tr>\n",
       "    <tr>\n",
       "      <th>MT706050.1_|Severe_acute_respiratory_syndrome_coronavirus_2_isolate_SARS-CoV-2/human/NZL/20CHL869065O/2020,_complete_genome</th>\n",
       "      <td>gi|1798174254|ref|NC_045512.2|</td>\n",
       "      <td>99.983</td>\n",
       "      <td>29806</td>\n",
       "      <td>5</td>\n",
       "      <td>0</td>\n",
       "      <td>1</td>\n",
       "      <td>29806</td>\n",
       "      <td>21</td>\n",
       "      <td>29826</td>\n",
       "      <td>0.0</td>\n",
       "      <td>54985</td>\n",
       "      <td>99.98</td>\n",
       "      <td>CAGGTAACAAACCAACCAACTTTCGATCTCTTGTAGATCTGTTCTC...</td>\n",
       "      <td>CAGGTAACAAACCAACCAACTTTCGATCTCTTGTAGATCTGTTCTC...</td>\n",
       "    </tr>\n",
       "    <tr>\n",
       "      <th>MT706132.1_|Severe_acute_respiratory_syndrome_coronavirus_2_isolate_SARS-CoV-2/human/USA/WI-UW-04/2020,_complete_genome</th>\n",
       "      <td>gi|1798174254|ref|NC_045512.2|</td>\n",
       "      <td>99.977</td>\n",
       "      <td>29843</td>\n",
       "      <td>7</td>\n",
       "      <td>0</td>\n",
       "      <td>1</td>\n",
       "      <td>29843</td>\n",
       "      <td>25</td>\n",
       "      <td>29867</td>\n",
       "      <td>0.0</td>\n",
       "      <td>55042</td>\n",
       "      <td>99.98</td>\n",
       "      <td>TAACAAACCAACCAACTTTCGATCTCTTGTAGATCTGTTCTCTAAA...</td>\n",
       "      <td>TAACAAACCAACCAACTTTCGATCTCTTGTAGATCTGTTCTCTAAA...</td>\n",
       "    </tr>\n",
       "    <tr>\n",
       "      <th>MT706133.1_|Severe_acute_respiratory_syndrome_coronavirus_2_isolate_SARS-CoV-2/human/USA/WI-UW-11/2020,_complete_genome</th>\n",
       "      <td>gi|1798174254|ref|NC_045512.2|</td>\n",
       "      <td>99.976</td>\n",
       "      <td>29782</td>\n",
       "      <td>7</td>\n",
       "      <td>0</td>\n",
       "      <td>1</td>\n",
       "      <td>29782</td>\n",
       "      <td>55</td>\n",
       "      <td>29836</td>\n",
       "      <td>0.0</td>\n",
       "      <td>54931</td>\n",
       "      <td>99.98</td>\n",
       "      <td>AGATCTGTTCTCTAAACGAACTTTAAAATCTGTGTGGCTGTCACTC...</td>\n",
       "      <td>AGATCTGTTCTCTAAACGAACTTTAAAATCTGTGTGGCTGTCACTC...</td>\n",
       "    </tr>\n",
       "    <tr>\n",
       "      <th>MT706134.1_|Severe_acute_respiratory_syndrome_coronavirus_2_isolate_SARS-CoV-2/human/USA/WI-UW-12/2020,_complete_genome</th>\n",
       "      <td>gi|1798174254|ref|NC_045512.2|</td>\n",
       "      <td>99.980</td>\n",
       "      <td>29782</td>\n",
       "      <td>6</td>\n",
       "      <td>0</td>\n",
       "      <td>1</td>\n",
       "      <td>29782</td>\n",
       "      <td>55</td>\n",
       "      <td>29836</td>\n",
       "      <td>0.0</td>\n",
       "      <td>54935</td>\n",
       "      <td>99.98</td>\n",
       "      <td>AGATCTGTTCTCTAAACGAACTTTAAAATCTGTGTGGCTGTCACTC...</td>\n",
       "      <td>AGATCTGTTCTCTAAACGAACTTTAAAATCTGTGTGGCTGTCACTC...</td>\n",
       "    </tr>\n",
       "  </tbody>\n",
       "</table>\n",
       "</div>"
      ],
      "text/plain": [
       "                                                                            sseqid  \\\n",
       "MT712208.1_|Severe_acute_respiratory_syndrome_c...  gi|1798174254|ref|NC_045512.2|   \n",
       "MT706050.1_|Severe_acute_respiratory_syndrome_c...  gi|1798174254|ref|NC_045512.2|   \n",
       "MT706132.1_|Severe_acute_respiratory_syndrome_c...  gi|1798174254|ref|NC_045512.2|   \n",
       "MT706133.1_|Severe_acute_respiratory_syndrome_c...  gi|1798174254|ref|NC_045512.2|   \n",
       "MT706134.1_|Severe_acute_respiratory_syndrome_c...  gi|1798174254|ref|NC_045512.2|   \n",
       "\n",
       "                                                    pident  length  mismatch  \\\n",
       "MT712208.1_|Severe_acute_respiratory_syndrome_c...  99.477     765         4   \n",
       "MT706050.1_|Severe_acute_respiratory_syndrome_c...  99.983   29806         5   \n",
       "MT706132.1_|Severe_acute_respiratory_syndrome_c...  99.977   29843         7   \n",
       "MT706133.1_|Severe_acute_respiratory_syndrome_c...  99.976   29782         7   \n",
       "MT706134.1_|Severe_acute_respiratory_syndrome_c...  99.980   29782         6   \n",
       "\n",
       "                                                    gapopen  qstart   qend  \\\n",
       "MT712208.1_|Severe_acute_respiratory_syndrome_c...        0       1    765   \n",
       "MT706050.1_|Severe_acute_respiratory_syndrome_c...        0       1  29806   \n",
       "MT706132.1_|Severe_acute_respiratory_syndrome_c...        0       1  29843   \n",
       "MT706133.1_|Severe_acute_respiratory_syndrome_c...        0       1  29782   \n",
       "MT706134.1_|Severe_acute_respiratory_syndrome_c...        0       1  29782   \n",
       "\n",
       "                                                    sstart   send  evalue  \\\n",
       "MT712208.1_|Severe_acute_respiratory_syndrome_c...   12719  13483     0.0   \n",
       "MT706050.1_|Severe_acute_respiratory_syndrome_c...      21  29826     0.0   \n",
       "MT706132.1_|Severe_acute_respiratory_syndrome_c...      25  29867     0.0   \n",
       "MT706133.1_|Severe_acute_respiratory_syndrome_c...      55  29836     0.0   \n",
       "MT706134.1_|Severe_acute_respiratory_syndrome_c...      55  29836     0.0   \n",
       "\n",
       "                                                    bitscore   ppos  \\\n",
       "MT712208.1_|Severe_acute_respiratory_syndrome_c...      1391  99.48   \n",
       "MT706050.1_|Severe_acute_respiratory_syndrome_c...     54985  99.98   \n",
       "MT706132.1_|Severe_acute_respiratory_syndrome_c...     55042  99.98   \n",
       "MT706133.1_|Severe_acute_respiratory_syndrome_c...     54931  99.98   \n",
       "MT706134.1_|Severe_acute_respiratory_syndrome_c...     54935  99.98   \n",
       "\n",
       "                                                                                                 qseq  \\\n",
       "MT712208.1_|Severe_acute_respiratory_syndrome_c...  ATGTCTTGTGCTGCCGGTACTACACAAACTGCTTGCACTGATGACA...   \n",
       "MT706050.1_|Severe_acute_respiratory_syndrome_c...  CAGGTAACAAACCAACCAACTTTCGATCTCTTGTAGATCTGTTCTC...   \n",
       "MT706132.1_|Severe_acute_respiratory_syndrome_c...  TAACAAACCAACCAACTTTCGATCTCTTGTAGATCTGTTCTCTAAA...   \n",
       "MT706133.1_|Severe_acute_respiratory_syndrome_c...  AGATCTGTTCTCTAAACGAACTTTAAAATCTGTGTGGCTGTCACTC...   \n",
       "MT706134.1_|Severe_acute_respiratory_syndrome_c...  AGATCTGTTCTCTAAACGAACTTTAAAATCTGTGTGGCTGTCACTC...   \n",
       "\n",
       "                                                                                                 sseq  \n",
       "MT712208.1_|Severe_acute_respiratory_syndrome_c...  ATGTCTTGTGCTGCCGGTACTACACAAACTGCTTGCACTGATGACA...  \n",
       "MT706050.1_|Severe_acute_respiratory_syndrome_c...  CAGGTAACAAACCAACCAACTTTCGATCTCTTGTAGATCTGTTCTC...  \n",
       "MT706132.1_|Severe_acute_respiratory_syndrome_c...  TAACAAACCAACCAACTTTCGATCTCTTGTAGATCTGTTCTCTAAA...  \n",
       "MT706133.1_|Severe_acute_respiratory_syndrome_c...  AGATCTGTTCTCTAAACGAACTTTAAAATCTGTGTGGCTGTCACTC...  \n",
       "MT706134.1_|Severe_acute_respiratory_syndrome_c...  AGATCTGTTCTCTAAACGAACTTTAAAATCTGTGTGGCTGTCACTC...  "
      ]
     },
     "execution_count": 93,
     "metadata": {},
     "output_type": "execute_result"
    }
   ],
   "source": [
    "updated_blast_results.head()"
   ]
  },
  {
   "cell_type": "code",
   "execution_count": 95,
   "metadata": {},
   "outputs": [
    {
     "ename": "MemoryError",
     "evalue": "Unable to allocate 15.7 GiB for an array with shape (29903, 70532) and data type object",
     "output_type": "error",
     "traceback": [
      "\u001b[1;31m---------------------------------------------------------------------------\u001b[0m",
      "\u001b[1;31mMemoryError\u001b[0m                               Traceback (most recent call last)",
      "\u001b[1;32m<ipython-input-95-b6ca2d3192db>\u001b[0m in \u001b[0;36m<module>\u001b[1;34m\u001b[0m\n\u001b[0;32m      1\u001b[0m \u001b[1;31m# dataframe for storing mutations\u001b[0m\u001b[1;33m\u001b[0m\u001b[1;33m\u001b[0m\u001b[1;33m\u001b[0m\u001b[0m\n\u001b[1;32m----> 2\u001b[1;33m \u001b[0mmut_df\u001b[0m \u001b[1;33m=\u001b[0m \u001b[0mpd\u001b[0m\u001b[1;33m.\u001b[0m\u001b[0mDataFrame\u001b[0m\u001b[1;33m(\u001b[0m\u001b[0mindex\u001b[0m\u001b[1;33m=\u001b[0m\u001b[0mupdated_blast_results\u001b[0m\u001b[1;33m.\u001b[0m\u001b[0mindex\u001b[0m\u001b[1;33m,\u001b[0m \u001b[0mcolumns\u001b[0m\u001b[1;33m=\u001b[0m\u001b[0mrange\u001b[0m\u001b[1;33m(\u001b[0m\u001b[0mlen\u001b[0m\u001b[1;33m(\u001b[0m\u001b[0mdict_se\u001b[0m\u001b[1;33m[\u001b[0m\u001b[1;34m'NC_045512.2_|Severe_acute_respiratory_syndrome_coronavirus_2_isolate_Wuhan-Hu-1,_complete_genome'\u001b[0m\u001b[1;33m]\u001b[0m\u001b[1;33m)\u001b[0m\u001b[1;33m)\u001b[0m\u001b[1;33m)\u001b[0m\u001b[1;33m\u001b[0m\u001b[1;33m\u001b[0m\u001b[0m\n\u001b[0m\u001b[0;32m      3\u001b[0m \u001b[0mmut_df\u001b[0m\u001b[1;33m.\u001b[0m\u001b[0mfillna\u001b[0m\u001b[1;33m(\u001b[0m\u001b[1;36m0\u001b[0m\u001b[1;33m,\u001b[0m \u001b[0minplace\u001b[0m\u001b[1;33m=\u001b[0m\u001b[1;32mTrue\u001b[0m\u001b[1;33m)\u001b[0m\u001b[1;33m\u001b[0m\u001b[1;33m\u001b[0m\u001b[0m\n",
      "\u001b[1;32m~\\.conda\\envs\\Base\\lib\\site-packages\\pandas\\core\\frame.py\u001b[0m in \u001b[0;36m__init__\u001b[1;34m(self, data, index, columns, dtype, copy)\u001b[0m\n\u001b[0;32m    433\u001b[0m             )\n\u001b[0;32m    434\u001b[0m         \u001b[1;32melif\u001b[0m \u001b[0misinstance\u001b[0m\u001b[1;33m(\u001b[0m\u001b[0mdata\u001b[0m\u001b[1;33m,\u001b[0m \u001b[0mdict\u001b[0m\u001b[1;33m)\u001b[0m\u001b[1;33m:\u001b[0m\u001b[1;33m\u001b[0m\u001b[1;33m\u001b[0m\u001b[0m\n\u001b[1;32m--> 435\u001b[1;33m             \u001b[0mmgr\u001b[0m \u001b[1;33m=\u001b[0m \u001b[0minit_dict\u001b[0m\u001b[1;33m(\u001b[0m\u001b[0mdata\u001b[0m\u001b[1;33m,\u001b[0m \u001b[0mindex\u001b[0m\u001b[1;33m,\u001b[0m \u001b[0mcolumns\u001b[0m\u001b[1;33m,\u001b[0m \u001b[0mdtype\u001b[0m\u001b[1;33m=\u001b[0m\u001b[0mdtype\u001b[0m\u001b[1;33m)\u001b[0m\u001b[1;33m\u001b[0m\u001b[1;33m\u001b[0m\u001b[0m\n\u001b[0m\u001b[0;32m    436\u001b[0m         \u001b[1;32melif\u001b[0m \u001b[0misinstance\u001b[0m\u001b[1;33m(\u001b[0m\u001b[0mdata\u001b[0m\u001b[1;33m,\u001b[0m \u001b[0mma\u001b[0m\u001b[1;33m.\u001b[0m\u001b[0mMaskedArray\u001b[0m\u001b[1;33m)\u001b[0m\u001b[1;33m:\u001b[0m\u001b[1;33m\u001b[0m\u001b[1;33m\u001b[0m\u001b[0m\n\u001b[0;32m    437\u001b[0m             \u001b[1;32mimport\u001b[0m \u001b[0mnumpy\u001b[0m\u001b[1;33m.\u001b[0m\u001b[0mma\u001b[0m\u001b[1;33m.\u001b[0m\u001b[0mmrecords\u001b[0m \u001b[1;32mas\u001b[0m \u001b[0mmrecords\u001b[0m\u001b[1;33m\u001b[0m\u001b[1;33m\u001b[0m\u001b[0m\n",
      "\u001b[1;32m~\\.conda\\envs\\Base\\lib\\site-packages\\pandas\\core\\internals\\construction.py\u001b[0m in \u001b[0;36minit_dict\u001b[1;34m(data, index, columns, dtype)\u001b[0m\n\u001b[0;32m    238\u001b[0m                 \u001b[0mnan_dtype\u001b[0m \u001b[1;33m=\u001b[0m \u001b[0mdtype\u001b[0m\u001b[1;33m\u001b[0m\u001b[1;33m\u001b[0m\u001b[0m\n\u001b[0;32m    239\u001b[0m             \u001b[0mval\u001b[0m \u001b[1;33m=\u001b[0m \u001b[0mconstruct_1d_arraylike_from_scalar\u001b[0m\u001b[1;33m(\u001b[0m\u001b[0mnp\u001b[0m\u001b[1;33m.\u001b[0m\u001b[0mnan\u001b[0m\u001b[1;33m,\u001b[0m \u001b[0mlen\u001b[0m\u001b[1;33m(\u001b[0m\u001b[0mindex\u001b[0m\u001b[1;33m)\u001b[0m\u001b[1;33m,\u001b[0m \u001b[0mnan_dtype\u001b[0m\u001b[1;33m)\u001b[0m\u001b[1;33m\u001b[0m\u001b[1;33m\u001b[0m\u001b[0m\n\u001b[1;32m--> 240\u001b[1;33m             \u001b[0marrays\u001b[0m\u001b[1;33m.\u001b[0m\u001b[0mloc\u001b[0m\u001b[1;33m[\u001b[0m\u001b[0mmissing\u001b[0m\u001b[1;33m]\u001b[0m \u001b[1;33m=\u001b[0m \u001b[1;33m[\u001b[0m\u001b[0mval\u001b[0m\u001b[1;33m]\u001b[0m \u001b[1;33m*\u001b[0m \u001b[0mmissing\u001b[0m\u001b[1;33m.\u001b[0m\u001b[0msum\u001b[0m\u001b[1;33m(\u001b[0m\u001b[1;33m)\u001b[0m\u001b[1;33m\u001b[0m\u001b[1;33m\u001b[0m\u001b[0m\n\u001b[0m\u001b[0;32m    241\u001b[0m \u001b[1;33m\u001b[0m\u001b[0m\n\u001b[0;32m    242\u001b[0m     \u001b[1;32melse\u001b[0m\u001b[1;33m:\u001b[0m\u001b[1;33m\u001b[0m\u001b[1;33m\u001b[0m\u001b[0m\n",
      "\u001b[1;32m~\\.conda\\envs\\Base\\lib\\site-packages\\pandas\\core\\indexing.py\u001b[0m in \u001b[0;36m__setitem__\u001b[1;34m(self, key, value)\u001b[0m\n\u001b[0;32m    669\u001b[0m             \u001b[0mkey\u001b[0m \u001b[1;33m=\u001b[0m \u001b[0mcom\u001b[0m\u001b[1;33m.\u001b[0m\u001b[0mapply_if_callable\u001b[0m\u001b[1;33m(\u001b[0m\u001b[0mkey\u001b[0m\u001b[1;33m,\u001b[0m \u001b[0mself\u001b[0m\u001b[1;33m.\u001b[0m\u001b[0mobj\u001b[0m\u001b[1;33m)\u001b[0m\u001b[1;33m\u001b[0m\u001b[1;33m\u001b[0m\u001b[0m\n\u001b[0;32m    670\u001b[0m         \u001b[0mindexer\u001b[0m \u001b[1;33m=\u001b[0m \u001b[0mself\u001b[0m\u001b[1;33m.\u001b[0m\u001b[0m_get_setitem_indexer\u001b[0m\u001b[1;33m(\u001b[0m\u001b[0mkey\u001b[0m\u001b[1;33m)\u001b[0m\u001b[1;33m\u001b[0m\u001b[1;33m\u001b[0m\u001b[0m\n\u001b[1;32m--> 671\u001b[1;33m         \u001b[0mself\u001b[0m\u001b[1;33m.\u001b[0m\u001b[0m_setitem_with_indexer\u001b[0m\u001b[1;33m(\u001b[0m\u001b[0mindexer\u001b[0m\u001b[1;33m,\u001b[0m \u001b[0mvalue\u001b[0m\u001b[1;33m)\u001b[0m\u001b[1;33m\u001b[0m\u001b[1;33m\u001b[0m\u001b[0m\n\u001b[0m\u001b[0;32m    672\u001b[0m \u001b[1;33m\u001b[0m\u001b[0m\n\u001b[0;32m    673\u001b[0m     \u001b[1;32mdef\u001b[0m \u001b[0m_validate_key\u001b[0m\u001b[1;33m(\u001b[0m\u001b[0mself\u001b[0m\u001b[1;33m,\u001b[0m \u001b[0mkey\u001b[0m\u001b[1;33m,\u001b[0m \u001b[0maxis\u001b[0m\u001b[1;33m:\u001b[0m \u001b[0mint\u001b[0m\u001b[1;33m)\u001b[0m\u001b[1;33m:\u001b[0m\u001b[1;33m\u001b[0m\u001b[1;33m\u001b[0m\u001b[0m\n",
      "\u001b[1;32m~\\.conda\\envs\\Base\\lib\\site-packages\\pandas\\core\\indexing.py\u001b[0m in \u001b[0;36m_setitem_with_indexer\u001b[1;34m(self, indexer, value)\u001b[0m\n\u001b[0;32m   1063\u001b[0m             \u001b[1;31m# actually do the set\u001b[0m\u001b[1;33m\u001b[0m\u001b[1;33m\u001b[0m\u001b[1;33m\u001b[0m\u001b[0m\n\u001b[0;32m   1064\u001b[0m             \u001b[0mself\u001b[0m\u001b[1;33m.\u001b[0m\u001b[0mobj\u001b[0m\u001b[1;33m.\u001b[0m\u001b[0m_consolidate_inplace\u001b[0m\u001b[1;33m(\u001b[0m\u001b[1;33m)\u001b[0m\u001b[1;33m\u001b[0m\u001b[1;33m\u001b[0m\u001b[0m\n\u001b[1;32m-> 1065\u001b[1;33m             \u001b[0mself\u001b[0m\u001b[1;33m.\u001b[0m\u001b[0mobj\u001b[0m\u001b[1;33m.\u001b[0m\u001b[0m_data\u001b[0m \u001b[1;33m=\u001b[0m \u001b[0mself\u001b[0m\u001b[1;33m.\u001b[0m\u001b[0mobj\u001b[0m\u001b[1;33m.\u001b[0m\u001b[0m_data\u001b[0m\u001b[1;33m.\u001b[0m\u001b[0msetitem\u001b[0m\u001b[1;33m(\u001b[0m\u001b[0mindexer\u001b[0m\u001b[1;33m=\u001b[0m\u001b[0mindexer\u001b[0m\u001b[1;33m,\u001b[0m \u001b[0mvalue\u001b[0m\u001b[1;33m=\u001b[0m\u001b[0mvalue\u001b[0m\u001b[1;33m)\u001b[0m\u001b[1;33m\u001b[0m\u001b[1;33m\u001b[0m\u001b[0m\n\u001b[0m\u001b[0;32m   1066\u001b[0m             \u001b[0mself\u001b[0m\u001b[1;33m.\u001b[0m\u001b[0mobj\u001b[0m\u001b[1;33m.\u001b[0m\u001b[0m_maybe_update_cacher\u001b[0m\u001b[1;33m(\u001b[0m\u001b[0mclear\u001b[0m\u001b[1;33m=\u001b[0m\u001b[1;32mTrue\u001b[0m\u001b[1;33m)\u001b[0m\u001b[1;33m\u001b[0m\u001b[1;33m\u001b[0m\u001b[0m\n\u001b[0;32m   1067\u001b[0m \u001b[1;33m\u001b[0m\u001b[0m\n",
      "\u001b[1;32m~\\.conda\\envs\\Base\\lib\\site-packages\\pandas\\core\\internals\\managers.py\u001b[0m in \u001b[0;36msetitem\u001b[1;34m(self, **kwargs)\u001b[0m\n\u001b[0;32m    559\u001b[0m \u001b[1;33m\u001b[0m\u001b[0m\n\u001b[0;32m    560\u001b[0m     \u001b[1;32mdef\u001b[0m \u001b[0msetitem\u001b[0m\u001b[1;33m(\u001b[0m\u001b[0mself\u001b[0m\u001b[1;33m,\u001b[0m \u001b[1;33m**\u001b[0m\u001b[0mkwargs\u001b[0m\u001b[1;33m)\u001b[0m\u001b[1;33m:\u001b[0m\u001b[1;33m\u001b[0m\u001b[1;33m\u001b[0m\u001b[0m\n\u001b[1;32m--> 561\u001b[1;33m         \u001b[1;32mreturn\u001b[0m \u001b[0mself\u001b[0m\u001b[1;33m.\u001b[0m\u001b[0mapply\u001b[0m\u001b[1;33m(\u001b[0m\u001b[1;34m\"setitem\"\u001b[0m\u001b[1;33m,\u001b[0m \u001b[1;33m**\u001b[0m\u001b[0mkwargs\u001b[0m\u001b[1;33m)\u001b[0m\u001b[1;33m\u001b[0m\u001b[1;33m\u001b[0m\u001b[0m\n\u001b[0m\u001b[0;32m    562\u001b[0m \u001b[1;33m\u001b[0m\u001b[0m\n\u001b[0;32m    563\u001b[0m     \u001b[1;32mdef\u001b[0m \u001b[0mputmask\u001b[0m\u001b[1;33m(\u001b[0m\u001b[0mself\u001b[0m\u001b[1;33m,\u001b[0m \u001b[1;33m**\u001b[0m\u001b[0mkwargs\u001b[0m\u001b[1;33m)\u001b[0m\u001b[1;33m:\u001b[0m\u001b[1;33m\u001b[0m\u001b[1;33m\u001b[0m\u001b[0m\n",
      "\u001b[1;32m~\\.conda\\envs\\Base\\lib\\site-packages\\pandas\\core\\internals\\managers.py\u001b[0m in \u001b[0;36mapply\u001b[1;34m(self, f, filter, **kwargs)\u001b[0m\n\u001b[0;32m    440\u001b[0m                 \u001b[0mapplied\u001b[0m \u001b[1;33m=\u001b[0m \u001b[0mb\u001b[0m\u001b[1;33m.\u001b[0m\u001b[0mapply\u001b[0m\u001b[1;33m(\u001b[0m\u001b[0mf\u001b[0m\u001b[1;33m,\u001b[0m \u001b[1;33m**\u001b[0m\u001b[0mkwargs\u001b[0m\u001b[1;33m)\u001b[0m\u001b[1;33m\u001b[0m\u001b[1;33m\u001b[0m\u001b[0m\n\u001b[0;32m    441\u001b[0m             \u001b[1;32melse\u001b[0m\u001b[1;33m:\u001b[0m\u001b[1;33m\u001b[0m\u001b[1;33m\u001b[0m\u001b[0m\n\u001b[1;32m--> 442\u001b[1;33m                 \u001b[0mapplied\u001b[0m \u001b[1;33m=\u001b[0m \u001b[0mgetattr\u001b[0m\u001b[1;33m(\u001b[0m\u001b[0mb\u001b[0m\u001b[1;33m,\u001b[0m \u001b[0mf\u001b[0m\u001b[1;33m)\u001b[0m\u001b[1;33m(\u001b[0m\u001b[1;33m**\u001b[0m\u001b[0mkwargs\u001b[0m\u001b[1;33m)\u001b[0m\u001b[1;33m\u001b[0m\u001b[1;33m\u001b[0m\u001b[0m\n\u001b[0m\u001b[0;32m    443\u001b[0m             \u001b[0mresult_blocks\u001b[0m \u001b[1;33m=\u001b[0m \u001b[0m_extend_blocks\u001b[0m\u001b[1;33m(\u001b[0m\u001b[0mapplied\u001b[0m\u001b[1;33m,\u001b[0m \u001b[0mresult_blocks\u001b[0m\u001b[1;33m)\u001b[0m\u001b[1;33m\u001b[0m\u001b[1;33m\u001b[0m\u001b[0m\n\u001b[0;32m    444\u001b[0m \u001b[1;33m\u001b[0m\u001b[0m\n",
      "\u001b[1;32m~\\.conda\\envs\\Base\\lib\\site-packages\\pandas\\core\\internals\\blocks.py\u001b[0m in \u001b[0;36msetitem\u001b[1;34m(self, indexer, value)\u001b[0m\n\u001b[0;32m    865\u001b[0m         \u001b[1;32melse\u001b[0m\u001b[1;33m:\u001b[0m\u001b[1;33m\u001b[0m\u001b[1;33m\u001b[0m\u001b[0m\n\u001b[0;32m    866\u001b[0m             \u001b[0mis_ea_value\u001b[0m \u001b[1;33m=\u001b[0m \u001b[1;32mFalse\u001b[0m\u001b[1;33m\u001b[0m\u001b[1;33m\u001b[0m\u001b[0m\n\u001b[1;32m--> 867\u001b[1;33m             \u001b[0marr_value\u001b[0m \u001b[1;33m=\u001b[0m \u001b[0mnp\u001b[0m\u001b[1;33m.\u001b[0m\u001b[0marray\u001b[0m\u001b[1;33m(\u001b[0m\u001b[0mvalue\u001b[0m\u001b[1;33m)\u001b[0m\u001b[1;33m\u001b[0m\u001b[1;33m\u001b[0m\u001b[0m\n\u001b[0m\u001b[0;32m    868\u001b[0m \u001b[1;33m\u001b[0m\u001b[0m\n\u001b[0;32m    869\u001b[0m         \u001b[1;31m# cast the values to a type that can hold nan (if necessary)\u001b[0m\u001b[1;33m\u001b[0m\u001b[1;33m\u001b[0m\u001b[1;33m\u001b[0m\u001b[0m\n",
      "\u001b[1;31mMemoryError\u001b[0m: Unable to allocate 15.7 GiB for an array with shape (29903, 70532) and data type object"
     ]
    }
   ],
   "source": [
    "# dataframe for storing mutations\n",
    "mut_df = pd.DataFrame(index=updated_blast_results.index, columns=range(len(dict_se['NC_045512.2_|Severe_acute_respiratory_syndrome_coronavirus_2_isolate_Wuhan-Hu-1,_complete_genome'])))\n",
    "mut_df.fillna(0, inplace=True)"
   ]
  },
  {
   "cell_type": "code",
   "execution_count": 96,
   "metadata": {},
   "outputs": [
    {
     "data": {
      "text/plain": [
       "70532"
      ]
     },
     "execution_count": 96,
     "metadata": {},
     "output_type": "execute_result"
    }
   ],
   "source": [
    "len(updated_blast_results.index)"
   ]
  },
  {
   "cell_type": "code",
   "execution_count": 147,
   "metadata": {},
   "outputs": [
    {
     "data": {
      "text/plain": [
       "[4, 215, 3011, 14382, 18851, 23377, 25537]"
      ]
     },
     "execution_count": 147,
     "metadata": {},
     "output_type": "execute_result"
    }
   ],
   "source": [
    "for i in updated_blast_results.index:\n",
    "    query=updated_blast_results.loc[i, 'qseq']\n",
    "    subject=updated_blast_results.loc[i, 'sseq']\n",
    "    mut_location = [j for j in range(len(subject)) if query[j] != subject[j]]\n",
    "    query_gap=list(np.where(np.array([j for j in query])=='-')[0])\n",
    "    subject_gap=list(np.where(np.array([j for j in subject])=='-')[0])\n",
    "    mut_location = [j for j in mut_location if j not in query_gap and j not in subject_gap]\n",
    "    \n",
    "    position=updated_blast_results.loc[i, 'sstart']\n",
    "    adj_mut = []\n",
    "    \n",
    "    for j in mut_location:\n",
    "        subject_substring = subject.loc[:j+1]\n",
    "        count = subject_substring.count('-')\n",
    "        adj_mut.append(j-count+position)\n",
    "        \n",
    "    mut_df.loc[i, adj_mut] = 1\n",
    "    "
   ]
  },
  {
   "cell_type": "code",
   "execution_count": null,
   "metadata": {},
   "outputs": [],
   "source": []
  },
  {
   "cell_type": "code",
   "execution_count": 162,
   "metadata": {},
   "outputs": [
    {
     "name": "stdout",
     "output_type": "stream",
     "text": [
      "[]\n",
      "[4]\n"
     ]
    }
   ],
   "source": [
    "#gaps\n",
    "for \n",
    "print(list(np.where(np.array([i for i in a])=='-')[0]))\n",
    "print(list(np.where(np.array([i for i in b])=='-')[0]))\n",
    "\n"
   ]
  },
  {
   "cell_type": "code",
   "execution_count": 94,
   "metadata": {},
   "outputs": [
    {
     "ename": "NameError",
     "evalue": "name 'query' is not defined",
     "output_type": "error",
     "traceback": [
      "\u001b[1;31m---------------------------------------------------------------------------\u001b[0m",
      "\u001b[1;31mNameError\u001b[0m                                 Traceback (most recent call last)",
      "\u001b[1;32m<ipython-input-94-0699dbf4a732>\u001b[0m in \u001b[0;36m<module>\u001b[1;34m\u001b[0m\n\u001b[1;32m----> 1\u001b[1;33m \u001b[0mtype\u001b[0m\u001b[1;33m(\u001b[0m\u001b[0mquery\u001b[0m\u001b[1;33m)\u001b[0m\u001b[1;33m\u001b[0m\u001b[1;33m\u001b[0m\u001b[0m\n\u001b[0m",
      "\u001b[1;31mNameError\u001b[0m: name 'query' is not defined"
     ]
    }
   ],
   "source": []
  },
  {
   "cell_type": "code",
   "execution_count": 165,
   "metadata": {},
   "outputs": [
    {
     "data": {
      "text/plain": [
       "'ACAA-ACCAACCAACTTTCGATCTCTTGTAGATCTGTTCTCTAAACGAACTTTAAAATCTGTGTGGCTGTCACTCGGCTGCATGCTTAGTGCACTCACGCAGTATAATTAATAACTAATTACTGTCGTTGACAGGACACGAGTAACTCGTCTATCTTCTGCAGGCTGCTTACGGTTTCGTCCGTGTTGCAGCCGATCATCAGCACATCTAGGTTTC'"
      ]
     },
     "execution_count": 165,
     "metadata": {},
     "output_type": "execute_result"
    }
   ],
   "source": [
    "b[:215+1]\n",
    "#then count all the '-' in this substring\n",
    "#subtract one for each '-'"
   ]
  },
  {
   "cell_type": "code",
   "execution_count": 92,
   "metadata": {},
   "outputs": [
    {
     "data": {
      "text/plain": [
       "'ATTAAAGGTTTATACCTTCCCAGGTAACAAACCAACCAACTTTCGATCTCTTGTAGATCTGTTCTCTAAACGAACTTTAAAATCTGTGTGGCTGTCACTCGGCTGCATGCTTAGTGCACTCACGCAGTATAATTAATAACTAATTACTGTCGTTGACAGGACACGAGTAACTCGTCTATCTTCTGCAGGCTGCTTACGGTTTCGTCCGTGTTGCAGCCGATCATCAGCACATCTAGGTTTCGTCCGGGTGTGACCGAAAGGTAAGATGGAGAGCCTTGTCCCTGGTTTCAACGAGAAAACACACGTCCAACTCAGTTTGCCTGTTTTACAGGTTCGCGACGTGCTCGTACGTGGCTTTGGAGACTCCGTGGAGGAGGTCTTATCAGAGGCACGTCAACATCTTAAAGATGGCACTTGTGGCTTAGTAGAAGTTGAAAAAGGCGTTTTGCCTCAACTTGAACAGCCCTATGTGTTCATCAAACGTTCGGATGCTCGAACTGCACCTCATGGTCATGTTATGGTTGAGCTGGTAGCAGAACTCGAAGGCATTCAGTACGGTCGTAGTGGTGAGACACTTGGTGTCCTTGTCCCTCATGTGGGCGAAATACCAGTGGCTTACCGCAAGGTTCTTCTTCGTAAGAACGGTAATAAAGGAGCTGGTGGCCATAGTTACGGCGCCGATCTAAAGTCATTTGACTTAGGCGACGAGCTTGGCACTGATCCTTATGAAGATTTTCAAGAAAACTGGAACACTAAACATAGCAGTGGTGTTACCCGTGAACTCATGCGTGAGCTTAACGGAGGGGCATACACTCGCTATGTCGATAACAACTTCTGTGGCCCTGATGGCTACCCTCTTGAGTGCATTAAAGACCTTCTAGCACGTGCTGGTAAAGCTTCATGCACTTTGTCCGAACAACTGGACTTTATTGACACTAAGAGGGGTGTATACTGCTGCCGTGAACATGAGCATGAAATTGCTTGGTACACGGAACGTTCTGAAAAGAGCTATGAATTGCAGACACCTTTTGAAATTAAATTGGCAAAGAAATTTGACACCTTCAATGGGGAATGTCCAAATTTTGTATTTCCCTTAAATTCCATAATCAAGACTATTCAACCAAGGGTTGAAAAGAAAAAGCTTGATGGCTTTATGGGTAGAATTCGATCTGTCTATCCAGTTGCGTCACCAAATGAATGCAACCAAATGTGCCTTTCAACTCTCATGAAGTGTGATCATTGTGGTGAAACTTCATGGCAGACGGGCGATTTTGTTAAAGCCACTTGCGAATTTTGTGGCACTGAGAATTTGACTAAAGAAGGTGCCACTACTTGTGGTTACTTACCCCAAAATGCTGTTGTTAAAATTTATTGTCCAGCATGTCACAATTCAGAAGTAGGACCTGAGCATAGTCTTGCCGAATACCATAATGAATCTGGCTTGAAAACCATTCTTCGTAAGGGTGGTCGCACTATTGCCTTTGGAGGCTGTGTGTTCTCTTATGTTGGTTGCCATAACAAGTGTGCCTATTGGGTTCCACGTGCTAGCGCTAACATAGGTTGTAACCATACAGGTGTTGTTGGAGAAGGTTCCGAAGGTCTTAATGACAACCTTCTTGAAATACTCCAAAAAGAGAAAGTCAACATCAATATTGTTGGTGACTTTAAACTTAATGAAGAGATCGCCATTATTTTGGCATCTTTTTCTGCTTCCACAAGTGCTTTTGTGGAAACTGTGAAAGGTTTGGATTATAAAGCATTCAAACAAATTGTTGAATCCTGTGGTAATTTTAAAGTTACAAAAGGAAAAGCTAAAAAAGGTGCCTGGAATATTGGTGAACAGAAATCAATACTGAGTCCTCTTTATGCATTTGCATCAGAGGCTGCTCGTGTTGTACGATCAATTTTCTCCCGCACTCTTGAAACTGCTCAAAATTCTGTGCGTGTTTTACAGAAGGCCGCTATAACAATACTAGATGGAATTTCACAGTATTCACTGAGACTCATTGATGCTATGATGTTCACATCTGATTTGGCTACTAACAATCTAGTTGTAATGGCCTACATTACAGGTGGTGTTGTTCAGTTGACTTCGCAGTGGCTAACTAACATCTTTGGCACTGTTTATGAAAAACTCAAACCCGTCCTTGATTGGCTTGAAGAGAAGTTTAAGGAAGGTGTAGAGTTTCTTAGAGACGGTTGGGAAATTGTTAAATTTATCTCAACCTGTGCTTGTGAAATTGTCGGTGGACAAATTGTCACCTGTGCAAAGGAAATTAAGGAGAGTGTTCAGACATTCTTTAAGCTTGTAAATAAATTTTTGGCTTTGTGTGCTGACTCTATCATTATTGGTGGAGCTAAACTTAAAGCCTTGAATTTAGGTGAAACATTTGTCACGCACTCAAAGGGATTGTACAGAAAGTGTGTTAAATCCAGAGAAGAAACTGGCCTACTCATGCCTCTAAAAGCCCCAAAAGAAATTATCTTCTTAGAGGGAGAAACACTTCCCACAGAAGTGTTAACAGAGGAAGTTGTCTTGAAAACTGGTGATTTACAACCATTAGAACAACCTACTAGTGAAGCTGTTGAAGCTCCATTGGTTGGTACACCAGTTTGTATTAACGGGCTTATGTTGCTCGAAATCAAAGACACAGAAAAGTACTGTGCCCTTGCACCTAATATGATGGTAACAAACAATACCTTCACACTCAAAGGCGGTGCACCAACAAAGGTTACTTTTGGTGATGACACTGTGATAGAAGTGCAAGGTTACAAGAGTGTGAATATCACTTTTGAACTTGATGAAAGGATTGATAAAGTACTTAATGAGAAGTGCTCTGCCTATACAGTTGAACTCGGTACAGAAGTAAATGAGTTCGCCTGTGTTGTGGCAGATGCTGTCATAAAAACTTTGCAACCAGTATCTGAATTACTTACACCACTGGGCATTGATTTAGATGAGTGGAGTATGGCTACATACTACTTATTTGATGAGTCTGGTGAGTTTAAATTGGCTTCACATATGTATTGTTCTTTCTACCCTCCAGATGAGGATGAAGAAGAAGGTGATTGTGAAGAAGAAGAGTTTGAGCCATCAACTCAATATGAGTATGGTACTGAAGATGATTACCAAGGTAAACCTTTGGAATTTGGTGCCACTTCTGCTGCTCTTCAACCTGAAGAAGAGCAAGAAGAAGATTGGTTAGATGATGATAGTCAACAAACTGTTGGTCAACAAGACGGCAGTGAGGACAATCAGACAACTACTATTCAAACAATTGTTGAGGTTCAACCTCAATTAGAGATGGAACTTACACCAGTTGTTCAGACTATTGAAGTGAATAGTTTTAGTGGTTATTTAAAACTTACTGACAATGTATACATTAAAAATGCAGACATTGTGGAAGAAGCTAAAAAGGTAAAACCAACAGTGGTTGTTAATGCAGCCAATGTTTACCTTAAACATGGAGGAGGTGTTGCAGGAGCCTTAAATAAGGCTACTAACAATGCCATGCAAGTTGAATCTGATGATTACATAGCTACTAATGGACCACTTAAAGTGGGTGGTAGTTGTGTTTTAAGCGGACACAATCTTGCTAAACACTGTCTTCATGTTGTCGGCCCAAATGTTAACAAAGGTGAAGACATTCAACTTCTTAAGAGTGCTTATGAAAATTTTAATCAGCACGAAGTTCTACTTGCACCATTATTATCAGCTGGTATTTTTGGTGCTGACCCTATACATTCTTTAAGAGTTTGTGTAGATACTGTTCGCACAAATGTCTACTTAGCTGTCTTTGATAAAAATCTCTATGACAAACTTGTTTCAAGCTTTTTGGAAATGAAGAGTGAAAAGCAAGTTGAACAAAAGATCGCTGAGATTCCTAAAGAGGAAGTTAAGCCATTTATAACTGAAAGTAAACCTTCAGTTGAACAGAGAAAACAAGATGATAAGAAAATCAAAGCTTGTGTTGAAGAAGTTACAACAACTCTGGAAGAAACTAAGTTCCTCACAGAAAACTTGTTACTTTATATTGACATTAATGGCAATCTTCATCCAGATTCTGCCACTCTTGTTAGTGACATTGACATCACTTTCTTAAAGAAAGATGCTCCATATATAGTGGGTGATGTTGTTCAAGAGGGTGTTTTAACTGCTGTGGTTATACCTACTAAAAAGGCTGGTGGCACTACTGAAATGCTAGCGAAAGCTTTGAGAAAAGTGCCAACAGACAATTATATAACCACTTACCCGGGTCAGGGTTTAAATGGTTACACTGTAGAGGAGGCAAAGACAGTGCTTAAAAAGTGTAAAAGTGCCTTTTACATTCTACCATCTATTATCTCTAATGAGAAGCAAGAAATTCTTGGAACTGTTTCTTGGAATTTGCGAGAAATGCTTGCACATGCAGAAGAAACACGCAAATTAATGCCTGTCTGTGTGGAAACTAAAGCCATAGTTTCAACTATACAGCGTAAATATAAGGGTATTAAAATACAAGAGGGTGTGGTTGATTATGGTGCTAGATTTTACTTTTACACCAGTAAAACAACTGTAGCGTCACTTATCAACACACTTAACGATCTAAATGAAACTCTTGTTACAATGCCACTTGGCTATGTAACACATGGCTTAAATTTGGAAGAAGCTGCTCGGTATATGAGATCTCTCAAAGTGCCAGCTACAGTTTCTGTTTCTTCACCTGATGCTGTTACAGCGTATAATGGTTATCTTACTTCTTCTTCTAAAACACCTGAAGAACATTTTATTGAAACCATCTCACTTGCTGGTTCCTATAAAGATTGGTCCTATTCTGGACAATCTACACAACTAGGTATAGAATTTCTTAAGAGAGGTGATAAAAGTGTATATTACACTAGTAATCCTACCACATTCCACCTAGATGGTGAAGTTATCACCTTTGACAATCTTAAGACACTTCTTTCTTTGAGAGAAGTGAGGACTATTAAGGTGTTTACAACAGTAGACAACATTAACCTCCACACGCAAGTTGTGGACATGTCAATGACATATGGACAACAGTTTGGTCCAACTTATTTGGATGGAGCTGATGTTACTAAAATAAAACCTCATAATTCACATGAAGGTAAAACATTTTATGTTTTACCTAATGATGACACTCTACGTGTTGAGGCTTTTGAGTACTACCACACAACTGATCCTAGTTTTCTGGGTAGGTACATGTCAGCATTAAATCACACTAAAAAGTGGAAATACCCACAAGTTAATGGTTTAACTTCTATTAAATGGGCAGATAACAACTGTTATCTTGCCACTGCATTGTTAACACTCCAACAAATAGAGTTGAAGTTTAATCCACCTGCTCTACAAGATGCTTATTACAGAGCAAGGGCTGGTGAAGCTGCTAACTTTTGTGCACTTATCTTAGCCTACTGTAATAAGACAGTAGGTGAGTTAGGTGATGTTAGAGAAACAATGAGTTACTTGTTTCAACATGCCAATTTAGATTCTTGCAAAAGAGTCTTGAACGTGGTGTGTAAAACTTGTGGACAACAGCAGACAACCCTTAAGGGTGTAGAAGCTGTTATGTACATGGGCACACTTTCTTATGAACAATTTAAGAAAGGTGTTCAGATACCTTGTACGTGTGGTAAACAAGCTACAAAATATCTAGTACAACAGGAGTCACCTTTTGTTATGATGTCAGCACCACCTGCTCAGTATGAACTTAAGCATGGTACATTTACTTGTGCTAGTGAGTACACTGGTAATTACCAGTGTGGTCACTATAAACATATAACTTCTAAAGAAACTTTGTATTGCATAGACGGTGCTTTACTTACAAAGTCCTCAGAATACAAAGGTCCTATTACGGATGTTTTCTACAAAGAAAACAGTTACACAACAACCATAAAACCAGTTACTTATAAATTGGATGGTGTTGTTTGTACAGAAATTGACCCTAAGTTGGACAATTATTATAAGAAAGACAATTCTTATTTCACAGAGCAACCAATTGATCTTGTACCAAACCAACCATATCCAAACGCAAGCTTCGATAATTTTAAGTTTGTATGTGATAATATCAAATTTGCTGATGATTTAAACCAGTTAACTGGTTATAAGAAACCTGCTTCAAGAGAGCTTAAAGTTACATTTTTCCCTGACTTAAATGGTGATGTGGTGGCTATTGATTATAAACACTACACACCCTCTTTTAAGAAAGGAGCTAAATTGTTACATAAACCTATTGTTTGGCATGTTAACAATGCAACTAATAAAGCCACGTATAAACCAAATACCTGGTGTATACGTTGTCTTTGGAGCACAAAACCAGTTGAAACATCAAATTCGTTTGATGTACTGAAGTCAGAGGACGCGCAGGGAATGGATAATCTTGCCTGCGAAGATCTAAAACCAGTCTCTGAAGAAGTAGTGGAAAATCCTACCATACAGAAAGACGTTCTTGAGTGTAATGTGAAAACTACCGAAGTTGTAGGAGACATTATACTTAAACCAGCAAATAATAGTTTAAAAATTACAGAAGAGGTTGGCCACACAGATCTAATGGCTGCTTATGTAGACAATTCTAGTCTTACTATTAAGAAACCTAATGAATTATCTAGAGTATTAGGTTTGAAAACCCTTGCTACTCATGGTTTAGCTGCTGTTAATAGTGTCCCTTGGGATACTATAGCTAATTATGCTAAGCCTTTTCTTAACAAAGTTGTTAGTACAACTACTAACATAGTTACACGGTGTTTAAACCGTGTTTGTACTAATTATATGCCTTATTTCTTTACTTTATTGCTACAATTGTGTACTTTTACTAGAAGTACAAATTCTAGAATTAAAGCATCTATGCCGACTACTATAGCAAAGAATACTGTTAAGAGTGTCGGTAAATTTTGTCTAGAGGCTTCATTTAATTATTTGAAGTCACCTAATTTTTCTAAACTGATAAATATTATAATTTGGTTTTTACTATTAAGTGTTTGCCTAGGTTCTTTAATCTACTCAACCGCTGCTTTAGGTGTTTTAATGTCTAATTTAGGCATGCCTTCTTACTGTACTGGTTACAGAGAAGGCTATTTGAACTCTACTAATGTCACTATTGCAACCTACTGTACTGGTTCTATACCTTGTAGTGTTTGTCTTAGTGGTTTAGATTCTTTAGACACCTATCCTTCTTTAGAAACTATACAAATTACCATTTCATCTTTTAAATGGGATTTAACTGCTTTTGGCTTAGTTGCAGAGTGGTTTTTGGCATATATTCTTTTCACTAGGTTTTTCTATGTACTTGGATTGGCTGCAATCATGCAATTGTTTTTCAGCTATTTTGCAGTACATTTTATTAGTAATTCTTGGCTTATGTGGTTAATAATTAATCTTGTACAAATGGCCCCGATTTCAGCTATGGTTAGAATGTACATCTTCTTTGCATCATTTTATTATGTATGGAAAAGTTATGTGCATGTTGTAGACGGTTGTAATTCATCAACTTGTATGATGTGTTACAAACGTAATAGAGCAACAAGAGTCGAATGTACAACTATTGTTAATGGTGTTAGAAGGTCCTTTTATGTCTATGCTAATGGAGGTAAAGGCTTTTGCAAACTACACAATTGGAATTGTGTTAATTGTGATACATTCTGTGCTGGTAGTACATTTATTAGTGATGAAGTTGCGAGAGACTTGTCACTACAGTTTAAAAGACCAATAAATCCTACTGACCAGTCTTCTTACATCGTTGATAGTGTTACAGTGAAGAATGGTTCCATCCATCTTTACTTTGATAAAGCTGGTCAAAAGACTTATGAAAGACATTCTCTCTCTCATTTTGTTAACTTAGACAACCTGAGAGCTAATAACACTAAAGGTTCATTGCCTATTAATGTTATAGTTTTTGATGGTAAATCAAAATGTGAAGAATCATCTGCAAAATCAGCGTCTGTTTACTACAGTCAGCTTATGTGTCAACCTATACTGTTACTAGATCAGGCATTAGTGTCTGATGTTGGTGATAGTGCGGAAGTTGCAGTTAAAATGTTTGATGCTTACGTTAATACGTTTTCATCAACTTTTAACGTACCAATGGAAAAACTCAAAACACTAGTTGCAACTGCAGAAGCTGAACTTGCAAAGAATGTGTCCTTAGACAATGTCTTATCTACTTTTATTTCAGCAGCTCGGCAAGGGTTTGTTGATTCAGATGTAGAAACTAAAGATGTTGTTGAATGTCTTAAATTGTCACATCAATCTGACATAGAAGTTACTGGCGATAGTTGTAATAACTATATGCTCACCTATAACAAAGTTGAAAACATGACACCCCGTGACCTTGGTGCTTGTATTGACTGTAGTGCGCGTCATATTAATGCGCAGGTAGCAAAAAGTCACAACATTGCTTTGATATGGAACGTTAAAGATTTCATGTCATTGTCTGAACAACTACGAAAACAAATACGTAGTGCTGCTAAAAAGAATAACTTACCTTTTAAGTTGACATGTGCAACTACTAGACAAGTTGTTAATGTTGTAACAACAAAGATAGCACTTAAGGGTGGTAAAATTGTTAATAATTGGTTGAAGCAGTTAATTAAAGTTACACTTGTGTTCCTTTTTGTTGCTGCTATTTTCTATTTAATAACACCTGTTCATGTCATGTCTAAACATACTGACTTTTCAAGTGAAATCATAGGATACAAGGCTATTGATGGTGGTGTCACTCGTGACATAGCATCTACAGATACTTGTTTTGCTAACAAACATGCTGATTTTGACACATGGTTTAGCCAGCGTGGTGGTAGTTATACTAATGACAAAGCTTGCCCATTGATTGCTGCAGTCATAACAAGAGAAGTGGGTTTTGTCGTGCCTGGTTTGCCTGGCACGATATTACGCACAACTAATGGTGACTTTTTGCATTTCTTACCTAGAGTTTTTAGTGCAGTTGGTAACATCTGTTACACACCATCAAAACTTATAGAGTACACTGACTTTGCAACATCAGCTTGTGTTTTGGCTGCTGAATGTACAATTTTTAAAGATGCTTCTGGTAAGCCAGTACCATATTGTTATGATACCAATGTACTAGAAGGTTCTGTTGCTTATGAAAGTTTACGCCCTGACACACGTTATGTGCTCATGGATGGCTCTATTATTCAATTTCCTAACACCTACCTTGAAGGTTCTGTTAGAGTGGTAACAACTTTTGATTCTGAGTACTGTAGGCACGGCACTTGTGAAAGATCAGAAGCTGGTGTTTGTGTATCTACTAGTGGTAGATGGGTACTTAACAATGATTATTACAGATCTTTACCAGGAGTTTTCTGTGGTGTAGATGCTGTAAATTTACTTACTAATATGTTTACACCACTAATTCAACCTATTGGTGCTTTGGACATATCAGCATCTATAGTAGCTGGTGGTATTGTAGCTATCGTAGTAACATGCCTTGCCTACTATTTTATGAGGTTTAGAAGAGCTTTTGGTGAATACAGTCATGTAGTTGCCTTTAATACTTTACTATTCCTTATGTCATTCACTGTACTCTGTTTAACACCAGTTTACTCATTCTTACCTGGTGTTTATTCTGTTATTTACTTGTACTTGACATTTTATCTTACTAATGATGTTTCTTTTTTAGCACATATTCAGTGGATGGTTATGTTCACACCTTTAGTACCTTTCTGGATAACAATTGCTTATATCATTTGTATTTCCACAAAGCATTTCTATTGGTTCTTTAGTAATTACCTAAAGAGACGTGTAGTCTTTAATGGTGTTTCCTTTAGTACTTTTGAAGAAGCTGCGCTGTGCACCTTTTTGTTAAATAAAGAAATGTATCTAAAGTTGCGTAGTGATGTGCTATTACCTCTTACGCAATATAATAGATACTTAGCTCTTTATAATAAGTACAAGTATTTTAGTGGAGCAATGGATACAACTAGCTACAGAGAAGCTGCTTGTTGTCATCTCGCAAAGGCTCTCAATGACTTCAGTAACTCAGGTTCTGATGTTCTTTACCAACCACCACAAACCTCTATCACCTCAGCTGTTTTGCAGAGTGGTTTTAGAAAAATGGCATTCCCATCTGGTAAAGTTGAGGGTTGTATGGTACAAGTAACTTGTGGTACAACTACACTTAACGGTCTTTGGCTTGATGACGTAGTTTACTGTCCAAGACATGTGATCTGCACCTCTGAAGACATGCTTAACCCTAATTATGAAGATTTACTCATTCGTAAGTCTAATCATAATTTCTTGGTACAGGCTGGTAATGTTCAACTCAGGGTTATTGGACATTCTATGCAAAATTGTGTACTTAAGCTTAAGGTTGATACAGCCAATCCTAAGACACCTAAGTATAAGTTTGTTCGCATTCAACCAGGACAGACTTTTTCAGTGTTAGCTTGTTACAATGGTTCACCATCTGGTGTTTACCAATGTGCTATGAGGCCCAATTTCACTATTAAGGGTTCATTCCTTAATGGTTCATGTGGTAGTGTTGGTTTTAACATAGATTATGACTGTGTCTCTTTTTGTTACATGCACCATATGGAATTACCAACTGGAGTTCATGCTGGCACAGACTTAGAAGGTAACTTTTATGGACCTTTTGTTGACAGGCAAACAGCACAAGCAGCTGGTACGGACACAACTATTACAGTTAATGTTTTAGCTTGGTTGTACGCTGCTGTTATAAATGGAGACAGGTGGTTTCTCAATCGATTTACCACAACTCTTAATGACTTTAACCTTGTGGCTATGAAGTACAATTATGAACCTCTAACACAAGACCATGTTGACATACTAGGACCTCTTTCTGCTCAAACTGGAATTGCCGTTTTAGATATGTGTGCTTCATTAAAAGAATTACTGCAAAATGGTATGAATGGACGTACCATATTGGGTAGTGCTTTATTAGAAGATGAATTTACACCTTTTGATGTTGTTAGACAATGCTCAGGTGTTACTTTCCAAAGTGCAGTGAAAAGAACAATCAAGGGTACACACCACTGGTTGTTACTCACAATTTTGACTTCACTTTTAGTTTTAGTCCAGAGTACTCAATGGTCTTTGTTCTTTTTTTTGTATGAAAATGCCTTTTTACCTTTTGCTATGGGTATTATTGCTATGTCTGCTTTTGCAATGATGTTTGTCAAACATAAGCATGCATTTCTCTGTTTGTTTTTGTTACCTTCTCTTGCCACTGTAGCTTATTTTAATATGGTCTATATGCCTGCTAGTTGGGTGATGCGTATTATGACATGGTTGGATATGGTTGATACTAGTTTGTCTGGTTTTAAGCTAAAAGACTGTGTTATGTATGCATCAGCTGTAGTGTTACTAATCCTTATGACAGCAAGAACTGTGTATGATGATGGTGCTAGGAGAGTGTGGACACTTATGAATGTCTTGACACTCGTTTATAAAGTTTATTATGGTAATGCTTTAGATCAAGCCATTTCCATGTGGGCTCTTATAATCTCTGTTACTTCTAACTACTCAGGTGTAGTTACAACTGTCATGTTTTTGGCCAGAGGTATTGTTTTTATGTGTGTTGAGTATTGCCCTATTTTCTTCATAACTGGTAATACACTTCAGTGTATAATGCTAGTTTATTGTTTCTTAGGCTATTTTTGTACTTGTTACTTTGGCCTCTTTTGTTTACTCAACCGCTACTTTAGACTGACTCTTGGTGTTTATGATTACTTAGTTTCTACACAGGAGTTTAGATATATGAATTCACAGGGACTACTCCCACCCAAGAATAGCATAGATGCCTTCAAACTCAACATTAAATTGTTGGGTGTTGGTGGCAAACCTTGTATCAAAGTAGCCACTGTACAGTCTAAAATGTCAGATGTAAAGTGCACATCAGTAGTCTTACTCTCAGTTTTGCAACAACTCAGAGTAGAATCATCATCTAAATTGTGGGCTCAATGTGTCCAGTTACACAATGACATTCTCTTAGCTAAAGATACTACTGAAGCCTTTGAAAAAATGGTTTCACTACTTTCTGTTTTGCTTTCCATGCAGGGTGCTGTAGACATAAACAAGCTTTGTGAAGAAATGCTGGACAACAGGGCAACCTTACAAGCTATAGCCTCAGAGTTTAGTTCCCTTCCATCATATGCAGCTTTTGCTACTGCTCAAGAAGCTTATGAGCAGGCTGTTGCTAATGGTGATTCTGAAGTTGTTCTTAAAAAGTTGAAGAAGTCTTTGAATGTGGCTAAATCTGAATTTGACCGTGATGCAGCCATGCAACGTAAGTTGGAAAAGATGGCTGATCAAGCTATGACCCAAATGTATAAACAGGCTAGATCTGAGGACAAGAGGGCAAAAGTTACTAGTGCTATGCAGACAATGCTTTTCACTATGCTTAGAAAGTTGGATAATGATGCACTCAACAACATTATCAACAATGCAAGAGATGGTTGTGTTCCCTTGAACATAATACCTCTTACAACAGCAGCCAAACTAATGGTTGTCATACCAGACTATAACACATATAAAAATACGTGTGATGGTACAACATTTACTTATGCATCAGCATTGTGGGAAATCCAACAGGTTGTAGATGCAGATAGTAAAATTGTTCAACTTAGTGAAATTAGTATGGACAATTCACCTAATTTAGCATGGCCTCTTATTGTAACAGCTTTAAGGGCCAATTCTGCTGTCAAATTACAGAATAATGAGCTTAGTCCTGTTGCACTACGACAGATGTCTTGTGCTGCCGGTACTACACAAACTGCTTGCACTGATGACAATGCGTTAGCTTACTACAACACAACAAAGGGAGGTAGGTTTGTACTTGCACTGTTATCCGATTTACAGGATTTGAAATGGGCTAGATTCCCTAAGAGTGATGGAACTGGTACTATCTATACAGAACTGGAACCACCTTGTAGGTTTGTTACAGACACACCTAAAGGTCCTAAAGTGAAGTATTTATACTTTATTAAAGGATTAAACAACCTAAATAGAGGTATGGTACTTGGTAGTTTAGCTGCCACAGTACGTCTACAAGCTGGTAATGCAACAGAAGTGCCTGCCAATTCAACTGTATTATCTTTCTGTGCTTTTGCTGTAGATGCTGCTAAAGCTTACAAAGATTATCTAGCTAGTGGGGGACAACCAATCACTAATTGTGTTAAGATGTTGTGTACACACACTGGTACTGGTCAGGCAATAACAGTTACACCGGAAGCCAATATGGATCAAGAATCCTTTGGTGGTGCATCGTGTTGTCTGTACTGCCGTTGCCACATAGATCATCCAAATCCTAAAGGATTTTGTGACTTAAAAGGTAAGTATGTACAAATACCTACAACTTGTGCTAATGACCCTGTGGGTTTTACACTTAAAAACACAGTCTGTACCGTCTGCGGTATGTGGAAAGGTTATGGCTGTAGTTGTGATCAACTCCGCGAACCCATGCTTCAGTCAGCTGATGCACAATCGTTTTTAAACGGGTTTGCGGTGTAAGTGCAGCCCGTCTTACACCGTGCGGCACAGGCACTAGTACTGATGTCGTATACAGGGCTTTTGACATCTACAATGATAAAGTAGCTGGTTTTGCTAAATTCCTAAAAACTAATTGTTGTCGCTTCCAAGAAAAGGACGAAGATGACAATTTAATTGATTCTTACTTTGTAGTTAAGAGACACACTTTCTCTAACTACCAACATGAAGAAACAATTTATAATTTACTTAAGGATTGTCCAGCTGTTGCTAAACATGACTTCTTTAAGTTTAGAATAGACGGTGACATGGTACCACATATATCACGTCAACGTCTTACTAAATACACAATGGCAGACCTCGTCTATGCTTTAAGGCATTTTGATGAAGGTAATTGTGACACATTAAAAGAAATACTTGTCACATACAATTGTTGTGATGATGATTATTTCAATAAAAAGGACTGGTATGATTTTGTAGAAAACCCAGATATATTACGCGTATACGCCAACTTAGGTGAACGTGTACGCCAAGCTTTGTTAAAAACAGTACAATTCTGTGATGCCATGCGAAATGCTGGTATTGTTGGTGTACTGACATTAGATAATCAAGATCTCAATGGTAACTGGTATGATTTCGGTGATTTCATACAAACCACGCCAGGTAGTGGAGTTCCTGTTGTAGATTCTTATTATTCATTGTTAATGCCTATATTAACCTTGACCAGGGCTTTAACTGCAGAGTCACATGTTGACACTGACTTAACAAAGCCTTACATTAAGTGGGATTTGTTAAAATATGACTTCACGGAAGAGAGGTTAAAACTCTTTGACCGTTATTTTAAATATTGGGATCAGACATACCACCCAAATTGTGTTAACTGTTTGGATGACAGATGCATTCTGCATTGTGCAAACTTTAATGTTTTATTCTCTACAGTGTTCCCACCTACAAGTTTTGGACCACTAGTGAGAAAAATATTTGTTGATGGTGTTCCATTTGTAGTTTCAACTGGATACCACTTCAGAGAGCTAGGTGTTGTACATAATCAGGATGTAAACTTACATAGCTCTAGACTTAGTTTTAAGGAATTACTTGTGTATGCTGCTGACCCTGCTATGCACGCTGCTTCTGGTAATCTATTACTAGATAAACGCACTACGTGCTTTTCAGTAGCTGCACTTACTAACAATGTTGCTTTTCAAACTGTCAAACCCGGTAATTTTAACAAAGACTTCTATGACTTTGCTGTGTCTAAGGGTTTCTTTAAGGAAGGAAGTTCTGTTGAATTAAAACACTTCTTCTTTGCTCAGGATGGTAATGCTGCTATCAGCGATTATGACTACTATCGTTATAATCTACCAACAATGTGTGATATCAGACAACTACTATTTGTAGTTGAAGTTGTTGATAAGTACTTTGATTGTTACGATGGTGGCTGTATTAATGCTAACCAAGTCATCGTCAACAACCTAGACAAATCAGCTGGTTTTCCATTTAATAAATGGGGTAAGGCTAGACTTTATTATGATTCAATGAGTTATGAGGATCAAGATGCACTTTTCGCATATACAAAACGTAATGTCATCCCTACTATAACTCAAATGAATCTTAAGTATGCCATTAGTGCAAAGAATAGAGCTCGCACCGTAGCTGGTGTCTCTATCTGTAGTACTATGACCAATAGACAGTTTCATCAAAAATTATTGAAATCAATAGCCGCCACTAGAGGAGCTACTGTAGTAATTGGAACAAGCAAATTCTATGGTGGTTGGCACAACATGTTAAAAACTGTTTATAGTGATGTAGAAAACCCTCACCTTATGGGTTGGGATTATCCTAAATGTGATAGAGCCATGCCTAACATGCTTAGAATTATGGCCTCACTTGTTCTTGCTCGCAAACATACAACGTGTTGTAGCTTGTCACACCGTTTCTATAGATTAGCTAATGAGTGTGCTCAAGTATTGAGTGAAATGGTCATGTGTGGCGGTTCACTATATGTTAAACCAGGTGGAACCTCATCAGGAGATGCCACAACTGCTTATGCTAATAGTGTTTTTAACATTTGTCAAGCTGTCACGGCCAATGTTAATGCACTTTTATCTACTGATGGTAACAAAATTGCCGATAAGTATGTCCGCAATTTACAACACAGACTTTATGAGTGTCTCTATAGAAATAGAGATGTTGACACAGACTTTGTGAATGAGTTTTACGCATATTTGCGTAAACATTTCTCAATGATGATACTCTCTGACGATGCTGTTGTGTGTTTCAATAGCACTTATGCATCTCAAGGTCTAGTGGCTAGCATAAAGAACTTTAAGTCAGTTCTTTATTATCAAAACAATGTTTTTATGTCTGAAGCAAAATGTTGGACTGAGACTGACCTTACTAAAGGACCTCATGAATTTTGCTCTCAACATACAATGCTAGTTAAACAGGGTGATGATTATGTGTACCTTCCTTACCCAGATCCATCAAGAATCCTAGGGGCCGGCTGTTTTGTAGATGATATCGTAAAAACAGATGGTACACTTATGATTGAACGGTTCGTGTCTTTAGCTATAGATGCTTACCCACTTACTAAACATCCTAATCAGGAGTATGCTGATGTCTTTCATTTGTACTTACAATACATAAGAAAGCTACATGATGAGTTAACAGGACACATGTTAGACATGTATTCTGTTATGCTTACTAATGATAACACTTCAAGGTATTGGGAACCTGAGTTTTATGAGGCTATGTACACACCGCATACAGTCTTACAGGCTGTTGGGGCTTGTGTTCTTTGCAATTCACAGACTTCATTAAGATGTGGTGCTTGCATACGTAGACCATTCTTATGTTGTAAATGCTGTTACGACCATGTCATATCAACATCACATAAATTAGTCTTGTCTGTTAATCCGTATGTTTGCAATGCTCCAGGTTGTGATGTCACAGATGTGACTCAACTTTACTTAGGAGGTATGAGCTATTATTGTAAATCACATAAACCACCCATTAGTTTTCCATTGTGTGCTAATGGACAAGTTTTTGGTTTATATAAAAATACATGTGTTGGTAGCGATAATGTTACTGACTTTAATGCAATTGCAACATGTGACTGGACAAATGCTGGTGATTACATTTTAGCTAACACCTGTACTGAAAGACTCAAGCTTTTTGCAGCAGAAACGCTCAAAGCTACTGAGGAGACATTTAAACTGTCTTATGGTATTGCTACTGTACGTGAAGTGCTGTCTGACAGAGAATTACATCTTTCATGGGAAGTTGGTAAACCTAGACCACCACTTAACCGAAATTATGTCTTTACTGGTTATCGTGTAACTAAAAACAGTAAAGTACAAATAGGAGAGTACACCTTTGAAAAAGGTGACTATGGTGATGCTGTTGTTTACCGAGGTACAACAACTTACAAATTAAATGTTGGTGATTATTTTGTGCTGACATCACATACAGTAATGCCATTAAGTGCACCTACACTAGTGCCACAAGAGCACTATGTTAGAATTACTGGCTTATACCCAACACTCAATATCTCAGATGAGTTTTCTAGCAATGTTGCAAATTATCAAAAGGTTGGTATGCAAAAGTATTCTACACTCCAGGGACCACCTGGTACTGGTAAGAGTCATTTTGCTATTGGCCTAGCTCTCTACTACCCTTCTGCTCGCATAGTGTATACAGCTTGCTCTCATGCCGCTGTTGATGCACTATGTGAGAAGGCATTAAAATATTTGCCTATAGATAAATGTAGTAGAATTATACCTGCACGTGCTCGTGTAGAGTGTTTTGATAAATTCAAAGTGAATTCAACATTAGAACAGTATGTCTTTTGTACTGTAAATGCATTGCCTGAGACGACAGCAGATATAGTTGTCTTTGATGAAATTTCAATGGCCACAAATTATGATTTGAGTGTTGTCAATGCCAGATTACGTGCTAAGCACTATGTGTACATTGGCGACCCTGCTCAATTACCTGCACCACGCACATTGCTAACTAAGGGCACACTAGAACCAGAATATTTCAATTCAGTGTGTAGACTTATGAAAACTATAGGTCCAGACATGTTCCTCGGAACTTGTCGGCGTTGTCCTGCTGAAATTGTTGACACTGTGAGTGCTTTGGTTTATGATAATAAGCTTAAAGCACATAAAGACAAATCAGCTCAATGCTTTAAAATGTTTTATAAGGGTGTTATCACGCATGATGTTTCATCTGCAATTAACAGGCCACAAATAGGCGTGGTAAGAGAATTCCTTACACGTAACCCTGCTTGGAGAAAAGCTGTCTTTATTTCACCTTATAATTCACAGAATGCTGTAGCCTCAAAGATTTTGGGACTACCAACTCAAACTGTTGATTCATCACAGGGCTCAGAATATGACTATGTCATATTCACTCAAACCACTGAAACAGCTCACTCTTGTAATGTAAACAGATTTAATGTTGCTATTACCAGAGCAAAAGTAGGCATACTTTGCATAATGTCTGATAGAGACCTTTATGACAAGTTGCAATTTACAAGTCTTGAAATTCCACGTAGGAATGTGGCAACTTTACAAGCTGAAAATGTAACAGGACTCTTTAAAGATTGTAGTAAGGTAATCACTGGGTTACATCCTACACAGGCACCTACACACCTCAGTGTTGACACTAAATTCAAAACTGAAGGTTTATGTGTTGACATACCTGGCATACCTAAGGACATGACCTATAGAAGACTCATCTCTATGATGGGTTTTAAAATGAATTATCAAGTTAATGGTTACCCTAACATGTTTATCACCCGCGAAGAAGCTATAAGACATGTACGTGCATGGATTGGCTTCGATGTCGAGGGGTGTCATGCTACTAGAGAAGCTGTTGGTACCAATTTACCTTTACAGCTAGGTTTTTCTACAGGTGTTAACCTAGTTGCTGTACCTACAGGTTATGTTGATACACCTAATAATACAGATTTTTCCAGAGTTAGTGCTAAACCACCGCCTGGAGATCAATTTAAACACCTCATACCACTTATGTACAAAGGACTTCCTTGGAATGTAGTGCGTATAAAGATTGTACAAATGTTAAGTGACACACTTAAAAATCTCTCTGACAGAGTCGTATTTGTCTTATGGGCACATGGCTTTGAGTTGACATCTATGAAGTATTTTGTGAAAATAGGACCTGAGCGCACCTGTTGTCTATGTGATAGACGTGCCACATGCTTTTCCACTGCTTCAGACACTTATGCCTGTTGGCATCATTCTATTGGATTTGATTACGTCTATAATCCGTTTATGATTGATGTTCAACAATGGGGTTTTACAGGTAACCTACAAAGCAACCATGATCTGTATTGTCAAGTCCATGGTAATGCACATGTAGCTAGTTGTGATGCAATCATGACTAGGTGTCTAGCTGTCCACGAGTGCTTTGTTAAGCGTGTTGACTGGACTATTGAATATCCTATAATTGGTGATGAACTGAAGATTAATGCGGCTTGTAGAAAGGTTCAACACATGGTTGTTAAAGCTGCATTATTAGCAGACAAATTCCCAGTTCTTCACGACATTGGTAACCCTAAAGCTATTAAGTGTGTACCTCAAGCTGATGTAGAATGGAAGTTCTATGATGCACAGCCTTGTAGTGACAAAGCTTATAAAATAGAAGAATTATTCTATTCTTATGCCACACATTCTGACAAATTCACAGATGGTGTATGCCTATTTTGGAATTGCAATGTCGATAGATATCCTGCTAATTCCATTGTTTGTAGATTTGACACTAGAGTGCTATCTAACCTTAACTTGCCTGGTTGTGATGGTGGCAGTTTGTATGTAAATAAACATGCATTCCACACACCAGCTTTTGATAAAAGTGCTTTTGTTAATTTAAAACAATTACCATTTTTCTATTACTCTGACAGTCCATGTGAGTCTCATGGAAAACAAGTAGTGTCAGATATAGATTATGTACCACTAAAGTCTGCTACGTGTATAACACGTTGCAATTTAGGTGGTGCTGTCTGTAGACATCATGCTAATGAGTACAGATTGTATCTCGATGCTTATAACATGATGATCTCAGCTGGCTTTAGCTTGTGGGTTTACAAACAATTTGATACTTATAACCTCTGGAACACTTTTACAAGACTTCAGAGTTTAGAAAATGTGGCTTTTAATGTTGTAAATAAGGGACACTTTGATGGACAACAGGGTGAAGTACCAGTTTCTATCATTAATAACACTGTTTACACAAAAGTTGATGGTGTTGATGTAGAATTGTTTGAAAATAAAACAACATTACCTGTTAATGTAGCATTTGAGCTTTGGGCTAAGCGCAACATTAAACCAGTACCAGAGGTGAAAATACTCAATAATTTGGGTGTGGACATTGCTGCTAATACTGTGATCTGGGACTACAAAAGAGATGCTCCAGCACATATATCTACTATTGGTGTTTGTTCTATGACTGACATAGCCAAGAAACCAACTGAAACGATTTGTGCACCACTCACTGTCTTTTTTGATGGTAGAGTTGATGGTCAAGTAGACTTATTTAGAAATGCCCGTAATGGTGTTCTTATTACAGAAGGTAGTGTTAAAGGTTTACAACCATCTGTAGGTCCCAAACAAGCTAGTCTTAATGGAGTCACATTAATTGGAGAAGCCGTAAAAACACAGTTCAATTATTATAAGAAAGTTGATGGTGTTGTCCAACAATTACCTGAAACTTACTTTACTCAGAGTAGAAATTTACAAGAATTTAAACCCAGGAGTCAAATGGAAATTGATTTCTTAGAATTAGCTATGGATGAATTCATTGAACGGTATAAATTAGAAGGCTATGCCTTCGAACATATCGTTTATGGAGATTTTAGTCATAGTCAGTTAGGTGGTTTACATCTACTGATTGGACTAGCTAAACGTTTTAAGGAATCACCTTTTGAATTAGAAGATTTTATTCCTATGGACAGTACAGTTAAAAACTATTTCATAACAGATGCGCAAACAGGTTCATCTAAGTGTGTGTGTTCTGTTATTGATTTATTACTTGATGATTTTGTTGAAATAATAAAATCCCAAGATTTATCTGTAGTTTCTAAGGTTGTCAAAGTGACTATTGACTATACAGAAATTTCATTTATGCTTTGGTGTAAAGATGGCCATGTAGAAACATTTTACCCAAAATTACAATCTAGTCAAGCGTGGCAACCGGGTGTTGCTATGCCTAATCTTTACAAAATGCAAAGAATGCTATTAGAAAAGTGTGACCTTCAAAATTATGGTGATAGTGCAACATTACCTAAAGGCATAATGATGAATGTCGCAAAATATACTCAACTGTGTCAATATTTAAACACATTAACATTAGCTGTACCCTATAATATGAGAGTTATACATTTTGGTGCTGGTTCTGATAAAGGAGTTGCACCAGGTACAGCTGTTTTAAGACAGTGGTTGCCTACGGGTACGCTGCTTGTCGATTCAGATCTTAATGACTTTGTCTCTGATGCAGATTCAACTTTGATTGGTGATTGTGCAACTGTACATACAGCTAATAAATGGGATCTCATTATTAGTGATATGTACGACCCTAAGACTAAAAATGTTACAAAAGAAAATGACTCTAAAGAGGGTTTTTTCACTTACATTTGTGGGTTTATACAACAAAAGCTAGCTCTTGGAGGTTCCGTGGCTATAAAGATAACAGAACATTCTTGGAATGCTGATCTTTATAAGCTCATGGGACACTTCGCATGGTGGACAGCCTTTGTTACTAATGTGAATGCGTCATCATCTGAAGCATTTTTAATTGGATGTAATTATCTTGGCAAACCACGCGAACAAATAGATGGTTATGTCATGCATGCAAATTACATATTTTGGAGGAATACAAATCCAATTCAGTTGTCTTCCTATTCTTTATTTGACATGAGTAAATTTCCCCTTAAATTAAGGGGTACTGCTGTTATGTCTTTAAAAGAAGGTCAAATCAATGATATGATTTTATCTCTTCTTAGTAAAGGTAGACTTATAATTAGAGAAAACAACAGAGTTGTTATTTCTAGTGATGTTCTTGTTAACAACTAAACGAACAATGTTTGTTTTTCTTGTTTTATTGCCACTAGTCTCTAGTCAGTGTGTTAATCTTACAACCAGAACTCAATTACCCCCTGCATACACTAATTCTTTCACACGTGGTGTTTATTACCCTGACAAAGTTTTCAGATCCTCAGTTTTACATTCAACTCAGGACTTGTTCTTACCTTTCTTTTCCAATGTTACTTGGTTCCATGCTATACATGTCTCTGGGACCAATGGTACTAAGAGGTTTGATAACCCTGTCCTACCATTTAATGATGGTGTTTATTTTGCTTCCACTGAGAAGTCTAACATAATAAGAGGCTGGATTTTTGGTACTACTTTAGATTCGAAGACCCAGTCCCTACTTATTGTTAATAACGCTACTAATGTTGTTATTAAAGTCTGTGAATTTCAATTTTGTAATGATCCATTTTTGGGTGTTTATTACCACAAAAACAACAAAAGTTGGATGGAAAGTGAGTTCAGAGTTTATTCTAGTGCGAATAATTGCACTTTTGAATATGTCTCTCAGCCTTTTCTTATGGACCTTGAAGGAAAACAGGGTAATTTCAAAAATCTTAGGGAATTTGTGTTTAAGAATATTGATGGTTATTTTAAAATATATTCTAAGCACACGCCTATTAATTTAGTGCGTGATCTCCCTCAGGGTTTTTCGGCTTTAGAACCATTGGTAGATTTGCCAATAGGTATTAACATCACTAGGTTTCAAACTTTACTTGCTTTACATAGAAGTTATTTGACTCCTGGTGATTCTTCTTCAGGTTGGACAGCTGGTGCTGCAGCTTATTATGTGGGTTATCTTCAACCTAGGACTTTTCTATTAAAATATAATGAAAATGGAACCATTACAGATGCTGTAGACTGTGCACTTGACCCTCTCTCAGAAACAAAGTGTACGTTGAAATCCTTCACTGTAGAAAAAGGAATCTATCAAACTTCTAACTTTAGAGTCCAACCAACAGAATCTATTGTTAGATTTCCTAATATTACAAACTTGTGCCCTTTTGGTGAAGTTTTTAACGCCACCAGATTTGCATCTGTTTATGCTTGGAACAGGAAGAGAATCAGCAACTGTGTTGCTGATTATTCTGTCCTATATAATTCCGCATCATTTTCCACTTTTAAGTGTTATGGAGTGTCTCCTACTAAATTAAATGATCTCTGCTTTACTAATGTCTATGCAGATTCATTTGTAATTAGAGGTGATGAAGTCAGACAAATCGCTCCAGGGCAAACTGGAAAGATTGCTGATTATAATTATAAATTACCAGATGATTTTACAGGCTGCGTTATAGCTTGGAATTCTAACAATCTTGATTCTAAGGTTGGTGGTAATTATAATTACCTGTATAGATTGTTTAGGAAGTCTAATCTCAAACCTTTTGAGAGAGATATTTCAACTGAAATCTATCAGGCCGGTAGCACACCTTGTAATGGTGTTGAAGGTTTTAATTGTTACTTTCCTTTACAATCATATGGTTTCCAACCCACTAATGGTGTTGGTTACCAACCATACAGAGTAGTAGTACTTTCTTTTGAACTTCTACATGCACCAGCAACTGTTTGTGGACCTAAAAAGTCTACTAATTTGGTTAAAAACAAATGTGTCAATTTCAACTTCAATGGTTTAACAGGCACAGGTGTTCTTACTGAGTCTAACAAAAAGTTTCTGCCTTTCCAACAATTTGGCAGAGACATTGCTGACACTACTGATGCTGTCCGTGATCCACAGACACTTGAGATTCTTGACATTACACCATGTTCTTTTGGTGGTGTCAGTGTTATAACACCAGGAACAAATACTTCTAACCAGGTTGCTGTTCTTTATCAGGATGTTAACTGCACAGAAGTCCCTGTTGCTATTCATGCAGATCAACTTACTCCTACTTGGCGTGTTTATTCTACAGGTTCTAATGTTTTTCAAACACGTGCAGGCTGTTTAATAGGGGCTGAACATGTCAACAACTCATATGAGTGTGACATACCCATTGGTGCAGGTATATGCGCTAGTTATCAGACTCAGACTAATTCTCCTCGGCGGGCACGTAGTGTAGCTAGTCAATCCATCATTGCCTACACTATGTCACTTGGTGCAGAAAATTCAGTTGCTTACTCTAATAACTCTATTGCCATACCCACAAATTTTACTATTAGTGTTACCACAGAAATTCTACCAGTGTCTATGACCAAGACATCAGTAGATTGTACAATGTACATTTGTGGTGATTCAACTGAATGCAGCAATCTTTTGTTGCAATATGGCAGTTTTTGTACACAATTAAACCGTGCTTTAACTGGAATAGCTGTTGAACAAGACAAAAACACCCAAGAAGTTTTTGCACAAGTCAAACAAATTTACAAAACACCACCAATTAAAGATTTTGGTGGTTTTAATTTTTCACAAATATTACCAGATCCATCAAAACCAAGCAAGAGGTCATTTATTGAAGATCTACTTTTCAACAAAGTGACACTTGCAGATGCTGGCTTCATCAAACAATATGGTGATTGCCTTGGTGATATTGCTGCTAGAGACCTCATTTGTGCACAAAAGTTTAACGGCCTTACTGTTTTGCCACCTTTGCTCACAGATGAAATGATTGCTCAATACACTTCTGCACTGTTAGCGGGTACAATCACTTCTGGTTGGACCTTTGGTGCAGGTGCTGCATTACAAATACCATTTGCTATGCAAATGGCTTATAGGTTTAATGGTATTGGAGTTACACAGAATGTTCTCTATGAGAACCAAAAATTGATTGCCAACCAATTTAATAGTGCTATTGGCAAAATTCAAGACTCACTTTCTTCCACAGCAAGTGCACTTGGAAAACTTCAAGATGTGGTCAACCAAAATGCACAAGCTTTAAACACGCTTGTTAAACAACTTAGCTCCAATTTTGGTGCAATTTCAAGTGTTTTAAATGATATCCTTTCACGTCTTGACAAAGTTGAGGCTGAAGTGCAAATTGATAGGTTGATCACAGGCAGACTTCAAAGTTTGCAGACATATGTGACTCAACAATTAATTAGAGCTGCAGAAATCAGAGCTTCTGCTAATCTTGCTGCTACTAAAATGTCAGAGTGTGTACTTGGACAATCAAAAAGAGTTGATTTTTGTGGAAAGGGCTATCATCTTATGTCCTTCCCTCAGTCAGCACCTCATGGTGTAGTCTTCTTGCATGTGACTTATGTCCCTGCACAAGAAAAGAACTTCACAACTGCTCCTGCCATTTGTCATGATGGAAAAGCACACTTTCCTCGTGAAGGTGTCTTTGTTTCAAATGGCACACACTGGTTTGTAACACAAAGGAATTTTTATGAACCACAAATCATTACTACAGACAACACATTTGTGTCTGGTAACTGTGATGTTGTAATAGGAATTGTCAACAACACAGTTTATGATCCTTTGCAACCTGAATTAGACTCATTCAAGGAGGAGTTAGATAAATATTTTAAGAATCATACATCACCAGATGTTGATTTAGGTGACATCTCTGGCATTAATGCTTCAGTTGTAAACATTCAAAAAGAAATTGACCGCCTCAATGAGGTTGCCAAGAATTTAAATGAATCTCTCATCGATCTCCAAGAACTTGGAAAGTATGAGCAGTATATAAAATGGCCATGGTACATTTGGCTAGGTTTTATAGCTGGCTTGATTGCCATAGTAATGGTGACAATTATGCTTTGCTGTATGACCAGTTGCTGTAGTTGTCTCAAGGGCTGTTGTTCTTGTGGATCCTGCTGCAAATTTGATGAAGACGACTCTGAGCCAGTGCTCAAAGGAGTCAAATTACATTACACATAAACGAACTTATGGATTTGTTTATGAGAATCTTCACAATTGGAACTGTAACTTTGAAGCAAGGTGAAATCAAGGATGCTACTCCTTCAGATTTTGTTCGCGCTACTGCAACGATACCGATACAAGCCTCACTCCCTTTCGGATGGCTTATTGTTGGCGTTGCACTTCTTGCTGTTTTTCAGAGCGCTTCCAAAATCATAACCCTCAAAAAGAGATGGCAACTAGCACTCTCCAAGGGTGTTCACTTTGTTTGCAACTTGCTGTTGTTGTTTGTAACAGTTTACTCACACCTTTTGCTCGTTGCTGCTGGCCTTGAAGCCCCTTTTCTCTATCTTTATGCTTTAGTCTACTTCTTGCAGAGTATAAACTTTGTAAGAATAATAATGAGGCTTTGGCTTTGCTGGAAATGCCGTTCCAAAAACCCATTACTTTATGATGCCAACTATTTTCTTTGCTGGCATACTAATTGTTACGACTATTGTATACCTTACAATAGTGTAACTTCTTCAATTGTCATTACTTCAGGTGATGGCACAACAAGTCCTATTTCTGAACATGACTACCAGATTGGTGGTTATACTGAAAAATGGGAATCTGGAGTAAAAGACTGTGTTGTATTACACAGTTACTTCACTTCAGACTATTACCAGCTGTACTCAACTCAATTGAGTACAGACACTGGTGTTGAACATGTTACCTTCTTCATCTACAATAAAATTGTTGATGAGCCTGAAGAACATGTCCAAATTCACACAATCGACGGTTCATCCGGAGTTGTTAATCCAGTAATGGAACCAATTTATGATGAACCGACGACGACTACTAGCGTGCCTTTGTAAGCACAAGCTGATGAGTACGAACTTATGTACTCATTCGTTTCGGAAGAGACAGGTACGTTAATAGTTAATAGCGTACTTCTTTTTCTTGCTTTCGTGGTATTCTTGCTAGTTACACTAGCCATCCTTACTGCGCTTCGATTGTGTGCGTACTGCTGCAATATTGTTAACGTGAGTCTTGTAAAACCTTCTTTTTACGTTTACTCTCGTGTTAAAAATCTGAATTCTTCTAGAGTTCCTGATCTTCTGGTCTAAACGAACTAAATATTATATTAGTTTTTCTGTTTGGAACTTTAATTTTAGCCATGGCAGATTCCAACGGTACTATTACCGTTGAAGAGCTTAAAAAGCTCCTTGAACAATGGAACCTAGTAATAGGTTTCCTATTCCTTACATGGATTTGTCTTCTACAATTTGCCTATGCCAACAGGAATAGGTTTTTGTATATAATTAAGTTAATTTTCCTCTGGCTGTTATGGCCAGTAACTTTAGCTTGTTTTGTGCTTGCTGCTGTTTACAGAATAAATTGGATCACCGGTGGAATTGCTATCGCAATGGCTTGTCTTGTAGGCTTGATGTGGCTCAGCTACTTCATTGCTTCTTTCAGACTGTTTGCGCGTACGCGTTCCATGTGGTCATTCAATCCAGAAACTAACATTCTTCTCAACGTGCCACTCCATGGCACTATTCTGACCAGACCGCTTCTAGAAAGTGAACTCGTAATCGGAGCTGTGATCCTTCGTGGACATCTTCGTATTGCTGGACACCATCTAGGACGCTGTGACATCAAGGACCTGCCTAAAGAAATCACTGTTGCTACATCACGAACGCTTTCTTATTACAAATTGGGAGCTTCGCAGCGTGTAGCAGGTGACTCAGGTTTTGCTGCATACAGTCGCTACAGGATTGGCAACTATAAATTAAACACAGACCATTCCAGTAGCAGTGACAATATTGCTTTGCTTGTACAGTAAGTGACAACAGATGTTTCATCTCGTTGACTTTCAGGTTACTATAGCAGAGATATTACTAATTATTATGAGGACTTTTAAAGTTTCCATTTGGAATCTTGATTACATCATAAACCTCATAATTAAAAATTTATCTAAGTCACTAACTGAGAATAAATATTCTCAATTAGATGAAGAGCAACCAATGGAGATTGATTAAACGAACATGAAAATTATTCTTTTCTTGGCACTGATAACACTCGCTACTTGTGAGCTTTATCACTACCAAGAGTGTGTTAGAGGTACAACAGTACTTTTAAAAGAACCTTGCTCTTCTGGAACATACGAGGGCAATTCACCATTTCATCCTCTAGCTGATAACAAATTTGCACTGACTTGCTTTAGCACTCAATTTGCTTTTGCTTGTCCTGACGGCGTAAAACACGTCTATCAGTTACGTGCCAGATCAGTTTCACCTAAACTGTTCATCAGACAAGAGGAAGTTCAAGAACTTTACTCTCCAATTTTTCTTATTGTTGCGGCAATAGTGTTTATAACACTTTGCTTCACACTCAAAAGAAAGACAGAATGATTGAACTTTCATTAATTGACTTCTATTTGTGCTTTTTAGCCTTTCTGCTATTCCTTGTTTTAATTATGCTTATTATCTTTTGGTTCTCACTTGAACTGCAAGATCATAATGAAACTTGTCACGCCTAAACGAACATGAAATTTCTTGTTTTCTTAGGAATCATCACAACTGTAGCTGCATTTCACCAAGAATGTAGTTTACAGTCATGTACTCAACATCAACCATATGTAGTTGATGACCCGTGTCCTATTCACTTCTATTCTAAATGGTATATTAGAGTAGGAGCTAGAAAATCAGCACCTTTAATTGAATTGTGCGTGGATGAGGCTGGTTCTAAATCACCCATTCAGTACATCGATATCGGTAATTATACAGTTTCCTGTTTACCTTTTACAATTAATTGCCAGGAACCTAAATTGGGTAGTCTTGTAGTGCGTTGTTCGTTCTATGAAGACTTTTTAGAGTATCATGACGTTCGTGTTGTTTTAGATTTCATCTAAACGAACAAACTAAAATGTCTGATAATGGACCCCAAAATCAGCGAAATGCACCCCGCATTACGTTTGGTGGACCCTCAGATTCAACTGGCAGTAACCAGAATGGAGAACGCAGTGGGGCGCGATCAAAACAACGTCGGCCCCAAGGTTTACCCAATAATACTGCGTCTTGGTTCACCGCTCTCACTCAACATGGCAAGGAAGACCTTAAATTCCCTCGAGGACAAGGCGTTCCAATTAACACCAATAGCAGTCCAGATGACCAAATTGGCTACTACCGAAGAGCTACCAGACGAATTCGTGGTGGTGACGGTAAAATGAAAGATCTCAGTCCAAGATGGTATTTCTACTACCTAGGAACTGGGCCAGAAGCTGGACTTCCCTATGGTGCTAACAAAGACGGCATCATATGGGTTGCAACTGAGGGAGCCTTGAATACACCAAAAGATCACATTGGCACCCGCAATCCTGCTAACAATGCTGCAATCGTGCTACAACTTCCTCAAGGAACAACATTGCCAAAAGGCTTCTACGCAGAAGGGAGCAGAGGCGGCAGTCAAGCCTCTTCTCGTTCCTCATCACGTAGTCGCAACAGTTCAAGAAATTCAACTCCAGGCAGCAGTAGGGGAACTTCTCCTGCTAGAATGGCTGGCAATGGCGGTGATGCTGCTCTTGCTTTGCTGCTGCTTGACAGATTGAACCAGCTTGAGAGCAAAATGTCTGGTAAAGGCCAACAACAACAAGGCCAAACTGTCACTAAGAAATCTGCTGCTGAGGCTTCTAAGAAGCCTCGGCAAAAACGTACTGCCACTAAAGCATACAATGTAACACAAGCTTTCGGCAGACGTGGTCCAGAACAAACCCAAGGAAATTTTGGGGACCAGGAACTAATCAGACAAGGAACTGATTACAAACATTGGCCGCAAATTGCACAATTTGCCCCCAGCGCTTCAGCGTTCTTCGGAATGTCGCGCATTGGCATGGAAGTCACACCTTCGGGAACGTGGTTGACCTACACAGGTGCCATCAAATTGGATGACAAAGATCCAAATTTCAAAGATCAAGTCATTTTGCTGAATAAGCATATTGACGCATACAAAACATTCCCACCAACAGAGCCTAAAAAGGACAAAAAGAAGAAGGCTGATGAAACTCAAGCCTTACCGCAGAGACAGAAGAAACAGCAAACTGTGACTCTTCTTCCTGCTGCAGATTTGGATGATTTCTCCAAACAATTGCAACAATCCATGAGCAGTGCTGACTCAACTCAGGCCTAAACTCATGCAGACCACACAAGGCAGATGGGCTATATAAACGTTTTCGCTTTTCCGTTTACGATATATAGTCTACTCTTGTGCAGAATGAATTCTCGTAACTACATAGCACAAGTAGATGTAGTTAACTTTAATCTCACATAGCAATCTTTAATCAGTGTGTAACATTAGGGAGGACTTGAAAGAGCCACCACATTTTCACCGAGGCCACGCGGAGTACGATCGAGTGTACAGTGAACAATGCTAGGGAGAGCTGCCTATATGGAAGAGCCCTAATGTGTAAAATTAATTTTAGTAGTGCTATCCCCATGTGATTTTAATAGCTTCTTAGGAGAATGACAAAAAAAAAAAAAAAAAAAAAAAAAAAAAAAAA'"
      ]
     },
     "execution_count": 92,
     "metadata": {},
     "output_type": "execute_result"
    }
   ],
   "source": [
    "dict_se['NC_045512.2_|Severe_acute_respiratory_syndrome_coronavirus_2_isolate_Wuhan-Hu-1,_complete_genome']"
   ]
  },
  {
   "cell_type": "code",
   "execution_count": null,
   "metadata": {},
   "outputs": [],
   "source": []
  },
  {
   "cell_type": "code",
   "execution_count": null,
   "metadata": {},
   "outputs": [],
   "source": []
  },
  {
   "cell_type": "code",
   "execution_count": 160,
   "metadata": {},
   "outputs": [
    {
     "data": {
      "text/plain": [
       "(array([1], dtype=int64),)"
      ]
     },
     "execution_count": 160,
     "metadata": {},
     "output_type": "execute_result"
    }
   ],
   "source": [
    "np.where(np.array([1,2,3])==2)"
   ]
  },
  {
   "cell_type": "code",
   "execution_count": 97,
   "metadata": {},
   "outputs": [],
   "source": [
    "updated_blast_results.to_csv(\"updatedBlastResults.csv\", header=True)"
   ]
  },
  {
   "cell_type": "code",
   "execution_count": null,
   "metadata": {},
   "outputs": [],
   "source": [
    "qseq= blastResults.loc(:, \"qseq\")\n",
    "sseq= blastResults.loc(:, \"sseq\")\n",
    "length= blastResults.loc(:, \"length\")\n",
    "mismatch=[] #input where mismatch occurred, separated by ';' ex) A-G, 5000 ; G-T, 27990\n",
    "gaps=[] #input where gaps occurred, separated by ';'\n",
    "for a,b in zip(qseq, sseq):\n",
    "    gaps.append('')\n",
    "    mismatch.append('')\n",
    "    for c,d in zip(a,b):\n",
    "    #positions in a string\n",
    "        if (c='-'):\n",
    "            #length[a]+=1\n",
    "            gaps[a]+=a.index(c)+1\n",
    "            \n",
    "        if (c='-')&&(a!=b):\n",
    "            mismatch[a]+=d + \"-\" c + \",\" + a.index(c)+1\n"
   ]
  }
 ],
 "metadata": {
  "kernelspec": {
   "display_name": "Python 3 (ipykernel)",
   "language": "python",
   "name": "python3"
  },
  "language_info": {
   "codemirror_mode": {
    "name": "ipython",
    "version": 3
   },
   "file_extension": ".py",
   "mimetype": "text/x-python",
   "name": "python",
   "nbconvert_exporter": "python",
   "pygments_lexer": "ipython3",
   "version": "3.7.6"
  }
 },
 "nbformat": 4,
 "nbformat_minor": 4
}
